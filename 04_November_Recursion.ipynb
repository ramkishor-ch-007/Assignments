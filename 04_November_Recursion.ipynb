{
 "cells": [
  {
   "cell_type": "markdown",
   "metadata": {},
   "source": [
    "1. Can you explain the logic and working of the Tower of Hanoi algorithm by writing a Python program?\n",
    "How does the recursion work, and how are the movements of disks between rods accomplished?"
   ]
  },
  {
   "cell_type": "code",
   "execution_count": 6,
   "metadata": {},
   "outputs": [
    {
     "name": "stdout",
     "output_type": "stream",
     "text": [
      "Move disk  1  from rod  A  to rod  C\n",
      "Move disk  2  from rod  A  to rod  B\n",
      "Move disk  1  from rod  C  to rod  B\n",
      "Move disk  3  from rod  A  to rod  C\n",
      "Move disk  1  from rod  B  to rod  A\n",
      "Move disk  2  from rod  B  to rod  C\n",
      "Move disk  1  from rod  A  to rod  C\n"
     ]
    }
   ],
   "source": [
    "def ToH(n,s,a,d):\n",
    "    if n==0:\n",
    "        return\n",
    "    ToH(n-1,s,d,a)\n",
    "    print(\"Move disk \", n ,\" from rod \", s ,\" to rod \",d)\n",
    "    ToH(n-1,a,s,d) \n",
    "\n",
    "n=3\n",
    "ToH(n,'A','B','C')"
   ]
  },
  {
   "cell_type": "markdown",
   "metadata": {},
   "source": [
    "Q.2 Given two strings word1 and word2, return the minimum number of operations required to convert word1\n",
    "to word2.\n",
    "\n",
    "Example 1:\n",
    "\n",
    "Input: \n",
    "word1 = \"horse\", word2 = \"ros\"\n",
    "\n",
    "Output: 3\n",
    "\n",
    "Explanation:\n",
    "\n",
    "horse -> rorse (replace 'h' with 'r')\n",
    "\n",
    "rorse -> rose (remove 'r')\n",
    "\n",
    "rose -> ros (remove 'e')\n",
    "\n",
    "\n",
    "\n",
    "Example 2:\n",
    "\n",
    "Input: \n",
    "word1 = \"intention\", word2 = \"execution\"\n",
    "\n",
    "Output: 5\n",
    "\n",
    "Explanation:\n",
    "\n",
    "intention -> inention (remove 't')\n",
    "\n",
    "inention -> enention (replace 'i' with 'e')\n",
    "\n",
    "enention -> exention (replace 'n' with 'x')\n",
    "\n",
    "exention -> exection (replace 'n' with 'c')\n",
    "\n",
    "exection -> execution (insert 'u')"
   ]
  },
  {
   "cell_type": "code",
   "execution_count": 13,
   "metadata": {},
   "outputs": [
    {
     "data": {
      "text/plain": [
       "5"
      ]
     },
     "execution_count": 13,
     "metadata": {},
     "output_type": "execute_result"
    }
   ],
   "source": [
    "class A:\n",
    "    def minDistance(self, word1, word2):\n",
    "            \"\"\"Naive recursive solution\"\"\"\n",
    "            if not word1 and not word2:\n",
    "                return 0\n",
    "            if not word1:\n",
    "                return len(word2)\n",
    "            if not word2:\n",
    "                return len(word1)\n",
    "            if word1[0] == word2[0]:\n",
    "                return self.minDistance(word1[1:], word2[1:])\n",
    "            insert = 1 + self.minDistance(word1, word2[1:])\n",
    "            delete = 1 + self.minDistance(word1[1:], word2)\n",
    "            replace = 1 + self.minDistance(word1[1:], word2[1:])\n",
    "            return min(insert, replace, delete)\n",
    "\n",
    "a=A()\n",
    "a.minDistance(\"intention\",\"execution\")"
   ]
  },
  {
   "cell_type": "markdown",
   "metadata": {},
   "source": [
    "Q.3 Print the max value of the array [ 13, 1, -3, 22, 5]"
   ]
  },
  {
   "cell_type": "code",
   "execution_count": 1,
   "metadata": {},
   "outputs": [
    {
     "name": "stdout",
     "output_type": "stream",
     "text": [
      "max value of array:  22\n"
     ]
    }
   ],
   "source": [
    "l=[13,1,-3,22,5]\n",
    "\n",
    "max=0\n",
    "\n",
    "for i in l:\n",
    "    if i>max:\n",
    "        max=i\n",
    "\n",
    "print(\"max value of array: \",max)"
   ]
  },
  {
   "cell_type": "markdown",
   "metadata": {},
   "source": [
    "Q.4 Find the sum of the values of the array [92, 23, 15, -20, 10]."
   ]
  },
  {
   "cell_type": "code",
   "execution_count": 3,
   "metadata": {},
   "outputs": [
    {
     "name": "stdout",
     "output_type": "stream",
     "text": [
      "sum of the values of the array:  120\n"
     ]
    }
   ],
   "source": [
    "l=[92,23,15,-20,10]\n",
    "\n",
    "s=0\n",
    "\n",
    "for i in l:\n",
    "    s+=i\n",
    "\n",
    "print(\"sum of the values of the array: \",s)"
   ]
  },
  {
   "cell_type": "markdown",
   "metadata": {},
   "source": [
    "Q.5 Given a number n. Print if it is an armstrong number or not.An armstrong number is a number if the sum\n",
    "of every digit in that number raised to the power of total digits in that number is equal to the number.\n",
    "\n",
    "Example : \n",
    "153 = 1^3 + 5^3 + 3^3 = 1 + 125 + 27 = 153 hence 153 is an armstrong number. (Easy)\n",
    "\n",
    "Input1 : 153\n",
    "\n",
    "Output1 : Yes\n",
    "\n",
    "Input 2 : 134\n",
    "\n",
    "Output2 : No"
   ]
  },
  {
   "cell_type": "code",
   "execution_count": 8,
   "metadata": {},
   "outputs": [
    {
     "name": "stdout",
     "output_type": "stream",
     "text": [
      "No it is not ARMStrong number\n"
     ]
    }
   ],
   "source": [
    "def fun(n):\n",
    "    a=n\n",
    "    b=n\n",
    "    s=0\n",
    "    c=0\n",
    "    k=0\n",
    "    # count the number of digits in a number\n",
    "    while a!=0:\n",
    "        c+=1\n",
    "        a//=10\n",
    "    # print(c)\n",
    "\n",
    "    while b!=0:\n",
    "        k=b%10\n",
    "        s+=pow(k,c)\n",
    "        b=b//10\n",
    "    \n",
    "    return s\n",
    "\n",
    "z=134\n",
    "if fun(z)==z:\n",
    "    print(\"Yes, ARMStrong number\")\n",
    "else:\n",
    "    print(\"No it is not ARMStrong number\")"
   ]
  },
  {
   "cell_type": "code",
   "execution_count": 10,
   "metadata": {},
   "outputs": [
    {
     "name": "stdout",
     "output_type": "stream",
     "text": [
      "\n"
     ]
    }
   ],
   "source": [
    "s=\"s\"\n",
    "\n",
    "print(s[1:])\n"
   ]
  }
 ],
 "metadata": {
  "kernelspec": {
   "display_name": "Python 3",
   "language": "python",
   "name": "python3"
  },
  "language_info": {
   "codemirror_mode": {
    "name": "ipython",
    "version": 3
   },
   "file_extension": ".py",
   "mimetype": "text/x-python",
   "name": "python",
   "nbconvert_exporter": "python",
   "pygments_lexer": "ipython3",
   "version": "3.11.2"
  }
 },
 "nbformat": 4,
 "nbformat_minor": 2
}
