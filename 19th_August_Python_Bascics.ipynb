{
 "cells": [
  {
   "cell_type": "markdown",
   "metadata": {},
   "source": [
    "1. Declare two variables, `x` and `y`, and assign them integer values.\n",
    "Swap the values of these variables without using any temporary variable"
   ]
  },
  {
   "cell_type": "code",
   "execution_count": 58,
   "metadata": {},
   "outputs": [
    {
     "name": "stdout",
     "output_type": "stream",
     "text": [
      "Before x: 4 , y: 5\n"
     ]
    }
   ],
   "source": [
    "# With out using temporary variable,\n",
    "# I have performed addition and subtraction on x and y variables\n",
    "x = 4\n",
    "y = 5\n",
    "print(\"Before x:\",x , \", y:\",y)\n",
    "\n",
    "x = x + y\n",
    "y = x - y\n",
    "x = x - y"
   ]
  },
  {
   "cell_type": "code",
   "execution_count": 59,
   "metadata": {},
   "outputs": [
    {
     "name": "stdout",
     "output_type": "stream",
     "text": [
      "After x: 5 , y: 4\n"
     ]
    }
   ],
   "source": [
    "print(\"After x:\",x , \", y:\",y)"
   ]
  },
  {
   "cell_type": "markdown",
   "metadata": {},
   "source": [
    "2. Create a program that calculates the area of a rectangle. \n",
    "Take the length and width as inputs from the user and store them in variables.\n",
    "Calculate and display the area."
   ]
  },
  {
   "cell_type": "code",
   "execution_count": 60,
   "metadata": {},
   "outputs": [
    {
     "name": "stdout",
     "output_type": "stream",
     "text": [
      "Entered the length is :  1\n",
      "Entered the width is :  1\n",
      "Area of the rectangle:  1\n"
     ]
    }
   ],
   "source": [
    "# Area of a rectangle = length * width\n",
    "length = int(input())\n",
    "print(\"Entered the length is : \",length)\n",
    "\n",
    "width = int(input())\n",
    "print(\"Entered the width is : \",length)\n",
    "\n",
    "area = length * width\n",
    "print(\"Area of the rectangle: \",area)"
   ]
  },
  {
   "cell_type": "markdown",
   "metadata": {},
   "source": [
    "3. Write a Python program that converts temperature from Celsius to\n",
    "Fahrenheit. Take the temperature in Celsius as input, store it in a\n",
    "variable, convert it to Fahrenheit, and display the result."
   ]
  },
  {
   "cell_type": "code",
   "execution_count": 61,
   "metadata": {},
   "outputs": [
    {
     "name": "stdout",
     "output_type": "stream",
     "text": [
      "Entered the temperature in Celsius is:  33.0\n",
      "The temperature in Fahrenheit is:  91.4\n"
     ]
    }
   ],
   "source": [
    "temperature_Celsius = float(input())\n",
    "print(\"Entered the temperature in Celsius is: \",temperature_Celsius)\n",
    "Fahrenheit = (9/5) * temperature_Celsius + 32\n",
    "print(\"The temperature in Fahrenheit is: \",Fahrenheit)"
   ]
  },
  {
   "cell_type": "markdown",
   "metadata": {},
   "source": [
    "4. Write a Python program that takes a string as input and prints the\n",
    "length of the string."
   ]
  },
  {
   "cell_type": "code",
   "execution_count": 62,
   "metadata": {},
   "outputs": [
    {
     "name": "stdout",
     "output_type": "stream",
     "text": [
      "Entered the string input is:  abcd\n",
      "Length of the string is:  4\n"
     ]
    }
   ],
   "source": [
    "string_input = str(input())\n",
    "print(\"Entered the string input is: \",string_input)\n",
    "print(\"Length of the string is: \",len(string_input))"
   ]
  },
  {
   "cell_type": "markdown",
   "metadata": {},
   "source": [
    "5. Create a program that takes a sentence from the user and counts the\n",
    "number of vowels (a, e, i, o, u) in the string."
   ]
  },
  {
   "cell_type": "code",
   "execution_count": 63,
   "metadata": {},
   "outputs": [
    {
     "name": "stdout",
     "output_type": "stream",
     "text": [
      "Enter sentence is:  abcd\n",
      "Number of vowels in a string is:  1\n"
     ]
    }
   ],
   "source": [
    "sentence = str(input())\n",
    "vowels = \"aeiouAEIOU\"\n",
    "print(\"Enter sentence is: \",sentence)\n",
    "\n",
    "count=0\n",
    "\n",
    "for count_vowels in sentence:\n",
    "        if count_vowels in vowels:\n",
    "            count+=1\n",
    "print(\"Number of vowels in a string is: \",count)"
   ]
  },
  {
   "cell_type": "markdown",
   "metadata": {},
   "source": [
    "6. Given a string, reverse the order of characters using string slicing and\n",
    "print the reversed string."
   ]
  },
  {
   "cell_type": "code",
   "execution_count": 64,
   "metadata": {},
   "outputs": [
    {
     "name": "stdout",
     "output_type": "stream",
     "text": [
      "Entered string is:  abcd\n",
      "reversed string is:  dcba\n"
     ]
    }
   ],
   "source": [
    "rev_str = str(input())\n",
    "print(\"Entered string is: \",rev_str)\n",
    "print(\"reversed string is: \",rev_str[::-1])"
   ]
  },
  {
   "cell_type": "markdown",
   "metadata": {},
   "source": [
    "7. Write a program that takes a string as input and checks if it is a\n",
    "palindrome (reads the same forwards and backwards)."
   ]
  },
  {
   "cell_type": "code",
   "execution_count": 65,
   "metadata": {},
   "outputs": [
    {
     "name": "stdout",
     "output_type": "stream",
     "text": [
      "abcd is not a Palindrome\n"
     ]
    }
   ],
   "source": [
    "string_input = str(input())\n",
    "\n",
    "if string_input==string_input[::-1]:\n",
    "    print(string_input,\"is a Palindrome\")\n",
    "else:\n",
    "    print(string_input,\"is not a Palindrome\")"
   ]
  },
  {
   "cell_type": "markdown",
   "metadata": {},
   "source": [
    "8. Create a program that takes a string as input and removes all the\n",
    "spaces from it. Print the modified string without spaces."
   ]
  },
  {
   "cell_type": "code",
   "execution_count": 66,
   "metadata": {},
   "outputs": [
    {
     "name": "stdout",
     "output_type": "stream",
     "text": [
      "Modified string without spaces is abcd\n"
     ]
    }
   ],
   "source": [
    "remove_space = str(input())\n",
    "\n",
    "print(\"Modified string without spaces is\",remove_space.replace(\" \",\"\"))"
   ]
  }
 ],
 "metadata": {
  "kernelspec": {
   "display_name": "Python 3",
   "language": "python",
   "name": "python3"
  },
  "language_info": {
   "codemirror_mode": {
    "name": "ipython",
    "version": 3
   },
   "file_extension": ".py",
   "mimetype": "text/x-python",
   "name": "python",
   "nbconvert_exporter": "python",
   "pygments_lexer": "ipython3",
   "version": "3.11.2"
  },
  "orig_nbformat": 4
 },
 "nbformat": 4,
 "nbformat_minor": 2
}
