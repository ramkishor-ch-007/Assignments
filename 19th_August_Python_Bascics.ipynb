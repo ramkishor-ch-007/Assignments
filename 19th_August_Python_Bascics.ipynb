{
 "cells": [
  {
   "cell_type": "markdown",
   "metadata": {},
   "source": [
    "1. Declare two variables, `x` and `y`, and assign them integer values.\n",
    "Swap the values of these variables without using any temporary variable"
   ]
  },
  {
   "cell_type": "code",
   "execution_count": 17,
   "metadata": {},
   "outputs": [
    {
     "name": "stdout",
     "output_type": "stream",
     "text": [
      "Before x: 4 , y: 5\n"
     ]
    }
   ],
   "source": [
    "# With out using temporary variable,\n",
    "# I have performed addition and subtraction on x and y variables\n",
    "x = 4\n",
    "y = 5\n",
    "print(\"Before x:\",x , \", y:\",y)\n",
    "\n",
    "x = x + y\n",
    "y = x - y\n",
    "x = x - y"
   ]
  },
  {
   "cell_type": "code",
   "execution_count": 18,
   "metadata": {},
   "outputs": [
    {
     "name": "stdout",
     "output_type": "stream",
     "text": [
      "After x: 5 , y: 4\n"
     ]
    }
   ],
   "source": [
    "print(\"After x:\",x , \", y:\",y)"
   ]
  }
 ],
 "metadata": {
  "kernelspec": {
   "display_name": "Python 3",
   "language": "python",
   "name": "python3"
  },
  "language_info": {
   "codemirror_mode": {
    "name": "ipython",
    "version": 3
   },
   "file_extension": ".py",
   "mimetype": "text/x-python",
   "name": "python",
   "nbconvert_exporter": "python",
   "pygments_lexer": "ipython3",
   "version": "3.11.2"
  },
  "orig_nbformat": 4
 },
 "nbformat": 4,
 "nbformat_minor": 2
}
