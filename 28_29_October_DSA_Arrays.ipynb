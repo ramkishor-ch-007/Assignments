{
 "cells": [
  {
   "cell_type": "markdown",
   "metadata": {},
   "source": [
    "1. Given an array, check if it contains any duplicates or not.\n",
    "arr = [1, 2, 4, 2, 5, 9]\n",
    "Output = True"
   ]
  },
  {
   "cell_type": "code",
   "execution_count": 5,
   "metadata": {},
   "outputs": [
    {
     "data": {
      "text/plain": [
       "True"
      ]
     },
     "execution_count": 5,
     "metadata": {},
     "output_type": "execute_result"
    }
   ],
   "source": [
    "arr = [1, 2, 4, 2, 5, 9]\n",
    "\n",
    "def fun(arr):\n",
    "    k_arr = []\n",
    "    for i in arr:\n",
    "        if i not in k_arr:\n",
    "            k_arr.append(i)\n",
    "        else:\n",
    "            return True\n",
    "    return False\n",
    "\n",
    "fun(arr)"
   ]
  },
  {
   "cell_type": "markdown",
   "metadata": {},
   "source": [
    "2. Given an array and an integer k, rotate the array to the right by k steps.\n",
    "\n",
    "arr = [1, 2, 3, 4, 5, 6, 7] k = 3\n",
    "Output = [5, 6, 7, 1, 2, 3, 4]"
   ]
  },
  {
   "cell_type": "code",
   "execution_count": 6,
   "metadata": {},
   "outputs": [
    {
     "data": {
      "text/plain": [
       "[5, 6, 7, 1, 2, 3, 4]"
      ]
     },
     "execution_count": 6,
     "metadata": {},
     "output_type": "execute_result"
    }
   ],
   "source": [
    "arr = [1, 2, 3, 4, 5, 6, 7] \n",
    "k = 3\n",
    "\n",
    "def rotate_array(arr,k):\n",
    "    out=arr[-k:] + arr[:-k]\n",
    "    return out\n",
    "\n",
    "rotate_array(arr,k)"
   ]
  },
  {
   "cell_type": "markdown",
   "metadata": {},
   "source": [
    "3. Reverse the given array in-place, means without using any extra data structure.\n",
    "\n",
    "arr = [2, 4, 5, 7, 9, 12]\n",
    "Output = [12, 9, 7, 5, 4, 2]"
   ]
  },
  {
   "cell_type": "code",
   "execution_count": 7,
   "metadata": {},
   "outputs": [
    {
     "data": {
      "text/plain": [
       "[12, 9, 7, 5, 4, 2]"
      ]
     },
     "execution_count": 7,
     "metadata": {},
     "output_type": "execute_result"
    }
   ],
   "source": [
    "arr = [2, 4, 5, 7, 9, 12]\n",
    "\n",
    "def rev_arr(arr):\n",
    "    rev_=arr[::-1]\n",
    "    return rev_\n",
    "\n",
    "rev_arr(arr)"
   ]
  },
  {
   "cell_type": "markdown",
   "metadata": {},
   "source": [
    "4. Given an array of integers, find the maximum element in an array\n",
    "\n",
    "arr = [10, 5, 20, 8, 15]\n",
    "Output = 20"
   ]
  },
  {
   "cell_type": "code",
   "execution_count": 8,
   "metadata": {},
   "outputs": [
    {
     "data": {
      "text/plain": [
       "20"
      ]
     },
     "execution_count": 8,
     "metadata": {},
     "output_type": "execute_result"
    }
   ],
   "source": [
    "arr = [10, 5, 20, 8, 15]\n",
    "\n",
    "def arr_int(arr):\n",
    "    max=0\n",
    "\n",
    "    for i in arr:\n",
    "        if i>max:\n",
    "            max=i\n",
    "    return max\n",
    "\n",
    "arr_int(arr)"
   ]
  },
  {
   "cell_type": "markdown",
   "metadata": {},
   "source": [
    "5. Given a sorted array, remove the duplicate element without using any extra data structure.\n",
    "\n",
    "arr = [1, 1, 2, 2, 2, 3, 3, 4, 4, 4, 5, 5]\n",
    "Output = [1, 2, 3, 4, 5]"
   ]
  },
  {
   "cell_type": "code",
   "execution_count": 10,
   "metadata": {},
   "outputs": [
    {
     "name": "stdout",
     "output_type": "stream",
     "text": [
      "1 2 3 4 5 "
     ]
    }
   ],
   "source": [
    "arr = [1, 1, 2, 2, 2, 3, 3, 4, 4, 4, 5, 5]\n",
    "\n",
    "def rem_dup(arr):\n",
    "    j=0\n",
    "    l=len(arr)\n",
    "\n",
    "    for i in range(l-1):\n",
    "        if arr[i] != arr[i+1]:\n",
    "            arr[j] = arr[i]\n",
    "            j+=1\n",
    "\n",
    "    arr[j]=arr[l-1]\n",
    "\n",
    "    return j+1\n",
    "\n",
    "n = rem_dup(arr)\n",
    "\n",
    "for i in range(n):\n",
    "    print(arr[i],end=\" \")"
   ]
  },
  {
   "cell_type": "markdown",
   "metadata": {},
   "source": [
    "6. Method definition of the sum function\n",
    "\n",
    "Time complexity: O(n)\n",
    "\n",
    "Space complexity: O(1)"
   ]
  },
  {
   "cell_type": "code",
   "execution_count": 1,
   "metadata": {},
   "outputs": [
    {
     "name": "stdout",
     "output_type": "stream",
     "text": [
      "282\n"
     ]
    }
   ],
   "source": [
    "def summation(arr):\n",
    "    n = len(arr)\n",
    "    sumVal = 0\n",
    "    for i in range(n):\n",
    "        sumVal += arr[i]\n",
    "    return sumVal\n",
    "\n",
    "## Driver code\n",
    "arr = [23, 34, 64, 12, 25, 56, 68]\n",
    "result = summation(arr)\n",
    "print(result)"
   ]
  },
  {
   "cell_type": "markdown",
   "metadata": {},
   "source": [
    "7. Searching Algorithms\n",
    "\n",
    "time complexity: O(n)\n",
    "\n",
    "space complexity: O(1)"
   ]
  },
  {
   "cell_type": "code",
   "execution_count": 2,
   "metadata": {},
   "outputs": [
    {
     "name": "stdout",
     "output_type": "stream",
     "text": [
      "7\n"
     ]
    }
   ],
   "source": [
    "def linearSearch(arr, target):\n",
    "    for i in range(len(arr)):\n",
    "        if(arr[i] == target):\n",
    "            return i\n",
    "    ## in case element is not available in the array\n",
    "    return -1\n",
    "\n",
    "## print -1 [it indicates that the target values is not available in the array]\n",
    "## Driver code\n",
    "arr = [12, 14, 16, 18, 11, 22, 26, 29]\n",
    "target = 29\n",
    "result = linearSearch(arr, target)\n",
    "print(result)"
   ]
  },
  {
   "cell_type": "markdown",
   "metadata": {},
   "source": [
    "8. even and odd array contaning even num and odd num\n",
    "\n",
    "arr = [2, 5, 11, 13, 15, 18, 22]\n",
    "\n",
    "time complexity: O(n)\n",
    "\n",
    "space complexity: O(n)"
   ]
  },
  {
   "cell_type": "code",
   "execution_count": 3,
   "metadata": {},
   "outputs": [
    {
     "name": "stdout",
     "output_type": "stream",
     "text": [
      "([2, 18, 22], [5, 11, 13, 15])\n"
     ]
    }
   ],
   "source": [
    "## creating an external data structure[list[ to store the even and odd values\n",
    "even = []\n",
    "odd = []\n",
    "\n",
    "def evenAndodd(arr):\n",
    "    ## write your own logic\n",
    "    for i in arr:\n",
    "        if i % 2 == 0:\n",
    "            even.append(i)\n",
    "        else:\n",
    "            odd.append(i)\n",
    "    return even, odd\n",
    "\n",
    "## Driver code\n",
    "arr = [2, 5, 11, 13, 15, 18, 22]\n",
    "print(evenAndodd(arr))"
   ]
  },
  {
   "cell_type": "markdown",
   "metadata": {},
   "source": [
    "9. Print the primary diagonal and secondary diagonal from 3*3 matrix or **2D Array**\n",
    "\n",
    "time complexity: O(n^2)\n",
    "\n",
    "space complexity: O(1)"
   ]
  },
  {
   "cell_type": "code",
   "execution_count": 4,
   "metadata": {},
   "outputs": [
    {
     "name": "stdout",
     "output_type": "stream",
     "text": [
      "Primary Diagonal Sum:  32\n",
      "Secondary Diagonal Sum:  31\n"
     ]
    }
   ],
   "source": [
    "def printDiagonalSum(arr):\n",
    "    n = len(arr)\n",
    "    primaryDiagonalSum = 0\n",
    "    secondaryDiagonalSum = 0\n",
    "    for i in range(n):\n",
    "        for j in range(n):\n",
    "            ## condition to get the elements of primary diagonal\n",
    "            if i == j:\n",
    "                primaryDiagonalSum += arr[i][j]\n",
    "            \n",
    "            ## condition to get the elements of secondary diagonal \n",
    "            if((i+j) == (n-1)):\n",
    "                secondaryDiagonalSum += arr[i][j]\n",
    "    print(\"Primary Diagonal Sum: \", primaryDiagonalSum)\n",
    "    print(\"Secondary Diagonal Sum: \", secondaryDiagonalSum)\n",
    "\n",
    "## Driver code\n",
    "arr = [[2, 4, 6], [8, 11, 13], [14, 17, 19]]\n",
    "## function calling\n",
    "printDiagonalSum(arr)"
   ]
  },
  {
   "cell_type": "markdown",
   "metadata": {},
   "source": [
    "10. factorial of a given number\n",
    "\n",
    "time complexity: O(n)\n",
    "\n",
    "space complexity: O(n)"
   ]
  },
  {
   "cell_type": "code",
   "execution_count": 6,
   "metadata": {},
   "outputs": [
    {
     "name": "stdout",
     "output_type": "stream",
     "text": [
      "120\n"
     ]
    }
   ],
   "source": [
    "## Factorial of a given number\n",
    "## Method definition via the recursion\n",
    "def factorial(n):\n",
    "    ## 1. Base case condition\n",
    "    if n <= 1:\n",
    "        return 1\n",
    "    \n",
    "    ## 2. Recursive function call\n",
    "    return n * factorial(n-1)\n",
    "\n",
    "## Driver code\n",
    "n = 5\n",
    "result = factorial(n)\n",
    "print(result)"
   ]
  },
  {
   "cell_type": "markdown",
   "metadata": {},
   "source": [
    "11. fibonacci series\n",
    "\n",
    "time complexity: O(2^n)\n",
    "\n",
    "space complexity: O(n)"
   ]
  },
  {
   "cell_type": "code",
   "execution_count": 13,
   "metadata": {},
   "outputs": [
    {
     "name": "stdout",
     "output_type": "stream",
     "text": [
      "0 1 1 2 3 "
     ]
    }
   ],
   "source": [
    "class Solution:\n",
    "    def fib(self, n: int) -> int:\n",
    "        ## base case condition\n",
    "        if n <= 1:\n",
    "            return n\n",
    "        \n",
    "        ## recursive function call\n",
    "        return self.fib(n-1) + self.fib(n-2)\n",
    "\n",
    "s = Solution()\n",
    "\n",
    "for i in range(5):\n",
    "    print(s.fib(i),end=\" \")"
   ]
  },
  {
   "cell_type": "markdown",
   "metadata": {},
   "source": [
    "12. climbing stairs problem\n",
    "\n",
    "https://leetcode.com/problems/climbing-stairs/\n",
    "\n",
    "time complexity: O(2^n)\n",
    "\n",
    "space complexity: O(n)"
   ]
  },
  {
   "cell_type": "code",
   "execution_count": 19,
   "metadata": {},
   "outputs": [
    {
     "name": "stdout",
     "output_type": "stream",
     "text": [
      "5 "
     ]
    }
   ],
   "source": [
    "# TLE - Time Limit Exceeded because test cases taking bigger values of n\n",
    "class Solution:\n",
    "    def climbStairs(self, n: int) -> int:\n",
    "        if n <= 3:\n",
    "            return n\n",
    "        \n",
    "        return self.climbStairs(n-1) + self.climbStairs(n-2)\n",
    "\n",
    "s = Solution()\n",
    "\n",
    "print(s.climbStairs(4),end=\" \")"
   ]
  },
  {
   "cell_type": "code",
   "execution_count": 20,
   "metadata": {},
   "outputs": [
    {
     "name": "stdout",
     "output_type": "stream",
     "text": [
      "5 "
     ]
    }
   ],
   "source": [
    "# Optimized Approach - Iterative Approach\n",
    "\n",
    "# time complexity: O(n)\n",
    "# space complexity: O(1)\n",
    "class Solution:\n",
    "    def climbStairs(self, n: int) -> int:\n",
    "        ## base case condition\n",
    "        if n == 1:\n",
    "            return 1\n",
    "        ## bigger value of n\n",
    "        first = 1\n",
    "        second = 2\n",
    "        for i in range(3,n+1):\n",
    "            third = first + second\n",
    "            first = second\n",
    "            second = third\n",
    "        return second\n",
    "\n",
    "s = Solution()\n",
    "\n",
    "print(s.climbStairs(4),end=\" \")"
   ]
  },
  {
   "cell_type": "markdown",
   "metadata": {},
   "source": [
    "13. a. Power of any number"
   ]
  },
  {
   "cell_type": "code",
   "execution_count": 23,
   "metadata": {},
   "outputs": [
    {
     "name": "stdout",
     "output_type": "stream",
     "text": [
      "16\n"
     ]
    }
   ],
   "source": [
    "## Method definition\n",
    "## Time complexity: O(n)\n",
    "## Space complexity: O(n)\n",
    "\n",
    "def powerOf(a,n):\n",
    "  ## base case condition\n",
    "    if n==0:\n",
    "        return 1\n",
    "    else:\n",
    "    ## recursive function call\n",
    "        return a*powerOf(a,n-1)\n",
    "\n",
    "## Driver code\n",
    "a = 2\n",
    "n = 4\n",
    "result = powerOf(a, n)\n",
    "print(result)"
   ]
  },
  {
   "cell_type": "code",
   "execution_count": 25,
   "metadata": {},
   "outputs": [
    {
     "name": "stdout",
     "output_type": "stream",
     "text": [
      "16\n"
     ]
    }
   ],
   "source": [
    "# b. https://leetcode.com/problems/powx-n/description/\n",
    "\n",
    "## Method definition\n",
    "## Time complexity: O(log n)\n",
    "## Space complexity: O(log n) because in stack space having 4 to 5 calls, log 16 base 2 => log 2^4 base 2, approximately 4 calls\n",
    "\n",
    "def powerFind(a, n):\n",
    "  ## base case condition\n",
    "  if n == 1:\n",
    "    return a\n",
    "\n",
    "  ## recursive function calls\n",
    "  else:\n",
    "    mid = n // 2\n",
    "    result = powerFind(a, mid)\n",
    "    finalResult = result * result\n",
    "\n",
    "    ## checking whether the value of n is even or odd\n",
    "    if n % 2 == 0:\n",
    "      return finalResult\n",
    "    else:\n",
    "      return a * finalResult\n",
    "\n",
    "## Driver code\n",
    "a = 2\n",
    "n = 4\n",
    "result = powerFind(a, n)\n",
    "print(result)"
   ]
  },
  {
   "cell_type": "markdown",
   "metadata": {},
   "source": [
    "14. sum of digits using recursion"
   ]
  },
  {
   "cell_type": "code",
   "execution_count": 26,
   "metadata": {},
   "outputs": [
    {
     "name": "stdout",
     "output_type": "stream",
     "text": [
      "10\n"
     ]
    }
   ],
   "source": [
    "## Method definition\n",
    "## Time complexity: O(n)\n",
    "## Space complexity: O(n) [n indicates the number of digits]\n",
    "def sum_of_digits(n):\n",
    "   ## base case condition\n",
    "    if n < 10:\n",
    "        return n\n",
    "    else:\n",
    "    ## recursive function call\n",
    "        return n % 10 + sum_of_digits(n // 10)\n",
    "\n",
    "## Driver code\n",
    "n = 1234\n",
    "result = sum_of_digits(n)\n",
    "print(result)"
   ]
  },
  {
   "cell_type": "markdown",
   "metadata": {},
   "source": [
    "15. sum of first n natural numbers"
   ]
  },
  {
   "cell_type": "code",
   "execution_count": 32,
   "metadata": {},
   "outputs": [
    {
     "name": "stdout",
     "output_type": "stream",
     "text": [
      "15\n"
     ]
    }
   ],
   "source": [
    "# Efficient CPP program to find sum of first n natural numbers.\n",
    "\n",
    "# Returns sum of first n natural numbers\n",
    "def findSum(n) :\n",
    "\treturn n * (n + 1) // 2\n",
    "\t\n",
    "n = 5\n",
    "print(findSum(n))"
   ]
  }
 ],
 "metadata": {
  "kernelspec": {
   "display_name": "Python 3",
   "language": "python",
   "name": "python3"
  },
  "language_info": {
   "codemirror_mode": {
    "name": "ipython",
    "version": 3
   },
   "file_extension": ".py",
   "mimetype": "text/x-python",
   "name": "python",
   "nbconvert_exporter": "python",
   "pygments_lexer": "ipython3",
   "version": "3.11.2"
  }
 },
 "nbformat": 4,
 "nbformat_minor": 2
}
