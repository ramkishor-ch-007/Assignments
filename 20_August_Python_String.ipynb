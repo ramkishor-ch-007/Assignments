{
 "cells": [
  {
   "cell_type": "markdown",
   "metadata": {},
   "source": [
    "TOPIC: String Based Assignment Problem"
   ]
  },
  {
   "cell_type": "markdown",
   "metadata": {},
   "source": [
    "1. Write a program to reverse a string."
   ]
  },
  {
   "cell_type": "code",
   "execution_count": 1,
   "metadata": {},
   "outputs": [
    {
     "name": "stdout",
     "output_type": "stream",
     "text": [
      "Please enter the string\n",
      "Entered the string is:  abcd\n",
      "Reverse of a string is:  dcba\n"
     ]
    }
   ],
   "source": [
    "print(\"Please enter the string\")\n",
    "\n",
    "#taking user input and converting to string\n",
    "user_input = str(input())\n",
    "\n",
    "print(\"Entered the string is: \",user_input)\n",
    "\n",
    "#displaying the reverse string from -1 index till infinite index\n",
    "print(\"Reverse of a string is: \",user_input[::-1])"
   ]
  },
  {
   "cell_type": "markdown",
   "metadata": {},
   "source": [
    "2. Check if a string is a palindrome."
   ]
  },
  {
   "cell_type": "code",
   "execution_count": 139,
   "metadata": {},
   "outputs": [
    {
     "name": "stdout",
     "output_type": "stream",
     "text": [
      "Please enter the string\n",
      "Entered the string is:  abba\n",
      "abba string is a Palindrome\n"
     ]
    }
   ],
   "source": [
    "print(\"Please enter the string\")\n",
    "\n",
    "#taking user input and converting to string\n",
    "user_input = str(input()) \n",
    "print(\"Entered the string is: \",user_input)\n",
    "\n",
    "#comparing the user input string and reversed user input string\n",
    "if user_input==user_input[::-1]:\n",
    "    print(user_input,\"string is a Palindrome\")\n",
    "else:\n",
    "    print(user_input,\"string not a Palindrome\")"
   ]
  },
  {
   "cell_type": "markdown",
   "metadata": {},
   "source": [
    "3. Convert a string to uppercase."
   ]
  },
  {
   "cell_type": "code",
   "execution_count": 4,
   "metadata": {},
   "outputs": [
    {
     "name": "stdout",
     "output_type": "stream",
     "text": [
      "Please enter the string\n",
      "Entered the string is:  pwskills\n",
      "Uppercase of the string is:  PWSKILLS\n"
     ]
    }
   ],
   "source": [
    "print(\"Please enter the string\")\n",
    "\n",
    "#taking user input and converting to string\n",
    "user_input = str(input())\n",
    "\n",
    "print(\"Entered the string is: \",user_input)\n",
    "\n",
    "#calling upper function to convert uppercase letters.\n",
    "print(\"Uppercase of the string is: \",user_input.upper())"
   ]
  },
  {
   "cell_type": "markdown",
   "metadata": {},
   "source": [
    "4. Convert a string to lowercase."
   ]
  },
  {
   "cell_type": "code",
   "execution_count": 140,
   "metadata": {},
   "outputs": [
    {
     "name": "stdout",
     "output_type": "stream",
     "text": [
      "Please enter the string\n",
      "Entered the string is:  APPLE\n",
      "lowercase of the string is:  apple\n"
     ]
    }
   ],
   "source": [
    "print(\"Please enter the string\")\n",
    "\n",
    "#taking user input and converting to string\n",
    "user_input = str(input())\n",
    "print(\"Entered the string is: \",user_input)\n",
    "\n",
    "#calling lower function to convert lowercase letters.\n",
    "print(\"lowercase of the string is: \",user_input.lower())"
   ]
  },
  {
   "cell_type": "markdown",
   "metadata": {},
   "source": [
    "5. Count the number of vowels in a string."
   ]
  },
  {
   "cell_type": "code",
   "execution_count": 143,
   "metadata": {},
   "outputs": [
    {
     "name": "stdout",
     "output_type": "stream",
     "text": [
      "Please enter the string\n",
      "Entered the string is:  Hello, how are you?\n",
      "Number of vowels in a string is:  7\n"
     ]
    }
   ],
   "source": [
    "print(\"Please enter the string\")\n",
    "\n",
    "#taking user input and converting to string\n",
    "user_input = str(input())\n",
    "print(\"Entered the string is: \",user_input)\n",
    "vow = \"aeiouAEIOU\"\n",
    "count=0\n",
    "\n",
    "#iterating through for loop for user input string\n",
    "for each in user_input:\n",
    "    #checking the condition user input string is in vow string or not.\n",
    "    if each in vow:\n",
    "        #incrementing the value to count number of vowels in user input string\n",
    "        count=count+1\n",
    "print(\"Number of vowels in a string is: \",count)"
   ]
  },
  {
   "cell_type": "markdown",
   "metadata": {},
   "source": [
    "6. Count the number of consonants in a string."
   ]
  },
  {
   "cell_type": "code",
   "execution_count": 145,
   "metadata": {},
   "outputs": [
    {
     "name": "stdout",
     "output_type": "stream",
     "text": [
      "Please enter the string\n",
      "Entered the string is:  DSM pro\n",
      "Number of consonants in a string is:  5\n"
     ]
    }
   ],
   "source": [
    "print(\"Please enter the string\")\n",
    "\n",
    "#taking user input and converting to string\n",
    "user_input = str(input())\n",
    "print(\"Entered the string is: \",user_input)\n",
    "vow = \"aeiouAEIOU\"\n",
    "count=0\n",
    "\n",
    "#iterating through for loop for user input string\n",
    "for each in user_input:\n",
    "    #checking the condition user input consonant string not in vowel and consonant string not equal to space in a string.\n",
    "    if each not in vow and each !=\" \":\n",
    "        #incrementing the value to count number of consonants in user input string\n",
    "        count=count+1\n",
    "print(\"Number of consonants in a string is: \",count)"
   ]
  },
  {
   "cell_type": "markdown",
   "metadata": {},
   "source": [
    "7. Remove all whitespaces from a string."
   ]
  },
  {
   "cell_type": "code",
   "execution_count": 29,
   "metadata": {},
   "outputs": [
    {
     "name": "stdout",
     "output_type": "stream",
     "text": [
      "Please enter the string\n",
      "Entered the string is:  wel come\n",
      "After removing whitespace from a string is:  welcome\n"
     ]
    }
   ],
   "source": [
    "print(\"Please enter the string\")\n",
    "\n",
    "#taking user input and converting to string\n",
    "user_input = str(input())\n",
    "print(\"Entered the string is: \",user_input)\n",
    "\n",
    "#replacing the space with empty space using replace function\n",
    "print(\"After removing whitespace from a string is: \",user_input.replace(\" \",\"\"))"
   ]
  },
  {
   "cell_type": "markdown",
   "metadata": {},
   "source": [
    "8. Find the length of a string without using the `len()` function."
   ]
  },
  {
   "cell_type": "code",
   "execution_count": 146,
   "metadata": {},
   "outputs": [
    {
     "name": "stdout",
     "output_type": "stream",
     "text": [
      "Please enter the string\n",
      "Entered the string is:  aeiou\n",
      "Length of a string is:  5\n"
     ]
    }
   ],
   "source": [
    "print(\"Please enter the string\")\n",
    "\n",
    "#taking user input and converting to string\n",
    "user_input = str(input())\n",
    "print(\"Entered the string is: \",user_input)\n",
    "\n",
    "count=0\n",
    "\n",
    "for i in user_input:\n",
    "    count+=1\n",
    "#calculating the length of the string incrementing count value to 1.\n",
    "print(\"Length of a string is: \",count)"
   ]
  },
  {
   "cell_type": "markdown",
   "metadata": {},
   "source": [
    "9. Check if a string contains a specific word."
   ]
  },
  {
   "cell_type": "code",
   "execution_count": 147,
   "metadata": {},
   "outputs": [
    {
     "name": "stdout",
     "output_type": "stream",
     "text": [
      "Please enter the string\n",
      "Entered the string is:  welcome to the\n",
      "String contains a specific word:  to\n"
     ]
    }
   ],
   "source": [
    "print(\"Please enter the string\")\n",
    "\n",
    "#taking user input and converting to string\n",
    "user_str_input = str(input())\n",
    "\n",
    "#taking user sub string input and converting to string\n",
    "user_substr_input = str(input())\n",
    "\n",
    "print(\"Entered the string is: \",user_str_input)\n",
    "\n",
    "#checking the condition that user_str_input string contains the word of user_substr_input\n",
    "if user_substr_input in user_str_input:\n",
    "    print(\"String contains a specific word: \",user_substr_input)\n",
    "else:\n",
    "    print(\"String does not contains a specific word: \",user_substr_input)"
   ]
  },
  {
   "cell_type": "markdown",
   "metadata": {},
   "source": [
    "10. Replace a word in a string with another word."
   ]
  },
  {
   "cell_type": "code",
   "execution_count": 45,
   "metadata": {},
   "outputs": [
    {
     "name": "stdout",
     "output_type": "stream",
     "text": [
      "Please enter the string\n",
      "Entered the string is:  Good Morning\n",
      "Please enter the word you want to replace\n",
      "Entered a word will be replace is:  Morning\n",
      "Please enter another word that you want to replace with  Morning\n",
      "Replaced a word in a string with another word is:  Good Afternoon\n"
     ]
    }
   ],
   "source": [
    "print(\"Please enter the string\")\n",
    "\n",
    "#taking user input and converting to string\n",
    "user_input = str(input())\n",
    "print(\"Entered the string is: \",user_input)\n",
    "\n",
    "print(\"Please enter the word you want to replace\")\n",
    "#taking user input and converting to string\n",
    "user_enter_replace_word_input = str(input())\n",
    "print(\"Entered a word will be replace is: \",user_enter_replace_word_input)\n",
    "\n",
    "print(\"Please enter another word that you want to replace with \",user_enter_replace_word_input)\n",
    "#taking user input and converting to string\n",
    "user_enter_word = str(input())\n",
    "\n",
    "#replacing sub string with another string using replace function\n",
    "print(\"Replaced a word in a string with another word is: \",user_input.replace(user_enter_replace_word_input,user_enter_word))"
   ]
  },
  {
   "cell_type": "markdown",
   "metadata": {},
   "source": [
    "11. Count the occurrences of a word in a string."
   ]
  },
  {
   "cell_type": "code",
   "execution_count": 148,
   "metadata": {},
   "outputs": [
    {
     "name": "stdout",
     "output_type": "stream",
     "text": [
      "Please enter the string\n",
      "Entered the string is:  welcome to the pwskills to\n",
      "Please enter the word\n",
      "Entered the word is:  to\n",
      "the occurrences of a word in a string is:  2\n"
     ]
    }
   ],
   "source": [
    "print(\"Please enter the string\")\n",
    "\n",
    "#taking user input and converting to string\n",
    "user_input = str(input())\n",
    "print(\"Entered the string is: \",user_input)\n",
    "print(\"Please enter the word\")\n",
    "\n",
    "#taking user input and converting to string\n",
    "user_input_word = str(input())\n",
    "print(\"Entered the word is: \",user_input_word)\n",
    "\n",
    "#counting the user_input_word in user_input string using count function\n",
    "print(\"the occurrences of a word in a string is: \",user_input.count(user_input_word))"
   ]
  },
  {
   "cell_type": "markdown",
   "metadata": {},
   "source": [
    "12. Find the first occurrence of a word in a string."
   ]
  },
  {
   "cell_type": "code",
   "execution_count": 149,
   "metadata": {},
   "outputs": [
    {
     "name": "stdout",
     "output_type": "stream",
     "text": [
      "Please enter the string\n",
      "Entered the string is:  This is an example sentence. This sentence contains the word example.\n",
      "Please enter the word\n",
      "Entered the word is:  example\n",
      "the first occurrence of a word in a string is:  11\n"
     ]
    }
   ],
   "source": [
    "print(\"Please enter the string\")\n",
    "\n",
    "#taking user input and converting to string\n",
    "user_input = str(input())\n",
    "print(\"Entered the string is: \",user_input)\n",
    "print(\"Please enter the word\")\n",
    "\n",
    "#taking user input and converting to string\n",
    "user_input_word = str(input())\n",
    "print(\"Entered the word is: \",user_input_word)\n",
    "\n",
    "#checking the index of user_input string with user_input_word\n",
    "print(\"the first occurrence of a word in a string is: \",user_input.index(user_input_word))\n"
   ]
  },
  {
   "cell_type": "markdown",
   "metadata": {},
   "source": [
    "13. Find the last occurrence of a word in a string."
   ]
  },
  {
   "cell_type": "code",
   "execution_count": 150,
   "metadata": {},
   "outputs": [
    {
     "name": "stdout",
     "output_type": "stream",
     "text": [
      "Please enter the string\n",
      "Entered the string is:  This is an example sentence. This sentence also contains the word example.\n",
      "Please enter the word\n",
      "Entered the word is:  example\n",
      "the first occurrence of a word in a string is:  66\n"
     ]
    }
   ],
   "source": [
    "print(\"Please enter the string\")\n",
    "\n",
    "#taking user input and converting to string\n",
    "user_input = str(input())\n",
    "print(\"Entered the string is: \",user_input)\n",
    "print(\"Please enter the word\")\n",
    "\n",
    "#taking user input and converting to string\n",
    "user_input_word = str(input())\n",
    "print(\"Entered the word is: \",user_input_word)\n",
    "\n",
    "#checking the index of user_input string with user_input_word\n",
    "print(\"the first occurrence of a word in a string is: \",user_input.rindex(user_input_word))"
   ]
  },
  {
   "cell_type": "markdown",
   "metadata": {},
   "source": [
    "14. Split a string into a list of words."
   ]
  },
  {
   "cell_type": "code",
   "execution_count": 12,
   "metadata": {},
   "outputs": [
    {
     "name": "stdout",
     "output_type": "stream",
     "text": [
      "Please enter the string\n",
      "Entered the string is:  welcome to the pwskills\n",
      "Split a string into a list of words:  ['welcome', 'to', 'the', 'pwskills']\n"
     ]
    }
   ],
   "source": [
    "print(\"Please enter the string\")\n",
    "\n",
    "#taking user input and converting to string\n",
    "user_input = str(input())\n",
    "print(\"Entered the string is: \",user_input)\n",
    "\n",
    "#splitting a string into list of words using split function and converting to list\n",
    "print(\"Split a string into a list of words: \",list(user_input.split()))"
   ]
  },
  {
   "cell_type": "markdown",
   "metadata": {},
   "source": [
    "15. Join a list of words into a string."
   ]
  },
  {
   "cell_type": "code",
   "execution_count": 17,
   "metadata": {},
   "outputs": [
    {
     "name": "stdout",
     "output_type": "stream",
     "text": [
      "Please enter the string\n",
      "Entered the string is:  ['w', 'e', 'l', 'c', 'o', 'm', 'e', ' ', 't', 'o', ' ', 't', 'h', 'e', ' ', 'p', 'w', 's', 'k', 'i', 'l', 'l', 's']\n",
      "Join list of words into a string:  welcome to the pwskills\n"
     ]
    }
   ],
   "source": [
    "print(\"Please enter the string\")\n",
    "\n",
    "#taking user input and converting to string\n",
    "user_input = list(str(input()))\n",
    "print(\"Entered the string is: \",user_input)\n",
    "\n",
    "#Joining the words into a string using join function\n",
    "print(\"Join list of words into a string: \",\"\".join(user_input))"
   ]
  },
  {
   "cell_type": "markdown",
   "metadata": {},
   "source": [
    "16. Convert a string where words are separated by spaces to one where words are separated by underscores."
   ]
  },
  {
   "cell_type": "code",
   "execution_count": 19,
   "metadata": {},
   "outputs": [
    {
     "name": "stdout",
     "output_type": "stream",
     "text": [
      "Please enter the string\n",
      "Entered the string is:  welcome to the pwskills\n",
      "String seperated with underscores is:  welcome_to_the_pwskills\n"
     ]
    }
   ],
   "source": [
    "print(\"Please enter the string\")\n",
    "\n",
    "#taking user input and converting to string\n",
    "user_input = str(input())\n",
    "print(\"Entered the string is: \",user_input)\n",
    "\n",
    "#replacing the spaces with underscores using replace function\n",
    "print(\"String seperated with underscores is: \",(user_input.replace(\" \",\"_\")))"
   ]
  },
  {
   "cell_type": "markdown",
   "metadata": {},
   "source": [
    "17. Check if a string starts with a specific word or phrase."
   ]
  },
  {
   "cell_type": "code",
   "execution_count": 151,
   "metadata": {},
   "outputs": [
    {
     "name": "stdout",
     "output_type": "stream",
     "text": [
      "Please enter the string\n",
      "Entered the string is:  welcome to the pwskills\n",
      "Please enter the specific word\n",
      "Entered the string is:  welcome\n",
      "welcome a specific word that starts with string is welcome to the pwskills\n"
     ]
    }
   ],
   "source": [
    "print(\"Please enter the string\")\n",
    "\n",
    "#taking user input and converting to string\n",
    "user_input = str(input())\n",
    "print(\"Entered the string is: \",user_input)\n",
    "\n",
    "print(\"Please enter the specific word\")\n",
    "\n",
    "#taking user input word and converting to string\n",
    "user_input_word = str(input())\n",
    "print(\"Entered the string is: \",user_input_word)\n",
    "\n",
    "#checking the condition of user input string starts with user input word or not\n",
    "if user_input.startswith(user_input_word):\n",
    "    print(user_input_word,\"a specific word that starts with string is\",user_input)\n",
    "else:\n",
    "    print(user_input_word,\"a specific word that DOES not starts with string is\",user_input)"
   ]
  },
  {
   "cell_type": "markdown",
   "metadata": {},
   "source": [
    "18. Check if a string ends with a specific word or phrase."
   ]
  },
  {
   "cell_type": "code",
   "execution_count": 152,
   "metadata": {},
   "outputs": [
    {
     "name": "stdout",
     "output_type": "stream",
     "text": [
      "Please enter the string\n",
      "Entered the string is:  welcome to the pwskills\n",
      "Please enter the specific word\n",
      "Entered the string is:  pwskills\n",
      "pwskills a specific word that ends with string is welcome to the pwskills\n"
     ]
    }
   ],
   "source": [
    "print(\"Please enter the string\")\n",
    "\n",
    "#taking user input and converting to string\n",
    "user_input = str(input())\n",
    "print(\"Entered the string is: \",user_input)\n",
    "\n",
    "print(\"Please enter the specific word\")\n",
    "\n",
    "#taking user input word and converting to string\n",
    "user_input_word = str(input())\n",
    "print(\"Entered the string is: \",user_input_word)\n",
    "\n",
    "#checking the condition of user input string ends with user input word or not\n",
    "if user_input.endswith(user_input_word):\n",
    "    print(user_input_word,\"a specific word that ends with string is\",user_input)\n",
    "else:\n",
    "    print(user_input_word,\"a specific word that DOES not ends with string is\",user_input)"
   ]
  },
  {
   "cell_type": "markdown",
   "metadata": {},
   "source": [
    "19. Convert a string to title case (e.g., \"hello world\" to \"Hello World\")."
   ]
  },
  {
   "cell_type": "code",
   "execution_count": 27,
   "metadata": {},
   "outputs": [
    {
     "name": "stdout",
     "output_type": "stream",
     "text": [
      "Please enter the string\n",
      "Entered the string is:  welcome to\n",
      "the string to title case is:  Welcome To\n"
     ]
    }
   ],
   "source": [
    "print(\"Please enter the string\")\n",
    "\n",
    "#taking user input and converting to string\n",
    "user_input = str(input())\n",
    "print(\"Entered the string is: \",user_input)\n",
    "\n",
    "#Use the title() method to convert the text to title case.\n",
    "print(\"the string to title case is: \",user_input.title())"
   ]
  },
  {
   "cell_type": "markdown",
   "metadata": {},
   "source": [
    "20. Find the longest word in a string."
   ]
  },
  {
   "cell_type": "code",
   "execution_count": 34,
   "metadata": {},
   "outputs": [
    {
     "name": "stdout",
     "output_type": "stream",
     "text": [
      "Please enter the string\n",
      "Entered the string is:  welcome to the pwskills for datascience course\n",
      "The longest word in a string is:  datascience\n"
     ]
    }
   ],
   "source": [
    "print(\"Please enter the string\")\n",
    "\n",
    "#taking user input and converting to string\n",
    "user_input = str(input())\n",
    "print(\"Entered the string is: \",user_input)\n",
    "\n",
    "#taking user input long word and converting to string\n",
    "long_word = user_input.split()\n",
    "\n",
    "#the word and its length are passed to the max length of the word.\n",
    "print(\"The longest word in a string is: \",max(long_word,key=len))"
   ]
  },
  {
   "cell_type": "markdown",
   "metadata": {},
   "source": [
    "21. Find the shortest word in a string."
   ]
  },
  {
   "cell_type": "code",
   "execution_count": 35,
   "metadata": {},
   "outputs": [
    {
     "name": "stdout",
     "output_type": "stream",
     "text": [
      "Please enter the string\n",
      "Entered the string is:  welcome to the pwskills for datascience pro\n",
      "The shortest word in a string is:  to\n"
     ]
    }
   ],
   "source": [
    "print(\"Please enter the string\")\n",
    "\n",
    "#taking user input and converting to string\n",
    "user_input = str(input())\n",
    "print(\"Entered the string is: \",user_input)\n",
    "\n",
    "#taking long word and converting to string\n",
    "long_word = user_input.split()\n",
    "\n",
    "#the word and its length are passed to the min length of the word.\n",
    "print(\"The shortest word in a string is: \",min(long_word,key=len))"
   ]
  },
  {
   "cell_type": "markdown",
   "metadata": {},
   "source": [
    "22. Reverse the order of words in a string."
   ]
  },
  {
   "cell_type": "code",
   "execution_count": 40,
   "metadata": {},
   "outputs": [
    {
     "name": "stdout",
     "output_type": "stream",
     "text": [
      "Please enter the string\n",
      "Entered the string is:  welcome to the pwskills for datascience pro course\n",
      "Reversed order of words in a string is:  course pro datascience for pwskills the to welcome\n"
     ]
    }
   ],
   "source": [
    "print(\"Please enter the string\")\n",
    "\n",
    "#taking user input and converting to string\n",
    "user_input = str(input())\n",
    "print(\"Entered the string is: \",user_input)\n",
    "\n",
    "#taking user reverse string and spliting it into seperate word\n",
    "reverse_words = user_input.split()\n",
    "\n",
    "#reversed the words in a string and seperated with space\n",
    "rev = \" \".join(reversed(reverse_words))\n",
    "print(\"Reversed order of words in a string is: \",rev)"
   ]
  },
  {
   "cell_type": "markdown",
   "metadata": {},
   "source": [
    "23. Check if a string is alphanumeric."
   ]
  },
  {
   "cell_type": "code",
   "execution_count": 41,
   "metadata": {},
   "outputs": [
    {
     "name": "stdout",
     "output_type": "stream",
     "text": [
      "Please enter the string\n",
      "Entered the string is:  welc0me\n",
      "string is a alphanumeric:  welc0me\n"
     ]
    }
   ],
   "source": [
    "print(\"Please enter the string\")\n",
    "\n",
    "#taking user input and converting to string\n",
    "user_input = str(input())\n",
    "print(\"Entered the string is: \",user_input)\n",
    "\n",
    "#taking user input and checking is it contains aplhabets and numbers or not.\n",
    "if user_input.isalnum():\n",
    "    print(\"string is a alphanumeric: \",user_input)\n",
    "else:\n",
    "    print(\"string is not a alphanumeric: \",user_input)"
   ]
  },
  {
   "cell_type": "markdown",
   "metadata": {},
   "source": [
    "24. Extract all digits from a string."
   ]
  },
  {
   "cell_type": "code",
   "execution_count": 157,
   "metadata": {},
   "outputs": [
    {
     "name": "stdout",
     "output_type": "stream",
     "text": [
      "Please enter the string\n",
      "Entered the string is:  wel123c456om654e\n",
      "digits from a string is:  123456654\n"
     ]
    }
   ],
   "source": [
    "print(\"Please enter the string\")\n",
    "\n",
    "#taking user input and converting to string\n",
    "user_input = str(input())\n",
    "print(\"Entered the string is: \",user_input)\n",
    "\n",
    "#Initialize the j with empty string\n",
    "j=\"\"\n",
    "\n",
    "#iterating through loop\n",
    "for i in user_input:\n",
    "    #checking the i string contains numbers or not\n",
    "    if i.isdigit():\n",
    "        #adding number from a string to j string\n",
    "        j=j+i\n",
    "print(\"digits from a string is: \",j)"
   ]
  },
  {
   "cell_type": "markdown",
   "metadata": {},
   "source": [
    "25. Extract all alphabets from a string."
   ]
  },
  {
   "cell_type": "code",
   "execution_count": 159,
   "metadata": {},
   "outputs": [
    {
     "name": "stdout",
     "output_type": "stream",
     "text": [
      "Please enter the string\n",
      "Entered the string is:  we123come\n",
      "alphabets from a string is:  wecome\n"
     ]
    }
   ],
   "source": [
    "print(\"Please enter the string\")\n",
    "\n",
    "#taking user input and converting to string\n",
    "user_input = str(input())\n",
    "print(\"Entered the string is: \",user_input)\n",
    "\n",
    "#Initialize the j with empty string\n",
    "j=\"\"\n",
    "\n",
    "#iterating through loop\n",
    "for i in user_input:\n",
    "    #checking the i string contains alphabets or not\n",
    "    if i.isalpha():\n",
    "        #adding alphabets from a string to j string\n",
    "        j=j+i\n",
    "\n",
    "print(\"alphabets from a string is: \",j)"
   ]
  },
  {
   "cell_type": "markdown",
   "metadata": {},
   "source": [
    "26. Count the number of uppercase letters in a string."
   ]
  },
  {
   "cell_type": "code",
   "execution_count": 48,
   "metadata": {},
   "outputs": [
    {
     "name": "stdout",
     "output_type": "stream",
     "text": [
      "Please enter the string\n",
      "Entered the string is:  WelCome\n",
      "count number of uppercase letters is:  2\n"
     ]
    }
   ],
   "source": [
    "print(\"Please enter the string\")\n",
    "\n",
    "#taking user input and converting to string\n",
    "user_input = str(input())\n",
    "print(\"Entered the string is: \",user_input)\n",
    "\n",
    "count=0\n",
    "#iterating through loop till end of the length of the string\n",
    "for i in range(len(user_input)):\n",
    "    #checking that user entered string contains UPPERCASE letters or not\n",
    "    if user_input[i].isupper():\n",
    "        #incrementing the count value\n",
    "        count+=1\n",
    "print(\"count number of uppercase letters is: \",count)"
   ]
  },
  {
   "cell_type": "markdown",
   "metadata": {},
   "source": [
    "27. Count the number of lowercase letters in a string."
   ]
  },
  {
   "cell_type": "code",
   "execution_count": 49,
   "metadata": {},
   "outputs": [
    {
     "name": "stdout",
     "output_type": "stream",
     "text": [
      "Please enter the string\n",
      "Entered the string is:  WELcome\n",
      "count number of lowercase letters is:  4\n"
     ]
    }
   ],
   "source": [
    "print(\"Please enter the string\")\n",
    "\n",
    "#taking user input and converting to string\n",
    "user_input = str(input())\n",
    "print(\"Entered the string is: \",user_input)\n",
    "\n",
    "count=0\n",
    "#iterating through loop till end of the length of the string\n",
    "for i in range(len(user_input)):\n",
    "    #checking that user entered string contains LOWERCASE letters or not\n",
    "    if user_input[i].islower():\n",
    "        #incrementing the count value\n",
    "        count+=1\n",
    "print(\"count number of lowercase letters is: \",count)"
   ]
  },
  {
   "cell_type": "markdown",
   "metadata": {},
   "source": [
    "28. Swap the case of each character in a string."
   ]
  },
  {
   "cell_type": "code",
   "execution_count": 50,
   "metadata": {},
   "outputs": [
    {
     "name": "stdout",
     "output_type": "stream",
     "text": [
      "Please enter the string\n",
      "Entered the string is:  Welcome\n",
      "Swap the case of each character in a string is:  wELCOME\n"
     ]
    }
   ],
   "source": [
    "print(\"Please enter the string\")\n",
    "\n",
    "#taking user input and converting to string\n",
    "user_input = str(input())\n",
    "print(\"Entered the string is: \",user_input)\n",
    "\n",
    "#swapping the lowercase letters with uppercase letters and viceversa\n",
    "print(\"Swap the case of each character in a string is: \",user_input.swapcase())"
   ]
  },
  {
   "cell_type": "markdown",
   "metadata": {},
   "source": [
    "29. Remove a specific word from a string."
   ]
  },
  {
   "cell_type": "code",
   "execution_count": 178,
   "metadata": {},
   "outputs": [
    {
     "name": "stdout",
     "output_type": "stream",
     "text": [
      "Please enter the string\n",
      "['hi', 'world', 'welcome', 'world']\n",
      "Entered the specific word to remove is: world\n",
      "word world is Removed and final string is: hi welcome\n"
     ]
    }
   ],
   "source": [
    "print(\"Please enter the string\")\n",
    "\n",
    "#creating an empty list\n",
    "lis=[]\n",
    "\n",
    "for i in range(0,4):\n",
    "    #taking user input and converting to string\n",
    "    ele=str(input())\n",
    "\n",
    "    #adding elements to list\n",
    "    lis.append(ele)\n",
    "print(lis)\n",
    "\n",
    "#taking user input word and converting to string\n",
    "user_input_word = str(input())\n",
    "print(\"Entered the specific word to remove is:\",user_input_word)\n",
    "\n",
    "#iterating through for loop and checking the condition and comparing the lis is not equal to user_input_word string\n",
    "fin_lis = [w for w in lis if w!= user_input_word]\n",
    "\n",
    "print(\"word\",user_input_word,\"is Removed and final string is:\",' '.join(fin_lis))"
   ]
  },
  {
   "cell_type": "markdown",
   "metadata": {},
   "source": [
    "30. Check if a string is a valid email address."
   ]
  },
  {
   "cell_type": "code",
   "execution_count": 67,
   "metadata": {},
   "outputs": [
    {
     "name": "stdout",
     "output_type": "stream",
     "text": [
      "Please enter the string for email address\n",
      "Entered the string for email address is:  123.123@123.in\n",
      "string is a valid email address: 123.123@123.in\n"
     ]
    }
   ],
   "source": [
    "#import reglar expression module\n",
    "import re\n",
    "print(\"Please enter the string for email address\")\n",
    "user_input = str(input())\n",
    "print(\"Entered the string for email address is: \",user_input)\n",
    "\n",
    "# Regular expression pattern for a basic email validation\n",
    "pat = r'\\b[A-Za-z0-9._%+-]+@[A-Za-z0-9.-]+\\.[A-Z|a-z]{2,7}\\b'\n",
    "\n",
    "# checking condition and matching against pattern\n",
    "if re.match(pat,user_input):\n",
    "    print(\"string is a valid email address:\",user_input)\n",
    "else:\n",
    "    print(\"string is not a valid email address:\",user_input)"
   ]
  },
  {
   "cell_type": "markdown",
   "metadata": {},
   "source": [
    "31. Extract the username from an email address string."
   ]
  },
  {
   "cell_type": "code",
   "execution_count": 69,
   "metadata": {},
   "outputs": [
    {
     "name": "stdout",
     "output_type": "stream",
     "text": [
      "Please enter the string for email address\n",
      "Entered the string for email address is:  123.123@123.com\n",
      "123.123\n"
     ]
    }
   ],
   "source": [
    "print(\"Please enter the string for email address\")\n",
    "\n",
    "#taking user input string\n",
    "user_input = str(input())\n",
    "print(\"Entered the string for email address is: \",user_input)\n",
    "\n",
    "# Split the email address at \"@\" and take the first part\n",
    "print(user_input.split(\"@\")[0])"
   ]
  },
  {
   "cell_type": "markdown",
   "metadata": {},
   "source": [
    "32. Extract the domain name from an email address string."
   ]
  },
  {
   "cell_type": "code",
   "execution_count": 72,
   "metadata": {},
   "outputs": [
    {
     "name": "stdout",
     "output_type": "stream",
     "text": [
      "Please enter the string for email address\n",
      "Entered the string for email address is:  123_123@123.in\n",
      "123.in\n"
     ]
    }
   ],
   "source": [
    "print(\"Please enter the string for email address\")\n",
    "\n",
    "#taking user input string\n",
    "user_input = str(input())\n",
    "print(\"Entered the string for email address is: \",user_input)\n",
    "\n",
    "#Split the email address at \"@\" and take the second part\n",
    "print(user_input.split(\"@\")[1])"
   ]
  },
  {
   "cell_type": "markdown",
   "metadata": {},
   "source": [
    "33. Replace multiple spaces in a string with a single space."
   ]
  },
  {
   "cell_type": "code",
   "execution_count": 74,
   "metadata": {},
   "outputs": [
    {
     "name": "stdout",
     "output_type": "stream",
     "text": [
      "Please enter the string for email address\n",
      "Entered the string for email address is:  we    co     me to\n",
      "we co me to\n"
     ]
    }
   ],
   "source": [
    "print(\"Please enter the string for email address\")\n",
    "\n",
    "#taking user input string\n",
    "user_input = str(input())\n",
    "print(\"Entered the string for email address is: \",user_input)\n",
    "\n",
    "#Split the string at spaces and then join using a single space\n",
    "print(\" \".join(user_input.split()))"
   ]
  },
  {
   "cell_type": "markdown",
   "metadata": {},
   "source": [
    "34. Check if a string is a valid URL."
   ]
  },
  {
   "cell_type": "code",
   "execution_count": 84,
   "metadata": {},
   "outputs": [
    {
     "name": "stdout",
     "output_type": "stream",
     "text": [
      "Please enter the string for email address\n",
      "Entered the string for email address is:  https://www.google.com\n",
      "https://www.google.com string is a valid URL\n"
     ]
    }
   ],
   "source": [
    "# pip install validators\n",
    "import validators #importing validators library\n",
    "\n",
    "print(\"Please enter the string for email address\")\n",
    "\n",
    "# taking user input string\n",
    "user_input = str(input())\n",
    "print(\"Entered the string for email address is: \",user_input)\n",
    "\n",
    "# Return whether or not given value is a valid URL.\n",
    "# If the value is valid URL this function returns True\n",
    "if validators.url(user_input):\n",
    "    print(user_input,\"string is a valid URL\")\n",
    "else:\n",
    "    print(user_input,\"string is a Invalid URL\")"
   ]
  },
  {
   "cell_type": "markdown",
   "metadata": {},
   "source": [
    "35. Extract the protocol (http or https) from a URL string."
   ]
  },
  {
   "cell_type": "code",
   "execution_count": 87,
   "metadata": {},
   "outputs": [
    {
     "name": "stdout",
     "output_type": "stream",
     "text": [
      "Please enter the string for email address\n",
      "Entered the string for email address is:  https://www.google.com\n",
      "Extracted protocol from URL string is: https\n"
     ]
    }
   ],
   "source": [
    "# import only urlparse function from urllib.parse module\n",
    "from urllib.parse import urlparse\n",
    "print(\"Please enter the string for email address\")\n",
    "\n",
    "# taking user input string\n",
    "user_input = str(input())\n",
    "print(\"Entered the string for email address is: \",user_input)\n",
    "\n",
    "#extracting https from scheme\n",
    "print(\"Extracted protocol from URL string is:\",urlparse(user_input).scheme)"
   ]
  },
  {
   "cell_type": "markdown",
   "metadata": {},
   "source": [
    "36. Find the frequency of each character in a string."
   ]
  },
  {
   "cell_type": "code",
   "execution_count": 94,
   "metadata": {},
   "outputs": [
    {
     "name": "stdout",
     "output_type": "stream",
     "text": [
      "Please enter the string for email address\n",
      "Frequency of each character in a string is:\n",
      "w 1\n",
      "e 2\n",
      "l 1\n",
      "c 1\n",
      "o 1\n",
      "m 1\n",
      "e 2\n"
     ]
    }
   ],
   "source": [
    "from collections import Counter # import counter class from collections module\n",
    "print(\"Please enter the string for email address\")\n",
    "\n",
    "#taking user input string\n",
    "user_input = list(str(input()))\n",
    "\n",
    "# Creation of a Counter Class object using\n",
    "# string as an iterable data container\n",
    "counts=Counter(user_input)\n",
    "print(\"Frequency of each character in a string is:\")\n",
    "\n",
    "#iterating through for loop, printing the each character and its frequency\n",
    "for i in user_input:\n",
    "    print(i,counts[i])"
   ]
  },
  {
   "cell_type": "markdown",
   "metadata": {},
   "source": [
    "37. Remove all punctuation from a string."
   ]
  },
  {
   "cell_type": "code",
   "execution_count": 3,
   "metadata": {},
   "outputs": [
    {
     "name": "stdout",
     "output_type": "stream",
     "text": [
      "Please enter the string\n",
      "Entered the string is:  Hello, world! How's it going?\n",
      "Removed punctuation from a string is: Hello world Hows it going\n"
     ]
    }
   ],
   "source": [
    "import string \n",
    "\n",
    "print(\"Please enter the string\")\n",
    "\n",
    "# taking user input string\n",
    "user_input = str(input())\n",
    "print(\"Entered the string is: \",user_input)\n",
    "\n",
    "# Create a translation table to remove punctuation\n",
    "translator = str.maketrans(\"\", \"\", string.punctuation)\n",
    "\n",
    "# Use the translation table to remove punctuation from the input string\n",
    "clean_string = user_input.translate(translator)\n",
    "\n",
    "# replacing \" \" using replace function\n",
    "print(\"Removed punctuation from a string is:\",clean_string)"
   ]
  },
  {
   "cell_type": "markdown",
   "metadata": {},
   "source": [
    "38. Check if a string contains only digits."
   ]
  },
  {
   "cell_type": "code",
   "execution_count": 5,
   "metadata": {},
   "outputs": [
    {
     "name": "stdout",
     "output_type": "stream",
     "text": [
      "Please enter the string\n",
      "Entered the string is:  123.123\n",
      "No String does not contain only digits\n"
     ]
    }
   ],
   "source": [
    "print(\"Please enter the string\")\n",
    "\n",
    "# taking user input string\n",
    "user_input = str(input())\n",
    "print(\"Entered the string is: \",user_input)\n",
    "\n",
    "# checking the condition that user input string contains numeric or not.\n",
    "if user_input.isnumeric():\n",
    "    print(\"Yes String contain only digits\")\n",
    "else:\n",
    "     print(\"No String does not contain only digits\")"
   ]
  },
  {
   "cell_type": "markdown",
   "metadata": {},
   "source": [
    "39. Check if a string contains only alphabets."
   ]
  },
  {
   "cell_type": "code",
   "execution_count": 7,
   "metadata": {},
   "outputs": [
    {
     "name": "stdout",
     "output_type": "stream",
     "text": [
      "Please enter the string\n",
      "Entered the string is:  1234\n",
      "No String does not contain only alphabets\n"
     ]
    }
   ],
   "source": [
    "print(\"Please enter the string\")\n",
    "\n",
    "# taking user input string\n",
    "user_input = str(input())\n",
    "print(\"Entered the string is: \",user_input)\n",
    "\n",
    "# Check if all characters in the string are alphabetic\n",
    "if user_input.isalpha():\n",
    "    print(\"Yes String contain only alphabets\")\n",
    "else:\n",
    "     print(\"No String does not contain only alphabets\")"
   ]
  },
  {
   "cell_type": "markdown",
   "metadata": {},
   "source": [
    "40. Convert a string to a list of characters."
   ]
  },
  {
   "cell_type": "code",
   "execution_count": 9,
   "metadata": {},
   "outputs": [
    {
     "name": "stdout",
     "output_type": "stream",
     "text": [
      "Please enter the string\n",
      "Entered the string is:  welcome\n",
      "Converted a string to a list of character is: ['w', 'e', 'l', 'c', 'o', 'm', 'e']\n"
     ]
    }
   ],
   "source": [
    "print(\"Please enter the string\")\n",
    "\n",
    "# taking user input string\n",
    "user_input = str(input())\n",
    "print(\"Entered the string is: \",user_input)\n",
    "\n",
    "# Use list() constructor to convert the string to a list of characters\n",
    "print(\"Converted a string to a list of character is:\",list(user_input))"
   ]
  },
  {
   "cell_type": "markdown",
   "metadata": {},
   "source": [
    "41. Check if two strings are anagrams."
   ]
  },
  {
   "cell_type": "code",
   "execution_count": 11,
   "metadata": {},
   "outputs": [
    {
     "name": "stdout",
     "output_type": "stream",
     "text": [
      "Please enter the string 1\n",
      "Entered the string 1 is:  gram\n",
      "Please enter the string 2\n",
      "Entered the string 2 is:  arm\n",
      "Two strings are not anagrams\n"
     ]
    }
   ],
   "source": [
    "print(\"Please enter the string 1\")\n",
    "# taking user input string\n",
    "user_input_1 = str(input())\n",
    "print(\"Entered the string 1 is: \",user_input_1)\n",
    "\n",
    "print(\"Please enter the string 2\")\n",
    "# taking user input2 string\n",
    "user_input_2 = str(input())\n",
    "print(\"Entered the string 2 is: \",user_input_2)\n",
    "\n",
    "# Sort the characters in both strings and compare\n",
    "if sorted(user_input_1)==sorted(user_input_2):\n",
    "    print(\"Two strings are anagrams\")\n",
    "else:\n",
    "    print(\"Two strings are not anagrams\")"
   ]
  },
  {
   "cell_type": "markdown",
   "metadata": {},
   "source": [
    "42. Encode a string using a Caesar cipher."
   ]
  },
  {
   "cell_type": "code",
   "execution_count": 14,
   "metadata": {},
   "outputs": [
    {
     "name": "stdout",
     "output_type": "stream",
     "text": [
      "Text : ATTACKATONCE\n",
      "Shift : 4\n",
      "Cipher: EXXEGOEXSRGI\n"
     ]
    }
   ],
   "source": [
    "#A python program to illustrate Caesar Cipher Technique\n",
    "def encrypt(text,s):\n",
    "\tresult = \"\"\n",
    "\n",
    "\t# traverse text\n",
    "\tfor i in range(len(text)):\n",
    "\t\t# Each character in a string is seperately stored in char\n",
    "\t\tchar = text[i]\n",
    "\t\t# print(\"char: \\n\",char)\n",
    "\t\t# Encrypt uppercase characters\n",
    "\t\tif (char.isupper()):\n",
    "\t\t\t# chr() is a built in function used to convert a number to letter through mapping of ASCII value\n",
    "                # Example:\n",
    "                # num = 97\n",
    "                # print(\"ASCII Value of 97 is: \", chr(num))\n",
    "                # Output: ASCII Value of 97 is:  a\n",
    "                \n",
    "            # ord() is a built in function used to convert a letter to number through mapping of ASCII value\n",
    "                # Example:\n",
    "                # print(ord('a')) # Output: 97\n",
    "                # print(ord('€')) # Output: 8364\n",
    "\n",
    "            # s is a shift value\n",
    "            # Create a new alphabet by shifting each letter of the original alphabet by the shift value. \n",
    "            # For example, if the shift value is 3, the new alphabet would be:\n",
    "                # A B C D E F G H I J K L M N O P Q R S T U V W X Y Z\n",
    "                # D E F G H I J K L M N O P Q R S T U V W X Y Z A B C\n",
    "\n",
    "            # 65 is ASCII value of Uppercase letter A\n",
    "            # 26 is the number of alphabets\n",
    "\t\t\tresult += chr((ord(char) + s-65) % 26 + 65)\n",
    "\n",
    "\t\t# Encrypt lowercase characters\n",
    "\t\telse:\n",
    "\t\t\t# chr() is a built in function used to convert a number to letter through mapping of ASCII value\n",
    "            # ord() is a built in function used to convert a letter to number through mapping of ASCII value\n",
    "            # s is a shift value\n",
    "            # Create a new alphabet by shifting each letter of the original alphabet by the shift value. \n",
    "            # For example, if the shift value is 3, the new alphabet would be:\n",
    "            # 97 is ASCII value of lowercase letter a\n",
    "            # 26 is the number of alphabets\n",
    "\t\t\tresult += chr((ord(char) + s - 97) % 26 + 97)\n",
    "\n",
    "\treturn result\n",
    "\n",
    "#check the above function\n",
    "text = \"ATTACKATONCE\"\n",
    "s = 4\n",
    "print (\"Text : \" + text)\n",
    "print (\"Shift : \" + str(s))\n",
    "print (\"Cipher: \" + encrypt(text,s))"
   ]
  },
  {
   "cell_type": "markdown",
   "metadata": {},
   "source": [
    "43. Decode a Caesar cipher encoded string."
   ]
  },
  {
   "cell_type": "code",
   "execution_count": 16,
   "metadata": {},
   "outputs": [
    {
     "name": "stdout",
     "output_type": "stream",
     "text": [
      "Text : EXXEGOEXSRGI\n",
      "Shift : 4\n",
      "Cipher: ATTACKATONCE\n"
     ]
    }
   ],
   "source": [
    "#A python program to illustrate Caesar Cipher Technique\n",
    "def decrypt(text,s):\n",
    "\tresult = \"\"\n",
    "\n",
    "\t# traverse text\n",
    "\tfor i in range(len(text)):\n",
    "\t\t# Each character in a string is seperately stored in char\n",
    "\t\tchar = text[i]\n",
    "\t\t# print(\"char: \\n\",char)\n",
    "\t\t# Decrypt uppercase characters\n",
    "\t\tif (char.isupper()):\n",
    "\t\t\t# chr() is a built in function used to convert a number to letter through mapping of ASCII value\n",
    "                # Example:\n",
    "                # num = 97\n",
    "                # print(\"ASCII Value of 97 is: \", chr(num))\n",
    "                # Output: ASCII Value of 97 is:  a\n",
    "                \n",
    "            # ord() is a built in function used to convert a letter to number through mapping of ASCII value\n",
    "                # Example:\n",
    "                # print(ord('a')) # Output: 97\n",
    "                # print(ord('€')) # Output: 8364\n",
    "\n",
    "            # s is a shift value\n",
    "            # Create a new alphabet by shifting each letter of the original alphabet by the shift value. \n",
    "            # For example, if the shift value is 3, the new alphabet would be:\n",
    "                # A B C D E F G H I J K L M N O P Q R S T U V W X Y Z\n",
    "                # D E F G H I J K L M N O P Q R S T U V W X Y Z A B C\n",
    "\n",
    "            # 65 is ASCII value of Uppercase letter A\n",
    "            # 26 is the number of alphabets\n",
    "\t\t\tresult += chr((ord(char) + s-65) % 26 + 65)\n",
    "\n",
    "\t\t# Decrypt lowercase characters\n",
    "\t\telse:\n",
    "\t\t\t# chr() is a built in function used to convert a number to letter through mapping of ASCII value\n",
    "            # ord() is a built in function used to convert a letter to number through mapping of ASCII value\n",
    "            # s is a shift value\n",
    "            # Create a new alphabet by shifting each letter of the original alphabet by the shift value. \n",
    "            # For example, if the shift value is 3, the new alphabet would be:\n",
    "            # 97 is ASCII value of lowercase letter a\n",
    "            # 26 is the number of alphabets\n",
    "\t\t\tresult += chr((ord(char) + s - 97) % 26 + 97)\n",
    "\n",
    "\treturn result\n",
    "\n",
    "#check the above function\n",
    "text = \"EXXEGOEXSRGI\"\n",
    "s = 4\n",
    "print (\"Text : \" + text)\n",
    "print (\"Shift : \" + str(s))\n",
    "print (\"Cipher: \" + decrypt(text,26-s))"
   ]
  },
  {
   "cell_type": "markdown",
   "metadata": {},
   "source": [
    "44. Find the most frequent word in a string."
   ]
  },
  {
   "cell_type": "code",
   "execution_count": 11,
   "metadata": {},
   "outputs": [
    {
     "name": "stdout",
     "output_type": "stream",
     "text": [
      "Most frequent word: hello\n"
     ]
    }
   ],
   "source": [
    "import re\n",
    "from collections import Counter\n",
    "\n",
    "def most_frequent_word(input_string):\n",
    "    # Remove punctuation and convert to lowercase\n",
    "    clean_string = re.sub(r'[^\\w\\s]', '', input_string).lower()\n",
    "\n",
    "    # Split the string into words\n",
    "    words = clean_string.split()\n",
    "\n",
    "    # Use Counter to count word frequencies\n",
    "    word_counter = Counter(words)\n",
    "\n",
    "    # Find the most common word\n",
    "    most_common_word = word_counter.most_common(1)[0][0]\n",
    "\n",
    "    return most_common_word\n",
    "\n",
    "# Example string\n",
    "input_str = \"Hello world hello there! How's the world\"\n",
    "\n",
    "# Find the most frequent word\n",
    "most_common = most_frequent_word(input_str)\n",
    "\n",
    "# Print the result\n",
    "print(\"Most frequent word:\", most_common)"
   ]
  },
  {
   "cell_type": "markdown",
   "metadata": {},
   "source": [
    "45. Find all unique words in a string."
   ]
  },
  {
   "cell_type": "code",
   "execution_count": 13,
   "metadata": {},
   "outputs": [
    {
     "name": "stdout",
     "output_type": "stream",
     "text": [
      "Python is good for beginners\n"
     ]
    }
   ],
   "source": [
    "string = \"Python is good Python is for beginners\"\n",
    "print(' '.join(dict.fromkeys(string.split())))"
   ]
  },
  {
   "cell_type": "markdown",
   "metadata": {},
   "source": [
    "46. Count the number of syllables in a string."
   ]
  },
  {
   "cell_type": "code",
   "execution_count": 14,
   "metadata": {},
   "outputs": [
    {
     "name": "stdout",
     "output_type": "stream",
     "text": [
      "1\n",
      "3\n"
     ]
    }
   ],
   "source": [
    "import re\n",
    "\n",
    "def count_syllables(word):\n",
    "    return len(\n",
    "        re.findall('(?!e$)[aeiouy]+', word, re.I) +\n",
    "        re.findall('^[^aeiouy]*e$', word, re.I)\n",
    "    )\n",
    "print(count_syllables(\"book\"))\n",
    "print(count_syllables(\"banana\"))"
   ]
  },
  {
   "cell_type": "markdown",
   "metadata": {},
   "source": [
    "47. Check if a string contains any special characters."
   ]
  },
  {
   "cell_type": "code",
   "execution_count": 16,
   "metadata": {},
   "outputs": [
    {
     "name": "stdout",
     "output_type": "stream",
     "text": [
      "Please enter the string\n",
      "Entered the string 1 is:  admkc\"\"\n",
      "Yes, String contains special characters\n"
     ]
    }
   ],
   "source": [
    "import string\n",
    "print(\"Please enter the string\")\n",
    "user_input = str(input())\n",
    "print(\"Entered the string 1 is: \",user_input)\n",
    "\n",
    "def check_string(s):\n",
    "\tfor c in s:\n",
    "\t\tif c in string.punctuation:\n",
    "\t\t\tprint(\"Yes, String contains special characters\")\n",
    "\t\t\treturn\n",
    "\tprint(\"No, String does not contains special characters\")\n",
    "\n",
    "check_string(user_input) # Output: String is not accepted"
   ]
  },
  {
   "cell_type": "markdown",
   "metadata": {},
   "source": [
    "48. Remove the nth word from a string."
   ]
  },
  {
   "cell_type": "code",
   "execution_count": 20,
   "metadata": {},
   "outputs": [
    {
     "name": "stdout",
     "output_type": "stream",
     "text": [
      "Please enter the string\n",
      "Entered the string 1 is:  this is an program\n",
      "Please enter the word to be remove\n",
      "Entered the word to be remove is:  is\n",
      "The string after removal : this an program\n"
     ]
    }
   ],
   "source": [
    "print(\"Please enter the string\")\n",
    "user_input = str(input())\n",
    "print(\"Entered the string 1 is: \",user_input)\n",
    "\n",
    "print(\"Please enter the word to be remove\")\n",
    "user_word = str(input())\n",
    "len_word = len(user_word)\n",
    "print(\"Entered the word to be remove is: \",user_word)\n",
    "\n",
    "b = bytearray(user_input, 'utf-8')\n",
    "word_find = user_input.find(user_word)\n",
    "del b[word_find:word_find+len_word+1]\n",
    "\n",
    "print(\"The string after removal : \" + b.decode())\n"
   ]
  },
  {
   "cell_type": "markdown",
   "metadata": {},
   "source": [
    "49. Insert a word at the nth position in a string."
   ]
  },
  {
   "cell_type": "code",
   "execution_count": 24,
   "metadata": {},
   "outputs": [
    {
     "name": "stdout",
     "output_type": "stream",
     "text": [
      "Please enter the string\n",
      "Entered the string 1 is:  this is apple\n",
      "Please enter the position to insert word\n",
      "Entered the position and word to be inserted is:  7 an\n",
      "The string after removal :  this is an apple\n"
     ]
    }
   ],
   "source": [
    "print(\"Please enter the string\")\n",
    "user_input = str(input())\n",
    "print(\"Entered the string 1 is: \",user_input)\n",
    "\n",
    "print(\"Please enter the position to insert word\")\n",
    "user_pos = int(input())-1\n",
    "user_word = str(input())\n",
    "len_word = len(user_word)\n",
    "print(\"Entered the position and word to be inserted is: \",user_pos, user_word)\n",
    "\n",
    "abc = user_input[:user_pos] + \" \"+ user_word + user_input[user_pos:] \n",
    "\n",
    "print(\"The string after removal : \",abc)\n"
   ]
  },
  {
   "cell_type": "markdown",
   "metadata": {},
   "source": [
    "50. Convert a CSV string to a list of lists."
   ]
  },
  {
   "cell_type": "code",
   "execution_count": 25,
   "metadata": {},
   "outputs": [
    {
     "name": "stdout",
     "output_type": "stream",
     "text": [
      "['Name', ' Age', ' Country']\n",
      "['John', ' 25', ' USA']\n",
      "['Alice', ' 30', ' Canada']\n",
      "['Bob', ' 22', ' UK']\n"
     ]
    }
   ],
   "source": [
    "def csv_string_to_list(csv_string):\n",
    "    # Split the CSV string into lines\n",
    "    lines = csv_string.split('\\n')\n",
    "\n",
    "    # Initialize an empty list to store the result\n",
    "    result = []\n",
    "\n",
    "    for line in lines:\n",
    "        # Split each line into fields using comma as the delimiter\n",
    "        fields = line.split(',')\n",
    "\n",
    "        # Append the fields to the result list as a row\n",
    "        result.append(fields)\n",
    "\n",
    "    return result\n",
    "\n",
    "# Example CSV string\n",
    "csv_data = \"Name, Age, Country\\nJohn, 25, USA\\nAlice, 30, Canada\\nBob, 22, UK\"\n",
    "\n",
    "# Convert CSV string to a list of lists\n",
    "list_of_lists = csv_string_to_list(csv_data)\n",
    "\n",
    "# Print the result\n",
    "for row in list_of_lists:\n",
    "    print(row)"
   ]
  },
  {
   "cell_type": "markdown",
   "metadata": {},
   "source": [
    "List Based Practice Problem :"
   ]
  },
  {
   "cell_type": "markdown",
   "metadata": {},
   "source": [
    "1. Create a list with integers from 1 to 10."
   ]
  },
  {
   "cell_type": "code",
   "execution_count": 59,
   "metadata": {},
   "outputs": [
    {
     "name": "stdout",
     "output_type": "stream",
     "text": [
      "[1, 2, 3, 4, 5, 6, 7, 8, 9, 10]\n"
     ]
    }
   ],
   "source": [
    "r1, r2 = 1, 10\n",
    "print(list(range(r1, r2+1)))\n"
   ]
  },
  {
   "cell_type": "markdown",
   "metadata": {},
   "source": [
    "2. Find the length of a list without using the `len()` function."
   ]
  },
  {
   "cell_type": "code",
   "execution_count": 61,
   "metadata": {},
   "outputs": [
    {
     "name": "stdout",
     "output_type": "stream",
     "text": [
      "Length of the list is: 10\n"
     ]
    }
   ],
   "source": [
    "lis = [1,2,3,4,5,6,7,8,9,10]\n",
    "count=0\n",
    "for i in (lis):\n",
    "    count=count+1\n",
    "print(\"Length of the list is:\",count)"
   ]
  },
  {
   "cell_type": "markdown",
   "metadata": {},
   "source": [
    "3. Append an element to the end of a list."
   ]
  },
  {
   "cell_type": "code",
   "execution_count": 62,
   "metadata": {},
   "outputs": [
    {
     "name": "stdout",
     "output_type": "stream",
     "text": [
      "Length of the list is: [1, 2, 3, 4, 5, 6, 7, 8, 9, 10, 11]\n"
     ]
    }
   ],
   "source": [
    "lis = [1,2,3,4,5,6,7,8,9,10]\n",
    "lis.append(11)\n",
    "print(\"Length of the list is:\",lis)"
   ]
  },
  {
   "cell_type": "markdown",
   "metadata": {},
   "source": [
    "4. Insert an element at a specific index in a list."
   ]
  },
  {
   "cell_type": "code",
   "execution_count": 67,
   "metadata": {},
   "outputs": [
    {
     "name": "stdout",
     "output_type": "stream",
     "text": [
      "Length of the list is: [1, 2, 3, 4, 5, 6, 7, 8, 9, 10, 12]\n"
     ]
    }
   ],
   "source": [
    "lis = [1,2,3,4,5,6,7,8,9,10]\n",
    "lis.insert(11,12)\n",
    "print(\"Length of the list is:\",lis)"
   ]
  },
  {
   "cell_type": "markdown",
   "metadata": {},
   "source": [
    "5. Remove an element from a list by its value."
   ]
  },
  {
   "cell_type": "code",
   "execution_count": 69,
   "metadata": {},
   "outputs": [
    {
     "name": "stdout",
     "output_type": "stream",
     "text": [
      "Length of the list is: [1, 2, 3, 4, 5, 6, 7, 8, 9]\n"
     ]
    }
   ],
   "source": [
    "lis = [1,2,3,4,5,6,7,8,9,10]\n",
    "lis.remove(10)\n",
    "print(\"Length of the list is:\",lis)"
   ]
  },
  {
   "cell_type": "markdown",
   "metadata": {},
   "source": [
    "6. Remove an element from a list by its index."
   ]
  },
  {
   "cell_type": "code",
   "execution_count": 73,
   "metadata": {},
   "outputs": [
    {
     "name": "stdout",
     "output_type": "stream",
     "text": [
      "Length of the list is: [1, 2, 3, 4, 5, 6, 7, 8, 9]\n"
     ]
    }
   ],
   "source": [
    "lis = [1,2,3,4,5,6,7,8,9,10]\n",
    "del lis[9]\n",
    "print(\"Length of the list is:\",lis)"
   ]
  },
  {
   "cell_type": "markdown",
   "metadata": {},
   "source": [
    "7. Check if an element exists in a list."
   ]
  },
  {
   "cell_type": "code",
   "execution_count": 74,
   "metadata": {},
   "outputs": [
    {
     "name": "stdout",
     "output_type": "stream",
     "text": [
      "Yes\n"
     ]
    }
   ],
   "source": [
    "lis = [1,2,3,4,5,6,7,8,9,10]\n",
    "if 9 in lis:\n",
    "    print(\"Yes\")\n",
    "else:\n",
    "    print(\"No\")"
   ]
  },
  {
   "cell_type": "markdown",
   "metadata": {},
   "source": [
    "8. Find the index of the first occurrence of an element in a list."
   ]
  },
  {
   "cell_type": "code",
   "execution_count": 78,
   "metadata": {},
   "outputs": [
    {
     "name": "stdout",
     "output_type": "stream",
     "text": [
      "2\n"
     ]
    }
   ],
   "source": [
    "lis = [1,2,3,4,5,6,7,8,9,10,3]\n",
    "print(lis.index(3))"
   ]
  },
  {
   "cell_type": "markdown",
   "metadata": {},
   "source": [
    "9. Count the occurrences of an element in a list."
   ]
  },
  {
   "cell_type": "code",
   "execution_count": 80,
   "metadata": {},
   "outputs": [
    {
     "name": "stdout",
     "output_type": "stream",
     "text": [
      "2\n"
     ]
    }
   ],
   "source": [
    "lis = [1,2,3,4,5,6,7,8,9,10,3]\n",
    "print(lis.count(3))"
   ]
  },
  {
   "cell_type": "markdown",
   "metadata": {},
   "source": [
    "10. Reverse the order of elements in a list."
   ]
  },
  {
   "cell_type": "code",
   "execution_count": 81,
   "metadata": {},
   "outputs": [
    {
     "name": "stdout",
     "output_type": "stream",
     "text": [
      "[3, 10, 9, 8, 7, 6, 5, 4, 3, 2, 1]\n"
     ]
    }
   ],
   "source": [
    "lis = [1,2,3,4,5,6,7,8,9,10,3]\n",
    "print(lis[::-1])"
   ]
  },
  {
   "cell_type": "markdown",
   "metadata": {},
   "source": [
    "11. Sort a list in ascending order."
   ]
  },
  {
   "cell_type": "code",
   "execution_count": 84,
   "metadata": {},
   "outputs": [
    {
     "name": "stdout",
     "output_type": "stream",
     "text": [
      "[1, 2, 3, 3, 4, 5, 6, 7, 8, 9, 10]\n"
     ]
    }
   ],
   "source": [
    "lis = [1,2,3,4,5,6,7,8,9,10,3]\n",
    "lis.sort()\n",
    "print(lis)"
   ]
  },
  {
   "cell_type": "markdown",
   "metadata": {},
   "source": [
    "12. Sort a list in descending order."
   ]
  },
  {
   "cell_type": "code",
   "execution_count": 87,
   "metadata": {},
   "outputs": [
    {
     "name": "stdout",
     "output_type": "stream",
     "text": [
      "[3, 10, 9, 8, 7, 6, 5, 4, 3, 2, 1]\n"
     ]
    }
   ],
   "source": [
    "lis = [1,2,3,4,5,6,7,8,9,10,3]\n",
    "lis.reverse()\n",
    "print(lis)"
   ]
  },
  {
   "cell_type": "markdown",
   "metadata": {},
   "source": [
    "13. Create a list of even numbers from 1 to 20."
   ]
  },
  {
   "cell_type": "code",
   "execution_count": 98,
   "metadata": {},
   "outputs": [
    {
     "name": "stdout",
     "output_type": "stream",
     "text": [
      "2 4 6 8 10 12 14 16 18 20 "
     ]
    }
   ],
   "source": [
    "lis=[1,2,3,4,5,6,7,8,9,10,11,12,13,14,15,16,17,18,19,20]\n",
    "for i in lis:\n",
    "    if i%2==0:\n",
    "        print(i,end=\" \")"
   ]
  },
  {
   "cell_type": "markdown",
   "metadata": {},
   "source": [
    "14. Create a list of odd numbers from 1 to 20."
   ]
  },
  {
   "cell_type": "code",
   "execution_count": 101,
   "metadata": {},
   "outputs": [
    {
     "name": "stdout",
     "output_type": "stream",
     "text": [
      "1 3 5 7 9 11 13 15 17 19 "
     ]
    }
   ],
   "source": [
    "lis=[1,2,3,4,5,6,7,8,9,10,11,12,13,14,15,16,17,18,19,20]\n",
    "for i in lis:\n",
    "    if i%2!=0:\n",
    "        print(i,end=\" \")"
   ]
  },
  {
   "cell_type": "markdown",
   "metadata": {},
   "source": [
    "15. Find the sum of all elements in a list."
   ]
  },
  {
   "cell_type": "code",
   "execution_count": 103,
   "metadata": {},
   "outputs": [
    {
     "name": "stdout",
     "output_type": "stream",
     "text": [
      "10\n"
     ]
    }
   ],
   "source": [
    "lis=[1,2,3,4]\n",
    "print(sum(lis))"
   ]
  },
  {
   "cell_type": "markdown",
   "metadata": {},
   "source": [
    "16. Find the maximum value in a list."
   ]
  },
  {
   "cell_type": "code",
   "execution_count": 104,
   "metadata": {},
   "outputs": [
    {
     "name": "stdout",
     "output_type": "stream",
     "text": [
      "4\n"
     ]
    }
   ],
   "source": [
    "lis=[1,2,3,4]\n",
    "print(max(lis))"
   ]
  },
  {
   "cell_type": "markdown",
   "metadata": {},
   "source": [
    "17. Find the minimum value in a list."
   ]
  },
  {
   "cell_type": "code",
   "execution_count": 105,
   "metadata": {},
   "outputs": [
    {
     "name": "stdout",
     "output_type": "stream",
     "text": [
      "1\n"
     ]
    }
   ],
   "source": [
    "lis=[1,2,3,4]\n",
    "print(min(lis))"
   ]
  },
  {
   "cell_type": "markdown",
   "metadata": {},
   "source": [
    "18. Create a list of squares of numbers from 1 to 10."
   ]
  },
  {
   "cell_type": "code",
   "execution_count": 108,
   "metadata": {},
   "outputs": [
    {
     "name": "stdout",
     "output_type": "stream",
     "text": [
      "[1, 4, 9, 16, 25, 36, 49, 64, 81]\n"
     ]
    }
   ],
   "source": [
    "lis=[]\n",
    "for i in range(1, 10):\n",
    "        lis.append(i*i)\n",
    "print(lis)"
   ]
  },
  {
   "cell_type": "markdown",
   "metadata": {},
   "source": [
    "19. Create a list of random numbers."
   ]
  },
  {
   "cell_type": "code",
   "execution_count": 112,
   "metadata": {},
   "outputs": [
    {
     "name": "stdout",
     "output_type": "stream",
     "text": [
      "[9, 2, 4, 8, 4, 5, 6, 2, 6, 7]\n"
     ]
    }
   ],
   "source": [
    "import random\n",
    "lis=[]\n",
    "for i in range(10):\n",
    "    lis.append(random.randint(1,10))\n",
    "print(lis)"
   ]
  },
  {
   "cell_type": "markdown",
   "metadata": {},
   "source": [
    "20. Remove duplicates from a list."
   ]
  },
  {
   "cell_type": "code",
   "execution_count": 114,
   "metadata": {},
   "outputs": [
    {
     "name": "stdout",
     "output_type": "stream",
     "text": [
      "[9, 2, 4, 8, 5, 6, 7]\n"
     ]
    }
   ],
   "source": [
    "lis=[9, 2, 4, 8, 4, 5, 6, 2, 6, 7]\n",
    "res=[]\n",
    "for i in lis:\n",
    "    if i not in res:\n",
    "        res.append(i)\n",
    "print(res)"
   ]
  },
  {
   "cell_type": "markdown",
   "metadata": {},
   "source": [
    "21. Find the common elements between two lists."
   ]
  },
  {
   "cell_type": "code",
   "execution_count": 115,
   "metadata": {},
   "outputs": [
    {
     "name": "stdout",
     "output_type": "stream",
     "text": [
      "[9, 8, 5, 6, 6, 7]\n"
     ]
    }
   ],
   "source": [
    "lis=[9, 2, 4, 8, 4, 5, 6, 2, 6, 7]\n",
    "jkl=[5,6,7,8,9]\n",
    "res=[]\n",
    "for i in lis:\n",
    "    if i in jkl:\n",
    "        res.append(i)\n",
    "print(res)"
   ]
  },
  {
   "cell_type": "markdown",
   "metadata": {},
   "source": [
    "22. Find the difference between two lists."
   ]
  },
  {
   "cell_type": "code",
   "execution_count": 116,
   "metadata": {},
   "outputs": [
    {
     "name": "stdout",
     "output_type": "stream",
     "text": [
      "[2, 4, 4, 2]\n"
     ]
    }
   ],
   "source": [
    "lis=[9, 2, 4, 8, 4, 5, 6, 2, 6, 7]\n",
    "jkl=[5,6,7,8,9]\n",
    "res=[]\n",
    "for i in lis:\n",
    "    if i not in jkl:\n",
    "        res.append(i)\n",
    "print(res)"
   ]
  },
  {
   "cell_type": "markdown",
   "metadata": {},
   "source": [
    "23. Merge two lists."
   ]
  },
  {
   "cell_type": "code",
   "execution_count": 118,
   "metadata": {},
   "outputs": [
    {
     "name": "stdout",
     "output_type": "stream",
     "text": [
      "[9, 2, 4, 8, 4, 5, 6, 7, 8, 9]\n"
     ]
    }
   ],
   "source": [
    "lis=[9, 2, 4, 8, 4]\n",
    "jkl=[5, 6, 7, 8, 9]\n",
    "print(lis+jkl)"
   ]
  },
  {
   "cell_type": "markdown",
   "metadata": {},
   "source": [
    "24. Multiply all elements in a list by 2."
   ]
  },
  {
   "cell_type": "code",
   "execution_count": 121,
   "metadata": {},
   "outputs": [
    {
     "name": "stdout",
     "output_type": "stream",
     "text": [
      "18\n",
      "4\n",
      "8\n",
      "16\n",
      "8\n"
     ]
    }
   ],
   "source": [
    "lis=[9, 2, 4, 8, 4]\n",
    "for i in range(len(lis)):\n",
    "    print(lis[i]*2)"
   ]
  },
  {
   "cell_type": "markdown",
   "metadata": {},
   "source": [
    "25. Filter out all even numbers from a list."
   ]
  },
  {
   "cell_type": "code",
   "execution_count": 124,
   "metadata": {},
   "outputs": [
    {
     "name": "stdout",
     "output_type": "stream",
     "text": [
      "[2, 4, 8, 4]\n"
     ]
    }
   ],
   "source": [
    "lis=[9, 2, 4, 8, 4]\n",
    "res=[]\n",
    "for i in range(len(lis)):\n",
    "    if lis[i]%2==0:\n",
    "        res.append(lis[i])\n",
    "print(res)"
   ]
  },
  {
   "cell_type": "markdown",
   "metadata": {},
   "source": [
    "26. Convert a list of strings to a list of integers."
   ]
  },
  {
   "cell_type": "code",
   "execution_count": 2,
   "metadata": {},
   "outputs": [
    {
     "name": "stdout",
     "output_type": "stream",
     "text": [
      "Modified list is:  [1, -4, 3, -6, 7]\n"
     ]
    }
   ],
   "source": [
    "lis = ['1', '-4', '3', '-6', '7']\n",
    "#eval is a function in Python converts the argument to an integer.\n",
    "res = [eval(i) for i in lis]\n",
    "print(\"Modified list is: \", res)"
   ]
  },
  {
   "cell_type": "markdown",
   "metadata": {},
   "source": [
    "27. Convert a list of integers to a list of strings."
   ]
  },
  {
   "cell_type": "code",
   "execution_count": 4,
   "metadata": {},
   "outputs": [
    {
     "name": "stdout",
     "output_type": "stream",
     "text": [
      "Modified list is:  ['1', '-4', '3', '-6', '7']\n"
     ]
    }
   ],
   "source": [
    "lis = [1, -4, 3, -6, 7]\n",
    "#str is a function in Python converts the argument to an string.\n",
    "res = [str(i) for i in lis]\n",
    "print(\"Modified list is: \", res)"
   ]
  },
  {
   "cell_type": "markdown",
   "metadata": {},
   "source": [
    "28. Flatten a nested list."
   ]
  },
  {
   "cell_type": "code",
   "execution_count": 7,
   "metadata": {},
   "outputs": [
    {
     "name": "stdout",
     "output_type": "stream",
     "text": [
      "[1, 2, 3, 4, 5, 6, 7, 8, 9]\n"
     ]
    }
   ],
   "source": [
    "import itertools\n",
    "list2d = [[1,2,3], [4,5,6], [7], [8,9]]\n",
    "# you can use itertools.chain.from_iterable() which doesn't require unpacking the list with the * operator:\n",
    "merged = list(itertools.chain.from_iterable(list2d))\n",
    "print(merged)"
   ]
  },
  {
   "cell_type": "markdown",
   "metadata": {},
   "source": [
    "29. Create a list of the first 10 Fibonacci numbers."
   ]
  },
  {
   "cell_type": "code",
   "execution_count": 14,
   "metadata": {},
   "outputs": [
    {
     "name": "stdout",
     "output_type": "stream",
     "text": [
      "[0, 1, 1, 2, 3, 5, 8, 13, 21, 34]\n"
     ]
    }
   ],
   "source": [
    "lis=[]\n",
    "a=0\n",
    "b=1\n",
    "lis.append(a)\n",
    "lis.append(b)\n",
    "\n",
    "for i in range(2,10):\n",
    "    c=a+b\n",
    "    lis.append(c)\n",
    "    a=b\n",
    "    b=c\n",
    "print(lis)"
   ]
  },
  {
   "cell_type": "markdown",
   "metadata": {},
   "source": [
    "30. Check if a list is sorted."
   ]
  },
  {
   "cell_type": "code",
   "execution_count": 21,
   "metadata": {},
   "outputs": [
    {
     "name": "stdout",
     "output_type": "stream",
     "text": [
      "yes\n"
     ]
    }
   ],
   "source": [
    "lis=[1,2,3,4]\n",
    "if sorted(lis)==lis:\n",
    "    print(\"yes\")\n",
    "else:\n",
    "    print(\"no\")"
   ]
  },
  {
   "cell_type": "markdown",
   "metadata": {},
   "source": [
    "31. Rotate a list to the left by `n` positions."
   ]
  },
  {
   "cell_type": "code",
   "execution_count": 1,
   "metadata": {},
   "outputs": [
    {
     "name": "stdout",
     "output_type": "stream",
     "text": [
      "[3, 4, 5, 6, 1, 2]\n"
     ]
    }
   ],
   "source": [
    "lis=[1,2,3,4,5,6]\n",
    "pos=2\n",
    "lot=lis[pos:len(lis)]+lis[0:pos]\n",
    "print(lot)"
   ]
  },
  {
   "cell_type": "markdown",
   "metadata": {},
   "source": [
    "32. Rotate a list to the right by `n` positions."
   ]
  },
  {
   "cell_type": "code",
   "execution_count": 3,
   "metadata": {},
   "outputs": [
    {
     "name": "stdout",
     "output_type": "stream",
     "text": [
      "[5, 6, 1, 2, 3, 4]\n"
     ]
    }
   ],
   "source": [
    "# Python program to right rotate\n",
    "# a list by n using list slicing\n",
    "n = 2\n",
    "\n",
    "list_1 = [1, 2, 3, 4, 5, 6]\n",
    "list_1 = list_1[-n:] + list_1[:-n]\n",
    "print(list_1)"
   ]
  },
  {
   "cell_type": "markdown",
   "metadata": {},
   "source": [
    "33. Create a list of prime numbers up to 50."
   ]
  },
  {
   "cell_type": "code",
   "execution_count": 2,
   "metadata": {},
   "outputs": [
    {
     "name": "stdout",
     "output_type": "stream",
     "text": [
      "Prime numbers between 0 and 50 are:\n",
      "[2, 3, 5, 7, 11, 13, 17, 19, 23, 29, 31, 37, 41, 43, 47]\n"
     ]
    }
   ],
   "source": [
    "# A prime number is divisible only by 1 and the number itself. \n",
    "# Example:\n",
    "# 4 is divisible by one and also divisible by 2, so 4 is not a PRIME number.\n",
    "lis=[]\n",
    "# Python program to display all the prime numbers within an interval\n",
    "lower = 0\n",
    "upper = 50\n",
    "\n",
    "print(\"Prime numbers between\", lower, \"and\", upper, \"are:\")\n",
    "\n",
    "for num in range(lower, upper + 1):\n",
    "       if num == 0 or num == 1:\n",
    "            continue\n",
    "       else:\n",
    "            for i in range(2, num):\n",
    "                # print(\"num: \",num)\n",
    "                # print(\"i: \",i)\n",
    "                if (num % i) == 0:\n",
    "                    break\n",
    "            else:                       #else block is part of for loop, if break happen completely exists from for loop\n",
    "                # print(\"ELSE: \\n\",num)\n",
    "                lis.append(num)\n",
    "                # print(\"\\n\")\n",
    "\n",
    "print(lis)"
   ]
  },
  {
   "cell_type": "markdown",
   "metadata": {},
   "source": [
    "34. Split a list into chunks of size `n`."
   ]
  },
  {
   "cell_type": "code",
   "execution_count": 43,
   "metadata": {},
   "outputs": [
    {
     "name": "stdout",
     "output_type": "stream",
     "text": [
      "[[1, 2], [3, 4], [5, 6], [7, 8], [9, 10]]\n"
     ]
    }
   ],
   "source": [
    "l=[1,2,3,4,5,6,7,8,9,10]\n",
    "x=[]\n",
    "n=2\n",
    "for i in range(0, len(l), n): \n",
    "    x.append(l[i:i + n])\n",
    "print(x)"
   ]
  },
  {
   "cell_type": "markdown",
   "metadata": {},
   "source": [
    "35. Find the second largest number in a list."
   ]
  },
  {
   "cell_type": "code",
   "execution_count": 4,
   "metadata": {},
   "outputs": [
    {
     "name": "stdout",
     "output_type": "stream",
     "text": [
      "9\n"
     ]
    }
   ],
   "source": [
    "l=[10,9,8,7,6,5,4,3,2,1]\n",
    "print(sorted(l)[-2])"
   ]
  },
  {
   "cell_type": "markdown",
   "metadata": {},
   "source": [
    "36. Replace every element in a list with its square."
   ]
  },
  {
   "cell_type": "code",
   "execution_count": 49,
   "metadata": {},
   "outputs": [
    {
     "name": "stdout",
     "output_type": "stream",
     "text": [
      "[1, 4, 9, 16]\n"
     ]
    }
   ],
   "source": [
    "import math\n",
    "l=[1,2,3,4]\n",
    "l=[int(math.pow(i,2)) for i in l]\n",
    "print(l)"
   ]
  },
  {
   "cell_type": "markdown",
   "metadata": {},
   "source": [
    "37. Convert a list to a dictionary where list elements become keys and their\n",
    "indices become values."
   ]
  },
  {
   "cell_type": "code",
   "execution_count": 54,
   "metadata": {},
   "outputs": [
    {
     "name": "stdout",
     "output_type": "stream",
     "text": [
      "{'a': 0, 'b': 1, 'c': 2, 'd': 3, 'e': 4}\n"
     ]
    }
   ],
   "source": [
    "sample_list = ['a', 'b', 'c', 'd', 'e']\n",
    "result_dict = {value: index for index, value in enumerate(sample_list)}\n",
    "print(result_dict)"
   ]
  },
  {
   "cell_type": "markdown",
   "metadata": {},
   "source": [
    "38. Shuffle the elements of a list randomly."
   ]
  },
  {
   "cell_type": "code",
   "execution_count": 60,
   "metadata": {},
   "outputs": [
    {
     "name": "stdout",
     "output_type": "stream",
     "text": [
      "[3, 1, 2, 4]\n"
     ]
    }
   ],
   "source": [
    "from random import shuffle\n",
    "l=[1,2,3,4]\n",
    "shuffle(l)\n",
    "print(l)"
   ]
  },
  {
   "cell_type": "markdown",
   "metadata": {},
   "source": [
    "39. Create a list of the first 10 factorial numbers."
   ]
  },
  {
   "cell_type": "code",
   "execution_count": 6,
   "metadata": {},
   "outputs": [
    {
     "name": "stdout",
     "output_type": "stream",
     "text": [
      "List of the first 10 factorial numbers: [1, 1, 2, 6, 24, 120, 720, 5040, 40320, 362880]\n"
     ]
    }
   ],
   "source": [
    "# Function to calculate factorial\n",
    "def factorial(n):\n",
    "    if n == 0 or n == 1:\n",
    "        return 1\n",
    "    else:\n",
    "        return n * factorial(n - 1)\n",
    "\n",
    "# Create a list of the first 10 factorial numbers\n",
    "factorial_numbers = [factorial(i) for i in range(10)]\n",
    "\n",
    "# Print the list of factorial numbers\n",
    "print(\"List of the first 10 factorial numbers:\", factorial_numbers)"
   ]
  },
  {
   "cell_type": "markdown",
   "metadata": {},
   "source": [
    "40. Check if two lists have at least one element in common."
   ]
  },
  {
   "cell_type": "code",
   "execution_count": 77,
   "metadata": {},
   "outputs": [
    {
     "name": "stdout",
     "output_type": "stream",
     "text": [
      "No\n",
      "No\n",
      "No\n",
      "Yes\n"
     ]
    }
   ],
   "source": [
    "l1=[1,2,3,4]\n",
    "l2=[4,5,6,7]\n",
    "for i in l1:\n",
    "    if i in l2:\n",
    "        print(\"Yes\")\n",
    "    else:\n",
    "        print(\"No\")"
   ]
  },
  {
   "cell_type": "markdown",
   "metadata": {},
   "source": [
    "41. Remove all elements from a list."
   ]
  },
  {
   "cell_type": "code",
   "execution_count": 78,
   "metadata": {},
   "outputs": [
    {
     "name": "stdout",
     "output_type": "stream",
     "text": [
      "None\n"
     ]
    }
   ],
   "source": [
    "l=[1,2,3,4]\n",
    "print(l.clear())"
   ]
  },
  {
   "cell_type": "markdown",
   "metadata": {},
   "source": [
    "42. Replace negative numbers in a list with 0."
   ]
  },
  {
   "cell_type": "code",
   "execution_count": 81,
   "metadata": {},
   "outputs": [
    {
     "name": "stdout",
     "output_type": "stream",
     "text": [
      "[0, 0, 0, 1, 0, 7]\n"
     ]
    }
   ],
   "source": [
    "l=[-2,-1,0,1,-3,7]\n",
    "for i in range(0,len(l)):\n",
    "    if l[i]<0:\n",
    "        l[i]=0\n",
    "print(l)"
   ]
  },
  {
   "cell_type": "markdown",
   "metadata": {},
   "source": [
    "43. Convert a string into a list of words."
   ]
  },
  {
   "cell_type": "code",
   "execution_count": 83,
   "metadata": {},
   "outputs": [
    {
     "name": "stdout",
     "output_type": "stream",
     "text": [
      "['Welcome', 'to', 'the', 'pwskills']\n"
     ]
    }
   ],
   "source": [
    "l=\"Welcome to the pwskills\"\n",
    "print(list(l.split()))"
   ]
  },
  {
   "cell_type": "markdown",
   "metadata": {},
   "source": [
    "44. Convert a list of words into a string."
   ]
  },
  {
   "cell_type": "code",
   "execution_count": 89,
   "metadata": {},
   "outputs": [
    {
     "name": "stdout",
     "output_type": "stream",
     "text": [
      "Welcome to the pwskills\n"
     ]
    }
   ],
   "source": [
    "l=['Welcome', 'to', 'the', 'pwskills']\n",
    "str=\" \"\n",
    "print(str.join(l))"
   ]
  },
  {
   "cell_type": "markdown",
   "metadata": {},
   "source": [
    "45. Create a list of the first `n` powers of 2."
   ]
  },
  {
   "cell_type": "code",
   "execution_count": 92,
   "metadata": {},
   "outputs": [
    {
     "name": "stdout",
     "output_type": "stream",
     "text": [
      "[1, 4, 9, 16, 25]\n"
     ]
    }
   ],
   "source": [
    "l=[1,2,3,4,5]\n",
    "m=[]\n",
    "for i in range(1,len(l)+1):\n",
    "    m.append(i*i)\n",
    "print(m)"
   ]
  },
  {
   "cell_type": "markdown",
   "metadata": {},
   "source": [
    "46. Find the longest string in a list of strings."
   ]
  },
  {
   "cell_type": "code",
   "execution_count": 100,
   "metadata": {},
   "outputs": [
    {
     "name": "stdout",
     "output_type": "stream",
     "text": [
      "bcdefg\n"
     ]
    }
   ],
   "source": [
    "a_list=['abc','bcd','bcdefg','abba','cddc','opq']\n",
    "\n",
    "max = a_list[0]\n",
    "\n",
    "for i in a_list[1:]:\n",
    "    if len(i)>len(max):\n",
    "        max = i\n",
    "print(max)"
   ]
  },
  {
   "cell_type": "markdown",
   "metadata": {},
   "source": [
    "47. Find the shortest string in a list of strings."
   ]
  },
  {
   "cell_type": "code",
   "execution_count": 101,
   "metadata": {},
   "outputs": [
    {
     "name": "stdout",
     "output_type": "stream",
     "text": [
      "abc\n"
     ]
    }
   ],
   "source": [
    "a_list=['abc','bcd','bcdefg','abba','cddc','opq']\n",
    "\n",
    "max = a_list[0]\n",
    "\n",
    "for i in a_list[1:]:\n",
    "    if len(i)<len(max):\n",
    "        max = i\n",
    "print(max)"
   ]
  },
  {
   "cell_type": "markdown",
   "metadata": {},
   "source": [
    "48. Create a list of the first `n` triangular numbers."
   ]
  },
  {
   "cell_type": "code",
   "execution_count": 103,
   "metadata": {},
   "outputs": [
    {
     "name": "stdout",
     "output_type": "stream",
     "text": [
      "1 3 6 10 15 "
     ]
    }
   ],
   "source": [
    "# The solution is based on the fact that i-th Triangular number is sum of first i natural numbers, i * (i + 1)/2\n",
    "n=5\n",
    "for i in range(1, n + 1):\n",
    "\tprint( i*(i+1)//2,end=' ')\n"
   ]
  },
  {
   "cell_type": "markdown",
   "metadata": {},
   "source": [
    "49. Check if a list contains another list as a subsequence."
   ]
  },
  {
   "cell_type": "code",
   "execution_count": 8,
   "metadata": {},
   "outputs": [
    {
     "name": "stdout",
     "output_type": "stream",
     "text": [
      "Original list : [9, 4, 5, 8, 10]\n",
      "Original sub list : [3, 8, 10]\n",
      "No, list is not subset of other.\n"
     ]
    }
   ],
   "source": [
    "# Python3 code to demonstrate\n",
    "# to check if list is subset of other\n",
    "# using all()\n",
    "\n",
    "# initializing list\n",
    "test_list = [9, 4, 5, 8, 10]\n",
    "sub_list = [3,8,10]\n",
    "\n",
    "# printing original lists\n",
    "print(\"Original list : \" + str(test_list))\n",
    "print(\"Original sub list : \" + str(sub_list))\n",
    "\n",
    "# using all() to\n",
    "# check subset of list\n",
    "flag = 0\n",
    "if(all(x in test_list for x in sub_list)):\n",
    "\tflag = 1\n",
    "\n",
    "# printing result\n",
    "if (flag):\n",
    "\tprint(\"Yes, list is subset of other.\")\n",
    "else:\n",
    "\tprint(\"No, list is not subset of other.\")\n"
   ]
  },
  {
   "cell_type": "markdown",
   "metadata": {},
   "source": [
    "50. Swap two elements in a list by their indices."
   ]
  },
  {
   "cell_type": "code",
   "execution_count": 2,
   "metadata": {},
   "outputs": [
    {
     "name": "stdout",
     "output_type": "stream",
     "text": [
      "[19, 65, 23, 90]\n"
     ]
    }
   ],
   "source": [
    "# Python3 program to swap elements at given positions\n",
    "\n",
    "# Swap function\n",
    "def swapPositions(list, pos1, pos2):\n",
    "\tlist[pos1], list[pos2] = list[pos2], list[pos1]\n",
    "\treturn list\n",
    "\n",
    "List = [23, 65, 19, 90]\n",
    "pos1, pos2 = 1, 3\n",
    "print(swapPositions(List, pos1-1, pos2-1))\n"
   ]
  },
  {
   "cell_type": "markdown",
   "metadata": {},
   "source": [
    "Tuple Based Practice Problem :"
   ]
  },
  {
   "cell_type": "markdown",
   "metadata": {},
   "source": [
    "1. Create a tuple with integers from 1 to 5."
   ]
  },
  {
   "cell_type": "code",
   "execution_count": 3,
   "metadata": {},
   "outputs": [
    {
     "data": {
      "text/plain": [
       "(1, 2, 3, 4, 5)"
      ]
     },
     "execution_count": 3,
     "metadata": {},
     "output_type": "execute_result"
    }
   ],
   "source": [
    "tup = (1,2,3,4,5)\n",
    "tup"
   ]
  },
  {
   "cell_type": "markdown",
   "metadata": {},
   "source": [
    "2. Access the third element of a tuple."
   ]
  },
  {
   "cell_type": "code",
   "execution_count": 4,
   "metadata": {},
   "outputs": [
    {
     "data": {
      "text/plain": [
       "3"
      ]
     },
     "execution_count": 4,
     "metadata": {},
     "output_type": "execute_result"
    }
   ],
   "source": [
    "tup = (1,2,3,4,5)\n",
    "tup[2]"
   ]
  },
  {
   "cell_type": "markdown",
   "metadata": {},
   "source": [
    "3. Find the length of a tuple without using the `len()` function."
   ]
  },
  {
   "cell_type": "code",
   "execution_count": 6,
   "metadata": {},
   "outputs": [
    {
     "name": "stdout",
     "output_type": "stream",
     "text": [
      "lenght of the tuple is: 5\n"
     ]
    }
   ],
   "source": [
    "tup = (1,2,3,4,5)\n",
    "count=0\n",
    "for i in tup:\n",
    "    count+=1\n",
    "print(\"lenght of the tuple is:\",count)"
   ]
  },
  {
   "cell_type": "markdown",
   "metadata": {},
   "source": [
    "4. Count the occurrences of an element in a tuple."
   ]
  },
  {
   "cell_type": "code",
   "execution_count": 13,
   "metadata": {},
   "outputs": [
    {
     "name": "stdout",
     "output_type": "stream",
     "text": [
      "occurences of an element 4 in a tuple:  2\n"
     ]
    }
   ],
   "source": [
    "tup = (1,2,3,4,4,5)\n",
    "print(\"occurences of an element 4 in a tuple: \",tup.count(4))\n"
   ]
  },
  {
   "cell_type": "markdown",
   "metadata": {},
   "source": [
    "5. Find the index of the first occurrence of an element in a tuple."
   ]
  },
  {
   "cell_type": "code",
   "execution_count": 14,
   "metadata": {},
   "outputs": [
    {
     "data": {
      "text/plain": [
       "3"
      ]
     },
     "execution_count": 14,
     "metadata": {},
     "output_type": "execute_result"
    }
   ],
   "source": [
    "tup = (1,2,3,4,4,5)\n",
    "tup.index(4)"
   ]
  },
  {
   "cell_type": "markdown",
   "metadata": {},
   "source": [
    "6. Check if an element exists in a tuple."
   ]
  },
  {
   "cell_type": "code",
   "execution_count": 15,
   "metadata": {},
   "outputs": [
    {
     "name": "stdout",
     "output_type": "stream",
     "text": [
      "No\n"
     ]
    }
   ],
   "source": [
    "tup = (1,2,3,4,4,5)\n",
    "if 9 in tup:\n",
    "    print(\"Yes\")\n",
    "else:\n",
    "    print(\"No\")"
   ]
  },
  {
   "cell_type": "markdown",
   "metadata": {},
   "source": [
    "7. Convert a tuple to a list."
   ]
  },
  {
   "cell_type": "code",
   "execution_count": 16,
   "metadata": {},
   "outputs": [
    {
     "data": {
      "text/plain": [
       "[1, 2, 3, 4, 4, 5]"
      ]
     },
     "execution_count": 16,
     "metadata": {},
     "output_type": "execute_result"
    }
   ],
   "source": [
    "tup = (1,2,3,4,4,5)\n",
    "list(tup)"
   ]
  },
  {
   "cell_type": "markdown",
   "metadata": {},
   "source": [
    "8. Convert a list to a tuple."
   ]
  },
  {
   "cell_type": "code",
   "execution_count": 17,
   "metadata": {},
   "outputs": [
    {
     "data": {
      "text/plain": [
       "(1, 2, 3, 4, 4, 5)"
      ]
     },
     "execution_count": 17,
     "metadata": {},
     "output_type": "execute_result"
    }
   ],
   "source": [
    "lis=[1, 2, 3, 4, 4, 5]\n",
    "tuple(lis)"
   ]
  },
  {
   "cell_type": "markdown",
   "metadata": {},
   "source": [
    "9. Unpack the elements of a tuple into variables."
   ]
  },
  {
   "cell_type": "code",
   "execution_count": 22,
   "metadata": {},
   "outputs": [
    {
     "name": "stdout",
     "output_type": "stream",
     "text": [
      "1\n",
      "2\n",
      "3\n",
      "4\n",
      "4\n",
      "5\n"
     ]
    }
   ],
   "source": [
    "tup = (1,2,3,4,4,5)\n",
    "a,b,c,d,e,f = tup\n",
    "print(a)\n",
    "print(b)\n",
    "print(c)\n",
    "print(d)\n",
    "print(e)\n",
    "print(f)"
   ]
  },
  {
   "cell_type": "markdown",
   "metadata": {},
   "source": [
    "10. Create a tuple of even numbers from 1 to 10."
   ]
  },
  {
   "cell_type": "code",
   "execution_count": 29,
   "metadata": {},
   "outputs": [
    {
     "name": "stdout",
     "output_type": "stream",
     "text": [
      "(2, 4, 6, 8, 10)\n"
     ]
    }
   ],
   "source": [
    "tup=()\n",
    "lis=list(tup)\n",
    "for i in range(1,11):\n",
    "    if i%2==0:\n",
    "        lis.append(i)\n",
    "print(tuple(lis))"
   ]
  },
  {
   "cell_type": "markdown",
   "metadata": {},
   "source": [
    "11. Create a tuple of odd numbers from 1 to 10."
   ]
  },
  {
   "cell_type": "code",
   "execution_count": 30,
   "metadata": {},
   "outputs": [
    {
     "name": "stdout",
     "output_type": "stream",
     "text": [
      "(1, 3, 5, 7, 9)\n"
     ]
    }
   ],
   "source": [
    "tup=()\n",
    "lis=list(tup)\n",
    "for i in range(1,11):\n",
    "    if i%2!=0:\n",
    "        lis.append(i)\n",
    "print(tuple(lis))"
   ]
  },
  {
   "cell_type": "markdown",
   "metadata": {},
   "source": [
    "12. Concatenate two tuples."
   ]
  },
  {
   "cell_type": "code",
   "execution_count": 31,
   "metadata": {},
   "outputs": [
    {
     "data": {
      "text/plain": [
       "(1, 2, 2, 3)"
      ]
     },
     "execution_count": 31,
     "metadata": {},
     "output_type": "execute_result"
    }
   ],
   "source": [
    "tup=(1,2)\n",
    "tup2=(2,3)\n",
    "tup+tup2"
   ]
  },
  {
   "cell_type": "markdown",
   "metadata": {},
   "source": [
    "13. Repeat a tuple three times."
   ]
  },
  {
   "cell_type": "code",
   "execution_count": 32,
   "metadata": {},
   "outputs": [
    {
     "data": {
      "text/plain": [
       "(7, 9, 7, 9, 7, 9)"
      ]
     },
     "execution_count": 32,
     "metadata": {},
     "output_type": "execute_result"
    }
   ],
   "source": [
    "tup=(7,9)\n",
    "tup*3"
   ]
  },
  {
   "cell_type": "markdown",
   "metadata": {},
   "source": [
    "14. Check if a tuple is empty."
   ]
  },
  {
   "cell_type": "code",
   "execution_count": 37,
   "metadata": {},
   "outputs": [
    {
     "name": "stdout",
     "output_type": "stream",
     "text": [
      "Not Empty\n"
     ]
    }
   ],
   "source": [
    "tup=(1,2)\n",
    "if bool(tup):\n",
    "    print(\"Not Empty\")\n",
    "else:\n",
    "    print(\"Empty\")"
   ]
  },
  {
   "cell_type": "markdown",
   "metadata": {},
   "source": [
    "15. Create a nested tuple."
   ]
  },
  {
   "cell_type": "code",
   "execution_count": 39,
   "metadata": {},
   "outputs": [
    {
     "data": {
      "text/plain": [
       "((1, 2, 3, 4), (5, 6, 7, 8, 9))"
      ]
     },
     "execution_count": 39,
     "metadata": {},
     "output_type": "execute_result"
    }
   ],
   "source": [
    "tup=((1,2,3,4),(5,6,7,8,9))\n",
    "tup"
   ]
  },
  {
   "cell_type": "markdown",
   "metadata": {},
   "source": [
    "16. Access the first element of a nested tuple."
   ]
  },
  {
   "cell_type": "code",
   "execution_count": 9,
   "metadata": {},
   "outputs": [
    {
     "data": {
      "text/plain": [
       "(1, 2, 3, 4)"
      ]
     },
     "execution_count": 9,
     "metadata": {},
     "output_type": "execute_result"
    }
   ],
   "source": [
    "tup=((1,2,3,4),(5,6,7,8,9))\n",
    "tup[0]"
   ]
  },
  {
   "cell_type": "markdown",
   "metadata": {},
   "source": [
    "17. Create a tuple with a single element."
   ]
  },
  {
   "cell_type": "code",
   "execution_count": 43,
   "metadata": {},
   "outputs": [
    {
     "data": {
      "text/plain": [
       "(2,)"
      ]
     },
     "execution_count": 43,
     "metadata": {},
     "output_type": "execute_result"
    }
   ],
   "source": [
    "tup=(2,)\n",
    "tup"
   ]
  },
  {
   "cell_type": "markdown",
   "metadata": {},
   "source": [
    "18. Compare two tuples."
   ]
  },
  {
   "cell_type": "code",
   "execution_count": 45,
   "metadata": {},
   "outputs": [
    {
     "name": "stdout",
     "output_type": "stream",
     "text": [
      "Equal\n"
     ]
    }
   ],
   "source": [
    "tup1=(1,2,3,4)\n",
    "tup2=(1,2,3,4)\n",
    "if tup1 == tup2:\n",
    "    print(\"Equal\")\n",
    "else:\n",
    "    print(\"Not Equal\")"
   ]
  },
  {
   "cell_type": "markdown",
   "metadata": {},
   "source": [
    "19. Delete a tuple."
   ]
  },
  {
   "cell_type": "code",
   "execution_count": 48,
   "metadata": {},
   "outputs": [],
   "source": [
    "tup=(1,2)\n",
    "del tup"
   ]
  },
  {
   "cell_type": "markdown",
   "metadata": {},
   "source": [
    "20. Slice a tuple."
   ]
  },
  {
   "cell_type": "code",
   "execution_count": 58,
   "metadata": {},
   "outputs": [
    {
     "data": {
      "text/plain": [
       "(2, 3)"
      ]
     },
     "execution_count": 58,
     "metadata": {},
     "output_type": "execute_result"
    }
   ],
   "source": [
    "tup=(1,2,3,4)\n",
    "tup[1:3]"
   ]
  },
  {
   "cell_type": "markdown",
   "metadata": {},
   "source": [
    "21. Find the maximum value in a tuple."
   ]
  },
  {
   "cell_type": "code",
   "execution_count": 59,
   "metadata": {},
   "outputs": [
    {
     "data": {
      "text/plain": [
       "4"
      ]
     },
     "execution_count": 59,
     "metadata": {},
     "output_type": "execute_result"
    }
   ],
   "source": [
    "tup=(1,2,3,4)\n",
    "max(tup)"
   ]
  },
  {
   "cell_type": "markdown",
   "metadata": {},
   "source": [
    "22. Find the minimum value in a tuple."
   ]
  },
  {
   "cell_type": "code",
   "execution_count": 60,
   "metadata": {},
   "outputs": [
    {
     "data": {
      "text/plain": [
       "1"
      ]
     },
     "execution_count": 60,
     "metadata": {},
     "output_type": "execute_result"
    }
   ],
   "source": [
    "tup=(1,2,3,4)\n",
    "min(tup)"
   ]
  },
  {
   "cell_type": "markdown",
   "metadata": {},
   "source": [
    "23. Convert a string to a tuple of characters."
   ]
  },
  {
   "cell_type": "code",
   "execution_count": 61,
   "metadata": {},
   "outputs": [
    {
     "data": {
      "text/plain": [
       "('W', 'e', 'l', 'c', 'o', 'm', 'e')"
      ]
     },
     "execution_count": 61,
     "metadata": {},
     "output_type": "execute_result"
    }
   ],
   "source": [
    "string=\"Welcome\"\n",
    "tuple(string)"
   ]
  },
  {
   "cell_type": "markdown",
   "metadata": {},
   "source": [
    "24. Convert a tuple of characters to a string."
   ]
  },
  {
   "cell_type": "code",
   "execution_count": 64,
   "metadata": {},
   "outputs": [
    {
     "data": {
      "text/plain": [
       "'Welcome'"
      ]
     },
     "execution_count": 64,
     "metadata": {},
     "output_type": "execute_result"
    }
   ],
   "source": [
    "tup=('W', 'e', 'l', 'c', 'o', 'm', 'e')\n",
    "\"\".join(tup)"
   ]
  },
  {
   "cell_type": "markdown",
   "metadata": {},
   "source": [
    "25. Create a tuple from multiple data types."
   ]
  },
  {
   "cell_type": "code",
   "execution_count": 66,
   "metadata": {},
   "outputs": [
    {
     "data": {
      "text/plain": [
       "(1, 'a', 'string', 1.56, True)"
      ]
     },
     "execution_count": 66,
     "metadata": {},
     "output_type": "execute_result"
    }
   ],
   "source": [
    "tup=(1,'a',\"string\",1.56,True)\n",
    "tup"
   ]
  },
  {
   "cell_type": "markdown",
   "metadata": {},
   "source": [
    "26. Check if two tuples are identical."
   ]
  },
  {
   "cell_type": "code",
   "execution_count": 68,
   "metadata": {},
   "outputs": [
    {
     "name": "stdout",
     "output_type": "stream",
     "text": [
      "Not Identical\n"
     ]
    }
   ],
   "source": [
    "tup=(1,2,3,4)\n",
    "tup2=(1,2,3,'a')\n",
    "if tup==tup2:\n",
    "    print(\"Identical\")\n",
    "else:\n",
    "    print(\"Not Identical\")"
   ]
  },
  {
   "cell_type": "markdown",
   "metadata": {},
   "source": [
    "27. Sort the elements of a tuple."
   ]
  },
  {
   "cell_type": "code",
   "execution_count": 71,
   "metadata": {},
   "outputs": [
    {
     "data": {
      "text/plain": [
       "[1, 2, 3, 4]"
      ]
     },
     "execution_count": 71,
     "metadata": {},
     "output_type": "execute_result"
    }
   ],
   "source": [
    "tup=(4,3,2,1)\n",
    "sorted(tup)"
   ]
  },
  {
   "cell_type": "markdown",
   "metadata": {},
   "source": [
    "28. Convert a tuple of integers to a tuple of strings."
   ]
  },
  {
   "cell_type": "code",
   "execution_count": 78,
   "metadata": {},
   "outputs": [
    {
     "data": {
      "text/plain": [
       "('1', '2', '3', '4')"
      ]
     },
     "execution_count": 78,
     "metadata": {},
     "output_type": "execute_result"
    }
   ],
   "source": [
    "tup=(1,2,3,4)\n",
    "abc = tuple(str(it) for it in tup)\n",
    "abc"
   ]
  },
  {
   "cell_type": "markdown",
   "metadata": {},
   "source": [
    "29. Convert a tuple of strings to a tuple of integers."
   ]
  },
  {
   "cell_type": "code",
   "execution_count": 86,
   "metadata": {},
   "outputs": [
    {
     "name": "stdout",
     "output_type": "stream",
     "text": [
      "(11, 22, 33, 44)\n"
     ]
    }
   ],
   "source": [
    "tup=('11','22','33','44')\n",
    "io=[]\n",
    "for i in tup:\n",
    "    io.append(int(i))\n",
    "    \n",
    "print(tuple(io))"
   ]
  },
  {
   "cell_type": "markdown",
   "metadata": {},
   "source": [
    "30. Merge two tuples."
   ]
  },
  {
   "cell_type": "code",
   "execution_count": 87,
   "metadata": {},
   "outputs": [
    {
     "data": {
      "text/plain": [
       "(1, 2, 3, 4, 5, 6, 7, 8)"
      ]
     },
     "execution_count": 87,
     "metadata": {},
     "output_type": "execute_result"
    }
   ],
   "source": [
    "tup1=(1,2,3,4)\n",
    "tup2=(5,6,7,8)\n",
    "tup1+tup2"
   ]
  },
  {
   "cell_type": "markdown",
   "metadata": {},
   "source": [
    "31. Flatten a nested tuple."
   ]
  },
  {
   "cell_type": "code",
   "execution_count": 103,
   "metadata": {},
   "outputs": [
    {
     "name": "stdout",
     "output_type": "stream",
     "text": [
      "Flattened tuple: (1, 2, 3, 4, 5, 6, 7, 8)\n"
     ]
    }
   ],
   "source": [
    "# Recursive function to flatten a nested tuple\n",
    "def flatten_tuple(nested_tuple):\n",
    "    flattened = []\n",
    "    for item in nested_tuple:\n",
    "        if isinstance(item, tuple):\n",
    "            flattened.extend(flatten_tuple(item))\n",
    "        else:\n",
    "            flattened.append(item)\n",
    "    return flattened\n",
    "\n",
    "# Step 1: Create a nested tuple\n",
    "nested_tuple = ((1, 2), (3, 4, 5), (6, (7, 8)))\n",
    "\n",
    "# Step 2: Flatten the nested tuple\n",
    "flattened_tuple = tuple(flatten_tuple(nested_tuple))\n",
    "\n",
    "# Step 3: Print the flattened tuple\n",
    "print(\"Flattened tuple:\", flattened_tuple)"
   ]
  },
  {
   "cell_type": "markdown",
   "metadata": {},
   "source": [
    "32. Create a tuple of the first 5 prime numbers."
   ]
  },
  {
   "cell_type": "code",
   "execution_count": 11,
   "metadata": {},
   "outputs": [
    {
     "name": "stdout",
     "output_type": "stream",
     "text": [
      "Prime numbers between 0 and 11 are:\n",
      "(2, 3, 5, 7, 11)\n"
     ]
    }
   ],
   "source": [
    "# A prime number is divisible only by 1 and the number itself. \n",
    "# Example:\n",
    "# 4 is divisible by one and also divisible by 2, so 4 is not a PRIME number.\n",
    "lis=[]\n",
    "# Python program to display all the prime numbers within an interval\n",
    "lower = 0\n",
    "upper = 11\n",
    "print(\"Prime numbers between\", lower, \"and\", upper, \"are:\")\n",
    "\n",
    "for num in range(lower, upper + 1):\n",
    "       if num == 0 or num == 1:\n",
    "            continue\n",
    "       else:\n",
    "            for i in range(2, num):\n",
    "                # print(\"num: \",num)\n",
    "                # print(\"i: \",i)\n",
    "                if (num % i) == 0:\n",
    "                    break\n",
    "            else:                       #else block is part of for loop, if break happen completely exists from for loop\n",
    "                # print(\"ELSE: \\n\",num)\n",
    "                lis.append(num)\n",
    "                # print(\"\\n\")\n",
    "\n",
    "print(tuple(lis))"
   ]
  },
  {
   "cell_type": "markdown",
   "metadata": {},
   "source": [
    "33. Check if a tuple is a palindrome."
   ]
  },
  {
   "cell_type": "code",
   "execution_count": 8,
   "metadata": {},
   "outputs": [
    {
     "name": "stdout",
     "output_type": "stream",
     "text": [
      "not a palindrome\n"
     ]
    }
   ],
   "source": [
    "tup=(1,2,3,2,5)\n",
    "\n",
    "if tup == tup[::-1]:\n",
    "    print(\"palindrome\")\n",
    "else:\n",
    "    print(\"not a palindrome\")"
   ]
  },
  {
   "cell_type": "markdown",
   "metadata": {},
   "source": [
    "34. Create a tuple of squares of numbers from 1 to 5."
   ]
  },
  {
   "cell_type": "code",
   "execution_count": 16,
   "metadata": {},
   "outputs": [
    {
     "name": "stdout",
     "output_type": "stream",
     "text": [
      "Tuple of squares: (1, 4, 9, 16, 25)\n"
     ]
    }
   ],
   "source": [
    "# Create a tuple of squares using a list comprehension\n",
    "squares_tuple = tuple(x ** 2 for x in range(1, 6))\n",
    "\n",
    "# Print the tuple of squares\n",
    "print(\"Tuple of squares:\", squares_tuple)"
   ]
  },
  {
   "cell_type": "markdown",
   "metadata": {},
   "source": [
    "35. Filter out all even numbers from a tuple."
   ]
  },
  {
   "cell_type": "code",
   "execution_count": 17,
   "metadata": {},
   "outputs": [
    {
     "name": "stdout",
     "output_type": "stream",
     "text": [
      "Filtered tuple: (2, 4, 6, 8, 10)\n"
     ]
    }
   ],
   "source": [
    "# Create a tuple\n",
    "original_tuple = (1, 2, 3, 4, 5, 6, 7, 8, 9, 10)\n",
    "\n",
    "# Filter out even numbers using a list comprehension\n",
    "filtered_tuple = tuple(num for num in original_tuple if num % 2 == 0)\n",
    "\n",
    "# Print the filtered tuple\n",
    "print(\"Filtered tuple:\", filtered_tuple)"
   ]
  },
  {
   "cell_type": "markdown",
   "metadata": {},
   "source": [
    "36. Multiply all elements in a tuple by 2."
   ]
  },
  {
   "cell_type": "code",
   "execution_count": 19,
   "metadata": {},
   "outputs": [
    {
     "name": "stdout",
     "output_type": "stream",
     "text": [
      "Filtered tuple: (2, 4, 6, 8, 10, 12, 14, 16, 18, 20)\n"
     ]
    }
   ],
   "source": [
    "# Create a tuple\n",
    "original_tuple = (1, 2, 3, 4, 5, 6, 7, 8, 9, 10)\n",
    "\n",
    "# Multiply all numbers with 2 using a list comprehension\n",
    "filtered_tuple = tuple(num*2 for num in original_tuple)\n",
    "\n",
    "# Print the filtered tuple\n",
    "print(\"Filtered tuple:\", filtered_tuple)"
   ]
  },
  {
   "cell_type": "markdown",
   "metadata": {},
   "source": [
    "37. Create a tuple of random numbers."
   ]
  },
  {
   "cell_type": "code",
   "execution_count": 23,
   "metadata": {},
   "outputs": [
    {
     "data": {
      "text/plain": [
       "(1, 5, 4, 4, 4, 10, 1, 4, 8, 8)"
      ]
     },
     "execution_count": 23,
     "metadata": {},
     "output_type": "execute_result"
    }
   ],
   "source": [
    "import random\n",
    "\n",
    "# Create a tuple of random numbers using a list comprehension\n",
    "random_tuple = tuple(random.randint(1,10) for _ in range(10)) # Generating 10 random numbers between 1 and 100\n",
    "\n",
    "# Print the tuple of random numbers\n",
    "random_tuple"
   ]
  },
  {
   "cell_type": "markdown",
   "metadata": {},
   "source": [
    "38. Check if a tuple is sorted."
   ]
  },
  {
   "cell_type": "code",
   "execution_count": 27,
   "metadata": {},
   "outputs": [
    {
     "name": "stdout",
     "output_type": "stream",
     "text": [
      "No\n"
     ]
    }
   ],
   "source": [
    "tup=(5,1,2,3,4)\n",
    "\n",
    "if sorted(tup)==tup:\n",
    "    print(\"Yes\")\n",
    "else:\n",
    "    print(\"No\")"
   ]
  },
  {
   "cell_type": "markdown",
   "metadata": {},
   "source": [
    "39. Rotate a tuple to the left by `n` positions."
   ]
  },
  {
   "cell_type": "code",
   "execution_count": 12,
   "metadata": {},
   "outputs": [
    {
     "data": {
      "text/plain": [
       "(3, 4, 5, 1, 2)"
      ]
     },
     "execution_count": 12,
     "metadata": {},
     "output_type": "execute_result"
    }
   ],
   "source": [
    "tup=(1,2,3,4,5)\n",
    "n=2\n",
    "tup=tup[n:] + tup[:n]\n",
    "tup"
   ]
  },
  {
   "cell_type": "markdown",
   "metadata": {},
   "source": [
    "40. Rotate a tuple to the right by `n` positions."
   ]
  },
  {
   "cell_type": "code",
   "execution_count": 13,
   "metadata": {},
   "outputs": [
    {
     "data": {
      "text/plain": [
       "(4, 5, 1, 2, 3)"
      ]
     },
     "execution_count": 13,
     "metadata": {},
     "output_type": "execute_result"
    }
   ],
   "source": [
    "tup=(1,2,3,4,5)\n",
    "n=2\n",
    "tup=tup[-n:] + tup[:-n]\n",
    "tup"
   ]
  },
  {
   "cell_type": "markdown",
   "metadata": {},
   "source": [
    "41. Create a tuple of the first 5 Fibonacci numbers."
   ]
  },
  {
   "cell_type": "code",
   "execution_count": 15,
   "metadata": {},
   "outputs": [
    {
     "name": "stdout",
     "output_type": "stream",
     "text": [
      "(0, 1, 1, 2, 3)\n"
     ]
    }
   ],
   "source": [
    "lis=[]\n",
    "a=0\n",
    "b=1\n",
    "lis.append(a)\n",
    "lis.append(b)\n",
    "\n",
    "for i in range(2,5):\n",
    "    c=a+b\n",
    "    lis.append(c)\n",
    "    a=b\n",
    "    b=c\n",
    "print(tuple(lis))"
   ]
  },
  {
   "cell_type": "markdown",
   "metadata": {},
   "source": [
    "42. Create a tuple from user input."
   ]
  },
  {
   "cell_type": "code",
   "execution_count": 38,
   "metadata": {},
   "outputs": [
    {
     "data": {
      "text/plain": [
       "('1', '2', '3', '4')"
      ]
     },
     "execution_count": 38,
     "metadata": {},
     "output_type": "execute_result"
    }
   ],
   "source": [
    "user_input=tuple(input())\n",
    "user_input"
   ]
  },
  {
   "cell_type": "markdown",
   "metadata": {},
   "source": [
    "43. Swap two elements in a tuple."
   ]
  },
  {
   "cell_type": "code",
   "execution_count": 41,
   "metadata": {},
   "outputs": [
    {
     "name": "stdout",
     "output_type": "stream",
     "text": [
      "(19, 65, 23, 90)\n"
     ]
    }
   ],
   "source": [
    "# Python3 program to swap elements at given positions\n",
    "\n",
    "# Swap function\n",
    "def swapPositions(list, pos1, pos2):\n",
    "\tlist[pos1], list[pos2] = list[pos2], list[pos1]\n",
    "\treturn list\n",
    "\n",
    "List = [23, 65, 19, 90]\n",
    "pos1, pos2 = 1, 3\n",
    "swapPositions(List, pos1-1, pos2-1)\n",
    "print(tuple(List))"
   ]
  },
  {
   "cell_type": "markdown",
   "metadata": {},
   "source": [
    "44. Reverse the elements of a tuple."
   ]
  },
  {
   "cell_type": "code",
   "execution_count": 42,
   "metadata": {},
   "outputs": [
    {
     "name": "stdout",
     "output_type": "stream",
     "text": [
      "(4, 3, 2, 1)\n"
     ]
    }
   ],
   "source": [
    "tup=(1,2,3,4)\n",
    "print(tup[::-1])"
   ]
  },
  {
   "cell_type": "markdown",
   "metadata": {},
   "source": [
    "45. Create a tuple of the first `n` powers of 2."
   ]
  },
  {
   "cell_type": "code",
   "execution_count": 19,
   "metadata": {},
   "outputs": [
    {
     "name": "stdout",
     "output_type": "stream",
     "text": [
      "(1, 2, 4, 8, 16)\n"
     ]
    }
   ],
   "source": [
    "n=5\n",
    "m=[]\n",
    "for i in range(0,n):\n",
    "    m.append(2**i)\n",
    "print(tuple(m))"
   ]
  },
  {
   "cell_type": "markdown",
   "metadata": {},
   "source": [
    "46. Find the longest string in a tuple of strings."
   ]
  },
  {
   "cell_type": "code",
   "execution_count": 46,
   "metadata": {},
   "outputs": [
    {
     "name": "stdout",
     "output_type": "stream",
     "text": [
      "bcdefg\n"
     ]
    }
   ],
   "source": [
    "a_list=('abc','bcd','bcdefg','abba','cddc','opq')\n",
    "\n",
    "max = a_list[0]\n",
    "\n",
    "for i in a_list[1:]:\n",
    "    if len(i)>len(max):\n",
    "        max = i\n",
    "print(max)"
   ]
  },
  {
   "cell_type": "markdown",
   "metadata": {},
   "source": [
    "47. Find the shortest string in a tuple of strings."
   ]
  },
  {
   "cell_type": "code",
   "execution_count": 47,
   "metadata": {},
   "outputs": [
    {
     "name": "stdout",
     "output_type": "stream",
     "text": [
      "abc\n"
     ]
    }
   ],
   "source": [
    "a_list=('abc','bcd','bcdefg','abba','cddc','opq')\n",
    "\n",
    "max = a_list[0]\n",
    "\n",
    "for i in a_list[1:]:\n",
    "    if len(i)<len(max):\n",
    "        max = i\n",
    "print(max)"
   ]
  },
  {
   "cell_type": "markdown",
   "metadata": {},
   "source": [
    "48. Create a tuple of the first `n` triangular numbers."
   ]
  },
  {
   "cell_type": "code",
   "execution_count": 49,
   "metadata": {},
   "outputs": [
    {
     "name": "stdout",
     "output_type": "stream",
     "text": [
      "(1, 3, 6, 10, 15)\n"
     ]
    }
   ],
   "source": [
    "# The solution is based on the fact that i-th Triangular number is sum of first i natural numbers, i * (i + 1)/2\n",
    "n=5\n",
    "lis=[]\n",
    "for i in range(1, n + 1):\n",
    "\tlis.append(i*(i+1)//2)\n",
    "print(tuple(lis))"
   ]
  },
  {
   "cell_type": "markdown",
   "metadata": {},
   "source": [
    "49. Check if a tuple contains another tuple as a subsequence."
   ]
  },
  {
   "cell_type": "code",
   "execution_count": 51,
   "metadata": {},
   "outputs": [
    {
     "name": "stdout",
     "output_type": "stream",
     "text": [
      "Original list : (9, 4, 5, 8, 10)\n",
      "Original sub list : (4, 5, 8)\n",
      "Yes, list is subset of other.\n"
     ]
    }
   ],
   "source": [
    "# Python3 code to demonstrate\n",
    "# to check if list is subset of other\n",
    "# using all()\n",
    "\n",
    "# initializing list\n",
    "test_list = (9, 4, 5, 8, 10)\n",
    "sub_list = (4, 5, 8)\n",
    "\n",
    "# printing original lists\n",
    "print(\"Original list : \" + str(test_list))\n",
    "print(\"Original sub list : \" + str(sub_list))\n",
    "\n",
    "# using all() to\n",
    "# check subset of list\n",
    "flag = 0\n",
    "if(all(x in test_list for x in sub_list)):\n",
    "\tflag = 1\n",
    "\n",
    "# printing result\n",
    "if (flag):\n",
    "\tprint(\"Yes, list is subset of other.\")\n",
    "else:\n",
    "\tprint(\"No, list is not subset of other.\")\n"
   ]
  },
  {
   "cell_type": "markdown",
   "metadata": {},
   "source": [
    "50. Create a tuple of alternating 1s and 0s of length `n`."
   ]
  },
  {
   "cell_type": "code",
   "execution_count": 52,
   "metadata": {},
   "outputs": [
    {
     "data": {
      "text/plain": [
       "(0, 1, 0, 1)"
      ]
     },
     "execution_count": 52,
     "metadata": {},
     "output_type": "execute_result"
    }
   ],
   "source": [
    "tup=(1,2,3,4)\n",
    "ra = tuple(i%2 for i in range(0, len(tup)))\n",
    "ra"
   ]
  },
  {
   "cell_type": "markdown",
   "metadata": {},
   "source": [
    "Set Based Practice Problem :"
   ]
  },
  {
   "cell_type": "markdown",
   "metadata": {},
   "source": [
    "1. Create a set with integers from 1 to 5."
   ]
  },
  {
   "cell_type": "code",
   "execution_count": 54,
   "metadata": {},
   "outputs": [
    {
     "data": {
      "text/plain": [
       "{1, 2, 3, 4, 5}"
      ]
     },
     "execution_count": 54,
     "metadata": {},
     "output_type": "execute_result"
    }
   ],
   "source": [
    "se={1,2,3,4,5}\n",
    "se"
   ]
  },
  {
   "cell_type": "markdown",
   "metadata": {},
   "source": [
    "2. Add an element to a set."
   ]
  },
  {
   "cell_type": "code",
   "execution_count": 55,
   "metadata": {},
   "outputs": [
    {
     "data": {
      "text/plain": [
       "{1, 2, 3, 4, 5, 6}"
      ]
     },
     "execution_count": 55,
     "metadata": {},
     "output_type": "execute_result"
    }
   ],
   "source": [
    "se={1,2,3,4,5}\n",
    "se.add(6)\n",
    "se"
   ]
  },
  {
   "cell_type": "markdown",
   "metadata": {},
   "source": [
    "3. Remove an element from a set."
   ]
  },
  {
   "cell_type": "code",
   "execution_count": 56,
   "metadata": {},
   "outputs": [
    {
     "data": {
      "text/plain": [
       "{2, 3, 4}"
      ]
     },
     "execution_count": 56,
     "metadata": {},
     "output_type": "execute_result"
    }
   ],
   "source": [
    "se={1,2,3,4}\n",
    "se.remove(1)\n",
    "se"
   ]
  },
  {
   "cell_type": "markdown",
   "metadata": {},
   "source": [
    "4. Check if an element exists in a set."
   ]
  },
  {
   "cell_type": "code",
   "execution_count": 59,
   "metadata": {},
   "outputs": [
    {
     "name": "stdout",
     "output_type": "stream",
     "text": [
      "Yes\n"
     ]
    }
   ],
   "source": [
    "se={1,2,3,4}\n",
    "if 4 in se:\n",
    "    print(\"Yes\")\n",
    "else:\n",
    "    print(\"No\")"
   ]
  },
  {
   "cell_type": "markdown",
   "metadata": {},
   "source": [
    "5. Find the length of a set without using the `len()` function."
   ]
  },
  {
   "cell_type": "code",
   "execution_count": 60,
   "metadata": {},
   "outputs": [
    {
     "name": "stdout",
     "output_type": "stream",
     "text": [
      "4\n"
     ]
    }
   ],
   "source": [
    "se={1,2,3,4}\n",
    "count=0\n",
    "for i in se:\n",
    "    count+=1\n",
    "print(count)"
   ]
  },
  {
   "cell_type": "markdown",
   "metadata": {},
   "source": [
    "6. Clear all elements from a set."
   ]
  },
  {
   "cell_type": "code",
   "execution_count": 80,
   "metadata": {},
   "outputs": [],
   "source": [
    "se={1,2,3,4}\n",
    "se.clear()"
   ]
  },
  {
   "cell_type": "markdown",
   "metadata": {},
   "source": [
    "7. Create a set of even numbers from 1 to 10."
   ]
  },
  {
   "cell_type": "code",
   "execution_count": 2,
   "metadata": {},
   "outputs": [
    {
     "data": {
      "text/plain": [
       "{2, 4, 6, 8, 10}"
      ]
     },
     "execution_count": 2,
     "metadata": {},
     "output_type": "execute_result"
    }
   ],
   "source": [
    "abc = set()\n",
    "for i in range(1,11):\n",
    "    if i%2 == 0:\n",
    "        abc.add(i)\n",
    "abc"
   ]
  },
  {
   "cell_type": "markdown",
   "metadata": {},
   "source": [
    "8. Create a set of odd numbers from 1 to 10."
   ]
  },
  {
   "cell_type": "code",
   "execution_count": 3,
   "metadata": {},
   "outputs": [
    {
     "data": {
      "text/plain": [
       "{1, 3, 5, 7, 9}"
      ]
     },
     "execution_count": 3,
     "metadata": {},
     "output_type": "execute_result"
    }
   ],
   "source": [
    "abc = set()\n",
    "for i in range(1,11):\n",
    "    if i%2 != 0:\n",
    "        abc.add(i)\n",
    "abc"
   ]
  },
  {
   "cell_type": "markdown",
   "metadata": {},
   "source": [
    "9. Find the union of two sets."
   ]
  },
  {
   "cell_type": "code",
   "execution_count": 6,
   "metadata": {},
   "outputs": [
    {
     "name": "stdout",
     "output_type": "stream",
     "text": [
      "{1, 2, 3, 4, 5}\n"
     ]
    }
   ],
   "source": [
    "s1 = {1,2,3,4}\n",
    "s2 = {2,3,4,5}\n",
    "\n",
    "re = s1.union(s2)\n",
    "print(re)"
   ]
  },
  {
   "cell_type": "markdown",
   "metadata": {},
   "source": [
    "10. Find the intersection of two sets."
   ]
  },
  {
   "cell_type": "code",
   "execution_count": 7,
   "metadata": {},
   "outputs": [
    {
     "name": "stdout",
     "output_type": "stream",
     "text": [
      "{2, 3, 4}\n"
     ]
    }
   ],
   "source": [
    "s1 = {1,2,3,4}\n",
    "s2 = {2,3,4,5}\n",
    "\n",
    "re = s1.intersection(s2)\n",
    "print(re)"
   ]
  },
  {
   "cell_type": "markdown",
   "metadata": {},
   "source": [
    "11. Find the difference between two sets."
   ]
  },
  {
   "cell_type": "code",
   "execution_count": 8,
   "metadata": {},
   "outputs": [
    {
     "name": "stdout",
     "output_type": "stream",
     "text": [
      "{1}\n"
     ]
    }
   ],
   "source": [
    "s1 = {1,2,3,4}\n",
    "s2 = {2,3,4,5}\n",
    "\n",
    "re = s1.difference(s2)\n",
    "print(re)"
   ]
  },
  {
   "cell_type": "markdown",
   "metadata": {},
   "source": [
    "12. Check if a set is a subset of another set."
   ]
  },
  {
   "cell_type": "code",
   "execution_count": 10,
   "metadata": {},
   "outputs": [
    {
     "name": "stdout",
     "output_type": "stream",
     "text": [
      "False\n"
     ]
    }
   ],
   "source": [
    "s1 = {1,2,3,4}\n",
    "s2 = {2,3,4,5}\n",
    "\n",
    "re = s1.issubset(s2)\n",
    "print(re)"
   ]
  },
  {
   "cell_type": "markdown",
   "metadata": {},
   "source": [
    "13. Check if a set is a superset of another set."
   ]
  },
  {
   "cell_type": "code",
   "execution_count": 11,
   "metadata": {},
   "outputs": [
    {
     "name": "stdout",
     "output_type": "stream",
     "text": [
      "False\n"
     ]
    }
   ],
   "source": [
    "s1 = {1,2,3,4}\n",
    "s2 = {2,3,4,5}\n",
    "\n",
    "re = s1.issuperset(s2)\n",
    "print(re)"
   ]
  },
  {
   "cell_type": "markdown",
   "metadata": {},
   "source": [
    "14. Create a set from a list."
   ]
  },
  {
   "cell_type": "code",
   "execution_count": 12,
   "metadata": {},
   "outputs": [
    {
     "data": {
      "text/plain": [
       "{1, 2, 3, 4}"
      ]
     },
     "execution_count": 12,
     "metadata": {},
     "output_type": "execute_result"
    }
   ],
   "source": [
    "lis=[1,2,3,4]\n",
    "se=set(lis)\n",
    "se"
   ]
  },
  {
   "cell_type": "markdown",
   "metadata": {},
   "source": [
    "15. Convert a set to a list."
   ]
  },
  {
   "cell_type": "code",
   "execution_count": 13,
   "metadata": {},
   "outputs": [
    {
     "name": "stdout",
     "output_type": "stream",
     "text": [
      "[1, 2, 3, 4]\n"
     ]
    }
   ],
   "source": [
    "se={1,2,3,4}\n",
    "li=list(se)\n",
    "print(li)"
   ]
  },
  {
   "cell_type": "markdown",
   "metadata": {},
   "source": [
    "16. Remove a random element from a set."
   ]
  },
  {
   "cell_type": "code",
   "execution_count": 14,
   "metadata": {},
   "outputs": [
    {
     "data": {
      "text/plain": [
       "{1, 3, 4}"
      ]
     },
     "execution_count": 14,
     "metadata": {},
     "output_type": "execute_result"
    }
   ],
   "source": [
    "import random\n",
    "se={1,2,3,4}\n",
    "li = random.choice(list(se))\n",
    "se.remove(li)\n",
    "se"
   ]
  },
  {
   "cell_type": "markdown",
   "metadata": {},
   "source": [
    "17. Pop an element from a set."
   ]
  },
  {
   "cell_type": "code",
   "execution_count": 15,
   "metadata": {},
   "outputs": [
    {
     "data": {
      "text/plain": [
       "{2, 3, 4}"
      ]
     },
     "execution_count": 15,
     "metadata": {},
     "output_type": "execute_result"
    }
   ],
   "source": [
    "se={1,2,3,4}\n",
    "se.pop()\n",
    "se"
   ]
  },
  {
   "cell_type": "markdown",
   "metadata": {},
   "source": [
    "18. Check if two sets have no elements in common."
   ]
  },
  {
   "cell_type": "code",
   "execution_count": 17,
   "metadata": {},
   "outputs": [
    {
     "name": "stdout",
     "output_type": "stream",
     "text": [
      "set()\n"
     ]
    }
   ],
   "source": [
    "s1 = {1,2,3,4}\n",
    "s2 = {5,6,7,8}\n",
    "\n",
    "re = s1.intersection(s2)\n",
    "print(re)"
   ]
  },
  {
   "cell_type": "markdown",
   "metadata": {},
   "source": [
    "19. Find the symmetric difference between two sets."
   ]
  },
  {
   "cell_type": "code",
   "execution_count": 18,
   "metadata": {},
   "outputs": [
    {
     "name": "stdout",
     "output_type": "stream",
     "text": [
      "{1, 2, 3, 4, 5, 6, 7, 8}\n"
     ]
    }
   ],
   "source": [
    "s1 = {1,2,3,4}\n",
    "s2 = {5,6,7,8}\n",
    "\n",
    "re = s1 ^ s2\n",
    "print(re)"
   ]
  },
  {
   "cell_type": "markdown",
   "metadata": {},
   "source": [
    "20. Update a set with elements from another set."
   ]
  },
  {
   "cell_type": "code",
   "execution_count": 22,
   "metadata": {},
   "outputs": [
    {
     "name": "stdout",
     "output_type": "stream",
     "text": [
      "{1, 2, 3, 4, 5, 6, 7, 8}\n"
     ]
    }
   ],
   "source": [
    "s1 = {1,2,3,4}\n",
    "s2 = {5,6,7,8}\n",
    "\n",
    "s1.update(s2)\n",
    "print(s1)"
   ]
  },
  {
   "cell_type": "markdown",
   "metadata": {},
   "source": [
    "21. Create a set of the first 5 prime numbers."
   ]
  },
  {
   "cell_type": "code",
   "execution_count": 30,
   "metadata": {},
   "outputs": [
    {
     "name": "stdout",
     "output_type": "stream",
     "text": [
      "Prime numbers between 1 and 5 are:\n"
     ]
    },
    {
     "data": {
      "text/plain": [
       "{2, 3, 5}"
      ]
     },
     "execution_count": 30,
     "metadata": {},
     "output_type": "execute_result"
    }
   ],
   "source": [
    "# Python program to display all the prime numbers within an interval\n",
    "\n",
    "lower = 1\n",
    "upper = 5\n",
    "\n",
    "print(\"Prime numbers between\", lower, \"and\", upper, \"are:\")\n",
    "\n",
    "nu=set()\n",
    "\n",
    "for num in range(lower, upper + 1):\n",
    "   # all prime numbers are greater than 1\n",
    "   if num > 1:\n",
    "       for i in range(2, num):\n",
    "           if (num % i) == 0:\n",
    "               break\n",
    "       else:\n",
    "           nu.add(num)\n",
    "nu"
   ]
  },
  {
   "cell_type": "markdown",
   "metadata": {},
   "source": [
    "22. Check if two sets are identical."
   ]
  },
  {
   "cell_type": "code",
   "execution_count": 31,
   "metadata": {},
   "outputs": [
    {
     "name": "stdout",
     "output_type": "stream",
     "text": [
      "Not Equal\n"
     ]
    }
   ],
   "source": [
    "s1={1,2,3,5}\n",
    "s2={2,3,4,6}\n",
    "if s1 == s2:\n",
    "    print(\"Equal\")\n",
    "else:\n",
    "    print(\"Not Equal\")"
   ]
  },
  {
   "cell_type": "markdown",
   "metadata": {},
   "source": [
    "23. Create a frozen set."
   ]
  },
  {
   "cell_type": "code",
   "execution_count": 32,
   "metadata": {},
   "outputs": [
    {
     "data": {
      "text/plain": [
       "frozenset({1, 2, 3, 5})"
      ]
     },
     "execution_count": 32,
     "metadata": {},
     "output_type": "execute_result"
    }
   ],
   "source": [
    "s1={1,2,3,5}\n",
    "s2=frozenset(s1)\n",
    "s2"
   ]
  },
  {
   "cell_type": "markdown",
   "metadata": {},
   "source": [
    "24. Check if a set is disjoint with another set."
   ]
  },
  {
   "cell_type": "code",
   "execution_count": 34,
   "metadata": {},
   "outputs": [
    {
     "data": {
      "text/plain": [
       "True"
      ]
     },
     "execution_count": 34,
     "metadata": {},
     "output_type": "execute_result"
    }
   ],
   "source": [
    "s1={1,2,4,5}\n",
    "s2={6,7,8,9}\n",
    "s3=s1.isdisjoint(s2)\n",
    "s3"
   ]
  },
  {
   "cell_type": "markdown",
   "metadata": {},
   "source": [
    "25. Create a set of squares of numbers from 1 to 5."
   ]
  },
  {
   "cell_type": "code",
   "execution_count": 35,
   "metadata": {},
   "outputs": [
    {
     "data": {
      "text/plain": [
       "{1, 4, 9, 16}"
      ]
     },
     "execution_count": 35,
     "metadata": {},
     "output_type": "execute_result"
    }
   ],
   "source": [
    "s1={1,2,3,4}\n",
    "s2=set(i*i for i in range(1,5))\n",
    "s2"
   ]
  },
  {
   "cell_type": "markdown",
   "metadata": {},
   "source": [
    "26. Filter out all even numbers from a set."
   ]
  },
  {
   "cell_type": "code",
   "execution_count": 49,
   "metadata": {},
   "outputs": [
    {
     "name": "stdout",
     "output_type": "stream",
     "text": [
      "2\n",
      "4\n"
     ]
    }
   ],
   "source": [
    "s2={1,2,3,4}\n",
    "for i in s2:\n",
    "    if i%2==0:\n",
    "        print(i)"
   ]
  },
  {
   "cell_type": "markdown",
   "metadata": {},
   "source": [
    "27. Multiply all elements in a set by 2."
   ]
  },
  {
   "cell_type": "code",
   "execution_count": 52,
   "metadata": {},
   "outputs": [
    {
     "data": {
      "text/plain": [
       "{2, 4, 6, 10}"
      ]
     },
     "execution_count": 52,
     "metadata": {},
     "output_type": "execute_result"
    }
   ],
   "source": [
    "s1={1,2,3,5}\n",
    "s2=set()\n",
    "for i in s1:\n",
    "    s2.add(i*2)\n",
    "s2"
   ]
  },
  {
   "cell_type": "markdown",
   "metadata": {},
   "source": [
    "28. Create a set of random numbers."
   ]
  },
  {
   "cell_type": "code",
   "execution_count": 63,
   "metadata": {},
   "outputs": [
    {
     "data": {
      "text/plain": [
       "{2, 3, 5, 8, 10}"
      ]
     },
     "execution_count": 63,
     "metadata": {},
     "output_type": "execute_result"
    }
   ],
   "source": [
    "import random\n",
    "s1=set()\n",
    "for _ in range(5):\n",
    "    s3=random.randint(1,10)\n",
    "    s1.add(s3)\n",
    "s1"
   ]
  },
  {
   "cell_type": "markdown",
   "metadata": {},
   "source": [
    "29. Check if a set is empty."
   ]
  },
  {
   "cell_type": "code",
   "execution_count": 66,
   "metadata": {},
   "outputs": [
    {
     "name": "stdout",
     "output_type": "stream",
     "text": [
      "Empty\n"
     ]
    }
   ],
   "source": [
    "s1=set()\n",
    "if not s1:\n",
    "    print(\"Empty\")\n",
    "else:\n",
    "    print(\"Not Empty\")"
   ]
  },
  {
   "cell_type": "markdown",
   "metadata": {},
   "source": [
    "30. Create a nested set (hint: use frozenset)."
   ]
  },
  {
   "cell_type": "code",
   "execution_count": 75,
   "metadata": {},
   "outputs": [
    {
     "data": {
      "text/plain": [
       "{frozenset({1, 2, 3, 4}), frozenset({5, 6, 7, 8})}"
      ]
     },
     "execution_count": 75,
     "metadata": {},
     "output_type": "execute_result"
    }
   ],
   "source": [
    "s1={1,2,3,4}\n",
    "s2={5,6,7,8}\n",
    "s3=frozenset(s1)\n",
    "s4=frozenset(s2)\n",
    "ns={s3,s4}\n",
    "ns"
   ]
  },
  {
   "cell_type": "markdown",
   "metadata": {},
   "source": [
    "31. Remove an element from a set using the discard method."
   ]
  },
  {
   "cell_type": "code",
   "execution_count": 76,
   "metadata": {},
   "outputs": [
    {
     "data": {
      "text/plain": [
       "{2, 3, 4}"
      ]
     },
     "execution_count": 76,
     "metadata": {},
     "output_type": "execute_result"
    }
   ],
   "source": [
    "s1={1,2,3,4}\n",
    "s1.discard(1)\n",
    "s1"
   ]
  },
  {
   "cell_type": "markdown",
   "metadata": {},
   "source": [
    "32. Compare two sets."
   ]
  },
  {
   "cell_type": "code",
   "execution_count": 78,
   "metadata": {},
   "outputs": [
    {
     "name": "stdout",
     "output_type": "stream",
     "text": [
      "Not Equal\n"
     ]
    }
   ],
   "source": [
    "s1={1,2}\n",
    "s2={3,4}\n",
    "if s1==s2:\n",
    "    print(\"Equal\")\n",
    "else:\n",
    "    print(\"Not Equal\")"
   ]
  },
  {
   "cell_type": "markdown",
   "metadata": {},
   "source": [
    "33. Create a set from a string."
   ]
  },
  {
   "cell_type": "code",
   "execution_count": 80,
   "metadata": {},
   "outputs": [
    {
     "data": {
      "text/plain": [
       "{'g', 'i', 'n', 'r', 's', 't'}"
      ]
     },
     "execution_count": 80,
     "metadata": {},
     "output_type": "execute_result"
    }
   ],
   "source": [
    "s1=\"string\"\n",
    "s2=set(s1)\n",
    "s2"
   ]
  },
  {
   "cell_type": "markdown",
   "metadata": {},
   "source": [
    "34. Convert a set of strings to a set of integers."
   ]
  },
  {
   "cell_type": "code",
   "execution_count": 84,
   "metadata": {},
   "outputs": [
    {
     "data": {
      "text/plain": [
       "{1, 2}"
      ]
     },
     "execution_count": 84,
     "metadata": {},
     "output_type": "execute_result"
    }
   ],
   "source": [
    "s2={'1','2'}\n",
    "s4=set()\n",
    "for i in s2:\n",
    "    j=int(i)\n",
    "    s4.add(j)\n",
    "s4"
   ]
  },
  {
   "cell_type": "markdown",
   "metadata": {},
   "source": [
    "35. Convert a set of integers to a set of strings."
   ]
  },
  {
   "cell_type": "code",
   "execution_count": 86,
   "metadata": {},
   "outputs": [
    {
     "data": {
      "text/plain": [
       "{'1', '2'}"
      ]
     },
     "execution_count": 86,
     "metadata": {},
     "output_type": "execute_result"
    }
   ],
   "source": [
    "s1={1,2}\n",
    "s2=set()\n",
    "for i in s1:\n",
    "    s2.add(str(i))\n",
    "s2"
   ]
  },
  {
   "cell_type": "markdown",
   "metadata": {},
   "source": [
    "36. Create a set from a tuple."
   ]
  },
  {
   "cell_type": "code",
   "execution_count": 87,
   "metadata": {},
   "outputs": [
    {
     "data": {
      "text/plain": [
       "{1, 2}"
      ]
     },
     "execution_count": 87,
     "metadata": {},
     "output_type": "execute_result"
    }
   ],
   "source": [
    "tup=(1,2)\n",
    "s1=set(tup)\n",
    "s1"
   ]
  },
  {
   "cell_type": "markdown",
   "metadata": {},
   "source": [
    "37. Convert a set to a tuple."
   ]
  },
  {
   "cell_type": "code",
   "execution_count": 89,
   "metadata": {},
   "outputs": [
    {
     "data": {
      "text/plain": [
       "(1, 2)"
      ]
     },
     "execution_count": 89,
     "metadata": {},
     "output_type": "execute_result"
    }
   ],
   "source": [
    "s1={1,2}\n",
    "s2=tuple(s1)\n",
    "s2"
   ]
  },
  {
   "cell_type": "markdown",
   "metadata": {},
   "source": [
    "38. Find the maximum value in a set."
   ]
  },
  {
   "cell_type": "code",
   "execution_count": 91,
   "metadata": {},
   "outputs": [
    {
     "data": {
      "text/plain": [
       "4"
      ]
     },
     "execution_count": 91,
     "metadata": {},
     "output_type": "execute_result"
    }
   ],
   "source": [
    "s1={1,2,3,4}\n",
    "max(s1)"
   ]
  },
  {
   "cell_type": "markdown",
   "metadata": {},
   "source": [
    "39. Find the minimum value in a set."
   ]
  },
  {
   "cell_type": "code",
   "execution_count": 92,
   "metadata": {},
   "outputs": [
    {
     "data": {
      "text/plain": [
       "1"
      ]
     },
     "execution_count": 92,
     "metadata": {},
     "output_type": "execute_result"
    }
   ],
   "source": [
    "s1={1,2,3,4}\n",
    "min(s1)"
   ]
  },
  {
   "cell_type": "markdown",
   "metadata": {},
   "source": [
    "40. Create a set from user input."
   ]
  },
  {
   "cell_type": "code",
   "execution_count": 93,
   "metadata": {},
   "outputs": [
    {
     "data": {
      "text/plain": [
       "{'1', '2', '3'}"
      ]
     },
     "execution_count": 93,
     "metadata": {},
     "output_type": "execute_result"
    }
   ],
   "source": [
    "s=set(input())\n",
    "s"
   ]
  },
  {
   "cell_type": "markdown",
   "metadata": {},
   "source": [
    "41. Check if the intersection of two sets is empty."
   ]
  },
  {
   "cell_type": "code",
   "execution_count": 94,
   "metadata": {},
   "outputs": [
    {
     "name": "stdout",
     "output_type": "stream",
     "text": [
      "not empty\n"
     ]
    }
   ],
   "source": [
    "s1={1,2,3,4}\n",
    "s2={2,3,4,5}\n",
    "if not s1.intersection(s2):\n",
    "    print(\"empty\")\n",
    "else:\n",
    "    print(\"not empty\")"
   ]
  },
  {
   "cell_type": "markdown",
   "metadata": {},
   "source": [
    "42. Create a set of the first 5 Fibonacci numbers."
   ]
  },
  {
   "cell_type": "code",
   "execution_count": 107,
   "metadata": {},
   "outputs": [
    {
     "name": "stdout",
     "output_type": "stream",
     "text": [
      "{0, 1, 2, 3, 5}\n"
     ]
    }
   ],
   "source": [
    "s=set()\n",
    "a=0\n",
    "b=1\n",
    "s.add(a)\n",
    "s.add(b)\n",
    "for i in range(2,6):\n",
    "    c=a+b\n",
    "    s.add(c)\n",
    "    a=b\n",
    "    b=c\n",
    "print(s) # {0, 1, 1, 2, 3}, here 1 is removed automatically by set because set contains unique elements"
   ]
  },
  {
   "cell_type": "markdown",
   "metadata": {},
   "source": [
    "43. Remove duplicates from a list using sets."
   ]
  },
  {
   "cell_type": "code",
   "execution_count": 109,
   "metadata": {},
   "outputs": [
    {
     "data": {
      "text/plain": [
       "{1, 2, 3}"
      ]
     },
     "execution_count": 109,
     "metadata": {},
     "output_type": "execute_result"
    }
   ],
   "source": [
    "li=[1,1,2,3,2]\n",
    "s=set(li)\n",
    "s"
   ]
  },
  {
   "cell_type": "markdown",
   "metadata": {},
   "source": [
    "44. Check if two sets have the same elements, regardless of their count."
   ]
  },
  {
   "cell_type": "code",
   "execution_count": 114,
   "metadata": {},
   "outputs": [
    {
     "name": "stdout",
     "output_type": "stream",
     "text": [
      "Equal\n"
     ]
    }
   ],
   "source": [
    "s1={1,2,3,2,1}\n",
    "s2={2,1,3}\n",
    "s3=sorted(list(s1))\n",
    "s4=sorted(list(s2))\n",
    "if s3==s4:\n",
    "    print(\"Equal\")"
   ]
  },
  {
   "cell_type": "markdown",
   "metadata": {},
   "source": [
    "45. Create a set of the first `n` powers of 2."
   ]
  },
  {
   "cell_type": "code",
   "execution_count": 116,
   "metadata": {},
   "outputs": [
    {
     "data": {
      "text/plain": [
       "{1, 2, 4, 8, 16}"
      ]
     },
     "execution_count": 116,
     "metadata": {},
     "output_type": "execute_result"
    }
   ],
   "source": [
    "s=set()\n",
    "for i in range(0,5):\n",
    "    s.add(2**i)\n",
    "s"
   ]
  },
  {
   "cell_type": "markdown",
   "metadata": {},
   "source": [
    "46. Find the common elements between a set and a list."
   ]
  },
  {
   "cell_type": "code",
   "execution_count": 123,
   "metadata": {},
   "outputs": [
    {
     "data": {
      "text/plain": [
       "[3, 4]"
      ]
     },
     "execution_count": 123,
     "metadata": {},
     "output_type": "execute_result"
    }
   ],
   "source": [
    "s={1,2,3,4}\n",
    "l=[3,4,5,6]\n",
    "c=[]\n",
    "for i in s:\n",
    "    if i in l:\n",
    "        c.append(i)\n",
    "c"
   ]
  },
  {
   "cell_type": "markdown",
   "metadata": {},
   "source": [
    "47. Create a set of the first `n` triangular numbers."
   ]
  },
  {
   "cell_type": "code",
   "execution_count": 124,
   "metadata": {},
   "outputs": [
    {
     "data": {
      "text/plain": [
       "{1, 3, 6, 10, 15}"
      ]
     },
     "execution_count": 124,
     "metadata": {},
     "output_type": "execute_result"
    }
   ],
   "source": [
    "n=5\n",
    "s=set()\n",
    "for i in range(1, n + 1):\n",
    "\ts.add(i*(i+1)//2)\n",
    "s"
   ]
  },
  {
   "cell_type": "markdown",
   "metadata": {},
   "source": [
    "48. Check if a set contains another set as a subset."
   ]
  },
  {
   "cell_type": "code",
   "execution_count": 127,
   "metadata": {},
   "outputs": [
    {
     "name": "stdout",
     "output_type": "stream",
     "text": [
      "yes\n"
     ]
    }
   ],
   "source": [
    "s1={2,3}\n",
    "s2={2,3,4,5}\n",
    "if s1.issubset(s2):\n",
    "    print(\"yes\")\n",
    "else:\n",
    "    print(\"no\")"
   ]
  },
  {
   "cell_type": "markdown",
   "metadata": {},
   "source": [
    "49. Create a set of alternating 1s and 0s of length `n`."
   ]
  },
  {
   "cell_type": "code",
   "execution_count": 133,
   "metadata": {},
   "outputs": [
    {
     "data": {
      "text/plain": [
       "{0, 1}"
      ]
     },
     "execution_count": 133,
     "metadata": {},
     "output_type": "execute_result"
    }
   ],
   "source": [
    "s=set()\n",
    "for i in range(1,5):\n",
    "    if i%2==0:\n",
    "        s.add(1)\n",
    "    else:\n",
    "        s.add(0)\n",
    "s"
   ]
  },
  {
   "cell_type": "markdown",
   "metadata": {},
   "source": [
    "50. Merge multiple sets into one."
   ]
  },
  {
   "cell_type": "code",
   "execution_count": 138,
   "metadata": {},
   "outputs": [
    {
     "data": {
      "text/plain": [
       "{1, 2, 3, 4}"
      ]
     },
     "execution_count": 138,
     "metadata": {},
     "output_type": "execute_result"
    }
   ],
   "source": [
    "s1={1,2}\n",
    "s2={3,4}\n",
    "s3=s1.union(s2)\n",
    "s3"
   ]
  },
  {
   "cell_type": "code",
   "execution_count": null,
   "metadata": {},
   "outputs": [],
   "source": []
  }
 ],
 "metadata": {
  "kernelspec": {
   "display_name": "Python 3",
   "language": "python",
   "name": "python3"
  },
  "language_info": {
   "codemirror_mode": {
    "name": "ipython",
    "version": 3
   },
   "file_extension": ".py",
   "mimetype": "text/x-python",
   "name": "python",
   "nbconvert_exporter": "python",
   "pygments_lexer": "ipython3",
   "version": "3.11.2"
  },
  "orig_nbformat": 4
 },
 "nbformat": 4,
 "nbformat_minor": 2
}
