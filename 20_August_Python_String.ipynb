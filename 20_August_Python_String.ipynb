{
 "cells": [
  {
   "cell_type": "markdown",
   "metadata": {},
   "source": [
    "TOPIC: String Based Assignment Problem"
   ]
  },
  {
   "cell_type": "markdown",
   "metadata": {},
   "source": [
    "1. Write a program to reverse a string."
   ]
  },
  {
   "cell_type": "code",
   "execution_count": 1,
   "metadata": {},
   "outputs": [
    {
     "name": "stdout",
     "output_type": "stream",
     "text": [
      "Please enter the string\n",
      "Entered the string is:  abcd\n",
      "Reverse of a string is:  dcba\n"
     ]
    }
   ],
   "source": [
    "print(\"Please enter the string\")\n",
    "user_input = str(input())\n",
    "print(\"Entered the string is: \",user_input)\n",
    "print(\"Reverse of a string is: \",user_input[::-1])"
   ]
  },
  {
   "cell_type": "markdown",
   "metadata": {},
   "source": [
    "2. Check if a string is a palindrome."
   ]
  },
  {
   "cell_type": "code",
   "execution_count": 3,
   "metadata": {},
   "outputs": [
    {
     "name": "stdout",
     "output_type": "stream",
     "text": [
      "Please enter the string\n",
      "Entered the string is:  abcd\n",
      "abcd string not a Palindrome\n"
     ]
    }
   ],
   "source": [
    "print(\"Please enter the string\")\n",
    "user_input = str(input())\n",
    "print(\"Entered the string is: \",user_input)\n",
    "if user_input==user_input[::-1]:\n",
    "    print(user_input,\"string is a Palindrome\")\n",
    "else:\n",
    "    print(user_input,\"string not a Palindrome\")"
   ]
  },
  {
   "cell_type": "markdown",
   "metadata": {},
   "source": [
    "3. Convert a string to uppercase."
   ]
  },
  {
   "cell_type": "code",
   "execution_count": 4,
   "metadata": {},
   "outputs": [
    {
     "name": "stdout",
     "output_type": "stream",
     "text": [
      "Please enter the string\n",
      "Entered the string is:  pwskills\n",
      "Uppercase of the string is:  PWSKILLS\n"
     ]
    }
   ],
   "source": [
    "print(\"Please enter the string\")\n",
    "user_input = str(input())\n",
    "print(\"Entered the string is: \",user_input)\n",
    "print(\"Uppercase of the string is: \",user_input.upper())"
   ]
  },
  {
   "cell_type": "markdown",
   "metadata": {},
   "source": [
    "4. Convert a string to lowercase."
   ]
  },
  {
   "cell_type": "code",
   "execution_count": 7,
   "metadata": {},
   "outputs": [
    {
     "name": "stdout",
     "output_type": "stream",
     "text": [
      "Please enter the string\n",
      "Entered the string is:  PWSKILLS\n",
      "lowercase of the string is:  pwskills\n"
     ]
    }
   ],
   "source": [
    "print(\"Please enter the string\")\n",
    "user_input = str(input())\n",
    "print(\"Entered the string is: \",user_input)\n",
    "print(\"lowercase of the string is: \",user_input.lower())"
   ]
  },
  {
   "cell_type": "markdown",
   "metadata": {},
   "source": [
    "5. Count the number of vowels in a string."
   ]
  },
  {
   "cell_type": "code",
   "execution_count": 21,
   "metadata": {},
   "outputs": [
    {
     "name": "stdout",
     "output_type": "stream",
     "text": [
      "Please enter the string\n",
      "Entered the string is:  aeiou\n",
      "Number of vowels in a string is:  5\n"
     ]
    }
   ],
   "source": [
    "print(\"Please enter the string\")\n",
    "user_input = str(input())\n",
    "print(\"Entered the string is: \",user_input)\n",
    "vow = \"aeiouAEIOU\"\n",
    "count=0\n",
    "for each in user_input:\n",
    "    if each in vow:\n",
    "        count=count+1\n",
    "print(\"Number of vowels in a string is: \",count)"
   ]
  },
  {
   "cell_type": "markdown",
   "metadata": {},
   "source": [
    "6. Count the number of consonants in a string."
   ]
  },
  {
   "cell_type": "code",
   "execution_count": 23,
   "metadata": {},
   "outputs": [
    {
     "name": "stdout",
     "output_type": "stream",
     "text": [
      "Please enter the string\n",
      "Entered the string is:  apple\n",
      "Number of consonants in a string is:  3\n"
     ]
    }
   ],
   "source": [
    "print(\"Please enter the string\")\n",
    "user_input = str(input())\n",
    "print(\"Entered the string is: \",user_input)\n",
    "vow = \"aeiouAEIOU\"\n",
    "count=0\n",
    "for each in user_input:\n",
    "    if each not in vow:\n",
    "        count=count+1\n",
    "print(\"Number of consonants in a string is: \",count)"
   ]
  },
  {
   "cell_type": "markdown",
   "metadata": {},
   "source": [
    "7. Remove all whitespaces from a string."
   ]
  },
  {
   "cell_type": "code",
   "execution_count": 29,
   "metadata": {},
   "outputs": [
    {
     "name": "stdout",
     "output_type": "stream",
     "text": [
      "Please enter the string\n",
      "Entered the string is:  wel come\n",
      "After removing whitespace from a string is:  welcome\n"
     ]
    }
   ],
   "source": [
    "print(\"Please enter the string\")\n",
    "user_input = str(input())\n",
    "print(\"Entered the string is: \",user_input)\n",
    "print(\"After removing whitespace from a string is: \",user_input.replace(\" \",\"\"))"
   ]
  },
  {
   "cell_type": "markdown",
   "metadata": {},
   "source": [
    "8. Find the length of a string without using the `len()` function."
   ]
  },
  {
   "cell_type": "code",
   "execution_count": 31,
   "metadata": {},
   "outputs": [
    {
     "name": "stdout",
     "output_type": "stream",
     "text": [
      "Please enter the string\n",
      "Entered the string is:  aeiou\n",
      "Length of a string is:  5\n"
     ]
    }
   ],
   "source": [
    "print(\"Please enter the string\")\n",
    "user_input = str(input())\n",
    "print(\"Entered the string is: \",user_input)\n",
    "print(\"Length of a string is: \",len(user_input))"
   ]
  },
  {
   "cell_type": "markdown",
   "metadata": {},
   "source": [
    "9. Check if a string contains a specific word."
   ]
  },
  {
   "cell_type": "code",
   "execution_count": 36,
   "metadata": {},
   "outputs": [
    {
     "name": "stdout",
     "output_type": "stream",
     "text": [
      "Please enter the string\n",
      "Entered the string is:  wel\n",
      "String does not contains a specific word:  z\n"
     ]
    }
   ],
   "source": [
    "print(\"Please enter the string\")\n",
    "user_str_input = str(input())\n",
    "user_substr_input = str(input())\n",
    "print(\"Entered the string is: \",user_str_input)\n",
    "if user_substr_input in user_str_input:\n",
    "    print(\"String contains a specific word: \",user_substr_input)\n",
    "else:\n",
    "    print(\"String does not contains a specific word: \",user_substr_input)"
   ]
  },
  {
   "cell_type": "markdown",
   "metadata": {},
   "source": [
    "10. Replace a word in a string with another word."
   ]
  },
  {
   "cell_type": "code",
   "execution_count": 45,
   "metadata": {},
   "outputs": [
    {
     "name": "stdout",
     "output_type": "stream",
     "text": [
      "Please enter the string\n",
      "Entered the string is:  Good Morning\n",
      "Please enter the word you want to replace\n",
      "Entered a word will be replace is:  Morning\n",
      "Please enter another word that you want to replace with  Morning\n",
      "Replaced a word in a string with another word is:  Good Afternoon\n"
     ]
    }
   ],
   "source": [
    "print(\"Please enter the string\")\n",
    "user_input = str(input())\n",
    "print(\"Entered the string is: \",user_input)\n",
    "\n",
    "print(\"Please enter the word you want to replace\")\n",
    "user_enter_replace_word_input = str(input())\n",
    "print(\"Entered a word will be replace is: \",user_enter_replace_word_input)\n",
    "\n",
    "print(\"Please enter another word that you want to replace with \",user_enter_replace_word_input)\n",
    "user_enter_word = str(input())\n",
    "print(\"Replaced a word in a string with another word is: \",user_input.replace(user_enter_replace_word_input,user_enter_word))"
   ]
  },
  {
   "cell_type": "code",
   "execution_count": null,
   "metadata": {},
   "outputs": [],
   "source": []
  },
  {
   "cell_type": "code",
   "execution_count": null,
   "metadata": {},
   "outputs": [],
   "source": []
  }
 ],
 "metadata": {
  "kernelspec": {
   "display_name": "Python 3",
   "language": "python",
   "name": "python3"
  },
  "language_info": {
   "codemirror_mode": {
    "name": "ipython",
    "version": 3
   },
   "file_extension": ".py",
   "mimetype": "text/x-python",
   "name": "python",
   "nbconvert_exporter": "python",
   "pygments_lexer": "ipython3",
   "version": "3.11.2"
  },
  "orig_nbformat": 4
 },
 "nbformat": 4,
 "nbformat_minor": 2
}
