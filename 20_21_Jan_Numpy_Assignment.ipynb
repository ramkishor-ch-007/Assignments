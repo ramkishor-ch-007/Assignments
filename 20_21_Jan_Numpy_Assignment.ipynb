{
 "cells": [
  {
   "cell_type": "code",
   "execution_count": null,
   "metadata": {},
   "outputs": [],
   "source": [
    "# 1. What is a Python library? Why do we use Python libraries?\n",
    "# Collection of functions\n",
    "# functions can be reused\n",
    "# why?\n",
    "# Python libraries contains optimized functions because lot of testing is done on python libraries"
   ]
  },
  {
   "cell_type": "code",
   "execution_count": null,
   "metadata": {},
   "outputs": [],
   "source": [
    "# 2. What is the difference between Numpy array and List? \n",
    "# List has dynamic size or resizing in nature.\n",
    "# List has to check space and data type when adding elements\n",
    "# Array doesn't have to check space and data type when adding elements because \n",
    "# elements are homogenous and space is static defined in array, that is reason array is faster\n",
    "# array is statically defined contigous memory allocation and fixed size in nature\n",
    "# Array and List are mutable"
   ]
  },
  {
   "cell_type": "code",
   "execution_count": 5,
   "metadata": {},
   "outputs": [
    {
     "name": "stdout",
     "output_type": "stream",
     "text": [
      "Shape:  (3, 4)\n",
      "Size:  12\n",
      "Dimension:  2\n"
     ]
    }
   ],
   "source": [
    "# 3. Find the shape, size and dimension of the following array?\n",
    "# [[1, 2, 3, 4]\n",
    "# [5, 6, 7, 8],\n",
    "# [9, 10, 11, 12]]\n",
    "import numpy as np\n",
    "arr=[[1, 2, 3, 4],\n",
    "[5, 6, 7, 8],\n",
    "[9, 10, 11, 12]]\n",
    "\n",
    "# Shape\n",
    "print(\"Shape: \",np.shape(arr))\n",
    "\n",
    "# Size\n",
    "print(\"Size: \",np.size(arr))\n",
    "\n",
    "# Dimension\n",
    "print(\"Dimension: \",np.ndim(arr))"
   ]
  },
  {
   "cell_type": "code",
   "execution_count": 13,
   "metadata": {},
   "outputs": [
    {
     "name": "stdout",
     "output_type": "stream",
     "text": [
      "[1, 2, 3, 4]\n"
     ]
    }
   ],
   "source": [
    "# 4. Write python code to access the first row of the following array?\n",
    "# [[1, 2, 3, 4]\n",
    "# [5, 6, 7, 8],\n",
    "# [9, 10, 11, 12]]\n",
    "\n",
    "arr=[[1, 2, 3, 4],\n",
    "[5, 6, 7, 8],\n",
    "[9, 10, 11, 12]]\n",
    "\n",
    "print(arr[0])"
   ]
  },
  {
   "cell_type": "code",
   "execution_count": 40,
   "metadata": {},
   "outputs": [
    {
     "data": {
      "text/plain": [
       "array([12])"
      ]
     },
     "execution_count": 40,
     "metadata": {},
     "output_type": "execute_result"
    }
   ],
   "source": [
    "# 5. How do you access the element at the third row and fourth column from the given numpy array?\n",
    "# [[1, 2, 3, 4]\n",
    "# [5, 6, 7, 8],\n",
    "# [9, 10, 11, 12]]\n",
    "\n",
    "arr=[[1, 2, 3, 4],\n",
    "[5, 6, 7, 8],\n",
    "[9, 10, 11, 12]]\n",
    "\n",
    "np_arr=np.array(arr)\n",
    "\n",
    "np_arr[2, [3]]"
   ]
  },
  {
   "cell_type": "code",
   "execution_count": 43,
   "metadata": {},
   "outputs": [
    {
     "data": {
      "text/plain": [
       "array([[ 1,  4],\n",
       "       [ 5,  8],\n",
       "       [ 9, 12]])"
      ]
     },
     "execution_count": 43,
     "metadata": {},
     "output_type": "execute_result"
    }
   ],
   "source": [
    "# 6. Write code to extract all odd-indexed elements from the given numpy array?\n",
    "# [[1, 2, 3, 4]\n",
    "# [5, 6, 7, 8],\n",
    "# [9, 10, 11, 12]]\n",
    "\n",
    "arr=[[1, 2, 3, 4],\n",
    "[5, 6, 7, 8],\n",
    "[9, 10, 11, 12]]\n",
    "\n",
    "np_arr=np.array(arr)\n",
    "\n",
    "np_arr[0:3 , [0,3]]"
   ]
  },
  {
   "cell_type": "code",
   "execution_count": 46,
   "metadata": {},
   "outputs": [
    {
     "data": {
      "text/plain": [
       "array([[1, 0, 1],\n",
       "       [0, 0, 1],\n",
       "       [0, 0, 1]])"
      ]
     },
     "execution_count": 46,
     "metadata": {},
     "output_type": "execute_result"
    }
   ],
   "source": [
    "# 7. How can you generate a random 3x3 matrix with values between 0 and 1?\n",
    "\n",
    "arr1 = np.random.randint(0, 2, (3,3))\n",
    "arr1"
   ]
  },
  {
   "cell_type": "code",
   "execution_count": null,
   "metadata": {},
   "outputs": [],
   "source": [
    "# 8. Describe the difference between np.random.rand and np.random.randn?\n",
    "\n",
    "np.random.rand(1) # generate random values from given number 0 to 1\n",
    "np.random.rand(2, 3) # generate 2x3 random float values\n",
    "\n",
    "np.random.randn(2, 3) # Return a sample (or samples) from the \"standard normal\" distribution."
   ]
  },
  {
   "cell_type": "code",
   "execution_count": 52,
   "metadata": {},
   "outputs": [
    {
     "data": {
      "text/plain": [
       "array([[[ 1,  2,  3,  4],\n",
       "        [ 5,  6,  7,  8],\n",
       "        [ 9, 10, 11, 12]]])"
      ]
     },
     "execution_count": 52,
     "metadata": {},
     "output_type": "execute_result"
    }
   ],
   "source": [
    "# 9. Write code to increase the dimension of the following array?\n",
    "# [[1, 2, 3, 4]\n",
    "# [5, 6, 7, 8],\n",
    "# [9, 10, 11, 12]]\n",
    "\n",
    "arr=[[1, 2, 3, 4],\n",
    "[5, 6, 7, 8],\n",
    "[9, 10, 11, 12]]\n",
    "\n",
    "np_arr=np.array(arr)\n",
    "\n",
    "np_arr.reshape(1,3,4) # reshape from 2D array to 3D array repeated 1 time of 3 rows and 4 columns"
   ]
  },
  {
   "cell_type": "code",
   "execution_count": 53,
   "metadata": {},
   "outputs": [
    {
     "data": {
      "text/plain": [
       "array([[ 1,  5,  9],\n",
       "       [ 2,  6, 10],\n",
       "       [ 3,  7, 11],\n",
       "       [ 4,  8, 12]])"
      ]
     },
     "execution_count": 53,
     "metadata": {},
     "output_type": "execute_result"
    }
   ],
   "source": [
    "# 10. How to transpose the following array in NumPy?\n",
    "# [[1, 2, 3, 4]\n",
    "# [5, 6, 7, 8],\n",
    "# [9, 10, 11, 12]]\n",
    "\n",
    "arr=[[1, 2, 3, 4],\n",
    "[5, 6, 7, 8],\n",
    "[9, 10, 11, 12]]\n",
    "\n",
    "np_arr=np.array(arr)\n",
    "\n",
    "np_arr.T"
   ]
  },
  {
   "cell_type": "code",
   "execution_count": 78,
   "metadata": {},
   "outputs": [
    {
     "name": "stdout",
     "output_type": "stream",
     "text": [
      "Index wise multiplication:\n",
      " [[  1   4   9  16]\n",
      " [ 25  36  49  64]\n",
      " [ 81 100 121 144]]\n",
      "\n",
      "Matrix multiplication:\n",
      " [[ 30  70 110]\n",
      " [ 70 174 278]\n",
      " [110 278 446]]\n",
      "\n",
      "Addition of both matrices:\n",
      " [[ 2  4  6  8]\n",
      " [10 12 14 16]\n",
      " [18 20 22 24]]\n",
      "\n",
      "Subtraction of both matrices:\n",
      " [[0 0 0 0]\n",
      " [0 0 0 0]\n",
      " [0 0 0 0]]\n",
      "\n",
      "Divide of both matrices:\n",
      " [[1 1 1 1]\n",
      " [1 1 1 1]\n",
      " [1 1 1 1]]\n",
      "\n"
     ]
    }
   ],
   "source": [
    "# 11. Consider the following matrix:\n",
    "# Matrix A2 [[1, 2, 3, 4] [5, 6, 7, 8],[9, 10, 11, 12]]\n",
    "# Matrix B2 [[1, 2, 3, 4] [5, 6, 7, 8],[9, 10, 11, 12]]\n",
    "# Perform the following operation using Python1\n",
    "# 1. Index wise multiplication\n",
    "# 2. Matix multiplication\n",
    "# 3. Add both the matices\n",
    "# 4. Subtact matix B from A\n",
    "# 5. Divide Matix B by A\n",
    "\n",
    "import numpy as np\n",
    "\n",
    "A2 = [[1, 2, 3, 4], [5, 6, 7, 8],[9, 10, 11, 12]]\n",
    "B2 = [[1, 2, 3, 4], [5, 6, 7, 8],[9, 10, 11, 12]]\n",
    "\n",
    "A=np.array(A2)\n",
    "B=np.array(B2)\n",
    "\n",
    "# Index wise multiplication\n",
    "Index_product = np.multiply(A,B)\n",
    "print(\"Index wise multiplication:\\n\", Index_product)\n",
    "print()\n",
    "\n",
    "# Matix multiplication\n",
    "# Here A2 and B2 arrays has 3 rows and 4 columns, where if we have to do matrix multiplication\n",
    "# then A2 = 3 x 4 , B2 = 3 X 4 , which is not possible\n",
    "# to perform matrix multiplication B2 should be converted into transpose matrix\n",
    "# the A2 and B2 are elgible to perform matrix multiplication\n",
    "matrix_product = A @ B.T\n",
    "print(\"Matrix multiplication:\\n\", matrix_product)\n",
    "print()\n",
    "\n",
    "# Add both matrices\n",
    "Add = A + B\n",
    "print(\"Addition of both matrices:\\n\", Add)\n",
    "print()\n",
    "\n",
    "# Subtract matrices from B - A\n",
    "Sub = B - A\n",
    "print(\"Subtraction of both matrices:\\n\", Sub)\n",
    "print()\n",
    "\n",
    "# Divide matrices from B / A\n",
    "Div = B // A\n",
    "print(\"Divide of both matrices:\\n\", Div)\n",
    "print()"
   ]
  },
  {
   "cell_type": "code",
   "execution_count": 79,
   "metadata": {},
   "outputs": [
    {
     "name": "stdout",
     "output_type": "stream",
     "text": [
      "Original Array:\n",
      "[1 2 3 4]\n",
      "\n",
      "Swapped Array:\n",
      "[16777216 33554432 50331648 67108864]\n"
     ]
    }
   ],
   "source": [
    "# 12. Which function in Numpy can be used to swap the byte order of an array?\n",
    "# In NumPy, the byteswap function can be used to swap the byte order of an array. \n",
    "# The byteswap function returns a new array with the byte order swapped. \n",
    "# You can specify the byte order using the byteorder parameter.\n",
    "\n",
    "import numpy as np\n",
    "\n",
    "# Create an example array\n",
    "original_array = np.array([1, 2, 3, 4], dtype=np.int32)\n",
    "\n",
    "# Swap the byte order\n",
    "swapped_array = original_array.byteswap()\n",
    "\n",
    "# Print the original and swapped arrays\n",
    "print(\"Original Array:\")\n",
    "print(original_array)\n",
    "print(\"\\nSwapped Array:\")\n",
    "print(swapped_array)"
   ]
  },
  {
   "cell_type": "code",
   "execution_count": 80,
   "metadata": {},
   "outputs": [
    {
     "name": "stdout",
     "output_type": "stream",
     "text": [
      "Solution vector x: [1.8 0.4]\n"
     ]
    }
   ],
   "source": [
    "# 13. What is the significance of the np.linalg.inv function?\n",
    "\n",
    "# The np.linalg.inv function in NumPy is used to compute the (multiplicative) inverse of a square matrix. \n",
    "# In mathematical terms, if A is a square matrix, then the matrix B such that A @ B = B @ A = I, where I is the identity matrix, \n",
    "# is called the inverse of matrix A. \n",
    "# Not all matrices have an inverse, and a matrix must be square (having the same number of rows and columns) to have an inverse.\n",
    "\n",
    "# The significance of np.linalg.inv lies in its applications in linear algebra, solving systems of linear equations, and \n",
    "# various numerical methods.\n",
    "\n",
    "import numpy as np\n",
    "\n",
    "# Coefficient matrix A\n",
    "A = np.array([[2, 1],\n",
    "              [3, 4]])\n",
    "\n",
    "# Constant matrix B\n",
    "B = np.array([4, 7])\n",
    "\n",
    "# Solve for x in Ax = B\n",
    "x = np.linalg.inv(A) @ B\n",
    "\n",
    "print(\"Solution vector x:\", x)"
   ]
  },
  {
   "cell_type": "code",
   "execution_count": 82,
   "metadata": {},
   "outputs": [
    {
     "name": "stdout",
     "output_type": "stream",
     "text": [
      "Original Array:\n",
      "[1 2 3 4 5 6]\n",
      "\n",
      "Reshaped Array:\n",
      "[[1 2 3]\n",
      " [4 5 6]]\n"
     ]
    }
   ],
   "source": [
    "# 14. What does the np.reshape function do, and how is it used?\n",
    "# The np.reshape function in NumPy is used to change the shape of an array without changing its data. \n",
    "# It allows you to give a new shape to an array without modifying its data, as long as the new shape has \n",
    "# the same number of elements as the original shape.\n",
    "\n",
    "# The basic syntax of np.reshape is: numpy.reshape(a, newshape, order='C')\n",
    "# a: The array to be reshaped.\n",
    "# newshape: The new shape to be given to the array. It should be compatible with the original shape.\n",
    "# order: Optional. Specifies the order in which the elements of the array should be read. It can be 'C' (row-major, default) or 'F' (column-major).\n",
    "\n",
    "# Example of how to use np.reshape:\n",
    "\n",
    "import numpy as np\n",
    "\n",
    "# Create a 1D array\n",
    "original_array = np.array([1, 2, 3, 4, 5, 6])\n",
    "\n",
    "# Reshape the array to a 2D array (2 rows, 3 columns)\n",
    "reshaped_array = np.reshape(original_array, (2, 3))\n",
    "\n",
    "print(\"Original Array:\")\n",
    "print(original_array)\n",
    "\n",
    "print(\"\\nReshaped Array:\")\n",
    "print(reshaped_array)"
   ]
  },
  {
   "cell_type": "code",
   "execution_count": 83,
   "metadata": {},
   "outputs": [
    {
     "name": "stdout",
     "output_type": "stream",
     "text": [
      "[[11 12 13]\n",
      " [14 15 16]]\n"
     ]
    }
   ],
   "source": [
    "# 15. What is broadcasting in Numpy?\n",
    "# Broadcasting in NumPy is a powerful mechanism that allows NumPy to perform operations on arrays of different shapes and sizes. \n",
    "# It enables the element-wise operations between arrays of different shapes without explicitly reshaping them, \n",
    "# making the code more concise and readable.\n",
    "\n",
    "# The broadcasting rules in NumPy allow arrays with different shapes to be combined in a way that makes sense. \n",
    "# The smaller array is \"broadcast\" across the larger array so that they have compatible shapes. \n",
    "# The following rules are applied during broadcasting:\n",
    "\n",
    "# Rule 1: \n",
    "# Size Compatibility: The dimensions of the arrays are compared element-wise. Two dimensions are compatible when:\n",
    "# They are equal, or One of them is 1.\n",
    "\n",
    "# Rule 2: \n",
    "# Size of 1: If one of the arrays has size 1 in a particular dimension, \n",
    "# it is \"stretched\" to match the size of the other array in that dimension.\n",
    "\n",
    "# Rule 3: \n",
    "# Missing Dimensions: If the arrays have a different number of dimensions, missing dimensions are assumed to have a size of 1.\n",
    "\n",
    "import numpy as np\n",
    "\n",
    "# Create a 2x3 array\n",
    "A = np.array([[1, 2, 3], [4, 5, 6]])\n",
    "\n",
    "# Add a scalar (broadcasting)\n",
    "result = A + 10\n",
    "\n",
    "print(result)"
   ]
  }
 ],
 "metadata": {
  "kernelspec": {
   "display_name": "Python 3",
   "language": "python",
   "name": "python3"
  },
  "language_info": {
   "codemirror_mode": {
    "name": "ipython",
    "version": 3
   },
   "file_extension": ".py",
   "mimetype": "text/x-python",
   "name": "python",
   "nbconvert_exporter": "python",
   "pygments_lexer": "ipython3",
   "version": "3.11.2"
  }
 },
 "nbformat": 4,
 "nbformat_minor": 2
}
