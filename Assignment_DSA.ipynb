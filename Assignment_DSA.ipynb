{
 "cells": [
  {
   "cell_type": "markdown",
   "metadata": {},
   "source": [
    "Problem 1: Reverse a singly linked list.\n",
    "\n",
    "Input: 1 -> 2 -> 3 -> 4 -> 5\n",
    "\n",
    "Output: 5 -> 4 -> 3 -> 2 -> 1"
   ]
  },
  {
   "cell_type": "code",
   "execution_count": 2,
   "metadata": {},
   "outputs": [
    {
     "name": "stdout",
     "output_type": "stream",
     "text": [
      "1->2->3->4->5->\n",
      "5->4->3->2->1->\n"
     ]
    }
   ],
   "source": [
    "class Node :\n",
    "  def __init__(self,data=None, next=None):\n",
    "    self.data = data\n",
    "    self.next = next\n",
    "\n",
    "  #Method to set the data value\n",
    "  # def setData(self,data):\n",
    "  #   self.data = data\n",
    "\n",
    "  #method to get the data value\n",
    "  def getData(self):\n",
    "    return self.data\n",
    "\n",
    "  #Method of set the next\n",
    "  def setNext(self, next):\n",
    "    self.next = next\n",
    "\n",
    "  #Method to get the next\n",
    "  def getNext(self):\n",
    "    return self.next \n",
    "\n",
    "#Create a linked list -> collection of list nodes\n",
    "head = Node(1)\n",
    "node2 = Node(2)\n",
    "node3 = Node(3)\n",
    "node4 = Node(4)\n",
    "node5 = Node(5)\n",
    "\n",
    "#Creating the linkage\n",
    "head.setNext(node2)\n",
    "node2.setNext(node3)\n",
    "node3.setNext(node4)\n",
    "node4.setNext(node5)\n",
    "\n",
    "# traversal\n",
    "def traverse(head):\n",
    "  temp = head # without changing head so taken temp pointing to head\n",
    "  while(temp):\n",
    "    print(temp.getData(),end=\"->\")\n",
    "    temp = temp.getNext() #jump to the next node\n",
    "traverse(head)\n",
    "\n",
    "# Reversing a LinkedList\n",
    "def revv(): \n",
    "    print() \n",
    "    stack = [] \n",
    "    curr=head \n",
    "    while curr: \n",
    "        stack.append(curr) \n",
    "        curr = curr.next \n",
    "    while len(stack): \n",
    "        print(stack.pop().data,end='->') \n",
    "    print() \n",
    "\n",
    "revv()\n"
   ]
  },
  {
   "cell_type": "markdown",
   "metadata": {},
   "source": [
    "Problem 2: Merge two sorted linked lists into one sorted linked list.\n",
    "\n",
    "Input: List 1: 1 -> 3 -> 5, List 2: 2 -> 4 -> 6\n",
    "\n",
    "Output: 1 -> 2 -> 3 -> 4 -> 5 -> 6"
   ]
  },
  {
   "cell_type": "code",
   "execution_count": 3,
   "metadata": {},
   "outputs": [
    {
     "name": "stdout",
     "output_type": "stream",
     "text": [
      "Merged List:\n",
      "1->2->3->4->5->6->\n"
     ]
    }
   ],
   "source": [
    "class Node:\n",
    "    def __init__(self, data=None, next=None):\n",
    "        self.data = data\n",
    "        self.next = next\n",
    "\n",
    "    # def setData(self, data):\n",
    "    #     self.data = data\n",
    "\n",
    "    def getData(self):\n",
    "        return self.data\n",
    "\n",
    "    def setNext(self, next):\n",
    "        self.next = next\n",
    "\n",
    "    def getNext(self):\n",
    "        return self.next\n",
    "\n",
    "def traverse(head):\n",
    "    temp = head\n",
    "    while temp:\n",
    "        print(temp.getData(), end=\"->\")\n",
    "        temp = temp.getNext()\n",
    "    print()\n",
    "\n",
    "def merge_sorted_lists(list1, list2):\n",
    "    merged_head = Node()  # Dummy node to simplify code\n",
    "    current = merged_head\n",
    "\n",
    "    while list1 and list2:\n",
    "        if list1.getData() < list2.getData():\n",
    "            current.setNext(list1)\n",
    "            list1 = list1.getNext()\n",
    "        else:\n",
    "            current.setNext(list2)\n",
    "            list2 = list2.getNext()\n",
    "\n",
    "        current = current.getNext()\n",
    "\n",
    "    # If one of the lists is not fully processed, append the remaining nodes\n",
    "    if list1:\n",
    "        current.setNext(list1)\n",
    "    elif list2:\n",
    "        current.setNext(list2)\n",
    "\n",
    "    return merged_head.getNext()  # Skip the dummy node and return the merged list\n",
    "\n",
    "# Example usage:\n",
    "# Create two sorted linked lists\n",
    "list1 = Node(1, Node(3, Node(5)))\n",
    "list2 = Node(2, Node(4, Node(6)))\n",
    "\n",
    "# Merge the two sorted lists\n",
    "merged_list = merge_sorted_lists(list1, list2)\n",
    "\n",
    "# Print the merged list\n",
    "print(\"Merged List:\")\n",
    "traverse(merged_list)"
   ]
  },
  {
   "cell_type": "markdown",
   "metadata": {},
   "source": [
    "Problem 3: Remove the nth node from the end of a linked list.\n",
    "\n",
    "Input: 1 -> 2 -> 3 -> 4 -> 5, n = 2\n",
    "\n",
    "Output: 1 -> 2 -> 3 -> 5"
   ]
  },
  {
   "cell_type": "code",
   "execution_count": 4,
   "metadata": {},
   "outputs": [
    {
     "name": "stdout",
     "output_type": "stream",
     "text": [
      "1->2->3->4->5->\n",
      "\n",
      "1->2->3->5->\n"
     ]
    }
   ],
   "source": [
    "class Node :\n",
    "  def __init__(self,data=None, next=None):\n",
    "    self.data = data\n",
    "    self.next = next\n",
    "\n",
    "  #Method to set the data value\n",
    "  # def setData(self,data):\n",
    "  #   self.data = data\n",
    "\n",
    "  #method to get the data value\n",
    "  def getData(self):\n",
    "    return self.data\n",
    "\n",
    "  #Method of set the next\n",
    "  def setNext(self, next):\n",
    "    self.next = next\n",
    "\n",
    "  #Method to get the next\n",
    "  def getNext(self):\n",
    "    return self.next\n",
    "\n",
    "  def traverse(head):\n",
    "    temp = head\n",
    "    while(temp):\n",
    "      print(temp.getData(),end=\"->\")\n",
    "      temp = temp.getNext() #jump to the next node\n",
    "\n",
    "  #Find the length/size of linkedList... Input head\n",
    "def length(head):\n",
    "  len =0\n",
    "  while(head):\n",
    "    len +=1\n",
    "    head = head.getNext()\n",
    "  return len\n",
    "\n",
    "# Deleting a node at beginning/middle/ending of the linked list\n",
    "def remove(head,k):  #Supposed to return the new head of the transformed LL ( by removing kth node)\n",
    "  #Check if k is valid\n",
    "  if(k<0 or k>= length(head) or not head):\n",
    "    return head\n",
    "  if(k==0):\n",
    "    # We are removing the first element\n",
    "    head = head.getNext()\n",
    "  else :\n",
    "    # We jump to k-1th position\n",
    "    i=0\n",
    "    prev = head\n",
    "    while(i<= k-1):\n",
    "      prev = prev.getNext()\n",
    "      i +=1\n",
    "    #prev will be pointing to the node left of the kth position\n",
    "    prev.setNext(prev.getNext().getNext())\n",
    "  return head\n",
    "\n",
    "head = Node(1)\n",
    "node2 = Node(2)\n",
    "node3 = Node(3)\n",
    "node4 = Node(4)\n",
    "node5 = Node(5)\n",
    "\n",
    "#Creating the linkage\n",
    "head.setNext(node2)\n",
    "node2.setNext(node3)\n",
    "node3.setNext(node4)\n",
    "node4.setNext(node5)\n",
    "\n",
    "traverse(head)\n",
    "print()\n",
    "head = remove(head,2)\n",
    "traverse(head)"
   ]
  },
  {
   "cell_type": "markdown",
   "metadata": {},
   "source": [
    "Problem 4: Find the intersection point of two linked lists.\n",
    "\n",
    "Input: List 1: 1 -> 2 -> 3 -> 4, List 2: 9 -> 8 -> 3 -> 4\n",
    "\n",
    "Output: Node with value 3"
   ]
  },
  {
   "cell_type": "code",
   "execution_count": 5,
   "metadata": {},
   "outputs": [
    {
     "name": "stdout",
     "output_type": "stream",
     "text": [
      "Linked List 1:\n",
      "1->2->3->4->\n",
      "Linked List 2:\n",
      "9->8->3->4->\n",
      "Intersection Node Value: 3\n"
     ]
    }
   ],
   "source": [
    "class Node:\n",
    "    def __init__(self, data=None, next=None):\n",
    "        self.data = data\n",
    "        self.next = next\n",
    "\n",
    "    # def setData(self, data):\n",
    "    #     self.data = data\n",
    "\n",
    "    def getData(self):\n",
    "        return self.data\n",
    "\n",
    "    # def setNext(self, next):\n",
    "    #     self.next = next\n",
    "\n",
    "    def getNext(self):\n",
    "        return self.next\n",
    "\n",
    "def traverse(head):\n",
    "    temp = head\n",
    "    while temp:\n",
    "        print(temp.getData(), end=\"->\")\n",
    "        temp = temp.getNext()\n",
    "    print()\n",
    "\n",
    "def find_intersection(head1, head2):\n",
    "    def get_length(node):\n",
    "        length = 0\n",
    "        while node:\n",
    "            length += 1\n",
    "            node = node.getNext()\n",
    "        return length\n",
    "\n",
    "    len1 = get_length(head1)\n",
    "    len2 = get_length(head2)\n",
    "\n",
    "    diff = abs(len1 - len2)\n",
    "\n",
    "    # Move the head of the longer list forward by 'diff' nodes\n",
    "    if len1 > len2:\n",
    "        for _ in range(diff):\n",
    "            head1 = head1.getNext()\n",
    "    else:\n",
    "        for _ in range(diff):\n",
    "            head2 = head2.getNext()\n",
    "\n",
    "    # Iterate through both lists until a common node is found\n",
    "    while head1 and head2:\n",
    "        if head1 == head2:\n",
    "            return head1\n",
    "        head1 = head1.getNext()\n",
    "        head2 = head2.getNext()\n",
    "\n",
    "    return None  # No intersection found\n",
    "\n",
    "# Example usage:\n",
    "# Create two linked lists\n",
    "list1 = Node(1, Node(2, Node(3, Node(4))))\n",
    "list2 = Node(9, Node(8, list1.getNext().getNext()))  # Creating an intersection\n",
    "\n",
    "# Print the original linked lists\n",
    "print(\"Linked List 1:\")\n",
    "traverse(list1)\n",
    "print(\"Linked List 2:\")\n",
    "traverse(list2)\n",
    "\n",
    "# Find the intersection point\n",
    "intersection_node = find_intersection(list1, list2)\n",
    "\n",
    "if intersection_node:\n",
    "    print(f\"Intersection Node Value: {intersection_node.getData()}\")\n",
    "else:\n",
    "    print(\"No intersection found\")"
   ]
  },
  {
   "cell_type": "markdown",
   "metadata": {},
   "source": [
    "Problem 5: Remove duplicates from a sorted linked list.\n",
    "\n",
    "Input: 1 -> 1 -> 2 -> 3 -> 3\n",
    "\n",
    "Output: 1 -> 2 -> 3"
   ]
  },
  {
   "cell_type": "code",
   "execution_count": 3,
   "metadata": {},
   "outputs": [
    {
     "name": "stdout",
     "output_type": "stream",
     "text": [
      "Original Linked List:\n",
      "1->1->2->3->3->\n",
      "Linked List after removing duplicates:\n",
      "1->2->3->\n"
     ]
    }
   ],
   "source": [
    "class Node:\n",
    "    def __init__(self, data=None, next=None):\n",
    "        self.data = data\n",
    "        self.next = next\n",
    "\n",
    "    # def setData(self, data):\n",
    "    #     self.data = data\n",
    "\n",
    "    def getData(self):\n",
    "        return self.data\n",
    "\n",
    "    def setNext(self, next):\n",
    "        self.next = next\n",
    "\n",
    "    def getNext(self):\n",
    "        return self.next\n",
    "\n",
    "def traverse(head):\n",
    "    temp = head\n",
    "    while temp:\n",
    "        print(temp.getData(), end=\"->\")\n",
    "        temp = temp.getNext()\n",
    "    print()\n",
    "\n",
    "def remove_duplicates(head):\n",
    "    current = head\n",
    "\n",
    "    while current and current.getNext():\n",
    "        if current.getData() == current.getNext().getData():\n",
    "            current.setNext(current.getNext().getNext())\n",
    "        else:\n",
    "            current = current.getNext()\n",
    "\n",
    "# Example usage:\n",
    "# Create a sorted linked list with duplicates\n",
    "head = Node(1, Node(1, Node(2, Node(3, Node(3)))))\n",
    "\n",
    "# Print the original linked list\n",
    "print(\"Original Linked List:\")\n",
    "traverse(head)\n",
    "\n",
    "# Remove duplicates\n",
    "remove_duplicates(head)\n",
    "\n",
    "# Print the modified linked list after removing duplicates\n",
    "print(\"Linked List after removing duplicates:\")\n",
    "traverse(head)"
   ]
  },
  {
   "cell_type": "markdown",
   "metadata": {},
   "source": [
    "Problem 6: Add two numbers represented by linked lists (where each node contains a single digit).\n",
    "\n",
    "Input: List 1: 2 -> 4 -> 3, List 2: 5 -> 6 -> 4 (represents 342 + 465)\n",
    "\n",
    "Output: 7 -> 0 -> 8 (represents 807)"
   ]
  },
  {
   "cell_type": "code",
   "execution_count": 14,
   "metadata": {},
   "outputs": [
    {
     "name": "stdout",
     "output_type": "stream",
     "text": [
      "Linked List 1:\n",
      "2->4->3->\n",
      "Linked List 2:\n",
      "5->6->4->\n",
      "addition of two linkedlists where node containing a single digit: 807\n"
     ]
    }
   ],
   "source": [
    "class Node:\n",
    "    def __init__(self, data=None, next=None):\n",
    "        self.data = data\n",
    "        self.next = next\n",
    "\n",
    "    # def setData(self, data):\n",
    "    #     self.data = data\n",
    "\n",
    "    def getData(self):\n",
    "        return self.data\n",
    "\n",
    "    # def setNext(self, next):\n",
    "    #     self.next = next\n",
    "\n",
    "    def getNext(self):\n",
    "        return self.next\n",
    "\n",
    "def traverse(head):\n",
    "    temp = head\n",
    "    while temp:\n",
    "        print(temp.getData(), end=\"->\")\n",
    "        temp = temp.getNext()\n",
    "    print()\n",
    "\n",
    "def find_two_numbers_addition(head1, head2):\n",
    "    def get_length(node):\n",
    "        length = \"\"\n",
    "        while node:\n",
    "            length = length + str(node.getData())\n",
    "            node = node.getNext()\n",
    "        return length\n",
    "\n",
    "    len1 = int(get_length(head1))\n",
    "    len2 = int(get_length(head2))\n",
    "\n",
    "    diff = (len1 + len2)\n",
    "    return diff\n",
    "\n",
    "# Example usage: # Create two linked lists\n",
    "list1 = Node(2, Node(4, Node(3)))\n",
    "list2 = Node(5, Node(6, Node(4)))\n",
    "\n",
    "# Print the original linked lists\n",
    "print(\"Linked List 1:\")\n",
    "traverse(list1)\n",
    "print(\"Linked List 2:\")\n",
    "traverse(list2)\n",
    "\n",
    "# Find the addition of two numbers\n",
    "add_two_numbers = find_two_numbers_addition(list1, list2)\n",
    "\n",
    "print(f\"addition of two linkedlists where node containing a single digit: {add_two_numbers}\")"
   ]
  },
  {
   "cell_type": "markdown",
   "metadata": {},
   "source": [
    "Problem 7: Swap nodes in pairs in a linked list.\n",
    "\n",
    "Input: 1 -> 2 -> 3 -> 4\n",
    "\n",
    "Output: 2 -> 1 -> 4 -> 3"
   ]
  },
  {
   "cell_type": "code",
   "execution_count": 10,
   "metadata": {},
   "outputs": [
    {
     "name": "stdout",
     "output_type": "stream",
     "text": [
      "Original Linked List:\n",
      "1 -> 2 -> 3 -> 4 -> \n",
      "Linked List after swapping nodes in pairs:\n",
      "2 -> 1 -> 4 -> 3 -> \n"
     ]
    }
   ],
   "source": [
    "class Node:\n",
    "    def __init__(self, data=None, next=None):\n",
    "        self.data = data\n",
    "        self.next = next\n",
    "\n",
    "    def setData(self, data):\n",
    "        self.data = data\n",
    "\n",
    "    def getData(self):\n",
    "        return self.data\n",
    "\n",
    "    def setNext(self, next):\n",
    "        self.next = next\n",
    "\n",
    "    def getNext(self):\n",
    "        return self.next\n",
    "\n",
    "def traverse(head):\n",
    "    temp = head\n",
    "    while temp:\n",
    "        print(temp.getData(), end=\" -> \")\n",
    "        temp = temp.getNext()\n",
    "    print()\n",
    "\n",
    "def swap_nodes_in_pairs(head):\n",
    "    if not head or not head.getNext():\n",
    "        return head  # No or only one node, nothing to swap\n",
    "\n",
    "    new_head = head.getNext()  # New head after swapping\n",
    "    prev = None\n",
    "\n",
    "    while head and head.getNext():\n",
    "        first = head\n",
    "        second = first.getNext()\n",
    "\n",
    "        # Swap nodes\n",
    "        first.setNext(second.getNext())\n",
    "        second.setNext(first)\n",
    "        # print(first.getNext(),second.getNext(),first.getData(),second.getData())\n",
    "\n",
    "        # Link the swapped pair to the previous part of the list\n",
    "        if prev:\n",
    "            prev.setNext(second)\n",
    "\n",
    "        prev = first\n",
    "        head = first.getNext()\n",
    "\n",
    "    return new_head\n",
    "\n",
    "# Example usage:\n",
    "# Create a linked list\n",
    "head = Node(1, Node(2, Node(3, Node(4))))\n",
    "\n",
    "# Print the original linked list\n",
    "print(\"Original Linked List:\")\n",
    "traverse(head)\n",
    "\n",
    "# Swap nodes in pairs\n",
    "head = swap_nodes_in_pairs(head)\n",
    "\n",
    "# Print the modified linked list after swapping nodes in pairs\n",
    "print(\"Linked List after swapping nodes in pairs:\")\n",
    "traverse(head)"
   ]
  },
  {
   "cell_type": "markdown",
   "metadata": {},
   "source": [
    "Problem 8: Reverse nodes in a linked list in groups of k.\n",
    "\n",
    "Input: 1 -> 2 -> 3 -> 4 -> 5, k = 3\n",
    "\n",
    "Output: 3 -> 2 -> 1 -> 4 -> 5"
   ]
  },
  {
   "cell_type": "code",
   "execution_count": 11,
   "metadata": {},
   "outputs": [
    {
     "name": "stdout",
     "output_type": "stream",
     "text": [
      "Original Linked List:\n",
      "1 -> 2 -> 3 -> 4 -> \n",
      "Reversed Linked List:\n",
      "4 -> 3 -> 2 -> 1 -> \n"
     ]
    }
   ],
   "source": [
    "class Node:\n",
    "    def __init__(self, data=None, next=None):\n",
    "        self.data = data\n",
    "        self.next = next\n",
    "\n",
    "    def setData(self, data):\n",
    "        self.data = data\n",
    "\n",
    "    def getData(self):\n",
    "        return self.data\n",
    "\n",
    "    def setNext(self, next):\n",
    "        self.next = next\n",
    "\n",
    "    def getNext(self):\n",
    "        return self.next\n",
    "\n",
    "def traverse(head):\n",
    "    temp = head\n",
    "    while temp:\n",
    "        print(temp.getData(), end=\" -> \")\n",
    "        temp = temp.getNext()\n",
    "    print()\n",
    "\n",
    "def reverse_linked_list(head):\n",
    "    prev = None\n",
    "    current = head\n",
    "\n",
    "    while current:\n",
    "        next_node = current.getNext()\n",
    "        current.setNext(prev)\n",
    "        prev = current\n",
    "        current = next_node\n",
    "\n",
    "    return prev  # New head after reversing\n",
    "\n",
    "# Example usage:\n",
    "# Create a linked list\n",
    "head = Node(1, Node(2, Node(3, Node(4))))\n",
    "\n",
    "# Print the original linked list\n",
    "print(\"Original Linked List:\")\n",
    "traverse(head)\n",
    "\n",
    "# Reverse the linked list\n",
    "head = reverse_linked_list(head)\n",
    "\n",
    "# Print the modified linked list after reversing\n",
    "print(\"Reversed Linked List:\")\n",
    "traverse(head)"
   ]
  },
  {
   "cell_type": "markdown",
   "metadata": {},
   "source": [
    "Problem 9: Determine if a linked list is a palindrome.\n",
    "\n",
    "Input: 1 -> 2 -> 2 -> 1\n",
    "\n",
    "Output: True"
   ]
  },
  {
   "cell_type": "code",
   "execution_count": 12,
   "metadata": {},
   "outputs": [
    {
     "name": "stdout",
     "output_type": "stream",
     "text": [
      "Is Palindrome: True\n",
      "Is Palindrome: False\n"
     ]
    }
   ],
   "source": [
    "class Node:\n",
    "    def __init__(self, data=None, next=None):\n",
    "        self.data = data\n",
    "        self.next = next\n",
    "\n",
    "    def setData(self, data):\n",
    "        self.data = data\n",
    "\n",
    "    def getData(self):\n",
    "        return self.data\n",
    "\n",
    "    def setNext(self, next):\n",
    "        self.next = next\n",
    "\n",
    "    def getNext(self):\n",
    "        return self.next\n",
    "\n",
    "def is_palindrome(head):\n",
    "    # Helper function to reverse a linked list\n",
    "    def reverse_linked_list(node):\n",
    "        prev = None\n",
    "        current = node\n",
    "\n",
    "        while current:\n",
    "            next_node = current.getNext()\n",
    "            current.setNext(prev)\n",
    "            prev = current\n",
    "            current = next_node\n",
    "\n",
    "        return prev\n",
    "\n",
    "    # Helper function to compare two linked lists\n",
    "    def compare_lists(list1, list2):\n",
    "        while list1 and list2:\n",
    "            if list1.getData() != list2.getData():\n",
    "                return False\n",
    "            list1 = list1.getNext()\n",
    "            list2 = list2.getNext()\n",
    "        return True\n",
    "\n",
    "    # Find the middle of the linked list using the slow and fast pointers\n",
    "    slow = fast = head\n",
    "    while fast and fast.getNext():\n",
    "        slow = slow.getNext()\n",
    "        fast = fast.getNext().getNext()\n",
    "\n",
    "    # Reverse the second half of the linked list\n",
    "    reversed_half = reverse_linked_list(slow)\n",
    "\n",
    "    # Compare the original first half with the reversed second half\n",
    "    return compare_lists(head, reversed_half)\n",
    "\n",
    "# Example usage:\n",
    "# Create a palindrome linked list\n",
    "palindrome_list = Node(1, Node(2, Node(3, Node(2, Node(1)))))\n",
    "\n",
    "# Create a non-palindrome linked list\n",
    "non_palindrome_list = Node(1, Node(2, Node(3, Node(4, Node(5)))))\n",
    "\n",
    "# Check if the lists are palindromes\n",
    "print(\"Is Palindrome:\", is_palindrome(palindrome_list))  # Should print True\n",
    "print(\"Is Palindrome:\", is_palindrome(non_palindrome_list))  # Should print False"
   ]
  },
  {
   "cell_type": "markdown",
   "metadata": {},
   "source": [
    "Problem 10: Rotate a linked list to the right by k places.\n",
    "\n",
    "Input: 1 -> 2 -> 3 -> 4 -> 5, k = 2\n",
    "\n",
    "Output: 4 -> 5 -> 1 -> 2 -> 3"
   ]
  },
  {
   "cell_type": "code",
   "execution_count": 13,
   "metadata": {},
   "outputs": [
    {
     "name": "stdout",
     "output_type": "stream",
     "text": [
      "Rotated Linked List:\n",
      "4 -> 5 -> 1 -> 2 -> 3 -> \n"
     ]
    }
   ],
   "source": [
    "class Node:\n",
    "    def __init__(self, data=None, next=None):\n",
    "        self.data = data\n",
    "        self.next = next\n",
    "\n",
    "def rotate_linked_list(head, k):\n",
    "    if not head or k == 0:\n",
    "        return head\n",
    "\n",
    "    # Find the length of the linked list\n",
    "    length = 0\n",
    "    current = head\n",
    "    while current:\n",
    "        length += 1\n",
    "        current = current.next\n",
    "\n",
    "    # Effective rotation value\n",
    "    k %= length\n",
    "\n",
    "    if k == 0:\n",
    "        return head  # No rotation needed\n",
    "\n",
    "    # Move to the (length - k)th node\n",
    "    current = head\n",
    "    for _ in range(length - k - 1):\n",
    "        current = current.next\n",
    "\n",
    "    # Update pointers to create a new head and a new tail\n",
    "    new_head = current.next\n",
    "    current.next = None\n",
    "    new_tail = new_head\n",
    "    while new_tail.next:\n",
    "        new_tail = new_tail.next\n",
    "\n",
    "    # Set the next pointer of the original tail to the original head\n",
    "    new_tail.next = head\n",
    "\n",
    "    return new_head\n",
    "\n",
    "# Function to print the linked list\n",
    "def traverse(head):\n",
    "    temp = head\n",
    "    while temp:\n",
    "        print(temp.data, end=\" -> \")\n",
    "        temp = temp.next\n",
    "    print()\n",
    "\n",
    "# Example usage:\n",
    "# Create a linked list: 1 -> 2 -> 3 -> 4 -> 5\n",
    "head = Node(1, Node(2, Node(3, Node(4, Node(5)))))\n",
    "\n",
    "# Rotate the linked list to the right by k = 2 places\n",
    "k = 2\n",
    "rotated_head = rotate_linked_list(head, k)\n",
    "\n",
    "# Print the rotated linked list\n",
    "print(\"Rotated Linked List:\")\n",
    "traverse(rotated_head)"
   ]
  },
  {
   "cell_type": "markdown",
   "metadata": {},
   "source": [
    "Problem 11: Flatten a multilevel doubly linked list.\n",
    "\n",
    "Input: 1 <-> 2 <-> 3 <-> 7 <-> 8 <-> 11 -> 12, 4 <-> 5 -> 9 -> 10, 6 -> 13\n",
    "\n",
    "Output: 1 <-> 2 <-> 3 <-> 4 <-> 5 <-> 6 <-> 7 <-> 8 <-> 9 <-> 10 <-> 11 <-> 12 <-> 13"
   ]
  },
  {
   "cell_type": "code",
   "execution_count": null,
   "metadata": {},
   "outputs": [],
   "source": []
  },
  {
   "cell_type": "markdown",
   "metadata": {},
   "source": [
    "Problem 12: Rearrange a linked list such that all even positioned nodes are placed at the end.\n",
    "\n",
    "Input: 1 -> 2 -> 3 -> 4 -> 5\n",
    "\n",
    "Output: 1 -> 3 -> 5 -> 2 -> 4"
   ]
  },
  {
   "cell_type": "code",
   "execution_count": 30,
   "metadata": {},
   "outputs": [
    {
     "name": "stdout",
     "output_type": "stream",
     "text": [
      "Original Linked List:\n",
      "1 -> 2 -> 3 -> 4 -> 5 -> None\n",
      "\n",
      "Rearranged Linked List:\n",
      "1 -> 3 -> 5 -> 2 -> 4 -> None\n"
     ]
    }
   ],
   "source": [
    "class ListNode:\n",
    "    def __init__(self, value=0, next=None):\n",
    "        self.value = value\n",
    "        self.next = next\n",
    "\n",
    "def rearrange_linked_list(head):\n",
    "    if not head or not head.next:\n",
    "        return head\n",
    "\n",
    "    # Separate nodes into odd and even position lists\n",
    "    odd_head, even_head = ListNode(), ListNode()\n",
    "    odd, even = odd_head, even_head\n",
    "    is_odd = True\n",
    "\n",
    "    current = head\n",
    "    while current:\n",
    "        if is_odd:\n",
    "            odd.next = current\n",
    "            odd = odd.next\n",
    "        else:\n",
    "            even.next = current\n",
    "            even = even.next\n",
    "\n",
    "        is_odd = not is_odd\n",
    "        current = current.next\n",
    "\n",
    "    # Connect the odd position list to the end of the even position list\n",
    "    even.next = None  # Set the end of the even position list to None\n",
    "    odd.next = even_head.next\n",
    "\n",
    "    return odd_head.next\n",
    "\n",
    "# Function to print the linked list\n",
    "def print_linked_list(head):\n",
    "    current = head\n",
    "    while current:\n",
    "        print(current.value, end=\" -> \")\n",
    "        current = current.next\n",
    "    print(\"None\")\n",
    "\n",
    "# Example usage:\n",
    "# Create a linked list: 1 -> 2 -> 3 -> 4 -> 5\n",
    "head = ListNode(1, ListNode(2, ListNode(3, ListNode(4, ListNode(5)))))\n",
    "\n",
    "# Print the original linked list\n",
    "print(\"Original Linked List:\")\n",
    "print_linked_list(head)\n",
    "\n",
    "# Rearrange the linked list\n",
    "new_head = rearrange_linked_list(head)\n",
    "\n",
    "# Print the rearranged linked list\n",
    "print(\"\\nRearranged Linked List:\")\n",
    "print_linked_list(new_head)"
   ]
  },
  {
   "cell_type": "markdown",
   "metadata": {},
   "source": [
    "Problem 13: Given a non-negative number represented as a linked list, add one to it.\n",
    "\n",
    "Input: 1 -> 2 -> 3 (represents the number 123)\n",
    "\n",
    "Output: 1 -> 2 -> 4 (represents the number 124)"
   ]
  },
  {
   "cell_type": "code",
   "execution_count": 31,
   "metadata": {},
   "outputs": [
    {
     "name": "stdout",
     "output_type": "stream",
     "text": [
      "Original Linked List:\n",
      "1 -> 2 -> 3 -> None\n",
      "\n",
      "Linked List after adding one:\n",
      "1 -> 2 -> 4 -> None\n"
     ]
    }
   ],
   "source": [
    "class ListNode:\n",
    "    def __init__(self, value=0, next=None):\n",
    "        self.value = value\n",
    "        self.next = next\n",
    "\n",
    "def add_one_to_linked_list(head):\n",
    "    # Reverse the linked list\n",
    "    def reverse_linked_list(node):\n",
    "        prev = None\n",
    "        current = node\n",
    "        while current:\n",
    "            next_node = current.next\n",
    "            current.next = prev\n",
    "            prev = current\n",
    "            current = next_node\n",
    "        return prev\n",
    "\n",
    "    # Add one to the linked list\n",
    "    def add_one(node):\n",
    "        carry = 1\n",
    "        while node and carry:\n",
    "            total = node.value + carry\n",
    "            node.value = total % 10\n",
    "            carry = total // 10\n",
    "            prev = node\n",
    "            node = node.next\n",
    "\n",
    "        # If there is still a carry after traversing the linked list\n",
    "        if carry:\n",
    "            prev.next = ListNode(carry)\n",
    "\n",
    "    head = reverse_linked_list(head)\n",
    "    add_one(head)\n",
    "    return reverse_linked_list(head)\n",
    "\n",
    "# Function to print the linked list\n",
    "def print_linked_list(head):\n",
    "    current = head\n",
    "    while current:\n",
    "        print(current.value, end=\" -> \")\n",
    "        current = current.next\n",
    "    print(\"None\")\n",
    "\n",
    "# Example usage:\n",
    "# Create a linked list: 1 -> 2 -> 3 (represents the number 123)\n",
    "head = ListNode(1, ListNode(2, ListNode(3)))\n",
    "\n",
    "# Print the original linked list\n",
    "print(\"Original Linked List:\")\n",
    "print_linked_list(head)\n",
    "\n",
    "# Add one to the linked list\n",
    "new_head = add_one_to_linked_list(head)\n",
    "\n",
    "# Print the updated linked list\n",
    "print(\"\\nLinked List after adding one:\")\n",
    "print_linked_list(new_head)"
   ]
  },
  {
   "cell_type": "markdown",
   "metadata": {},
   "source": [
    "Problem 14: Given a sorted array and a target value, return the index if the target is found. If not, return the index where it\n",
    "would be inserted.\n",
    "\n",
    "Input: nums = [1, 3, 5, 6], target = 5\n",
    "\n",
    "Output: 2"
   ]
  },
  {
   "cell_type": "code",
   "execution_count": 32,
   "metadata": {},
   "outputs": [
    {
     "name": "stdout",
     "output_type": "stream",
     "text": [
      "2\n"
     ]
    }
   ],
   "source": [
    "def search_insert(nums, target):\n",
    "    low, high = 0, len(nums) - 1\n",
    "\n",
    "    while low <= high:\n",
    "        mid = low + (high - low) // 2\n",
    "\n",
    "        if nums[mid] == target:\n",
    "            return mid\n",
    "        elif nums[mid] < target:\n",
    "            low = mid + 1\n",
    "        else:\n",
    "            high = mid - 1\n",
    "\n",
    "    # If the target is not found, 'low' represents the insertion position\n",
    "    return low\n",
    "\n",
    "# Example usage:\n",
    "nums = [1, 3, 5, 6]\n",
    "target = 5\n",
    "result = search_insert(nums, target)\n",
    "print(result)"
   ]
  },
  {
   "cell_type": "markdown",
   "metadata": {},
   "source": [
    "Problem 15: Find the minimum element in a rotated sorted array.\n",
    "\n",
    "Input: [4, 5, 6, 7, 0, 1, 2]\n",
    "\n",
    "Output: 0"
   ]
  },
  {
   "cell_type": "code",
   "execution_count": 33,
   "metadata": {},
   "outputs": [
    {
     "name": "stdout",
     "output_type": "stream",
     "text": [
      "0\n"
     ]
    }
   ],
   "source": [
    "def find_min(nums):\n",
    "    left, right = 0, len(nums) - 1\n",
    "\n",
    "    while left < right:\n",
    "        mid = left + (right - left) // 2\n",
    "\n",
    "        # Check if the minimum element is in the left or right half\n",
    "        if nums[mid] > nums[right]:\n",
    "            left = mid + 1\n",
    "        else:\n",
    "            right = mid\n",
    "\n",
    "    # 'left' now points to the minimum element\n",
    "    return nums[left]\n",
    "\n",
    "# Example usage:\n",
    "nums = [4, 5, 6, 7, 0, 1, 2]\n",
    "min_element = find_min(nums)\n",
    "print(min_element)"
   ]
  },
  {
   "cell_type": "markdown",
   "metadata": {},
   "source": [
    "Problem 16: Search for a target value in a rotated sorted array.\n",
    "\n",
    "Input: nums = [4, 5, 6, 7, 0, 1, 2], target = 0\n",
    "\n",
    "Output: 4"
   ]
  },
  {
   "cell_type": "code",
   "execution_count": 34,
   "metadata": {},
   "outputs": [
    {
     "name": "stdout",
     "output_type": "stream",
     "text": [
      "4\n"
     ]
    }
   ],
   "source": [
    "def search_rotated_array(nums, target):\n",
    "    left, right = 0, len(nums) - 1\n",
    "\n",
    "    while left <= right:\n",
    "        mid = left + (right - left) // 2\n",
    "\n",
    "        # Check if the target is found\n",
    "        if nums[mid] == target:\n",
    "            return mid\n",
    "\n",
    "        # Determine which half is sorted and check if the target is in that half\n",
    "        if nums[left] <= nums[mid]:  # Left half is sorted\n",
    "            if nums[left] <= target <= nums[mid]:\n",
    "                right = mid - 1\n",
    "            else:\n",
    "                left = mid + 1\n",
    "        else:  # Right half is sorted\n",
    "            if nums[mid] <= target <= nums[right]:\n",
    "                left = mid + 1\n",
    "            else:\n",
    "                right = mid - 1\n",
    "\n",
    "    # Target is not found in the array\n",
    "    return -1\n",
    "\n",
    "# Example usage:\n",
    "nums = [4, 5, 6, 7, 0, 1, 2]\n",
    "target = 0\n",
    "result = search_rotated_array(nums, target)\n",
    "print(result)"
   ]
  },
  {
   "cell_type": "markdown",
   "metadata": {},
   "source": [
    "Problem 17: Find the peak element in an array. A peak element is greater than its neighbours.\n",
    "\n",
    "Input: nums = [1, 2, 3, 1]\n",
    "\n",
    "Output: 2 (index of peak element)"
   ]
  },
  {
   "cell_type": "code",
   "execution_count": 35,
   "metadata": {},
   "outputs": [
    {
     "name": "stdout",
     "output_type": "stream",
     "text": [
      "2\n"
     ]
    }
   ],
   "source": [
    "def find_peak_element(nums):\n",
    "    left, right = 0, len(nums) - 1\n",
    "\n",
    "    while left < right:\n",
    "        mid = left + (right - left) // 2\n",
    "\n",
    "        # Check if mid is the peak element\n",
    "        if nums[mid] > nums[mid + 1]:\n",
    "            right = mid\n",
    "        else:\n",
    "            left = mid + 1\n",
    "\n",
    "    # 'left' now points to the peak element\n",
    "    return left\n",
    "\n",
    "# Example usage:\n",
    "nums = [1, 2, 3, 1]\n",
    "peak_index = find_peak_element(nums)\n",
    "print(peak_index)"
   ]
  },
  {
   "cell_type": "markdown",
   "metadata": {},
   "source": [
    "Problem 18: Given a m x n matrix where each row and column is sorted in ascending order, count the number of negative\n",
    "numbers.\n",
    "\n",
    "Input: grid = [[4, 3, 2, -1], [3, 2, 1, -1], [1, 1, -1, -2], [-1, -1, -2, -3]]\n",
    "\n",
    "Output: 8"
   ]
  },
  {
   "cell_type": "code",
   "execution_count": 36,
   "metadata": {},
   "outputs": [
    {
     "name": "stdout",
     "output_type": "stream",
     "text": [
      "8\n"
     ]
    }
   ],
   "source": [
    "def count_negatives(grid):\n",
    "    if not grid or not grid[0]:\n",
    "        return 0\n",
    "\n",
    "    rows, cols = len(grid), len(grid[0])\n",
    "    count = 0\n",
    "    row, col = 0, cols - 1  # Start from the top-right corner\n",
    "\n",
    "    while row < rows and col >= 0:\n",
    "        # If the current element is negative, then all elements in the current column are negative\n",
    "        if grid[row][col] < 0:\n",
    "            count += (rows - row)\n",
    "            col -= 1\n",
    "        else:\n",
    "            row += 1\n",
    "\n",
    "    return count\n",
    "\n",
    "# Example usage:\n",
    "grid = [\n",
    "    [4, 3, 2, -1],\n",
    "    [3, 2, 1, -1],\n",
    "    [1, 1, -1, -2],\n",
    "    [-1, -1, -2, -3]\n",
    "]\n",
    "result = count_negatives(grid)\n",
    "print(result)"
   ]
  },
  {
   "cell_type": "markdown",
   "metadata": {},
   "source": [
    "Problem 19: Given a 2D matrix sorted in ascending order in each row, and the first integer of each row is greater than\n",
    "the last integer of the previous row, determine if a target value is present in the matrix.\n",
    "\n",
    "Input: matrix = [[1, 3, 5, 7], [10, 11, 16, 20], [23, 30, 34, 60]], target = 3\n",
    "\n",
    "Output: True"
   ]
  },
  {
   "cell_type": "code",
   "execution_count": 37,
   "metadata": {},
   "outputs": [
    {
     "name": "stdout",
     "output_type": "stream",
     "text": [
      "True\n"
     ]
    }
   ],
   "source": [
    "def search_matrix(matrix, target):\n",
    "    if not matrix or not matrix[0]:\n",
    "        return False\n",
    "\n",
    "    rows, cols = len(matrix), len(matrix[0])\n",
    "    row, col = 0, cols - 1\n",
    "\n",
    "    while row < rows and col >= 0:\n",
    "        current_value = matrix[row][col]\n",
    "\n",
    "        if current_value == target:\n",
    "            return True\n",
    "        elif current_value < target:\n",
    "            row += 1\n",
    "        else:\n",
    "            col -= 1\n",
    "\n",
    "    return False\n",
    "\n",
    "# Example usage:\n",
    "matrix = [\n",
    "    [1, 3, 5, 7],\n",
    "    [10, 11, 16, 20],\n",
    "    [23, 30, 34, 60]\n",
    "]\n",
    "target = 3\n",
    "result = search_matrix(matrix, target)\n",
    "print(result)"
   ]
  },
  {
   "cell_type": "markdown",
   "metadata": {},
   "source": [
    "Problem 20: Find Median in Two Sorted Arrays Given two sorted arrays, find the median of the combined sorted array.\n",
    "\n",
    "Input: nums1 = [1, 3], nums2 = [2]\n",
    "\n",
    "Output: 2.0"
   ]
  },
  {
   "cell_type": "code",
   "execution_count": 38,
   "metadata": {},
   "outputs": [
    {
     "name": "stdout",
     "output_type": "stream",
     "text": [
      "2\n"
     ]
    }
   ],
   "source": [
    "def findMedianSortedArrays(nums1, nums2):\n",
    "    merged = []\n",
    "    i, j = 0, 0\n",
    "\n",
    "    while i < len(nums1) and j < len(nums2):\n",
    "        if nums1[i] < nums2[j]:\n",
    "            merged.append(nums1[i])\n",
    "            i += 1\n",
    "        else:\n",
    "            merged.append(nums2[j])\n",
    "            j += 1\n",
    "\n",
    "    # Append remaining elements from nums1, if any\n",
    "    while i < len(nums1):\n",
    "        merged.append(nums1[i])\n",
    "        i += 1\n",
    "\n",
    "    # Append remaining elements from nums2, if any\n",
    "    while j < len(nums2):\n",
    "        merged.append(nums2[j])\n",
    "        j += 1\n",
    "\n",
    "    combined_length = len(merged)\n",
    "    mid = combined_length // 2\n",
    "\n",
    "    if combined_length % 2 == 0:\n",
    "        # If combined length is even, return the average of the middle elements\n",
    "        return (merged[mid - 1] + merged[mid]) / 2.0\n",
    "    else:\n",
    "        # If combined length is odd, return the middle element\n",
    "        return merged[mid]\n",
    "\n",
    "# Example usage:\n",
    "nums1 = [1, 3]\n",
    "nums2 = [2]\n",
    "result = findMedianSortedArrays(nums1, nums2)\n",
    "print(result)"
   ]
  },
  {
   "cell_type": "markdown",
   "metadata": {},
   "source": [
    "Problem 21: Given a sorted character array and a target letter, find the smallest letter in the array that is greater than\n",
    "the target.\n",
    "\n",
    "Input: letters = ['c', 'f', 'j'], target = a\n",
    "\n",
    "Output: 'c'"
   ]
  },
  {
   "cell_type": "code",
   "execution_count": 39,
   "metadata": {},
   "outputs": [
    {
     "name": "stdout",
     "output_type": "stream",
     "text": [
      "c\n"
     ]
    }
   ],
   "source": [
    "def next_greatest_letter(letters, target):\n",
    "    low, high = 0, len(letters)\n",
    "\n",
    "    while low < high:\n",
    "        mid = low + (high - low) // 2\n",
    "\n",
    "        if letters[mid] <= target:\n",
    "            low = mid + 1\n",
    "        else:\n",
    "            high = mid\n",
    "\n",
    "    # If the search reaches the end, wrap around to the beginning\n",
    "    return letters[low % len(letters)]\n",
    "\n",
    "# Example usage:\n",
    "letters = ['c', 'f', 'j']\n",
    "target = 'a'\n",
    "result = next_greatest_letter(letters, target)\n",
    "print(result)"
   ]
  },
  {
   "cell_type": "markdown",
   "metadata": {},
   "source": [
    "Problem 22: Given an array with n objects colored red, white, or blue, sort them in-place so that objects of the same color\n",
    "are adjacent, with the colors in the order red, white, and blue.\n",
    "\n",
    "Input: nums = [2, 0, 2, 1, 1, 0]\n",
    "\n",
    "Output: [0, 0, 1, 1, 2, 2]"
   ]
  },
  {
   "cell_type": "code",
   "execution_count": 40,
   "metadata": {},
   "outputs": [
    {
     "name": "stdout",
     "output_type": "stream",
     "text": [
      "[0, 0, 1, 1, 2, 2]\n"
     ]
    }
   ],
   "source": [
    "def sortColors(nums):\n",
    "    low, mid, high = 0, 0, len(nums) - 1\n",
    "\n",
    "    while mid <= high:\n",
    "        if nums[mid] == 0:\n",
    "            nums[low], nums[mid] = nums[mid], nums[low]\n",
    "            low += 1\n",
    "            mid += 1\n",
    "        elif nums[mid] == 1:\n",
    "            mid += 1\n",
    "        else:\n",
    "            nums[mid], nums[high] = nums[high], nums[mid]\n",
    "            high -= 1\n",
    "\n",
    "# Example usage:\n",
    "nums = [2, 0, 2, 1, 1, 0]\n",
    "sortColors(nums)\n",
    "print(nums)"
   ]
  },
  {
   "cell_type": "markdown",
   "metadata": {},
   "source": [
    "Problem 23: Find the kth largest element in an unsorted array.\n",
    "\n",
    "Input: nums = [3, 2, 1, 5, 6, 4], k = 2\n",
    "\n",
    "Output: 5"
   ]
  },
  {
   "cell_type": "code",
   "execution_count": 41,
   "metadata": {},
   "outputs": [
    {
     "name": "stdout",
     "output_type": "stream",
     "text": [
      "5\n"
     ]
    }
   ],
   "source": [
    "def find_kth_largest(nums, k):\n",
    "    if not nums or k > len(nums):\n",
    "        return None\n",
    "\n",
    "    def partition(nums, low, high):\n",
    "        pivot = nums[high]\n",
    "        i = low - 1\n",
    "\n",
    "        for j in range(low, high):\n",
    "            if nums[j] <= pivot:\n",
    "                i += 1\n",
    "                nums[i], nums[j] = nums[j], nums[i]\n",
    "\n",
    "        nums[i + 1], nums[high] = nums[high], nums[i + 1]\n",
    "        return i + 1\n",
    "\n",
    "    def quickselect(nums, low, high, k):\n",
    "        if low <= high:\n",
    "            pivot_index = partition(nums, low, high)\n",
    "\n",
    "            if pivot_index == len(nums) - k:\n",
    "                return nums[pivot_index]\n",
    "            elif pivot_index < len(nums) - k:\n",
    "                return quickselect(nums, pivot_index + 1, high, k)\n",
    "            else:\n",
    "                return quickselect(nums, low, pivot_index - 1, k)\n",
    "\n",
    "    return quickselect(nums, 0, len(nums) - 1, k)\n",
    "\n",
    "# Example usage:\n",
    "nums = [3, 2, 1, 5, 6, 4]\n",
    "k = 2\n",
    "result = find_kth_largest(nums, k)\n",
    "print(result)"
   ]
  },
  {
   "cell_type": "markdown",
   "metadata": {},
   "source": [
    "Problem 24: Given an unsorted array, reorder it in-place such that nums[0] <= nums[1] >= nums[2] <= nums[3]...\n",
    "\n",
    "Input: nums = [3, 5, 2, 1, 6, 4]\n",
    "\n",
    "Output: [3, 5, 1, 6, 2, 4]"
   ]
  },
  {
   "cell_type": "code",
   "execution_count": 42,
   "metadata": {},
   "outputs": [
    {
     "name": "stdout",
     "output_type": "stream",
     "text": [
      "[3, 5, 1, 6, 2, 4]\n"
     ]
    }
   ],
   "source": [
    "def wiggleSort(nums):\n",
    "    for i in range(len(nums) - 1):\n",
    "        # For even index, ensure nums[i] <= nums[i+1]\n",
    "        # For odd index, ensure nums[i] >= nums[i+1]\n",
    "        if (i % 2 == 0 and nums[i] > nums[i + 1]) or (i % 2 == 1 and nums[i] < nums[i + 1]):\n",
    "            nums[i], nums[i + 1] = nums[i + 1], nums[i]\n",
    "\n",
    "# Example usage:\n",
    "nums = [3, 5, 2, 1, 6, 4]\n",
    "wiggleSort(nums)\n",
    "print(nums)"
   ]
  },
  {
   "cell_type": "markdown",
   "metadata": {},
   "source": [
    "Problem 25: Given an array of integers, calculate the sum of all its elements.\n",
    "\n",
    "Input: [1, 2, 3, 4, 5]\n",
    "\n",
    "Output: 15"
   ]
  },
  {
   "cell_type": "code",
   "execution_count": 43,
   "metadata": {},
   "outputs": [
    {
     "name": "stdout",
     "output_type": "stream",
     "text": [
      "15\n"
     ]
    }
   ],
   "source": [
    "def calculate_sum(nums):\n",
    "    return sum(nums)\n",
    "\n",
    "# Example usage:\n",
    "input_array = [1, 2, 3, 4, 5]\n",
    "result = calculate_sum(input_array)\n",
    "print(result)"
   ]
  },
  {
   "cell_type": "markdown",
   "metadata": {},
   "source": [
    "Problem 26: Find the maximum element in an array of integers.\n",
    "\n",
    "Input: [3, 7, 2, 9, 4, 1]\n",
    "\n",
    "Output: 9"
   ]
  },
  {
   "cell_type": "code",
   "execution_count": 44,
   "metadata": {},
   "outputs": [
    {
     "name": "stdout",
     "output_type": "stream",
     "text": [
      "9\n"
     ]
    }
   ],
   "source": [
    "def find_maximum(nums):\n",
    "    return max(nums)\n",
    "\n",
    "# Example usage:\n",
    "input_array = [3, 7, 2, 9, 4, 1]\n",
    "result = find_maximum(input_array)\n",
    "print(result)"
   ]
  },
  {
   "cell_type": "markdown",
   "metadata": {},
   "source": [
    "Problem 27: Implement linear search to find the index of a target element in an array.\n",
    "\n",
    "Input: [5, 3, 8, 2, 7, 4], target = 8\n",
    "\n",
    "Output: 2"
   ]
  },
  {
   "cell_type": "code",
   "execution_count": 45,
   "metadata": {},
   "outputs": [
    {
     "name": "stdout",
     "output_type": "stream",
     "text": [
      "The target element 8 is found at index 2.\n"
     ]
    }
   ],
   "source": [
    "def linear_search(nums, target):\n",
    "    for i in range(len(nums)):\n",
    "        if nums[i] == target:\n",
    "            return i\n",
    "    return -1  # Return -1 if the target element is not found\n",
    "\n",
    "# Example usage:\n",
    "input_array = [5, 3, 8, 2, 7, 4]\n",
    "target_element = 8\n",
    "result = linear_search(input_array, target_element)\n",
    "\n",
    "if result != -1:\n",
    "    print(f\"The target element {target_element} is found at index {result}.\")\n",
    "else:\n",
    "    print(f\"The target element {target_element} is not found in the array.\")"
   ]
  },
  {
   "cell_type": "markdown",
   "metadata": {},
   "source": [
    "Problem 28 Calculate the factorial of a given number.\n",
    "\n",
    "Input: 5\n",
    "\n",
    "Output: 120 (as 5! = 5 * 4 * 3 * 2 * 1 = 120)"
   ]
  },
  {
   "cell_type": "code",
   "execution_count": 46,
   "metadata": {},
   "outputs": [
    {
     "name": "stdout",
     "output_type": "stream",
     "text": [
      "The factorial of 5 is: 120\n"
     ]
    }
   ],
   "source": [
    "def factorial_recursive(n):\n",
    "    if n == 0 or n == 1:\n",
    "        return 1\n",
    "    else:\n",
    "        return n * factorial_recursive(n - 1)\n",
    "\n",
    "# Example usage:\n",
    "input_number = 5\n",
    "result_recursive = factorial_recursive(input_number)\n",
    "print(f\"The factorial of {input_number} is: {result_recursive}\")"
   ]
  },
  {
   "cell_type": "markdown",
   "metadata": {},
   "source": [
    "Problem 29: Check if a given number is a prime number.\n",
    "\n",
    "Input: 7\n",
    "\n",
    "Output: True"
   ]
  },
  {
   "cell_type": "code",
   "execution_count": 47,
   "metadata": {},
   "outputs": [
    {
     "name": "stdout",
     "output_type": "stream",
     "text": [
      "7 is prime: True\n"
     ]
    }
   ],
   "source": [
    "def is_prime(number):\n",
    "    if number <= 1:\n",
    "        return False\n",
    "    for i in range(2, int(number**0.5) + 1):\n",
    "        if number % i == 0:\n",
    "            return False\n",
    "    return True\n",
    "\n",
    "# Example usage:\n",
    "input_number = 7\n",
    "result = is_prime(input_number)\n",
    "print(f\"{input_number} is prime: {result}\")"
   ]
  },
  {
   "cell_type": "markdown",
   "metadata": {},
   "source": [
    "Problem 30: Generate the Fibonacci series up to a given number n.\n",
    "\n",
    "Input: 8\n",
    "\n",
    "Output: [0, 1, 1, 2, 3, 5, 8, 13]"
   ]
  },
  {
   "cell_type": "code",
   "execution_count": 48,
   "metadata": {},
   "outputs": [
    {
     "name": "stdout",
     "output_type": "stream",
     "text": [
      "Fibonacci series up to 8: [0, 1, 1, 2, 3, 5, 8]\n"
     ]
    }
   ],
   "source": [
    "def generate_fibonacci_series(n):\n",
    "    fibonacci_series = [0, 1]\n",
    "    while fibonacci_series[-1] + fibonacci_series[-2] <= n:\n",
    "        next_term = fibonacci_series[-1] + fibonacci_series[-2]\n",
    "        fibonacci_series.append(next_term)\n",
    "    return fibonacci_series\n",
    "\n",
    "# Example usage:\n",
    "input_number = 8\n",
    "result = generate_fibonacci_series(input_number)\n",
    "print(f\"Fibonacci series up to {input_number}: {result}\")"
   ]
  },
  {
   "cell_type": "markdown",
   "metadata": {},
   "source": [
    "Problem 31: Calculate the power of a number using recursion.\n",
    "\n",
    "Input: base = 3, exponent = 4\n",
    "\n",
    "Output: 81 (as 3^4 = 3 * 3 * 3 * 3 = 81)"
   ]
  },
  {
   "cell_type": "code",
   "execution_count": 49,
   "metadata": {},
   "outputs": [
    {
     "name": "stdout",
     "output_type": "stream",
     "text": [
      "3^4 is: 81\n"
     ]
    }
   ],
   "source": [
    "def power_recursive(base, exponent):\n",
    "    if exponent == 0:\n",
    "        return 1\n",
    "    else:\n",
    "        return base * power_recursive(base, exponent - 1)\n",
    "\n",
    "# Example usage:\n",
    "base_number = 3\n",
    "exponent_number = 4\n",
    "result = power_recursive(base_number, exponent_number)\n",
    "print(f\"{base_number}^{exponent_number} is: {result}\")"
   ]
  },
  {
   "cell_type": "markdown",
   "metadata": {},
   "source": [
    "Problem 32: Reverse a given string.\n",
    "\n",
    "Input: \"hello\"\n",
    "\n",
    "Output: \"olleh\""
   ]
  },
  {
   "cell_type": "code",
   "execution_count": 50,
   "metadata": {},
   "outputs": [
    {
     "name": "stdout",
     "output_type": "stream",
     "text": [
      "Reversed string: olleh\n"
     ]
    }
   ],
   "source": [
    "def reverse_string(input_string):\n",
    "    return input_string[::-1]\n",
    "\n",
    "# Example usage:\n",
    "input_str = \"hello\"\n",
    "result = reverse_string(input_str)\n",
    "print(f\"Reversed string: {result}\")"
   ]
  }
 ],
 "metadata": {
  "kernelspec": {
   "display_name": "Python 3",
   "language": "python",
   "name": "python3"
  },
  "language_info": {
   "codemirror_mode": {
    "name": "ipython",
    "version": 3
   },
   "file_extension": ".py",
   "mimetype": "text/x-python",
   "name": "python",
   "nbconvert_exporter": "python",
   "pygments_lexer": "ipython3",
   "version": "3.11.2"
  }
 },
 "nbformat": 4,
 "nbformat_minor": 2
}
