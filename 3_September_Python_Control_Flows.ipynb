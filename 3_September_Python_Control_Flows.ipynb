{
 "cells": [
  {
   "cell_type": "markdown",
   "metadata": {},
   "source": [
    "Control Flow"
   ]
  },
  {
   "cell_type": "markdown",
   "metadata": {},
   "source": [
    "Basic If-Else Statements:"
   ]
  },
  {
   "cell_type": "markdown",
   "metadata": {},
   "source": [
    "1. Write a Python program to check if a given number is positive or negative."
   ]
  },
  {
   "cell_type": "code",
   "execution_count": 2,
   "metadata": {},
   "outputs": [
    {
     "name": "stdout",
     "output_type": "stream",
     "text": [
      "negative\n"
     ]
    }
   ],
   "source": [
    "n=-1\n",
    "\n",
    "if n>=0:\n",
    "    print(\"Positive\")\n",
    "else:\n",
    "    print(\"negative\")"
   ]
  },
  {
   "cell_type": "markdown",
   "metadata": {},
   "source": [
    "2. Create a program that determines if a person is eligible to vote based on their age."
   ]
  },
  {
   "cell_type": "code",
   "execution_count": 4,
   "metadata": {},
   "outputs": [
    {
     "name": "stdout",
     "output_type": "stream",
     "text": [
      "Eligible to vote\n"
     ]
    }
   ],
   "source": [
    "age=19\n",
    "\n",
    "if age>=18:\n",
    "    print(\"Eligible to vote\")\n",
    "else:\n",
    "    print(\"not Eligible to vote\")"
   ]
  },
  {
   "cell_type": "markdown",
   "metadata": {},
   "source": [
    "3. Develop a program to find the maximum of two numbers using if-else statements."
   ]
  },
  {
   "cell_type": "code",
   "execution_count": 5,
   "metadata": {},
   "outputs": [
    {
     "name": "stdout",
     "output_type": "stream",
     "text": [
      "4\n"
     ]
    }
   ],
   "source": [
    "a=2\n",
    "b=4\n",
    "\n",
    "if a>=b:\n",
    "    print(a)\n",
    "else:\n",
    "    print(b)"
   ]
  },
  {
   "cell_type": "markdown",
   "metadata": {},
   "source": [
    "4. Write a Python script to classify a given year as a leap year or not."
   ]
  },
  {
   "cell_type": "code",
   "execution_count": 6,
   "metadata": {},
   "outputs": [
    {
     "name": "stdout",
     "output_type": "stream",
     "text": [
      "2000 is a leap year\n"
     ]
    }
   ],
   "source": [
    "year=2000\n",
    "\n",
    "# divided by 100 means century year (ending with 00)\n",
    "# century year divided by 400 is leap year\n",
    "if (year % 400 == 0) and (year % 100 == 0):\n",
    "    print(\"{0} is a leap year\".format(year))\n",
    "\n",
    "# not divided by 100 means not a century year\n",
    "# year divided by 4 is a leap year\n",
    "elif (year % 4 ==0) and (year % 100 != 0):\n",
    "    print(\"{0} is a leap year\".format(year))\n",
    "\n",
    "# if not divided by both 400 (century year) and 4 (not century year)\n",
    "# year is not leap year\n",
    "else:\n",
    "    print(\"{0} is not a leap year\".format(year))"
   ]
  },
  {
   "cell_type": "markdown",
   "metadata": {},
   "source": [
    "5. Create a program that checks whether a character is a vowel or a consonant."
   ]
  },
  {
   "cell_type": "code",
   "execution_count": 8,
   "metadata": {},
   "outputs": [
    {
     "name": "stdout",
     "output_type": "stream",
     "text": [
      "character is a consonant\n"
     ]
    }
   ],
   "source": [
    "a='d'\n",
    "\n",
    "if a in 'aeiou':\n",
    "    print(\"character is a vowel\")\n",
    "else:\n",
    "    print(\"character is a consonant\")"
   ]
  },
  {
   "cell_type": "markdown",
   "metadata": {},
   "source": [
    "6. Implement a program to determine whether a given number is even or odd."
   ]
  },
  {
   "cell_type": "code",
   "execution_count": 9,
   "metadata": {},
   "outputs": [
    {
     "name": "stdout",
     "output_type": "stream",
     "text": [
      "even\n"
     ]
    }
   ],
   "source": [
    "n=2\n",
    "\n",
    "if n%2==0:\n",
    "    print(\"even\")\n",
    "else:\n",
    "    print(\"odd\")"
   ]
  },
  {
   "cell_type": "markdown",
   "metadata": {},
   "source": [
    "7. Write a Python function to calculate the absolute value of a number without using the `abs()` function."
   ]
  },
  {
   "cell_type": "code",
   "execution_count": 12,
   "metadata": {},
   "outputs": [
    {
     "name": "stdout",
     "output_type": "stream",
     "text": [
      "2.5\n"
     ]
    }
   ],
   "source": [
    "import math\n",
    "\n",
    "ab=-2.5\n",
    "\n",
    "print(math.sqrt(ab**2))"
   ]
  },
  {
   "cell_type": "markdown",
   "metadata": {},
   "source": [
    "8. Develop a program that determines the largest of three given numbers using if-else statements."
   ]
  },
  {
   "cell_type": "code",
   "execution_count": 14,
   "metadata": {},
   "outputs": [
    {
     "name": "stdout",
     "output_type": "stream",
     "text": [
      "30\n"
     ]
    }
   ],
   "source": [
    "a,b,c=30,20,10\n",
    "\n",
    "if a>b:\n",
    "    print(a)\n",
    "elif b>c:\n",
    "    print(b)\n",
    "else:\n",
    "    print(c)"
   ]
  },
  {
   "cell_type": "markdown",
   "metadata": {},
   "source": [
    "9. Create a program that checks if a given string is a palindrome."
   ]
  },
  {
   "cell_type": "code",
   "execution_count": 17,
   "metadata": {},
   "outputs": [
    {
     "name": "stdout",
     "output_type": "stream",
     "text": [
      "palindrome\n"
     ]
    }
   ],
   "source": [
    "a=\"madam\"\n",
    "\n",
    "if a==a[::-1]:\n",
    "    print(\"palindrome\")\n",
    "else:\n",
    "    print(\"not palindrome\")"
   ]
  },
  {
   "cell_type": "markdown",
   "metadata": {},
   "source": [
    "10. Write a Python program to calculate the grade based on a student's score."
   ]
  },
  {
   "cell_type": "code",
   "execution_count": 18,
   "metadata": {},
   "outputs": [
    {
     "name": "stdout",
     "output_type": "stream",
     "text": [
      "B\n"
     ]
    }
   ],
   "source": [
    "stu_sc=80\n",
    "\n",
    "if stu_sc>=90:\n",
    "    print(\"A\")\n",
    "elif stu_sc>=80:\n",
    "    print(\"B\")\n",
    "elif stu_sc>=70:\n",
    "    print(\"C\")\n",
    "else:\n",
    "    print(\"D\")"
   ]
  },
  {
   "cell_type": "markdown",
   "metadata": {},
   "source": [
    "Nested If-Else Statements:"
   ]
  },
  {
   "cell_type": "markdown",
   "metadata": {},
   "source": [
    "11. Write a program to find the largest among three numbers using nested if-else statements."
   ]
  },
  {
   "cell_type": "code",
   "execution_count": 19,
   "metadata": {},
   "outputs": [
    {
     "name": "stdout",
     "output_type": "stream",
     "text": [
      "30\n"
     ]
    }
   ],
   "source": [
    "a,b,c=30,20,10\n",
    "if a >=0 and b >=0 and c>=0:\n",
    "    if a>b:\n",
    "        print(a)\n",
    "    elif b>c:\n",
    "        print(b)\n",
    "    else:\n",
    "        print(c)"
   ]
  },
  {
   "cell_type": "markdown",
   "metadata": {},
   "source": [
    "12. Implement a program to determine if a triangle is equilateral, isosceles, or scalene."
   ]
  },
  {
   "cell_type": "code",
   "execution_count": 20,
   "metadata": {},
   "outputs": [
    {
     "name": "stdout",
     "output_type": "stream",
     "text": [
      "Scalene Triangle\n"
     ]
    }
   ],
   "source": [
    "# Python3 program for the above approach\n",
    "\n",
    "# Function to check if the triangle\n",
    "# is equilateral or isosceles or scalene\n",
    "def checkTriangle(x, y, z):\n",
    "\n",
    "\t# _Check for equilateral triangle\n",
    "\tif x == y == z:\n",
    "\t\tprint(\"Equilateral Triangle\")\n",
    "\n",
    "\t# Check for isosceles triangle\n",
    "\telif x == y or y == z or z == x:\n",
    "\t\tprint(\"Isosceles Triangle\")\n",
    "\n",
    "\t# Otherwise scalene triangle\n",
    "\telse:\n",
    "\t\tprint(\"Scalene Triangle\")\n",
    "\n",
    "# Given sides of triangle\n",
    "x = 8\n",
    "y = 7\n",
    "z = 9\n",
    "\n",
    "# Function Call\n",
    "checkTriangle(x, y, z)\n"
   ]
  },
  {
   "cell_type": "markdown",
   "metadata": {},
   "source": [
    "13. Develop a program that checks if a year is a leap year and also if it is a century year."
   ]
  },
  {
   "cell_type": "code",
   "execution_count": 22,
   "metadata": {},
   "outputs": [
    {
     "name": "stdout",
     "output_type": "stream",
     "text": [
      "2000 is a leap year and century year\n"
     ]
    }
   ],
   "source": [
    "year=2000\n",
    "\n",
    "# divided by 100 means century year (ending with 00)\n",
    "# century year divided by 400 is leap year\n",
    "if (year % 400 == 0) and (year % 100 == 0):\n",
    "    print(\"{0} is a leap year and century year\".format(year))\n",
    "\n",
    "# if not divided by both 400 (century year) and 4 (not century year)\n",
    "# year is not leap year\n",
    "else:\n",
    "    print(\"{0} is not a leap year\".format(year))"
   ]
  },
  {
   "cell_type": "markdown",
   "metadata": {},
   "source": [
    "14. Write a Python script to determine if a number is positive, negative, or zero."
   ]
  },
  {
   "cell_type": "code",
   "execution_count": 23,
   "metadata": {},
   "outputs": [
    {
     "name": "stdout",
     "output_type": "stream",
     "text": [
      "negative\n"
     ]
    }
   ],
   "source": [
    "n=-1\n",
    "\n",
    "if n>=0:\n",
    "    print(\"Positive\")\n",
    "else:\n",
    "    print(\"negative\")"
   ]
  },
  {
   "cell_type": "markdown",
   "metadata": {},
   "source": [
    "15. Create a program to check if a person is a teenager (between 13 and 19 years old)."
   ]
  },
  {
   "cell_type": "code",
   "execution_count": 24,
   "metadata": {},
   "outputs": [
    {
     "name": "stdout",
     "output_type": "stream",
     "text": [
      "person is a teenager\n"
     ]
    }
   ],
   "source": [
    "n=15\n",
    "\n",
    "if n>=13 and n<=19:\n",
    "    print(\"person is a teenager\")\n",
    "else:\n",
    "    print(\"person is not a teenager\")"
   ]
  },
  {
   "cell_type": "markdown",
   "metadata": {},
   "source": [
    "16. Develop a program that determines the type of angle based on its measure (acute, obtuse, or right)."
   ]
  },
  {
   "cell_type": "code",
   "execution_count": 25,
   "metadata": {},
   "outputs": [
    {
     "name": "stdout",
     "output_type": "stream",
     "text": [
      "Acute angle\n"
     ]
    }
   ],
   "source": [
    "a=45\n",
    "\n",
    "if a<90:\n",
    "    print(\"Acute angle\")\n",
    "elif a==90:\n",
    "    print(\"right angle\")\n",
    "else:\n",
    "    print(\"obtuse angle\")"
   ]
  },
  {
   "cell_type": "markdown",
   "metadata": {},
   "source": [
    "17. Write a Python program to calculate the roots of a quadratic equation."
   ]
  },
  {
   "cell_type": "code",
   "execution_count": 26,
   "metadata": {},
   "outputs": [
    {
     "name": "stdout",
     "output_type": "stream",
     "text": [
      "The roots are\n",
      "(-12+0j)\n",
      "(2+0j)\n"
     ]
    }
   ],
   "source": [
    "# import complex math module\n",
    "import cmath\n",
    "\n",
    "a = 1\n",
    "b = 10\n",
    "c = -24\n",
    "\n",
    "# calculating the discriminant\n",
    "dis = (b**2) - (4 * a*c)\n",
    "\n",
    "# find two results\n",
    "ans1 = (-b-cmath.sqrt(dis))/(2 * a)\n",
    "ans2 = (-b + cmath.sqrt(dis))/(2 * a)\n",
    "\n",
    "# printing the results\n",
    "print('The roots are')\n",
    "print(ans1)\n",
    "print(ans2)\n"
   ]
  },
  {
   "cell_type": "markdown",
   "metadata": {},
   "source": [
    "18. Implement a program to determine the day of the week based on a user-provided number (1 for Monday, 2\n",
    "for Tuesday, etc.)."
   ]
  },
  {
   "cell_type": "code",
   "execution_count": 29,
   "metadata": {},
   "outputs": [
    {
     "data": {
      "text/plain": [
       "'Saturday'"
      ]
     },
     "execution_count": 29,
     "metadata": {},
     "output_type": "execute_result"
    }
   ],
   "source": [
    "from datetime import date\n",
    "\n",
    "year=2012\n",
    "month=4\n",
    "day=21\n",
    "\n",
    "date(year, month, day).strftime(\"%A\")"
   ]
  },
  {
   "cell_type": "markdown",
   "metadata": {},
   "source": [
    "19. Create a program that determines if a year is a leap year and also if it is evenly divisible by 400."
   ]
  },
  {
   "cell_type": "code",
   "execution_count": 32,
   "metadata": {},
   "outputs": [
    {
     "name": "stdout",
     "output_type": "stream",
     "text": [
      "2000 is a leap year\n"
     ]
    }
   ],
   "source": [
    "year=2000\n",
    "\n",
    "# divided by 100 means century year (ending with 00)\n",
    "# century year divided by 400 is leap year\n",
    "if (year % 400 == 0) and (year % 100 == 0):\n",
    "    print(\"{0} is a leap year\".format(year))\n",
    "\n",
    "# if not divided by both 400 (century year) and 4 (not century year)\n",
    "# year is not leap year\n",
    "else:\n",
    "    print(\"{0} is not a leap year\".format(year))"
   ]
  },
  {
   "cell_type": "markdown",
   "metadata": {},
   "source": [
    "20. Develop a program that checks if a given number is prime or not using nested if-else statements."
   ]
  },
  {
   "cell_type": "code",
   "execution_count": 33,
   "metadata": {},
   "outputs": [
    {
     "name": "stdout",
     "output_type": "stream",
     "text": [
      "11 is a prime number\n"
     ]
    }
   ],
   "source": [
    "num = 11\n",
    "# If given number is greater than 1\n",
    "if num > 1:\n",
    "\t# Iterate from 2 to n / 2\n",
    "\tfor i in range(2, int(num/2)+1):\n",
    "\t\t# If num is divisible by any number between\n",
    "\t\t# 2 and n / 2, it is not prime\n",
    "\t\tif (num % i) == 0:\n",
    "\t\t\tprint(num, \"is not a prime number\")\n",
    "\t\t\tbreak\n",
    "\telse:\n",
    "\t\tprint(num, \"is a prime number\")\n",
    "else:\n",
    "\tprint(num, \"is not a prime number\")"
   ]
  },
  {
   "cell_type": "markdown",
   "metadata": {},
   "source": [
    "Elif Statements:"
   ]
  },
  {
   "cell_type": "markdown",
   "metadata": {},
   "source": [
    "21. Write a Python program to assign grades based on different ranges of scores using elif statements."
   ]
  },
  {
   "cell_type": "code",
   "execution_count": 35,
   "metadata": {},
   "outputs": [
    {
     "name": "stdout",
     "output_type": "stream",
     "text": [
      "B\n"
     ]
    }
   ],
   "source": [
    "stu_sc=80\n",
    "\n",
    "if stu_sc>=90:\n",
    "    print(\"A\")\n",
    "elif stu_sc>=80:\n",
    "    print(\"B\")\n",
    "elif stu_sc>=70:\n",
    "    print(\"C\")\n",
    "else:\n",
    "    print(\"D\")"
   ]
  },
  {
   "cell_type": "markdown",
   "metadata": {},
   "source": [
    "22. Implement a program to determine the type of a triangle based on its angles."
   ]
  },
  {
   "cell_type": "code",
   "execution_count": 36,
   "metadata": {},
   "outputs": [
    {
     "name": "stdout",
     "output_type": "stream",
     "text": [
      "Acute angle\n"
     ]
    }
   ],
   "source": [
    "a=45\n",
    "\n",
    "if a<90:\n",
    "    print(\"Acute angle\")\n",
    "elif a==90:\n",
    "    print(\"right angle\")\n",
    "else:\n",
    "    print(\"obtuse angle\")"
   ]
  },
  {
   "cell_type": "markdown",
   "metadata": {},
   "source": [
    "23. Develop a program to categorize a given person's BMI into underweight, normal, overweight, or obese using\n",
    "elif statements."
   ]
  },
  {
   "cell_type": "code",
   "execution_count": 37,
   "metadata": {},
   "outputs": [
    {
     "name": "stdout",
     "output_type": "stream",
     "text": [
      "The BMI is 21.64532402096181 so Healthy\n"
     ]
    }
   ],
   "source": [
    "#Python program to illustrate\n",
    "# how to calculate BMI\n",
    "def BMI(height, weight):\n",
    "\tbmi = weight/(height**2)\n",
    "\treturn bmi\n",
    "\n",
    "# Driver code\n",
    "height = 1.79832\n",
    "weight = 70\n",
    "\n",
    "# calling the BMI function\n",
    "bmi = BMI(height, weight)\n",
    "print(\"The BMI is\", format(bmi), \"so \", end='')\n",
    "\n",
    "# Conditions to find out BMI category\n",
    "if (bmi < 18.5):\n",
    "\tprint(\"underweight\")\n",
    "\n",
    "elif ( bmi >= 18.5 and bmi < 24.9):\n",
    "\tprint(\"Healthy\")\n",
    "\n",
    "elif ( bmi >= 24.9 and bmi < 30):\n",
    "\tprint(\"overweight\")\n",
    "\n",
    "elif ( bmi >=30):\n",
    "\tprint(\"Suffering from Obesity\")"
   ]
  },
  {
   "cell_type": "markdown",
   "metadata": {},
   "source": [
    "24. Create a program that determines whether a given number is positive, negative, or zero using elif\n",
    "statements."
   ]
  },
  {
   "cell_type": "code",
   "execution_count": 38,
   "metadata": {},
   "outputs": [
    {
     "name": "stdout",
     "output_type": "stream",
     "text": [
      "negative\n"
     ]
    }
   ],
   "source": [
    "n=-1\n",
    "\n",
    "if n>0:\n",
    "    print(\"Positive\")\n",
    "elif n<0:\n",
    "    print(\"negative\")\n",
    "else:\n",
    "    print(\"Zero\")"
   ]
  },
  {
   "cell_type": "markdown",
   "metadata": {},
   "source": [
    "25. Write a Python script to determine the type of a character (uppercase, lowercase, or special) using elif\n",
    "statements."
   ]
  },
  {
   "cell_type": "code",
   "execution_count": 40,
   "metadata": {},
   "outputs": [
    {
     "name": "stdout",
     "output_type": "stream",
     "text": [
      "uppercase\n"
     ]
    }
   ],
   "source": [
    "char='A'\n",
    "\n",
    "if char.isupper():\n",
    "    print(\"uppercase\")\n",
    "elif char.islower():\n",
    "    print(\"lowercase\")\n",
    "else:\n",
    "    print(\"special\")"
   ]
  },
  {
   "cell_type": "markdown",
   "metadata": {},
   "source": [
    "26. Implement a program to calculate the discounted price based on different purchase amounts using elif\n",
    "statements."
   ]
  },
  {
   "cell_type": "code",
   "execution_count": 41,
   "metadata": {},
   "outputs": [
    {
     "name": "stdout",
     "output_type": "stream",
     "text": [
      "Discounted Price: $94.05\n"
     ]
    }
   ],
   "source": [
    "# Get the purchase amount from the user\n",
    "purchase_amount = float(input(\"Enter the purchase amount: $\"))\n",
    "\n",
    "# Define discount rates based on purchase amount\n",
    "if purchase_amount >= 100:\n",
    "    discount_rate = 0.1  # 10% discount for purchases of $100 or more\n",
    "elif purchase_amount >= 50:\n",
    "    discount_rate = 0.05  # 5% discount for purchases between $50 and $99.99\n",
    "else:\n",
    "    discount_rate = 0  # No discount for purchases less than $50\n",
    "\n",
    "# Calculate the discounted price\n",
    "discounted_price = purchase_amount - (purchase_amount * discount_rate)\n",
    "\n",
    "# Display the discounted price\n",
    "print(f\"Discounted Price: ${discounted_price:.2f}\")"
   ]
  },
  {
   "cell_type": "markdown",
   "metadata": {},
   "source": [
    "27. Develop a program to calculate the electricity bill based on different consumption slabs using elif\n",
    "statements."
   ]
  },
  {
   "cell_type": "code",
   "execution_count": 42,
   "metadata": {},
   "outputs": [
    {
     "name": "stdout",
     "output_type": "stream",
     "text": [
      "Electricity Bill: $1.40\n"
     ]
    }
   ],
   "source": [
    "# Get the electricity consumption in kilowatt-hours from the user\n",
    "consumption = float(input(\"Enter the electricity consumption in kilowatt-hours (kWh): \"))\n",
    "\n",
    "# Define electricity rate slabs and corresponding rates\n",
    "slab1_limit = 100  # Up to 100 kWh\n",
    "slab2_limit = 200  # Up to 200 kWh\n",
    "rate_slab1 = 0.10  # Rate for the first 100 kWh\n",
    "rate_slab2 = 0.15  # Rate for kWh between 101 and 200\n",
    "rate_slab3 = 0.20  # Rate for kWh above 200\n",
    "\n",
    "# Calculate the electricity bill based on consumption slabs\n",
    "if consumption <= slab1_limit:\n",
    "    bill = consumption * rate_slab1\n",
    "elif consumption <= slab2_limit:\n",
    "    bill = (slab1_limit * rate_slab1) + ((consumption - slab1_limit) * rate_slab2)\n",
    "else:\n",
    "    bill = (slab1_limit * rate_slab1) + ((slab2_limit - slab1_limit) * rate_slab2) + ((consumption - slab2_limit) * rate_slab3)\n",
    "\n",
    "# Display the calculated electricity bill\n",
    "print(f\"Electricity Bill: ${bill:.2f}\")"
   ]
  },
  {
   "cell_type": "markdown",
   "metadata": {},
   "source": [
    "28. Create a program to determine the type of quadrilateral based on its angles and sides using elif\n",
    "statements."
   ]
  },
  {
   "cell_type": "code",
   "execution_count": 43,
   "metadata": {},
   "outputs": [
    {
     "name": "stdout",
     "output_type": "stream",
     "text": [
      "It is not a valid quadrilateral.\n"
     ]
    }
   ],
   "source": [
    "# Get the angles and sides of the quadrilateral from the user\n",
    "angle1 = float(input(\"Enter the first angle in degrees: \"))\n",
    "angle2 = float(input(\"Enter the second angle in degrees: \"))\n",
    "angle3 = float(input(\"Enter the third angle in degrees: \"))\n",
    "angle4 = float(input(\"Enter the fourth angle in degrees: \"))\n",
    "side1 = float(input(\"Enter the length of the first side: \"))\n",
    "side2 = float(input(\"Enter the length of the second side: \"))\n",
    "side3 = float(input(\"Enter the length of the third side: \"))\n",
    "side4 = float(input(\"Enter the length of the fourth side: \"))\n",
    "\n",
    "# Determine the type of quadrilateral based on angles and sides\n",
    "if angle1 + angle2 + angle3 + angle4 == 360:\n",
    "    if side1 == side2 == side3 == side4:\n",
    "        print(\"It is a square.\")\n",
    "    elif side1 == side3 and side2 == side4:\n",
    "        print(\"It is a rectangle.\")\n",
    "    elif side1 == side2 == side3 or side2 == side3 == side4 or side3 == side4 == side1 or side4 == side1 == side2:\n",
    "        print(\"It is a parallelogram.\")\n",
    "    else:\n",
    "        print(\"It is a quadrilateral.\")\n",
    "else:\n",
    "    print(\"It is not a valid quadrilateral.\")"
   ]
  },
  {
   "cell_type": "markdown",
   "metadata": {},
   "source": [
    "29. Write a Python script to determine the season based on a user-provided month using elif statements."
   ]
  },
  {
   "cell_type": "code",
   "execution_count": 44,
   "metadata": {},
   "outputs": [
    {
     "name": "stdout",
     "output_type": "stream",
     "text": [
      "The season for month 5 is Spring.\n"
     ]
    }
   ],
   "source": [
    "# Get the month from the user as an integer (1-12)\n",
    "month = int(input(\"Enter a month (1-12): \"))\n",
    "\n",
    "# Determine the season based on the month\n",
    "if 3 <= month <= 5:\n",
    "    season = \"Spring\"\n",
    "elif 6 <= month <= 8:\n",
    "    season = \"Summer\"\n",
    "elif 9 <= month <= 11:\n",
    "    season = \"Autumn\"\n",
    "elif month == 12 or month <= 2:\n",
    "    season = \"Winter\"\n",
    "else:\n",
    "    season = \"Invalid month\"\n",
    "\n",
    "# Display the result\n",
    "if season != \"Invalid month\":\n",
    "    print(f\"The season for month {month} is {season}.\")\n",
    "else:\n",
    "    print(\"Invalid input. Please enter a month between 1 and 12.\")"
   ]
  },
  {
   "cell_type": "markdown",
   "metadata": {},
   "source": [
    "30. Implement a program to determine the type of a year (leap or common) and month (30 or 31 days) using\n",
    "elif statements."
   ]
  },
  {
   "cell_type": "code",
   "execution_count": 45,
   "metadata": {},
   "outputs": [
    {
     "name": "stdout",
     "output_type": "stream",
     "text": [
      "2000 is a leap year, and month 12 has 31 days.\n"
     ]
    }
   ],
   "source": [
    "# Get the year and month from the user\n",
    "year = int(input(\"Enter a year: \"))\n",
    "month = int(input(\"Enter a month (1-12): \"))\n",
    "\n",
    "# Determine if it's a leap year\n",
    "is_leap_year = (year % 4 == 0 and year % 100 != 0) or (year % 400 == 0)\n",
    "\n",
    "# Determine the number of days in the month\n",
    "if 1 <= month <= 12:\n",
    "    if month in [4, 6, 9, 11]:\n",
    "        days_in_month = 30\n",
    "    elif month == 2:\n",
    "        days_in_month = 29 if is_leap_year else 28\n",
    "    else:\n",
    "        days_in_month = 31\n",
    "    print(f\"{year} is a {'leap' if is_leap_year else 'common'} year, and month {month} has {days_in_month} days.\")\n",
    "else:\n",
    "    print(\"Invalid input. Please enter a valid month (1-12).\")"
   ]
  },
  {
   "cell_type": "code",
   "execution_count": null,
   "metadata": {},
   "outputs": [],
   "source": []
  },
  {
   "cell_type": "markdown",
   "metadata": {},
   "source": [
    "Basic Level:"
   ]
  },
  {
   "cell_type": "markdown",
   "metadata": {},
   "source": [
    "1. Write a Python program that checks if a given number is positive, negative, or zero."
   ]
  },
  {
   "cell_type": "code",
   "execution_count": 46,
   "metadata": {},
   "outputs": [
    {
     "name": "stdout",
     "output_type": "stream",
     "text": [
      "negative\n"
     ]
    }
   ],
   "source": [
    "n=-1\n",
    "\n",
    "if n>0:\n",
    "    print(\"Positive\")\n",
    "elif n<0:\n",
    "    print(\"negative\")\n",
    "else:\n",
    "    print(\"Zero\")"
   ]
  },
  {
   "cell_type": "markdown",
   "metadata": {},
   "source": [
    "2. Create a program to determine if a person is eligible to vote based on their age."
   ]
  },
  {
   "cell_type": "code",
   "execution_count": 47,
   "metadata": {},
   "outputs": [
    {
     "name": "stdout",
     "output_type": "stream",
     "text": [
      "Eligible to vote\n"
     ]
    }
   ],
   "source": [
    "n=19\n",
    "\n",
    "if n>=18:\n",
    "    print(\"Eligible to vote\")\n",
    "else:\n",
    "    print(\"Not Eligible\")"
   ]
  },
  {
   "cell_type": "markdown",
   "metadata": {},
   "source": [
    "3. Write a program to find the maximum of two given numbers using conditional statements."
   ]
  },
  {
   "cell_type": "code",
   "execution_count": 48,
   "metadata": {},
   "outputs": [
    {
     "name": "stdout",
     "output_type": "stream",
     "text": [
      "20 is maximum number\n"
     ]
    }
   ],
   "source": [
    "a=10\n",
    "b=20\n",
    "if a>b:\n",
    "    print(a,\"is maximum number\")\n",
    "else:\n",
    "    print(b,\"is maximum number\")"
   ]
  },
  {
   "cell_type": "markdown",
   "metadata": {},
   "source": [
    "4. Develop a program that calculates the grade of a student based on their exam score."
   ]
  },
  {
   "cell_type": "code",
   "execution_count": 49,
   "metadata": {},
   "outputs": [
    {
     "name": "stdout",
     "output_type": "stream",
     "text": [
      "B\n"
     ]
    }
   ],
   "source": [
    "stu_sc=80\n",
    "\n",
    "if stu_sc>=90:\n",
    "    print(\"A\")\n",
    "elif stu_sc>=80:\n",
    "    print(\"B\")\n",
    "elif stu_sc>=70:\n",
    "    print(\"C\")\n",
    "else:\n",
    "    print(\"D\")"
   ]
  },
  {
   "cell_type": "markdown",
   "metadata": {},
   "source": [
    "5. Create a program that checks if a year is a leap year or not."
   ]
  },
  {
   "cell_type": "code",
   "execution_count": 50,
   "metadata": {},
   "outputs": [
    {
     "name": "stdout",
     "output_type": "stream",
     "text": [
      "2000 is a leap year\n"
     ]
    }
   ],
   "source": [
    "year=2000\n",
    "\n",
    "# divided by 100 means century year (ending with 00)\n",
    "# century year divided by 400 is leap year\n",
    "if (year % 400 == 0) and (year % 100 == 0):\n",
    "    print(\"{0} is a leap year\".format(year))\n",
    "\n",
    "# not divided by 100 means not a century year\n",
    "# year divided by 4 is a leap year\n",
    "elif (year % 4 ==0) and (year % 100 != 0):\n",
    "    print(\"{0} is a leap year\".format(year))\n",
    "\n",
    "# if not divided by both 400 (century year) and 4 (not century year)\n",
    "# year is not leap year\n",
    "else:\n",
    "    print(\"{0} is not a leap year\".format(year))"
   ]
  },
  {
   "cell_type": "markdown",
   "metadata": {},
   "source": [
    "6. Write a program to classify a triangle based on its sides' lengths."
   ]
  },
  {
   "cell_type": "code",
   "execution_count": 51,
   "metadata": {},
   "outputs": [
    {
     "name": "stdout",
     "output_type": "stream",
     "text": [
      "Acute-angled Triangle\n"
     ]
    }
   ],
   "source": [
    "# Python3 implementation to find the type of triangle with the help of the sides\n",
    "# Function to find the type of triangle with the help of sides\n",
    "def checkTypeOfTriangle(a,b,c):\n",
    "\tsqa = pow(a, 2)\n",
    "\tsqb = pow(b, 2)\n",
    "\tsqc = pow(c, 2)\n",
    "\n",
    "\tif (sqa == sqc + sqb or\n",
    "\t\tsqb == sqa + sqc or\n",
    "\t\tsqc == sqa + sqb):\n",
    "\t\tprint(\"Right-angled Triangle\")\n",
    "\n",
    "\telif(sqa > sqc + sqb or\n",
    "\t\t\tsqb > sqa + sqc or\n",
    "\t\t\tsqc > sqa + sqb):\n",
    "\t\tprint(\"Obtuse-angled Triangle\")\n",
    "\n",
    "\telse:\n",
    "\t\tprint(\"Acute-angled Triangle\")\n",
    "\n",
    "# Driver Code\n",
    "if __name__ == '__main__':\n",
    "\ta = 2\n",
    "\tb = 2\n",
    "\tc = 2\n",
    "\n",
    "\t# Function Call\n",
    "\tcheckTypeOfTriangle(a, b, c)"
   ]
  },
  {
   "cell_type": "markdown",
   "metadata": {},
   "source": [
    "7. Build a program that determines the largest of three given numbers."
   ]
  },
  {
   "cell_type": "code",
   "execution_count": 52,
   "metadata": {},
   "outputs": [
    {
     "name": "stdout",
     "output_type": "stream",
     "text": [
      "The largest number is 14\n"
     ]
    }
   ],
   "source": [
    "# change the values of num1, num2 and num3 for a different result\n",
    "num1 = 10\n",
    "num2 = 14\n",
    "num3 = 12\n",
    "\n",
    "if (num1 >= num2) and (num1 >= num3):\n",
    "   largest = num1\n",
    "elif (num2 >= num1) and (num2 >= num3):\n",
    "   largest = num2\n",
    "else:\n",
    "   largest = num3\n",
    "\n",
    "print(\"The largest number is\", largest)"
   ]
  },
  {
   "cell_type": "markdown",
   "metadata": {},
   "source": [
    "8. Develop a program that checks whether a character is a vowel or a consonant."
   ]
  },
  {
   "cell_type": "code",
   "execution_count": 53,
   "metadata": {},
   "outputs": [
    {
     "name": "stdout",
     "output_type": "stream",
     "text": [
      "character is a consonant\n"
     ]
    }
   ],
   "source": [
    "a='d'\n",
    "\n",
    "if a in 'aeiou':\n",
    "    print(\"character is a vowel\")\n",
    "else:\n",
    "    print(\"character is a consonant\")"
   ]
  },
  {
   "cell_type": "markdown",
   "metadata": {},
   "source": [
    "9. Create a program to calculate the total cost of a shopping cart based on discounts."
   ]
  },
  {
   "cell_type": "code",
   "execution_count": 56,
   "metadata": {},
   "outputs": [
    {
     "name": "stdout",
     "output_type": "stream",
     "text": [
      "\n",
      "Shopping Cart:\n",
      "item1: 2 x $10.00 each\n",
      "item2: 4 x $20.00 each\n",
      "Total Cart Value: $100.00\n",
      "Discount: 10%\n",
      "Discounted Total: $90.00\n"
     ]
    }
   ],
   "source": [
    "# Define the items and their prices in a dictionary\n",
    "items = {\n",
    "    \"item1\": 10.0,\n",
    "    \"item2\": 20.0,\n",
    "    \"item3\": 30.0,\n",
    "    \"item4\": 40.0,\n",
    "}\n",
    "\n",
    "# Get the items and quantities from the user\n",
    "shopping_cart = {}\n",
    "while True:\n",
    "    item = input(\"Enter an item (or 'done' to finish shopping): \").lower()\n",
    "    if item == 'done':\n",
    "        break\n",
    "    quantity = int(input(f\"Enter the quantity of {item}: \"))\n",
    "    if item in items:\n",
    "        shopping_cart[item] = shopping_cart.get(item, 0) + quantity\n",
    "    else:\n",
    "        print(\"Invalid item. Please enter a valid item.\")\n",
    "\n",
    "# Define discount rules based on the total cart value\n",
    "discount_percent = 0\n",
    "total_cart_value = sum(items[item] * shopping_cart[item] for item in shopping_cart)\n",
    "\n",
    "if total_cart_value >= 100:\n",
    "    discount_percent = 10\n",
    "elif total_cart_value >= 50:\n",
    "    discount_percent = 5\n",
    "\n",
    "# Calculate the total cost with the applied discount\n",
    "discounted_total = total_cart_value - (total_cart_value * discount_percent / 100)\n",
    "\n",
    "# Display the shopping cart and total cost\n",
    "print(\"\\nShopping Cart:\")\n",
    "for item, quantity in shopping_cart.items():\n",
    "    print(f\"{item}: {quantity} x ${items[item]:.2f} each\")\n",
    "print(f\"Total Cart Value: ${total_cart_value:.2f}\")\n",
    "print(f\"Discount: {discount_percent}%\")\n",
    "print(f\"Discounted Total: ${discounted_total:.2f}\")"
   ]
  },
  {
   "cell_type": "markdown",
   "metadata": {},
   "source": [
    "10. Write a program that checks if a given number is even or odd."
   ]
  },
  {
   "cell_type": "code",
   "execution_count": 57,
   "metadata": {},
   "outputs": [
    {
     "name": "stdout",
     "output_type": "stream",
     "text": [
      "even\n"
     ]
    }
   ],
   "source": [
    "n=2\n",
    "\n",
    "if n%2==0:\n",
    "    print(\"even\")\n",
    "else:\n",
    "    print(\"odd\")"
   ]
  },
  {
   "cell_type": "markdown",
   "metadata": {},
   "source": [
    "Intermediate Level:"
   ]
  },
  {
   "cell_type": "markdown",
   "metadata": {},
   "source": [
    "11. Write a program that calculates the roots of a quadratic equation ."
   ]
  },
  {
   "cell_type": "code",
   "execution_count": 58,
   "metadata": {},
   "outputs": [
    {
     "name": "stdout",
     "output_type": "stream",
     "text": [
      "The roots are\n",
      "(-12+0j)\n",
      "(2+0j)\n"
     ]
    }
   ],
   "source": [
    "# import complex math module\n",
    "import cmath\n",
    "\n",
    "a = 1\n",
    "b = 10\n",
    "c = -24\n",
    "\n",
    "# calculating the discriminant\n",
    "dis = (b**2) - (4 * a*c)\n",
    "\n",
    "# find two results\n",
    "ans1 = (-b-cmath.sqrt(dis))/(2 * a)\n",
    "ans2 = (-b + cmath.sqrt(dis))/(2 * a)\n",
    "\n",
    "# printing the results\n",
    "print('The roots are')\n",
    "print(ans1)\n",
    "print(ans2)"
   ]
  },
  {
   "cell_type": "markdown",
   "metadata": {},
   "source": [
    "12. Create a program that determines the day of the week based on the day number (1-7)."
   ]
  },
  {
   "cell_type": "code",
   "execution_count": 59,
   "metadata": {},
   "outputs": [
    {
     "data": {
      "text/plain": [
       "'Saturday'"
      ]
     },
     "execution_count": 59,
     "metadata": {},
     "output_type": "execute_result"
    }
   ],
   "source": [
    "from datetime import date\n",
    "\n",
    "year=2012\n",
    "month=4\n",
    "day=21\n",
    "\n",
    "date(year, month, day).strftime(\"%A\")"
   ]
  },
  {
   "cell_type": "markdown",
   "metadata": {},
   "source": [
    "13. Develop a program that calculates the factorial of a given number using recursion."
   ]
  },
  {
   "cell_type": "code",
   "execution_count": 61,
   "metadata": {},
   "outputs": [
    {
     "name": "stdout",
     "output_type": "stream",
     "text": [
      "number :  5\n",
      "Factorial :  120\n"
     ]
    }
   ],
   "source": [
    "def factorial(n):\n",
    "\t\n",
    "\t# Checking the number is 1 or 0 then\n",
    "\t# return 1\n",
    "\t# other wise return factorial\n",
    "\tif (n==1 or n==0):\n",
    "\t\t\n",
    "\t\treturn 1\n",
    "\t\n",
    "\telse:\n",
    "\t\t\n",
    "\t\treturn (n * factorial(n - 1))\n",
    "\n",
    "num = 5;\n",
    "print(\"number : \",num)\n",
    "print(\"Factorial : \",factorial(num))"
   ]
  },
  {
   "cell_type": "markdown",
   "metadata": {},
   "source": [
    "14. Write a program to find the largest among three numbers without using the `max()` function."
   ]
  },
  {
   "cell_type": "code",
   "execution_count": 62,
   "metadata": {},
   "outputs": [
    {
     "name": "stdout",
     "output_type": "stream",
     "text": [
      "The largest number is 14\n"
     ]
    }
   ],
   "source": [
    "# change the values of num1, num2 and num3 for a different result\n",
    "num1 = 10\n",
    "num2 = 14\n",
    "num3 = 12\n",
    "\n",
    "if (num1 >= num2) and (num1 >= num3):\n",
    "   largest = num1\n",
    "elif (num2 >= num1) and (num2 >= num3):\n",
    "   largest = num2\n",
    "else:\n",
    "   largest = num3\n",
    "\n",
    "print(\"The largest number is\", largest)"
   ]
  },
  {
   "cell_type": "markdown",
   "metadata": {},
   "source": [
    "15. Create a program that simulates a basic ATM transaction menu."
   ]
  },
  {
   "cell_type": "code",
   "execution_count": 63,
   "metadata": {},
   "outputs": [
    {
     "name": "stdout",
     "output_type": "stream",
     "text": [
      "\n",
      "ATM Menu:\n",
      "1. Display Balance\n",
      "2. Deposit\n",
      "3. Withdraw\n",
      "4. Quit\n",
      "Your account balance is $1000.00\n",
      "\n",
      "ATM Menu:\n",
      "1. Display Balance\n",
      "2. Deposit\n",
      "3. Withdraw\n",
      "4. Quit\n",
      "Thank you for using the ATM. Have a great day!\n"
     ]
    }
   ],
   "source": [
    "# Initialize the account balance\n",
    "account_balance = 1000.0\n",
    "\n",
    "# Function to display the account balance\n",
    "def display_balance():\n",
    "    print(f\"Your account balance is ${account_balance:.2f}\")\n",
    "\n",
    "# Function to deposit money\n",
    "def deposit():\n",
    "    global account_balance\n",
    "    amount = float(input(\"Enter the amount to deposit: $\"))\n",
    "    if amount > 0:\n",
    "        account_balance += amount\n",
    "        print(f\"${amount:.2f} has been deposited.\")\n",
    "    else:\n",
    "        print(\"Invalid amount. Please enter a positive number.\")\n",
    "\n",
    "# Function to withdraw money\n",
    "def withdraw():\n",
    "    global account_balance\n",
    "    amount = float(input(\"Enter the amount to withdraw: $\"))\n",
    "    if 0 < amount <= account_balance:\n",
    "        account_balance -= amount\n",
    "        print(f\"${amount:.2f} has been withdrawn.\")\n",
    "    elif amount <= 0:\n",
    "        print(\"Invalid amount. Please enter a positive number.\")\n",
    "    else:\n",
    "        print(\"Insufficient funds.\")\n",
    "\n",
    "# Main menu\n",
    "while True:\n",
    "    print(\"\\nATM Menu:\")\n",
    "    print(\"1. Display Balance\")\n",
    "    print(\"2. Deposit\")\n",
    "    print(\"3. Withdraw\")\n",
    "    print(\"4. Quit\")\n",
    "    \n",
    "    choice = input(\"Enter your choice (1/2/3/4): \")\n",
    "    \n",
    "    if choice == '1':\n",
    "        display_balance()\n",
    "    elif choice == '2':\n",
    "        deposit()\n",
    "    elif choice == '3':\n",
    "        withdraw()\n",
    "    elif choice == '4':\n",
    "        print(\"Thank you for using the ATM. Have a great day!\")\n",
    "        break\n",
    "    else:\n",
    "        print(\"Invalid choice. Please select a valid option (1/2/3/4).\")"
   ]
  },
  {
   "cell_type": "markdown",
   "metadata": {},
   "source": [
    "16. Build a program that checks if a given string is a palindrome or not."
   ]
  },
  {
   "cell_type": "code",
   "execution_count": 64,
   "metadata": {},
   "outputs": [
    {
     "name": "stdout",
     "output_type": "stream",
     "text": [
      "palindrome\n"
     ]
    }
   ],
   "source": [
    "a=\"madam\"\n",
    "\n",
    "if a==a[::-1]:\n",
    "    print(\"palindrome\")\n",
    "else:\n",
    "    print(\"not palindrome\")"
   ]
  },
  {
   "cell_type": "markdown",
   "metadata": {},
   "source": [
    "17. Write a program that calculates the average of a list of numbers, excluding the smallest and largest values."
   ]
  },
  {
   "cell_type": "code",
   "execution_count": 79,
   "metadata": {},
   "outputs": [
    {
     "name": "stdout",
     "output_type": "stream",
     "text": [
      "2.5\n"
     ]
    }
   ],
   "source": [
    "\n",
    "li=[1,2,3,4]\n",
    "j=0\n",
    "k=0\n",
    "for i in range(1,len(li)-1):\n",
    "    j=j+li[i]\n",
    "    k+=1\n",
    "print(j/k)"
   ]
  },
  {
   "cell_type": "markdown",
   "metadata": {},
   "source": [
    "18. Develop a program that converts a given temperature from Celsius to Fahrenheit."
   ]
  },
  {
   "cell_type": "code",
   "execution_count": 81,
   "metadata": {},
   "outputs": [
    {
     "name": "stdout",
     "output_type": "stream",
     "text": [
      "47.00 Celsius is equivalent to: 116.60 Fahrenheit\n"
     ]
    }
   ],
   "source": [
    "# Temperature in celsius degree\n",
    "celsius = 47\n",
    "\n",
    "# Converting the temperature to\n",
    "# fehrenheit using the formula\n",
    "fahrenheit = (celsius * 1.8) + 32\n",
    "\n",
    "# printing the result\n",
    "print('%.2f Celsius is equivalent to: %.2f Fahrenheit'% (celsius, fahrenheit))"
   ]
  },
  {
   "cell_type": "markdown",
   "metadata": {},
   "source": [
    "19. Create a program that simulates a basic calculator for addition, subtraction, multiplication, and division."
   ]
  },
  {
   "cell_type": "code",
   "execution_count": 82,
   "metadata": {},
   "outputs": [
    {
     "name": "stdout",
     "output_type": "stream",
     "text": [
      "Please select operation -\n",
      "1. Add\n",
      "2. Subtract\n",
      "3. Multiply\n",
      "4. Divide\n",
      "\n",
      "1 + 1 = 2\n"
     ]
    }
   ],
   "source": [
    "# Python program for simple calculator\n",
    "\n",
    "# Function to add two numbers\n",
    "def add(num1, num2):\n",
    "\treturn num1 + num2\n",
    "\n",
    "# Function to subtract two numbers\n",
    "def subtract(num1, num2):\n",
    "\treturn num1 - num2\n",
    "\n",
    "# Function to multiply two numbers\n",
    "def multiply(num1, num2):\n",
    "\treturn num1 * num2\n",
    "\n",
    "# Function to divide two numbers\n",
    "def divide(num1, num2):\n",
    "\treturn num1 / num2\n",
    "\n",
    "print(\"Please select operation -\\n\" \\\n",
    "\t\t\"1. Add\\n\" \\\n",
    "\t\t\"2. Subtract\\n\" \\\n",
    "\t\t\"3. Multiply\\n\" \\\n",
    "\t\t\"4. Divide\\n\")\n",
    "\n",
    "\n",
    "# Take input from the user\n",
    "select = int(input(\"Select operations form 1, 2, 3, 4 :\"))\n",
    "\n",
    "number_1 = int(input(\"Enter first number: \"))\n",
    "number_2 = int(input(\"Enter second number: \"))\n",
    "\n",
    "if select == 1:\n",
    "\tprint(number_1, \"+\", number_2, \"=\",\n",
    "\t\t\t\t\tadd(number_1, number_2))\n",
    "\n",
    "elif select == 2:\n",
    "\tprint(number_1, \"-\", number_2, \"=\",\n",
    "\t\t\t\t\tsubtract(number_1, number_2))\n",
    "\n",
    "elif select == 3:\n",
    "\tprint(number_1, \"*\", number_2, \"=\",\n",
    "\t\t\t\t\tmultiply(number_1, number_2))\n",
    "\n",
    "elif select == 4:\n",
    "\tprint(number_1, \"/\", number_2, \"=\",\n",
    "\t\t\t\t\tdivide(number_1, number_2))\n",
    "else:\n",
    "\tprint(\"Invalid input\")"
   ]
  },
  {
   "cell_type": "markdown",
   "metadata": {},
   "source": [
    "20. Write a program that determines the roots of a cubic equation using the Cardano formula."
   ]
  },
  {
   "cell_type": "code",
   "execution_count": 89,
   "metadata": {},
   "outputs": [
    {
     "name": "stdout",
     "output_type": "stream",
     "text": [
      "x^3- 10 x^2 +  31 x -  30  = 0\n"
     ]
    }
   ],
   "source": [
    "# Python3 program for the approach\n",
    "# Function to find the cubic equation whose roots are a, b and c\n",
    "def findEquation(a, b, c):\n",
    "\t\n",
    "\t# Find the value of coefficient\n",
    "\tX = (a + b + c);\n",
    "\tY = (a * b) + (b * c) + (c * a);\n",
    "\tZ = (a * b * c);\n",
    "\n",
    "\t# Print the equation as per the above coefficients\n",
    "\tprint(\"x^3-\",X,\"x^2 + \" ,Y ,\"x - \",Z,\" = 0\");\n",
    "\n",
    "if __name__ == '__main__':\n",
    "\ta = 5;\n",
    "\tb = 2;\n",
    "\tc = 3;\n",
    "\n",
    "\t# Function Call\n",
    "\tfindEquation(a, b, c);"
   ]
  },
  {
   "cell_type": "markdown",
   "metadata": {},
   "source": [
    "Advanced Level:"
   ]
  },
  {
   "cell_type": "markdown",
   "metadata": {},
   "source": [
    "21. Create a program that calculates the income tax based on the user's income and tax brackets."
   ]
  },
  {
   "cell_type": "code",
   "execution_count": 94,
   "metadata": {},
   "outputs": [
    {
     "name": "stdout",
     "output_type": "stream",
     "text": [
      "Total tax applicable at ₹300000.0 is ₹2500.0\n"
     ]
    }
   ],
   "source": [
    "def calculate(amount, percent):\n",
    "\treturn (amount * percent) / 100\n",
    "\n",
    "def calculate_income_tax(total_income:float) -> float:\n",
    "\tif total_income <= 250000:\n",
    "\t\treturn 0\n",
    "\telif total_income <= 500000:\n",
    "\t\treturn calculate(total_income - 250000, 5)\n",
    "\telif total_income <= 750000:\n",
    "\t\treturn calculate(total_income - 500000, 10) + 12500\n",
    "\telif total_income <= 1000000:\n",
    "\t\treturn calculate(total_income - 750000, 15) + 37500\n",
    "\telif total_income <= 1250000:\n",
    "\t\treturn calculate(total_income - 1000000, 20) + 75000\n",
    "\telif total_income <= 1500000:\n",
    "\t\treturn calculate(total_income - 1250000, 25) + 125000\n",
    "\telse:\n",
    "\t\treturn calculate(total_income - 1500000, 30) + 187500\n",
    "\n",
    "\n",
    "if __name__ == '__main__':\n",
    "\ttotal_income = float(input(\"What's your annual income?\\n>>> \"))\n",
    "\ttax = calculate_income_tax(total_income)\n",
    "\tprint(f\"Total tax applicable at ₹{total_income} is ₹{tax}\")"
   ]
  },
  {
   "cell_type": "markdown",
   "metadata": {},
   "source": [
    "22. Write a program that simulates a rock-paper-scissors game against the computer."
   ]
  },
  {
   "cell_type": "code",
   "execution_count": 98,
   "metadata": {},
   "outputs": [
    {
     "name": "stdout",
     "output_type": "stream",
     "text": [
      "You chose rock.\n",
      "Computer chose rock.\n",
      "It's a tie!\n",
      "You chose paper.\n",
      "Computer chose scissors.\n",
      "Computer wins!\n",
      "Thanks for playing! Goodbye.\n"
     ]
    }
   ],
   "source": [
    "import random\n",
    "\n",
    "# Function to get the user's choice\n",
    "def get_user_choice():\n",
    "    while True:\n",
    "        user_choice = input(\"Enter your choice (rock, paper, or scissors): \").lower()\n",
    "        if user_choice in [\"rock\", \"paper\", \"scissors\"]:\n",
    "            return user_choice\n",
    "        else:\n",
    "            print(\"Invalid choice. Please enter 'rock', 'paper', or 'scissors'.\")\n",
    "\n",
    "# Function to get the computer's choice\n",
    "def get_computer_choice():\n",
    "    choices = [\"rock\", \"paper\", \"scissors\"]\n",
    "    return random.choice(choices)\n",
    "\n",
    "# Function to determine the winner\n",
    "def determine_winner(user_choice, computer_choice):\n",
    "    if user_choice == computer_choice:\n",
    "        return \"It's a tie!\"\n",
    "    elif (\n",
    "        (user_choice == \"rock\" and computer_choice == \"scissors\") or\n",
    "        (user_choice == \"paper\" and computer_choice == \"rock\") or\n",
    "        (user_choice == \"scissors\" and computer_choice == \"paper\")\n",
    "    ):\n",
    "        return \"You win!\"\n",
    "    else:\n",
    "        return \"Computer wins!\"\n",
    "\n",
    "# Main game loop\n",
    "while True:\n",
    "    user_choice = get_user_choice()\n",
    "    computer_choice = get_computer_choice()\n",
    "    \n",
    "    print(f\"You chose {user_choice}.\")\n",
    "    print(f\"Computer chose {computer_choice}.\")\n",
    "    \n",
    "    result = determine_winner(user_choice, computer_choice)\n",
    "    print(result)\n",
    "    \n",
    "    play_again = input(\"Do you want to play again? (yes/no): \").lower()\n",
    "    if play_again != \"yes\":\n",
    "        print(\"Thanks for playing! Goodbye.\")\n",
    "        break"
   ]
  },
  {
   "cell_type": "markdown",
   "metadata": {},
   "source": [
    "23. Develop a program that generates a random password based on user preferences (length, complexity)."
   ]
  },
  {
   "cell_type": "code",
   "execution_count": 100,
   "metadata": {},
   "outputs": [
    {
     "name": "stdout",
     "output_type": "stream",
     "text": [
      "Generated Password: D^y6G-p?)$\n",
      "Goodbye.\n"
     ]
    }
   ],
   "source": [
    "import random\n",
    "import string\n",
    "\n",
    "# Function to generate a random password\n",
    "def generate_password(length, complexity):\n",
    "    if complexity == \"low\":\n",
    "        characters = string.ascii_letters\n",
    "    elif complexity == \"medium\":\n",
    "        characters = string.ascii_letters + string.digits\n",
    "    elif complexity == \"high\":\n",
    "        characters = string.ascii_letters + string.digits + string.punctuation\n",
    "    else:\n",
    "        print(\"Invalid complexity level. Please choose 'low', 'medium', or 'high'.\")\n",
    "        return None\n",
    "\n",
    "    password = ''.join(random.choice(characters) for _ in range(length))\n",
    "    return password\n",
    "\n",
    "# Get user preferences for password generation\n",
    "while True:\n",
    "    length = int(input(\"Enter the password length: \"))\n",
    "    complexity = input(\"Enter the complexity level (low/medium/high): \").lower()\n",
    "\n",
    "    password = generate_password(length, complexity)\n",
    "    if password:\n",
    "        print(\"Generated Password:\", password)\n",
    "    \n",
    "    play_again = input(\"Generate another password? (yes/no): \").lower()\n",
    "    if play_again != \"yes\":\n",
    "        print(\"Goodbye.\")\n",
    "        break"
   ]
  },
  {
   "cell_type": "markdown",
   "metadata": {},
   "source": [
    "24. Create a program that implements a simple text-based adventure game with branching scenarios."
   ]
  },
  {
   "cell_type": "code",
   "execution_count": 101,
   "metadata": {},
   "outputs": [
    {
     "name": "stdout",
     "output_type": "stream",
     "text": [
      "Welcome to the Text-Based Adventure Game!\n",
      "You find yourself standing at a crossroads...\n",
      "You can either:\n",
      "1. Go left into the dark forest.\n",
      "2. Go right towards the abandoned castle.\n",
      "You venture into the dark forest...\n",
      "You hear mysterious sounds all around you...\n",
      "After a while, you stumble upon a treasure chest!\n",
      "You decide not to open the chest and continue your journey.\n",
      "Thank you for playing!\n"
     ]
    }
   ],
   "source": [
    "import time\n",
    "\n",
    "# Function to introduce the game\n",
    "def introduction():\n",
    "    print(\"Welcome to the Text-Based Adventure Game!\")\n",
    "    time.sleep(1)\n",
    "    print(\"You find yourself standing at a crossroads...\")\n",
    "    time.sleep(1)\n",
    "\n",
    "# Function to handle the first choice\n",
    "def make_first_choice():\n",
    "    print(\"You can either:\")\n",
    "    print(\"1. Go left into the dark forest.\")\n",
    "    print(\"2. Go right towards the abandoned castle.\")\n",
    "    choice = input(\"Enter your choice (1/2): \")\n",
    "\n",
    "    if choice == \"1\":\n",
    "        dark_forest()\n",
    "    elif choice == \"2\":\n",
    "        abandoned_castle()\n",
    "    else:\n",
    "        print(\"Invalid choice. Please select 1 or 2.\")\n",
    "        make_first_choice()\n",
    "\n",
    "# Function for the dark forest scenario\n",
    "def dark_forest():\n",
    "    print(\"You venture into the dark forest...\")\n",
    "    time.sleep(1)\n",
    "    print(\"You hear mysterious sounds all around you...\")\n",
    "    time.sleep(1)\n",
    "    print(\"After a while, you stumble upon a treasure chest!\")\n",
    "    time.sleep(1)\n",
    "    choice = input(\"Do you want to open it? (yes/no): \")\n",
    "\n",
    "    if choice.lower() == \"yes\":\n",
    "        print(\"Congratulations! You found a chest full of gold!\")\n",
    "    else:\n",
    "        print(\"You decide not to open the chest and continue your journey.\")\n",
    "\n",
    "# Function for the abandoned castle scenario\n",
    "def abandoned_castle():\n",
    "    print(\"You approach the abandoned castle...\")\n",
    "    time.sleep(1)\n",
    "    print(\"The castle appears to be haunted...\")\n",
    "    time.sleep(1)\n",
    "    print(\"You see two doors, one on the left and one on the right.\")\n",
    "    time.sleep(1)\n",
    "    choice = input(\"Which door do you want to enter? (left/right): \")\n",
    "\n",
    "    if choice.lower() == \"left\":\n",
    "        print(\"You enter the left door and find a room filled with treasure!\")\n",
    "        time.sleep(1)\n",
    "        print(\"Congratulations! You are now rich!\")\n",
    "    elif choice.lower() == \"right\":\n",
    "        print(\"You enter the right door and are scared away by ghosts!\")\n",
    "        time.sleep(1)\n",
    "        print(\"You barely make it out of the castle alive...\")\n",
    "    else:\n",
    "        print(\"Invalid choice. Please enter 'left' or 'right'.\")\n",
    "        abandoned_castle()\n",
    "\n",
    "# Main game loop\n",
    "def main():\n",
    "    introduction()\n",
    "    make_first_choice()\n",
    "    print(\"Thank you for playing!\")\n",
    "\n",
    "if __name__ == \"__main__\":\n",
    "    main()"
   ]
  },
  {
   "cell_type": "markdown",
   "metadata": {},
   "source": [
    "25. Build a program that solves a linear equation for x, considering different cases."
   ]
  },
  {
   "cell_type": "code",
   "execution_count": 103,
   "metadata": {},
   "outputs": [
    {
     "name": "stdout",
     "output_type": "stream",
     "text": [
      "The solution is x = -2.0\n"
     ]
    }
   ],
   "source": [
    "# Function to solve a linear equation for x\n",
    "def solve_linear_equation(a, b):\n",
    "    if a == 0:\n",
    "        if b == 0:\n",
    "            return \"Infinite solutions (any x will work)\"\n",
    "        else:\n",
    "            return \"No solution (contradictory equation)\"\n",
    "    else:\n",
    "        x = -b / a\n",
    "        return f\"The solution is x = {x}\"\n",
    "\n",
    "# Get coefficients from the user\n",
    "a = float(input(\"Enter the coefficient 'a' (not equal to 0): \"))\n",
    "b = float(input(\"Enter the constant 'b': \"))\n",
    "\n",
    "# Solve the linear equation\n",
    "solution = solve_linear_equation(a, b)\n",
    "print(solution)"
   ]
  },
  {
   "cell_type": "markdown",
   "metadata": {},
   "source": [
    "26. Write a program that simulates a basic quiz game with multiple-choice questions and scoring."
   ]
  },
  {
   "cell_type": "code",
   "execution_count": 104,
   "metadata": {},
   "outputs": [
    {
     "name": "stdout",
     "output_type": "stream",
     "text": [
      "What is the capital of France?\n",
      "A. London\n",
      "B. Berlin\n",
      "C. Paris\n",
      "D. Rome\n",
      "Correct!\n",
      "\n",
      "Which planet is known as the 'Red Planet'?\n",
      "A. Venus\n",
      "B. Mars\n",
      "C. Jupiter\n",
      "D. Saturn\n",
      "Wrong! The correct answer is B.\n",
      "\n",
      "What is the largest mammal in the world?\n",
      "A. Elephant\n",
      "B. Giraffe\n",
      "C. Blue Whale\n",
      "D. Lion\n",
      "Correct!\n",
      "\n",
      "Quiz complete! Your score is 2/3\n"
     ]
    }
   ],
   "source": [
    "# Define a list of questions, choices, and correct answers\n",
    "questions = [\n",
    "    {\n",
    "        \"question\": \"What is the capital of France?\",\n",
    "        \"choices\": [\"A. London\", \"B. Berlin\", \"C. Paris\", \"D. Rome\"],\n",
    "        \"correct_answer\": \"C\"\n",
    "    },\n",
    "    {\n",
    "        \"question\": \"Which planet is known as the 'Red Planet'?\",\n",
    "        \"choices\": [\"A. Venus\", \"B. Mars\", \"C. Jupiter\", \"D. Saturn\"],\n",
    "        \"correct_answer\": \"B\"\n",
    "    },\n",
    "    {\n",
    "        \"question\": \"What is the largest mammal in the world?\",\n",
    "        \"choices\": [\"A. Elephant\", \"B. Giraffe\", \"C. Blue Whale\", \"D. Lion\"],\n",
    "        \"correct_answer\": \"C\"\n",
    "    }\n",
    "]\n",
    "\n",
    "# Initialize the score\n",
    "score = 0\n",
    "\n",
    "# Function to display a question and choices, and check the answer\n",
    "def ask_question(question_data):\n",
    "    print(question_data[\"question\"])\n",
    "    for choice in question_data[\"choices\"]:\n",
    "        print(choice)\n",
    "    user_answer = input(\"Enter the letter of your answer (A/B/C/D): \").upper()\n",
    "    \n",
    "    if user_answer == question_data[\"correct_answer\"]:\n",
    "        print(\"Correct!\\n\")\n",
    "        return 1\n",
    "    else:\n",
    "        print(f\"Wrong! The correct answer is {question_data['correct_answer']}.\\n\")\n",
    "        return 0\n",
    "\n",
    "# Main quiz loop\n",
    "for question in questions:\n",
    "    score += ask_question(question)\n",
    "\n",
    "# Display the final score\n",
    "print(f\"Quiz complete! Your score is {score}/{len(questions)}\")"
   ]
  },
  {
   "cell_type": "markdown",
   "metadata": {},
   "source": [
    "27. Develop a program that determines whether a given year is a prime number or not."
   ]
  },
  {
   "cell_type": "code",
   "execution_count": 105,
   "metadata": {},
   "outputs": [
    {
     "name": "stdout",
     "output_type": "stream",
     "text": [
      "2000 is not a prime number\n"
     ]
    }
   ],
   "source": [
    "num = 2000\n",
    "# If given number is greater than 1\n",
    "if num > 1:\n",
    "\t# Iterate from 2 to n / 2\n",
    "\tfor i in range(2, int(num/2)+1):\n",
    "\t\t# If num is divisible by any number between\n",
    "\t\t# 2 and n / 2, it is not prime\n",
    "\t\tif (num % i) == 0:\n",
    "\t\t\tprint(num, \"is not a prime number\")\n",
    "\t\t\tbreak\n",
    "\telse:\n",
    "\t\tprint(num, \"is a prime number\")\n",
    "else:\n",
    "\tprint(num, \"is not a prime number\")"
   ]
  },
  {
   "cell_type": "markdown",
   "metadata": {},
   "source": [
    "28. Create a program that sorts three numbers in ascending order using conditional statements."
   ]
  },
  {
   "cell_type": "code",
   "execution_count": 107,
   "metadata": {},
   "outputs": [
    {
     "name": "stdout",
     "output_type": "stream",
     "text": [
      "1.0 < 2.0 < 3.0\n"
     ]
    }
   ],
   "source": [
    "a = float(input(\"Enter a: \"))\n",
    "b = float(input(\"Enter b: \"))\n",
    "c = float(input(\"Enter c: \"))\n",
    "\n",
    "if a > b:\n",
    "    a,b = b,a\n",
    "if a > c:\n",
    "    a,c = c,a\n",
    "if b > c:\n",
    "    b,c = c,b\n",
    "    \n",
    "print (a, \"<\", b, \"<\", c)"
   ]
  },
  {
   "cell_type": "markdown",
   "metadata": {},
   "source": [
    "29. Build a program that determines the roots of a quartic equation using numerical methods."
   ]
  },
  {
   "cell_type": "code",
   "execution_count": 6,
   "metadata": {},
   "outputs": [
    {
     "name": "stdout",
     "output_type": "stream",
     "text": [
      "Quartic Equation Solver using Durand-Kerner Method\n",
      "Enter coefficients for the quartic equation (ax^4 + bx^3 + cx^2 + dx + e = 0):\n",
      "\n",
      "Roots of the quartic equation:\n",
      "Root 1: 0.3819654925163803 + 4.132680236634179e-07i\n",
      "Root 2: 2.6180349386265616 + -1.90125222224515e-07i\n",
      "Root 3: 2.618033038892708 + 1.9012912365321335e-07i\n",
      "Root 4: 0.38196652998845615 + -4.1326433836002177e-07i\n"
     ]
    }
   ],
   "source": [
    "def quartic_equation(coefficients, x):\n",
    "    return sum(a * x ** (4 - i) for i, a in enumerate(coefficients))\n",
    "\n",
    "def durand_kerner(coefficients, max_iterations=1000, tolerance=1e-6):\n",
    "    n = len(coefficients) - 1  # Quartic equation degree\n",
    "    roots = [complex(1.0, 1.0 + i) for i in range(n)]  # Improved initial guess for roots\n",
    "    new_roots = [0] * n\n",
    "\n",
    "    for iteration in range(max_iterations):\n",
    "        for i in range(n):\n",
    "            product = 1.0\n",
    "            for j, root in enumerate(roots):\n",
    "                if i != j:\n",
    "                    product *= roots[i] - root\n",
    "            new_roots[i] = roots[i] - (quartic_equation(coefficients, roots[i]) / product)\n",
    "\n",
    "        max_change = max(abs(new_roots[i] - roots[i]) for i in range(n))\n",
    "        roots = new_roots.copy()\n",
    "\n",
    "        if max_change < tolerance:\n",
    "            break\n",
    "\n",
    "    return roots\n",
    "\n",
    "\n",
    "if __name__ == \"__main__\":\n",
    "    print(\"Quartic Equation Solver using Durand-Kerner Method\")\n",
    "    print(\"Enter coefficients for the quartic equation (ax^4 + bx^3 + cx^2 + dx + e = 0):\")\n",
    "\n",
    "    a = float(input(\"a: \"))\n",
    "    b = float(input(\"b: \"))\n",
    "    c = float(input(\"c: \"))\n",
    "    d = float(input(\"d: \"))\n",
    "    e = float(input(\"e: \"))\n",
    "\n",
    "    coefficients = [a, b, c, d, e]\n",
    "    roots = durand_kerner(coefficients)\n",
    "\n",
    "    print(\"\\nRoots of the quartic equation:\")\n",
    "    for i, root in enumerate(roots):\n",
    "        print(f\"Root {i + 1}: {root.real} + {root.imag}i\")"
   ]
  },
  {
   "cell_type": "markdown",
   "metadata": {},
   "source": [
    "30. Write a program that calculates the BMI (Body Mass Index) and provides health recommendations based\n",
    "on the user's input."
   ]
  },
  {
   "cell_type": "code",
   "execution_count": 108,
   "metadata": {},
   "outputs": [
    {
     "name": "stdout",
     "output_type": "stream",
     "text": [
      "The BMI is 21.64532402096181 so Healthy\n"
     ]
    }
   ],
   "source": [
    "#Python program to illustrate\n",
    "# how to calculate BMI\n",
    "def BMI(height, weight):\n",
    "\tbmi = weight/(height**2)\n",
    "\treturn bmi\n",
    "\n",
    "# Driver code\n",
    "height = 1.79832\n",
    "weight = 70\n",
    "\n",
    "# calling the BMI function\n",
    "bmi = BMI(height, weight)\n",
    "print(\"The BMI is\", format(bmi), \"so \", end='')\n",
    "\n",
    "# Conditions to find out BMI category\n",
    "if (bmi < 18.5):\n",
    "\tprint(\"underweight\")\n",
    "\n",
    "elif ( bmi >= 18.5 and bmi < 24.9):\n",
    "\tprint(\"Healthy\")\n",
    "\n",
    "elif ( bmi >= 24.9 and bmi < 30):\n",
    "\tprint(\"overweight\")\n",
    "\n",
    "elif ( bmi >=30):\n",
    "\tprint(\"Suffering from Obesity\")"
   ]
  },
  {
   "cell_type": "markdown",
   "metadata": {},
   "source": [
    "Challenge Level:"
   ]
  },
  {
   "cell_type": "markdown",
   "metadata": {},
   "source": [
    "31. Create a program that validates a password based on complexity rules (length, characters, etc.)."
   ]
  },
  {
   "cell_type": "code",
   "execution_count": 3,
   "metadata": {},
   "outputs": [
    {
     "name": "stdout",
     "output_type": "stream",
     "text": [
      "Enter a password\n",
      "\n",
      "The password must be between 6 and 12 characters.\n",
      "\n",
      "Password is Strong\n"
     ]
    }
   ],
   "source": [
    "import re\n",
    "\n",
    "def password():\n",
    "    print ('Enter a password\\n\\nThe password must be between 6 and 12 characters.\\n')\n",
    "\n",
    "    while True:\n",
    "        password = input('Password: ... ')\n",
    "        if 6 <= len(password) < 12:\n",
    "            break\n",
    "        print ('The password must be between 6 and 12 characters.\\n')\n",
    "\n",
    "    password_scores = {0:'Horrible', 1:'Weak', 2:'Medium', 3:'Strong'}\n",
    "    password_strength = dict.fromkeys(['has_upper', 'has_lower', 'has_num'], False)\n",
    "    if re.search(r'[A-Z]', password):\n",
    "        password_strength['has_upper'] = True\n",
    "    if re.search(r'[a-z]', password):\n",
    "        password_strength['has_lower'] = True\n",
    "    if re.search(r'[0-9]', password):\n",
    "        password_strength['has_num'] = True\n",
    "\n",
    "    score = len([b for b in password_strength.values() if b])\n",
    "\n",
    "    print ('Password is %s' % password_scores[score])\n",
    "password()"
   ]
  },
  {
   "cell_type": "markdown",
   "metadata": {},
   "source": [
    "32. Develop a program that performs matrix addition and subtraction based on user input."
   ]
  },
  {
   "cell_type": "code",
   "execution_count": 4,
   "metadata": {},
   "outputs": [
    {
     "name": "stdout",
     "output_type": "stream",
     "text": [
      "Printing elements of first matrix\n",
      "1 2 \n",
      "3 4 \n",
      "Printing elements of second matrix\n",
      "4 5 \n",
      "6 7 \n",
      "Subtraction of two matrix\n",
      "-3 -3 \n",
      "-3 -3 \n"
     ]
    }
   ],
   "source": [
    "# Input matrices\n",
    "matrix1 = [[1, 2], [3, 4]]\n",
    "matrix2 = [[4, 5], [6, 7]]\n",
    "\n",
    "# Printing elements of matrix1\n",
    "print(\"Printing elements of first matrix\")\n",
    "for row in matrix1:\n",
    "\tfor element in row:\n",
    "\t\tprint(element, end=\" \")\n",
    "\tprint()\n",
    "\n",
    "# Printing elements of matrix2\n",
    "print(\"Printing elements of second matrix\")\n",
    "for row in matrix2:\n",
    "\tfor element in row:\n",
    "\t\tprint(element, end=\" \")\n",
    "\tprint()\n",
    "\n",
    "# Subtracting two matrices\n",
    "result = [[0, 0], [0, 0]]\n",
    "for i in range(len(matrix1)):\n",
    "\tfor j in range(len(matrix1[0])):\n",
    "\t\tresult[i][j] = matrix1[i][j] - matrix2[i][j]\n",
    "\n",
    "# Printing the result\n",
    "print(\"Subtraction of two matrix\")\n",
    "for row in result:\n",
    "\tfor element in row:\n",
    "\t\tprint(element, end=\" \")\n",
    "\tprint()"
   ]
  },
  {
   "cell_type": "markdown",
   "metadata": {},
   "source": [
    "33. Write a program that calculates the greatest common divisor (GCD) of two numbers using the Euclidean\n",
    "algorithm."
   ]
  },
  {
   "cell_type": "code",
   "execution_count": 5,
   "metadata": {},
   "outputs": [
    {
     "name": "stdout",
     "output_type": "stream",
     "text": [
      "The HCF is 100\n"
     ]
    }
   ],
   "source": [
    "# x=24\n",
    "# y=54\n",
    "# if x > y:\n",
    "#         smaller = y\n",
    "# else:\n",
    "#     smaller = x\n",
    "# for i in range(1, smaller+1):\n",
    "#     if((x % i == 0) and (y % i == 0)):\n",
    "#         hcf = i \n",
    "# print(hcf)\n",
    "\n",
    "# Function to find HCF the Using Euclidian algorithm\n",
    "def compute_hcf(x, y):\n",
    "   while(y):\n",
    "       x, y = y, x % y\n",
    "   return x\n",
    "\n",
    "hcf = compute_hcf(300, 400)\n",
    "print(\"The HCF is\", hcf)"
   ]
  },
  {
   "cell_type": "markdown",
   "metadata": {},
   "source": [
    "34. Build a program that performs matrix multiplication using nested loops and conditional statements."
   ]
  },
  {
   "cell_type": "code",
   "execution_count": 8,
   "metadata": {},
   "outputs": [
    {
     "name": "stdout",
     "output_type": "stream",
     "text": [
      "[114, 160, 60, 27]\n",
      "[74, 97, 73, 14]\n",
      "[119, 157, 112, 23]\n"
     ]
    }
   ],
   "source": [
    "# Program to multiply two matrices using nested loops\n",
    "\n",
    "# 3x3 matrix\n",
    "X = [[12,7,3],\n",
    "    [4 ,5,6],\n",
    "    [7 ,8,9]]\n",
    "# 3x4 matrix\n",
    "Y = [[5,8,1,2],\n",
    "    [6,7,3,0],\n",
    "    [4,5,9,1]]\n",
    "# result is 3x4\n",
    "result = [[0,0,0,0],\n",
    "         [0,0,0,0],\n",
    "         [0,0,0,0]]\n",
    "\n",
    "# iterate through rows of X\n",
    "for i in range(len(X)):\n",
    "   # iterate through columns of Y\n",
    "   for j in range(len(Y[0])):\n",
    "       # iterate through rows of Y\n",
    "       for k in range(len(Y)):\n",
    "           result[i][j] += X[i][k] * Y[k][j]\n",
    "\n",
    "for r in result:\n",
    "   print(r)"
   ]
  },
  {
   "cell_type": "markdown",
   "metadata": {},
   "source": [
    "35. Create a program that simulates a basic text-based tic-tac-toe game against the computer."
   ]
  },
  {
   "cell_type": "code",
   "execution_count": 19,
   "metadata": {},
   "outputs": [
    {
     "name": "stdout",
     "output_type": "stream",
     "text": [
      "Welcome to Tic-Tac-Toe!\n",
      "  |   |  \n",
      "---------\n",
      "  |   |  \n",
      "---------\n",
      "  |   |  \n",
      "---------\n"
     ]
    },
    {
     "name": "stdout",
     "output_type": "stream",
     "text": [
      "X |   |  \n",
      "---------\n",
      "  |   |  \n",
      "---------\n",
      "  |   |  \n",
      "---------\n",
      "X | O |  \n",
      "---------\n",
      "  |   |  \n",
      "---------\n",
      "  |   |  \n",
      "---------\n",
      "Cell already occupied. Try again.\n",
      "X | O |  \n",
      "---------\n",
      "X |   |  \n",
      "---------\n",
      "  |   |  \n",
      "---------\n",
      "X | O |  \n",
      "---------\n",
      "X |   |  \n",
      "---------\n",
      "O |   |  \n",
      "---------\n",
      "X | O |  \n",
      "---------\n",
      "X | X |  \n",
      "---------\n",
      "O |   |  \n",
      "---------\n",
      "X | O |  \n",
      "---------\n",
      "X | X | O\n",
      "---------\n",
      "O |   |  \n",
      "---------\n",
      "X | O |  \n",
      "---------\n",
      "X | X | O\n",
      "---------\n",
      "O |   | X\n",
      "---------\n",
      "Player X wins! Congratulations!\n"
     ]
    }
   ],
   "source": [
    "def print_board(board):\n",
    "    for row in board:\n",
    "        print(\" | \".join(row))\n",
    "        print(\"-\" * 9)\n",
    "\n",
    "def check_winner(board, player):\n",
    "    for row in board:\n",
    "        if all(cell == player for cell in row):\n",
    "            return True\n",
    "    for col in range(3):\n",
    "        if all(board[row][col] == player for row in range(3)):\n",
    "            return True\n",
    "    if all(board[i][i] == player for i in range(3)) or all(board[i][2 - i] == player for i in range(3)):\n",
    "        return True\n",
    "    return False\n",
    "\n",
    "def is_board_full(board):\n",
    "    return all(cell != \" \" for row in board for cell in row)\n",
    "\n",
    "def main():\n",
    "    board = [[\" \" for _ in range(3)] for _ in range(3)]\n",
    "    player = \"X\"\n",
    "\n",
    "    print(\"Welcome to Tic-Tac-Toe!\")\n",
    "    print_board(board)\n",
    "\n",
    "    while True:\n",
    "        row, col = map(int, input(f\"Player {player}, enter your move (row and column): \").split())\n",
    "\n",
    "        if board[row][col] != \" \":\n",
    "            print(\"Cell already occupied. Try again.\")\n",
    "            continue\n",
    "\n",
    "        board[row][col] = player\n",
    "        print_board(board)\n",
    "\n",
    "        if check_winner(board, player):\n",
    "            print(f\"Player {player} wins! Congratulations!\")\n",
    "            break\n",
    "        elif is_board_full(board):\n",
    "            print(\"It's a draw!\")\n",
    "            break\n",
    "\n",
    "        player = \"O\" if player == \"X\" else \"X\"\n",
    "\n",
    "if __name__ == \"__main__\":\n",
    "    main()"
   ]
  },
  {
   "cell_type": "markdown",
   "metadata": {},
   "source": [
    "36. Write a program that generates Fibonacci numbers up to a specified term using iterative methods."
   ]
  },
  {
   "cell_type": "code",
   "execution_count": 24,
   "metadata": {},
   "outputs": [
    {
     "name": "stdout",
     "output_type": "stream",
     "text": [
      "Fibonacci sequence:\n",
      "0\n",
      "1\n",
      "1\n",
      "2\n",
      "3\n"
     ]
    }
   ],
   "source": [
    "# Python program to display the Fibonacci sequence\n",
    "\n",
    "def recur_fibo(n):\n",
    "   if n <= 1:\n",
    "       return n\n",
    "   else:\n",
    "       return(recur_fibo(n-1) + recur_fibo(n-2))\n",
    "\n",
    "nterms = int(input(\"enter the number\"))\n",
    "\n",
    "# check if the number of terms is valid\n",
    "if nterms <= 0:\n",
    "   print(\"Plese enter a positive integer\")\n",
    "else:\n",
    "   print(\"Fibonacci sequence:\")\n",
    "   for i in range(nterms):\n",
    "       print(recur_fibo(i))"
   ]
  },
  {
   "cell_type": "markdown",
   "metadata": {},
   "source": [
    "37. Develop a program that calculates the nth term of the Fibonacci sequence using memoization."
   ]
  },
  {
   "cell_type": "code",
   "execution_count": 25,
   "metadata": {},
   "outputs": [
    {
     "name": "stdout",
     "output_type": "stream",
     "text": [
      "The 5th Fibonacci number is: 5\n"
     ]
    }
   ],
   "source": [
    "# Function to calculate the nth Fibonacci number using memoization\n",
    "def fibonacci(n, memo={}):\n",
    "    if n in memo:\n",
    "        return memo[n]\n",
    "    if n <= 2:\n",
    "        memo[n] = 1\n",
    "    else:\n",
    "        memo[n] = fibonacci(n - 1, memo) + fibonacci(n - 2, memo)\n",
    "    return memo[n]\n",
    "\n",
    "# Input from the user\n",
    "n = int(input(\"Enter the value of n: \"))\n",
    "\n",
    "# Check if n is valid (non-negative)\n",
    "if n < 0:\n",
    "    print(\"Please enter a non-negative integer.\")\n",
    "else:\n",
    "    result = fibonacci(n)\n",
    "    print(f\"The {n}th Fibonacci number is: {result}\")"
   ]
  },
  {
   "cell_type": "markdown",
   "metadata": {},
   "source": [
    "38. Create a program that generates a calendar for a given month and year using conditional statements."
   ]
  },
  {
   "cell_type": "code",
   "execution_count": 27,
   "metadata": {},
   "outputs": [
    {
     "name": "stdout",
     "output_type": "stream",
     "text": [
      "   November 2014\n",
      "Mo Tu We Th Fr Sa Su\n",
      "                1  2\n",
      " 3  4  5  6  7  8  9\n",
      "10 11 12 13 14 15 16\n",
      "17 18 19 20 21 22 23\n",
      "24 25 26 27 28 29 30\n",
      "\n"
     ]
    }
   ],
   "source": [
    "# Program to display calendar of the given month and year\n",
    "\n",
    "# importing calendar module\n",
    "import calendar\n",
    "\n",
    "yy = 2014  # year\n",
    "mm = 11    # month\n",
    "\n",
    "# To take month and year input from the user\n",
    "# yy = int(input(\"Enter year: \"))\n",
    "# mm = int(input(\"Enter month: \"))\n",
    "\n",
    "# display the calendar\n",
    "print(calendar.month(yy, mm))"
   ]
  },
  {
   "cell_type": "markdown",
   "metadata": {},
   "source": [
    "39. Build a program that simulates a basic text-based blackjack game against the computer."
   ]
  },
  {
   "cell_type": "code",
   "execution_count": 28,
   "metadata": {},
   "outputs": [
    {
     "name": "stdout",
     "output_type": "stream",
     "text": [
      "Cards Player Has: [('5', 'Diamonds'), ('4', 'Spades')]\n",
      "Score Of The Player: 9\n",
      "\n",
      "\n",
      "Invalid choice. Please try again.\n",
      "Cards Player Has: [('5', 'Diamonds'), ('4', 'Spades')]\n",
      "Score Of The Player: 9\n",
      "\n",
      "\n",
      "Invalid choice. Please try again.\n",
      "Cards Player Has: [('5', 'Diamonds'), ('4', 'Spades')]\n",
      "Score Of The Player: 9\n",
      "\n",
      "\n",
      "Cards Player Has: [('5', 'Diamonds'), ('4', 'Spades'), ('5', 'Clubs')]\n",
      "Score Of The Player: 14\n",
      "\n",
      "\n",
      "Cards Player Has: [('5', 'Diamonds'), ('4', 'Spades'), ('5', 'Clubs'), ('9', 'Hearts')]\n",
      "Score Of The Player: 23\n",
      "\n",
      "\n",
      "Cards Dealer Has: [('Ace', 'Hearts'), ('Jack', 'Hearts')]\n",
      "Score Of The Dealer: 21\n",
      "\n",
      "\n",
      "Cards Dealer Has: [('Ace', 'Hearts'), ('Jack', 'Hearts')]\n",
      "Score Of The Dealer: 21\n",
      "Cards Player Has: [('5', 'Diamonds'), ('4', 'Spades'), ('5', 'Clubs'), ('9', 'Hearts')]\n",
      "Score Of The Player: 23\n",
      "Player wins (Player Has High Score than Dealer)\n"
     ]
    }
   ],
   "source": [
    "import random\n",
    "\n",
    "card_categories = ['Hearts', 'Diamonds', 'Clubs', 'Spades']\n",
    "cards_list = ['Ace', '2', '3', '4', '5', '6', '7', '8', '9', '10', 'Jack', 'Queen', 'King']\n",
    "deck = [(card, category) for category in card_categories for card in cards_list]\n",
    "\n",
    "def card_value(card):\n",
    "\tif card[0] in ['Jack', 'Queen', 'King']:\n",
    "\t\treturn 10\n",
    "\telif card[0] == 'Ace':\n",
    "\t\treturn 11\n",
    "\telse:\n",
    "\t\treturn int(card[0])\n",
    "\n",
    "random.shuffle(deck)\n",
    "player_card = [deck.pop(), deck.pop()]\n",
    "dealer_card = [deck.pop(), deck.pop()]\n",
    "\n",
    "while True:\n",
    "\tplayer_score = sum(card_value(card) for card in player_card)\n",
    "\tdealer_score = sum(card_value(card) for card in dealer_card)\n",
    "\tprint(\"Cards Player Has:\", player_card)\n",
    "\tprint(\"Score Of The Player:\", player_score)\n",
    "\tprint(\"\\n\")\n",
    "\tchoice = input('What do you want? [\"play\" to request another card, \"stop\" to stop]: ').lower()\n",
    "\tif choice == \"play\":\n",
    "\t\tnew_card = deck.pop()\n",
    "\t\tplayer_card.append(new_card)\n",
    "\telif choice == \"stop\":\n",
    "\t\tbreak\n",
    "\telse:\n",
    "\t\tprint(\"Invalid choice. Please try again.\")\n",
    "\t\tcontinue\n",
    "\n",
    "\tif player_score > 21:\n",
    "\t\tprint(\"Cards Dealer Has:\", dealer_card)\n",
    "\t\tprint(\"Score Of The Dealer:\", dealer_score)\n",
    "\t\tprint(\"Cards Player Has:\", player_card)\n",
    "\t\tprint(\"Score Of The Player:\", player_score)\n",
    "\t\tprint(\"Dealer wins (Player Loss Because Player Score is exceeding 21)\")\n",
    "\t\tbreak\n",
    "\n",
    "while dealer_score < 17:\n",
    "\tnew_card = deck.pop()\n",
    "\tdealer_card.append(new_card)\n",
    "\tdealer_score += card_value(new_card)\n",
    "\n",
    "print(\"Cards Dealer Has:\", dealer_card)\n",
    "print(\"Score Of The Dealer:\", dealer_score)\n",
    "print(\"\\n\")\n",
    "\n",
    "if dealer_score > 21:\n",
    "\tprint(\"Cards Dealer Has:\", dealer_card)\n",
    "\tprint(\"Score Of The Dealer:\", dealer_score)\n",
    "\tprint(\"Cards Player Has:\", player_card)\n",
    "\tprint(\"Score Of The Player:\", player_score)\n",
    "\tprint(\"Player wins (Dealer Loss Because Dealer Score is exceeding 21)\")\n",
    "elif player_score > dealer_score:\n",
    "\tprint(\"Cards Dealer Has:\", dealer_card)\n",
    "\tprint(\"Score Of The Dealer:\", dealer_score)\n",
    "\tprint(\"Cards Player Has:\", player_card)\n",
    "\tprint(\"Score Of The Player:\", player_score)\n",
    "\tprint(\"Player wins (Player Has High Score than Dealer)\")\n",
    "elif dealer_score > player_score:\n",
    "\tprint(\"Cards Dealer Has:\", dealer_card)\n",
    "\tprint(\"Score Of The Dealer:\", dealer_score)\n",
    "\tprint(\"Cards Player Has:\", player_card)\n",
    "\tprint(\"Score Of The Player:\", player_score)\n",
    "\tprint(\"Dealer wins (Dealer Has High Score than Player)\")\n",
    "else:\n",
    "\tprint(\"Cards Dealer Has:\", dealer_card)\n",
    "\tprint(\"Score Of The Dealer:\", dealer_score)\n",
    "\tprint(\"Cards Player Has:\", player_card)\n",
    "\tprint(\"Score Of The Player:\", player_score)\n",
    "\tprint(\"It's a tie.\")"
   ]
  },
  {
   "cell_type": "markdown",
   "metadata": {},
   "source": [
    "40. Write a program that generates the prime factors of a given number using trial division."
   ]
  },
  {
   "cell_type": "code",
   "execution_count": 30,
   "metadata": {},
   "outputs": [
    {
     "name": "stdout",
     "output_type": "stream",
     "text": [
      "5 is a prime number.\n"
     ]
    }
   ],
   "source": [
    "def prime_factors(n):\n",
    "    factors = []\n",
    "    divisor = 2\n",
    "    \n",
    "    while divisor <= n:\n",
    "        if n % divisor == 0:\n",
    "            factors.append(divisor)\n",
    "            n = n // divisor\n",
    "        else:\n",
    "            divisor += 1\n",
    "    \n",
    "    return factors\n",
    "\n",
    "# Input from the user\n",
    "try:\n",
    "    num = int(input(\"Enter a positive integer: \"))\n",
    "    \n",
    "    if num <= 0:\n",
    "        print(\"Please enter a positive integer.\")\n",
    "    else:\n",
    "        factors = prime_factors(num)\n",
    "        \n",
    "        if len(factors) == 1:\n",
    "            print(f\"{num} is a prime number.\")\n",
    "        else:\n",
    "            print(f\"The prime factors of {num} are: {', '.join(map(str, factors))}\")\n",
    "except ValueError:\n",
    "    print(\"Invalid input. Please enter a positive integer.\")"
   ]
  }
 ],
 "metadata": {
  "kernelspec": {
   "display_name": "Python 3",
   "language": "python",
   "name": "python3"
  },
  "language_info": {
   "codemirror_mode": {
    "name": "ipython",
    "version": 3
   },
   "file_extension": ".py",
   "mimetype": "text/x-python",
   "name": "python",
   "nbconvert_exporter": "python",
   "pygments_lexer": "ipython3",
   "version": "3.11.2"
  },
  "orig_nbformat": 4
 },
 "nbformat": 4,
 "nbformat_minor": 2
}
