{
 "cells": [
  {
   "cell_type": "code",
   "execution_count": null,
   "metadata": {},
   "outputs": [],
   "source": [
    "# Problem 1 : Time Complexity\n",
    "def quicksort(arr):\n",
    "    if len(arr) <= 1:\n",
    "        return arr\n",
    "    pivot = arr[len(arr) // 2]\n",
    "    left = [x for x in arr if x < pivot]\n",
    "    middle = [x for x in arr if x == pivot]\n",
    "    right = [x for x in arr if x > pivot]\n",
    "    return quicksort(left) + middle + quicksort(right)\n",
    "\n",
    "# Time Complexity: O(n log n)"
   ]
  },
  {
   "cell_type": "code",
   "execution_count": null,
   "metadata": {},
   "outputs": [],
   "source": [
    "# Problem 2 :  Time Complexity\n",
    "def nested_loop_example(matrix):\n",
    "    rows, cols = len(matrix), len(matrix[0])\n",
    "    total = 0\n",
    "    for i in range(rows):\n",
    "        for j in range(cols):\n",
    "            total += matrix[i][j]\n",
    "    return total\n",
    "\n",
    "# Time Complexity:  O(rows * cols) or O(n^2)"
   ]
  },
  {
   "cell_type": "code",
   "execution_count": null,
   "metadata": {},
   "outputs": [],
   "source": [
    "# Problem 3 : Time Complexity\n",
    "def example_function(arr):\n",
    "    result = 0\n",
    "    for element in arr:\n",
    "        result += element\n",
    "    return result\n",
    "\n",
    "# Time Complexity:  O(n)"
   ]
  },
  {
   "cell_type": "code",
   "execution_count": null,
   "metadata": {},
   "outputs": [],
   "source": [
    "# Problem 4 : Time Complexity\n",
    "def longest_increasing_subsequence(nums):\n",
    "    n = len(nums)\n",
    "    lis = [1] * n\n",
    "    for i in range(1, n):\n",
    "        for j in range(0, i):\n",
    "            if nums[i] > nums[j] and lis[i] < lis[j] + 1:\n",
    "                lis[i] = lis[j] + 1\n",
    "    return max(lis)\n",
    "\n",
    "# Time Complexity:  O(n^2)"
   ]
  },
  {
   "cell_type": "code",
   "execution_count": null,
   "metadata": {},
   "outputs": [],
   "source": [
    "# Problem 5 : Time Complexity\n",
    "def mysterious_function(arr):\n",
    "    n = len(arr)\n",
    "    result = 0\n",
    "    for i in range(n):\n",
    "        for j in range(i, n):\n",
    "            result += arr[i] * arr[j]\n",
    "    return result\n",
    "\n",
    "# Time Complexity:  O(n^2)"
   ]
  },
  {
   "cell_type": "markdown",
   "metadata": {},
   "source": [
    "Problem 6 : Sum of Digits\n",
    "Write a recursive function to calculate the sum of digits of a given positive integer.\n",
    "sum_of_digits(123) -> 6"
   ]
  },
  {
   "cell_type": "code",
   "execution_count": 3,
   "metadata": {},
   "outputs": [
    {
     "name": "stdout",
     "output_type": "stream",
     "text": [
      "6\n"
     ]
    }
   ],
   "source": [
    "def sum_of_digits(n):\n",
    "    # Base case: If n is a single-digit number, return n\n",
    "    if n < 10:\n",
    "        return n\n",
    "    # Recursive case: Sum the last digit and call the function with the remaining digits\n",
    "    else:\n",
    "        return n % 10 + sum_of_digits(n // 10)\n",
    "\n",
    "# Example usage:\n",
    "number = 123\n",
    "result = sum_of_digits(number)\n",
    "print(result)  # Output: 6"
   ]
  },
  {
   "cell_type": "markdown",
   "metadata": {},
   "source": [
    "Problem 7: Fibonacci Series\n",
    "Write a recursive function to generate the first n numbers of the Fibonacci series.\n",
    "fibonacci_series(6) -> [0, 1, 1, 2, 3, 5]"
   ]
  },
  {
   "cell_type": "code",
   "execution_count": 2,
   "metadata": {},
   "outputs": [
    {
     "name": "stdout",
     "output_type": "stream",
     "text": [
      "[0, 1, 1, 2, 3, 5]\n"
     ]
    }
   ],
   "source": [
    "def fibonacci_series(n):\n",
    "    # Base case: If n is 0, return an empty list\n",
    "    if n == 0:\n",
    "        return []\n",
    "    # Base case: If n is 1, return [0]\n",
    "    elif n == 1:\n",
    "        return [0]\n",
    "    # Base case: If n is 2, return [0, 1]\n",
    "    elif n == 2:\n",
    "        return [0, 1]\n",
    "    # Recursive case: Generate the rest of the series\n",
    "    else:\n",
    "        # Calculate the Fibonacci series up to n-1 and add the last two numbers\n",
    "        series = fibonacci_series(n - 1)\n",
    "        series.append(series[-1] + series[-2])\n",
    "        return series\n",
    "\n",
    "# Example usage:\n",
    "n = 6\n",
    "result = fibonacci_series(n)\n",
    "print(result)  # Output: [0, 1, 1, 2, 3, 5]"
   ]
  },
  {
   "cell_type": "markdown",
   "metadata": {},
   "source": [
    "Problem 8 : Subset Sum\n",
    "Given a set of positive integers and a target sum, write a recursive function to determine if there exists a subset\n",
    "of the integers that adds up to the target sum.\n",
    "subset_sum([3, 34, 4, 12, 5, 2], 9) -> True"
   ]
  },
  {
   "cell_type": "code",
   "execution_count": 1,
   "metadata": {},
   "outputs": [
    {
     "name": "stdout",
     "output_type": "stream",
     "text": [
      "True\n"
     ]
    }
   ],
   "source": [
    "def subset_sum_recursive(nums, target_sum, index):\n",
    "    # Base case: If the target sum becomes 0, a subset is found\n",
    "    if target_sum == 0:\n",
    "        return True\n",
    "\n",
    "    # Base case: If the target sum becomes negative or all elements are considered\n",
    "    if target_sum < 0 or index < 0:\n",
    "        return False\n",
    "\n",
    "    # Include the current element in the subset and check for the remaining sum\n",
    "    include_current = subset_sum_recursive(nums, target_sum - nums[index], index - 1)\n",
    "\n",
    "    # Exclude the current element from the subset and check for the remaining sum\n",
    "    exclude_current = subset_sum_recursive(nums, target_sum, index - 1)\n",
    "\n",
    "    # Return True if either including or excluding the current element results in a valid subset\n",
    "    return include_current or exclude_current\n",
    "\n",
    "def subset_sum(nums, target_sum):\n",
    "    # Start the recursive function from the last index of the array\n",
    "    return subset_sum_recursive(nums, target_sum, len(nums) - 1)\n",
    "\n",
    "# Example usage:\n",
    "nums = [3, 34, 4, 12, 5, 2]\n",
    "target_sum = 9\n",
    "result = subset_sum(nums, target_sum)\n",
    "print(result)  # Output: True"
   ]
  },
  {
   "cell_type": "markdown",
   "metadata": {},
   "source": [
    "Problem 9: Word Break\n",
    "Given a non-empty string and a list of words, write a recursive function to determine if the string can be\n",
    "segmented into a space-separated sequence of list of words.\n",
    "word_break( leetcode , [ leet , code ]) -> True"
   ]
  },
  {
   "cell_type": "code",
   "execution_count": 4,
   "metadata": {},
   "outputs": [
    {
     "name": "stdout",
     "output_type": "stream",
     "text": [
      "False\n",
      "False\n"
     ]
    }
   ],
   "source": [
    "def wordBreak(wordList , word):\n",
    "  if word == \"\":\n",
    "    return True\n",
    "  else :\n",
    "    wordLen = len(word)\n",
    "    for i in range(1, wordLen+1):\n",
    "      if word[:i] in wordList and wordBreak(wordList, word[i:]):\n",
    "        return True\n",
    "    return False\n",
    "\n",
    "print(wordBreak([\"leet\",\"code\"], \"leetcodes\"))\n",
    "print(wordBreak([\"I\",\"am\", \"sam\", \"sung\", \"love\", \"vishwa\"], \"Vishwalovesamsung\"))"
   ]
  },
  {
   "cell_type": "markdown",
   "metadata": {},
   "source": [
    "**Very Important** Revise every 2 weeks\n",
    "Problem 10 : N-Queens\n",
    "Implement a recursive function to solve the N Queens problem, where you have to place N queens on an N×N\n",
    "chessboard in such a way that no two queens threaten each other.\n",
    "n_queens(4)\n",
    "[\n",
    "[\" . Q . . \",\n",
    " \" . . . Q \",\n",
    " \" Q . . . \",\n",
    " \" . . Q . \"],\n",
    "\n",
    "[\" . . Q . \",\n",
    " \" Q . . . \",\n",
    " \" . . . Q \",\n",
    " \" . Q . . \"]\n",
    "]"
   ]
  },
  {
   "cell_type": "code",
   "execution_count": 25,
   "metadata": {},
   "outputs": [
    {
     "name": "stdout",
     "output_type": "stream",
     "text": [
      "[ . . Q . ]\n",
      "[ Q . . . ]\n",
      "[ . . . Q ]\n",
      "[ . Q . . ]\n",
      "\n",
      "[ . Q . . ]\n",
      "[ . . . Q ]\n",
      "[ Q . . . ]\n",
      "[ . . Q . ]\n",
      "\n"
     ]
    }
   ],
   "source": [
    "# N Queen Problem\n",
    "# Return True if it's safe to place queen on the board\n",
    "def isSafeToPlaceQueen(board, row, col, n):\n",
    "    # Check in the left side\n",
    "    for i in range(col):\n",
    "        if board[row][i] == 1 or board[i][col] == 1:\n",
    "            return False\n",
    "    \n",
    "    # Check in the upper left diagonal\n",
    "    # why -1, -1 because decrementing the row and col by step -1\n",
    "    for i, j in zip(range(row, -1, -1), range(col, -1, -1)):\n",
    "        if board[i][j] == 1:\n",
    "            return False\n",
    "\n",
    "    # Check in the lower left diagonal\n",
    "    # why range(row,n,1) because decrementing only col by -1 and incrementing row by step 1\n",
    "    for i, j in zip(range(row, n, 1), range(col, -1, -1)):\n",
    "        if board[i][j] == 1:\n",
    "            return False\n",
    "\n",
    "    # why are we checking only on left hand side of board, why not right hand side of board?\n",
    "    # because we are moving on board from left to right means col1,...,col4 and\n",
    "    # there is no point of checking right handside of board\n",
    "    return True\n",
    "\n",
    "\n",
    "def solveNQ(board, col, n, solution, all_solutions):\n",
    "    if col == n:\n",
    "        all_solutions.append([row[:] for row in solution])\n",
    "        return\n",
    "\n",
    "    for row in range(n):\n",
    "        if isSafeToPlaceQueen(board, row, col, n):\n",
    "            board[row][col] = 1\n",
    "            solution[row][col] = \"Q\"\n",
    "\n",
    "            # Recursively try for the next columns\n",
    "            solveNQ(board, col + 1, n, solution, all_solutions)\n",
    "            \n",
    "            # back tracking\n",
    "            board[row][col] = 0\n",
    "            solution[row][col] = \".\"\n",
    "\n",
    "\n",
    "def printSolutions(all_solutions):\n",
    "    for solution in all_solutions:\n",
    "        for row in solution:\n",
    "            print(\"[\", \" \".join(row), \"]\")\n",
    "        print()\n",
    "\n",
    "\n",
    "def main():\n",
    "    board_size = 4\n",
    "    board = [[0] * board_size for _ in range(board_size)]\n",
    "    initial_solution = [[\".\" for _ in range(board_size)] for _ in range(board_size)]\n",
    "    all_solutions = []\n",
    "\n",
    "    solveNQ(board, 0, board_size, initial_solution, all_solutions)\n",
    "    printSolutions(all_solutions)\n",
    "\n",
    "\n",
    "if __name__ == \"__main__\":\n",
    "    main()"
   ]
  }
 ],
 "metadata": {
  "kernelspec": {
   "display_name": "Python 3",
   "language": "python",
   "name": "python3"
  },
  "language_info": {
   "codemirror_mode": {
    "name": "ipython",
    "version": 3
   },
   "file_extension": ".py",
   "mimetype": "text/x-python",
   "name": "python",
   "nbconvert_exporter": "python",
   "pygments_lexer": "ipython3",
   "version": "3.11.2"
  }
 },
 "nbformat": 4,
 "nbformat_minor": 2
}
