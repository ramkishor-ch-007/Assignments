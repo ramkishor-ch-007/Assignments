{
 "cells": [
  {
   "cell_type": "markdown",
   "metadata": {},
   "source": [
    "OOPS"
   ]
  },
  {
   "cell_type": "markdown",
   "metadata": {},
   "source": [
    "Problem 1: Bank Account Create a class representing a bank account with attributes like account number, account holder name, and balance. Implement methods to deposit and withdraw money from the account."
   ]
  },
  {
   "cell_type": "code",
   "execution_count": 18,
   "metadata": {},
   "outputs": [
    {
     "name": "stdout",
     "output_type": "stream",
     "text": [
      "100 Amount was deposited to this account 1234 user: ram current balance is:  100\n",
      "30 Amount withdrawn to this sccount 1234 user: ram current balance is:  70\n"
     ]
    }
   ],
   "source": [
    "class bank_account:\n",
    "    current_balance=0\n",
    "    def deposit(self,account_number,account_holder_name,amount):\n",
    "        acc_num=account_number\n",
    "        acc_hol=account_holder_name\n",
    "        amo=amount\n",
    "        self.current_balance+=amount\n",
    "        print(amo,\"Amount was deposited to this account\",acc_num,\"user:\",acc_hol,\"current balance is: \",self.current_balance)\n",
    "    def with_draw_money(self,account_number,account_holder_name,amount):\n",
    "        acc_num=account_number\n",
    "        acc_hol=account_holder_name\n",
    "        amo=amount\n",
    "        self.current_balance=self.current_balance - amo\n",
    "        print(amo,\"Amount withdrawn to this sccount\",acc_num,\"user:\",acc_hol,\"current balance is: \",self.current_balance)\n",
    "\n",
    "dep=bank_account()\n",
    "dep.deposit(1234,\"ram\",100)\n",
    "with_draw=bank_account()\n",
    "dep.with_draw_money(1234,\"ram\",30)"
   ]
  },
  {
   "cell_type": "markdown",
   "metadata": {},
   "source": [
    "Problem 2: Employee Management Create a class representing an employee with attributes like employee ID, name, and salary. Implement methods to calculate the yearly bonus and display employee details."
   ]
  },
  {
   "cell_type": "code",
   "execution_count": 22,
   "metadata": {},
   "outputs": [
    {
     "name": "stdout",
     "output_type": "stream",
     "text": [
      "calculating bonus...\n",
      "Employee details: ID 1234 , employee of: ram , bonus is: 10000\n"
     ]
    }
   ],
   "source": [
    "class Emp_Mgmt:\n",
    "    emp_ID=0\n",
    "    emp_name=\"\"\n",
    "    emp_salary=100000\n",
    "    def bonus(self,eID,eName):\n",
    "        self.emp_ID=eID\n",
    "        self.emp_name=eName\n",
    "        print(\"calculating bonus...\")\n",
    "        bonus=self.emp_salary*10//100\n",
    "        print(\"Employee details: ID\",self.emp_ID,\", employee of:\",self.emp_name,\", bonus is:\",bonus)\n",
    "\n",
    "obj1=Emp_Mgmt()\n",
    "obj1.bonus(1234,\"ram\")"
   ]
  },
  {
   "cell_type": "markdown",
   "metadata": {},
   "source": [
    "Problem 3: Vehicle Rental Create a class representing a vehicle rental system. Implement methods to rent a vehicle, return a vehicle, and display available vehicles."
   ]
  },
  {
   "cell_type": "code",
   "execution_count": 24,
   "metadata": {},
   "outputs": [
    {
     "name": "stdout",
     "output_type": "stream",
     "text": [
      "Available Vehicles:\n",
      "Car: 5\n",
      "Bike: 10\n",
      "Rented one Car.\n",
      "Rented one Car.\n",
      "Returned one Car.\n",
      "Available Vehicles:\n",
      "Car: 4\n",
      "Bike: 10\n"
     ]
    }
   ],
   "source": [
    "class VehicleRentalSystem:\n",
    "    def __init__(self):\n",
    "        self.available_vehicles = {}\n",
    "\n",
    "    def add_vehicle(self, vehicle_type, quantity):\n",
    "        if vehicle_type in self.available_vehicles:\n",
    "            self.available_vehicles[vehicle_type] += quantity\n",
    "        else:\n",
    "            self.available_vehicles[vehicle_type] = quantity\n",
    "\n",
    "    def rent_vehicle(self, vehicle_type):\n",
    "        if vehicle_type in self.available_vehicles and self.available_vehicles[vehicle_type] > 0:\n",
    "            self.available_vehicles[vehicle_type] -= 1\n",
    "            print(f\"Rented one {vehicle_type}.\")\n",
    "        else:\n",
    "            print(f\"Sorry, {vehicle_type} is not available for rent.\")\n",
    "\n",
    "    def return_vehicle(self, vehicle_type):\n",
    "        if vehicle_type in self.available_vehicles:\n",
    "            self.available_vehicles[vehicle_type] += 1\n",
    "            print(f\"Returned one {vehicle_type}.\")\n",
    "\n",
    "    def display_available_vehicles(self):\n",
    "        print(\"Available Vehicles:\")\n",
    "        for vehicle_type, quantity in self.available_vehicles.items():\n",
    "            print(f\"{vehicle_type}: {quantity}\")\n",
    "\n",
    "# Example usage:\n",
    "rental_system = VehicleRentalSystem()\n",
    "rental_system.add_vehicle(\"Car\", 5)\n",
    "rental_system.add_vehicle(\"Bike\", 10)\n",
    "rental_system.display_available_vehicles()\n",
    "\n",
    "rental_system.rent_vehicle(\"Car\")\n",
    "rental_system.rent_vehicle(\"Car\")\n",
    "rental_system.return_vehicle(\"Car\")\n",
    "\n",
    "rental_system.display_available_vehicles()"
   ]
  },
  {
   "cell_type": "markdown",
   "metadata": {},
   "source": [
    "Problem 4: Library Catalog Create classes representing a library and a book. Implement methods to add books to the library, borrow books, and display available books."
   ]
  },
  {
   "cell_type": "code",
   "execution_count": 33,
   "metadata": {},
   "outputs": [
    {
     "name": "stdout",
     "output_type": "stream",
     "text": [
      "Available Books:\n",
      "science books: 5\n",
      "social books: 10\n",
      "Rented one science.\n",
      "Sorry, maths book is not available for rent.\n",
      "Returned one science. book\n",
      "Available Books:\n",
      "science books: 5\n",
      "social books: 10\n"
     ]
    }
   ],
   "source": [
    "class Library_Catalog:\n",
    "    def __init__(self):\n",
    "        self.books={}\n",
    "\n",
    "    def add_books(self,book_type,quantity):\n",
    "        if book_type in self.books:\n",
    "            self.books[book_type] += quantity\n",
    "        else:\n",
    "            self.books[book_type] = quantity\n",
    "\n",
    "    def borrow_books(self, book_type):\n",
    "        if book_type in self.books and self.books[book_type] > 0:\n",
    "            self.books[book_type] -= 1\n",
    "            print(f\"Rented one {book_type}.\")\n",
    "        else:\n",
    "            print(f\"Sorry, {book_type} book is not available for rent.\")\n",
    "\n",
    "    def return_book(self, book_type):\n",
    "        if book_type in self.books:\n",
    "            self.books[book_type] += 1\n",
    "            print(f\"Returned one {book_type}. book\")\n",
    "\n",
    "    def display_available_books(self):\n",
    "        print(\"Available Books:\")\n",
    "        for book_type, quantity in self.books.items():\n",
    "            print(f\"{book_type} books: {quantity}\")\n",
    "\n",
    "# Example usage:\n",
    "book = Library_Catalog()\n",
    "book.add_books(\"science\", 5)\n",
    "book.add_books(\"social\", 10)\n",
    "book.display_available_books()\n",
    "\n",
    "book.borrow_books(\"science\")\n",
    "book.borrow_books(\"maths\")\n",
    "book.return_book(\"science\")\n",
    "\n",
    "book.display_available_books()"
   ]
  },
  {
   "cell_type": "markdown",
   "metadata": {},
   "source": [
    "Problem 5: Product Inventory Create classes representing a product and an inventory system. Implement methods to add products to the inventory, update product quantity, and display available products."
   ]
  },
  {
   "cell_type": "code",
   "execution_count": 52,
   "metadata": {},
   "outputs": [
    {
     "name": "stdout",
     "output_type": "stream",
     "text": [
      "Available Products:\n",
      "Soap - Quantity: 10\n",
      "Biscuits - Quantity: 20\n",
      "Updated quantity of Soap to 5.\n",
      "\n",
      "Available Products:\n",
      "Soap - Quantity: 5\n",
      "Biscuits - Quantity: 20\n"
     ]
    }
   ],
   "source": [
    "class Product:\n",
    "    def __init__(self, name, quantity):\n",
    "        self.name = name\n",
    "        self.quantity = quantity\n",
    "\n",
    "    def update_quantity(self, new_quantity):\n",
    "        self.quantity = new_quantity\n",
    "\n",
    "    def __str__(self):\n",
    "        return f\"{self.name} - Quantity: {self.quantity}\"\n",
    "\n",
    "class InventorySystem:\n",
    "    def __init__(self):\n",
    "        self.inventory = {}\n",
    "\n",
    "    def add_product(self, product):\n",
    "        if product.name in self.inventory:\n",
    "            print(f\"{product.name} already exists in the inventory.\")\n",
    "        else:\n",
    "            self.inventory[product.name] = product\n",
    "\n",
    "    def update_product_quantity(self, product_name, new_quantity):\n",
    "        if product_name in self.inventory:\n",
    "            self.inventory[product_name].update_quantity(new_quantity)\n",
    "            print(f\"Updated quantity of {product_name} to {new_quantity}.\")\n",
    "        else:\n",
    "            print(f\"{product_name} not found in the inventory.\")\n",
    "\n",
    "    def display_available_products(self):\n",
    "        if not self.inventory:\n",
    "            print(\"Inventory is empty.\")\n",
    "        else:\n",
    "            print(\"Available Products:\")\n",
    "            for product in self.inventory.values():\n",
    "                print(product)\n",
    "\n",
    "# Example usage:\n",
    "product1 = Product(\"Soap\", 10)\n",
    "product2 = Product(\"Biscuits\", 20)\n",
    "\n",
    "inventory_system = InventorySystem()\n",
    "inventory_system.add_product(product1)\n",
    "inventory_system.add_product(product2)\n",
    "\n",
    "inventory_system.display_available_products()\n",
    "inventory_system.update_product_quantity(\"Soap\", 5)\n",
    "\n",
    "print()\n",
    "inventory_system.display_available_products()"
   ]
  },
  {
   "cell_type": "markdown",
   "metadata": {},
   "source": [
    "Problem 6: Shape Calculation Create a class representing a shape with attributes like length, width, and height. Implement methods to calculate the area and perimeter of the shape."
   ]
  },
  {
   "cell_type": "code",
   "execution_count": 1,
   "metadata": {},
   "outputs": [
    {
     "name": "stdout",
     "output_type": "stream",
     "text": [
      "Rectangle:\n",
      "Area: 15\n",
      "Perimeter: 16\n",
      "\n",
      "Square:\n",
      "Area: 16\n",
      "Perimeter: 16\n",
      "\n",
      "Triangle:\n",
      "Area: 7.5\n",
      "Perimeter: 12\n"
     ]
    }
   ],
   "source": [
    "class Shape:\n",
    "    def __init__(self, length, width=None, height=None):\n",
    "        self.length = length\n",
    "        self.width = width\n",
    "        self.height = height\n",
    "\n",
    "    def calculate_area(self):\n",
    "        pass  # This method should be implemented by subclasses\n",
    "\n",
    "    def calculate_perimeter(self):\n",
    "        pass  # This method should be implemented by subclasses\n",
    "\n",
    "\n",
    "class Rectangle(Shape):\n",
    "    def calculate_area(self):\n",
    "        if self.width is None:\n",
    "            return self.length ** 2  # If width is not provided, assume it's a square\n",
    "        return self.length * self.width\n",
    "\n",
    "    def calculate_perimeter(self):\n",
    "        if self.width is None:\n",
    "            return 4 * self.length  # Perimeter of a square\n",
    "        return 2 * (self.length + self.width)\n",
    "\n",
    "\n",
    "class Triangle(Shape):\n",
    "    def calculate_area(self):\n",
    "        if self.width is None or self.height is None:\n",
    "            raise ValueError(\"Both width and height are required to calculate the area of a triangle.\")\n",
    "        return 0.5 * self.width * self.height\n",
    "\n",
    "    def calculate_perimeter(self):\n",
    "        if self.width is None or self.height is None:\n",
    "            raise ValueError(\"Both width and height are required to calculate the perimeter of a triangle.\")\n",
    "        # For a generic triangle, you would need more information\n",
    "        return self.length + self.width + self.height\n",
    "\n",
    "# Example usage:\n",
    "rectangle = Rectangle(5, 3)\n",
    "print(\"Rectangle:\")\n",
    "print(f\"Area: {rectangle.calculate_area()}\")\n",
    "print(f\"Perimeter: {rectangle.calculate_perimeter()}\")\n",
    "\n",
    "square = Rectangle(4)  # Creating a square\n",
    "print(\"\\nSquare:\")\n",
    "print(f\"Area: {square.calculate_area()}\")\n",
    "print(f\"Perimeter: {square.calculate_perimeter()}\")\n",
    "\n",
    "triangle = Triangle(4, 3, 5)\n",
    "print(\"\\nTriangle:\")\n",
    "print(f\"Area: {triangle.calculate_area()}\")\n",
    "print(f\"Perimeter: {triangle.calculate_perimeter()}\")"
   ]
  },
  {
   "cell_type": "markdown",
   "metadata": {},
   "source": [
    "Problem 7: Student Management Create a class representing a student with attributes like student ID, name, and grades. Implement methods to calculate the average grade and display student details."
   ]
  },
  {
   "cell_type": "code",
   "execution_count": 2,
   "metadata": {},
   "outputs": [
    {
     "name": "stdout",
     "output_type": "stream",
     "text": [
      "Student ID: S001\n",
      "Name: John\n",
      "Grades: 85, 92, 78, 90, 88\n",
      "Average Grade: 86.60\n",
      "\n",
      "\n",
      "Student ID: S002\n",
      "Name: Alice\n",
      "Grades: 95, 73\n",
      "Average Grade: 84.00\n"
     ]
    }
   ],
   "source": [
    "class Student:\n",
    "    def __init__(self, student_id, name, grades=[]):\n",
    "        self.student_id = student_id\n",
    "        self.name = name\n",
    "        self.grades = grades\n",
    "\n",
    "    def add_grade(self, grade):\n",
    "        self.grades.append(grade)\n",
    "\n",
    "    def calculate_average_grade(self):\n",
    "        if not self.grades:\n",
    "            return 0.0  # Return 0 if there are no grades\n",
    "        total = sum(self.grades)\n",
    "        return total / len(self.grades)\n",
    "\n",
    "    def display_student_details(self):\n",
    "        print(f\"Student ID: {self.student_id}\")\n",
    "        print(f\"Name: {self.name}\")\n",
    "        if self.grades:\n",
    "            print(f\"Grades: {', '.join(map(str, self.grades))}\")\n",
    "            print(f\"Average Grade: {self.calculate_average_grade():.2f}\")\n",
    "        else:\n",
    "            print(\"No grades available for this student.\")\n",
    "\n",
    "# Example usage:\n",
    "student1 = Student(\"S001\", \"John\", [85, 92, 78, 90])\n",
    "student2 = Student(\"S002\", \"Alice\")\n",
    "\n",
    "student1.add_grade(88)\n",
    "student2.add_grade(95)\n",
    "student2.add_grade(73)\n",
    "\n",
    "student1.display_student_details()\n",
    "print(\"\\n\")\n",
    "student2.display_student_details()"
   ]
  },
  {
   "cell_type": "markdown",
   "metadata": {},
   "source": [
    "Problem 8: Email Management Create a class representing an email with attributes like sender, recipient, and subject. Implement methods to send an email and display email details."
   ]
  },
  {
   "cell_type": "code",
   "execution_count": 5,
   "metadata": {},
   "outputs": [
    {
     "name": "stdout",
     "output_type": "stream",
     "text": [
      "Email Details:\n",
      "From: sender@example.com\n",
      "To: recipient@example.com\n",
      "Subject: Hello\n",
      "Message: This is a test email.\n",
      "Email has not been sent yet.\n",
      "\n",
      "Sending email...\n",
      "\n",
      "From: sender@example.com\n",
      "To: recipient@example.com\n",
      "Subject: Hello\n",
      "Message: This is a test email.\n",
      "Email sent successfully.\n",
      "\n",
      "Email Details:\n",
      "From: sender@example.com\n",
      "To: recipient@example.com\n",
      "Subject: Hello\n",
      "Message: This is a test email.\n",
      "Email has been sent.\n"
     ]
    }
   ],
   "source": [
    "class Email:\n",
    "    def __init__(self, sender, recipient, subject, message):\n",
    "        self.sender = sender\n",
    "        self.recipient = recipient\n",
    "        self.subject = subject\n",
    "        self.message = message\n",
    "        self.sent = False\n",
    "\n",
    "    def send_email(self):\n",
    "        if not self.sent:\n",
    "            print(f\"From: {self.sender}\")\n",
    "            print(f\"To: {self.recipient}\")\n",
    "            print(f\"Subject: {self.subject}\")\n",
    "            print(f\"Message: {self.message}\")\n",
    "            self.sent = True\n",
    "            print(\"Email sent successfully.\")\n",
    "        else:\n",
    "            print(\"This email has already been sent.\")\n",
    "\n",
    "    def display_email_details(self):\n",
    "        print(\"Email Details:\")\n",
    "        print(f\"From: {self.sender}\")\n",
    "        print(f\"To: {self.recipient}\")\n",
    "        print(f\"Subject: {self.subject}\")\n",
    "        print(f\"Message: {self.message}\")\n",
    "        if self.sent:\n",
    "            print(\"Email has been sent.\")\n",
    "        else:\n",
    "            print(\"Email has not been sent yet.\")\n",
    "\n",
    "# Example usage:\n",
    "email = Email(\"sender@example.com\", \"recipient@example.com\", \"Hello\", \"This is a test email.\")\n",
    "email.display_email_details()\n",
    "\n",
    "print(\"\\nSending email...\\n\")\n",
    "email.send_email()\n",
    "print()\n",
    "email.display_email_details()"
   ]
  },
  {
   "cell_type": "markdown",
   "metadata": {},
   "source": [
    "Problem 9: Social Media Profile Create a class representing a social media profile with attributes like username and posts. Implement methods to add posts, display posts, and search for posts by keyword."
   ]
  },
  {
   "cell_type": "code",
   "execution_count": 7,
   "metadata": {},
   "outputs": [
    {
     "name": "stdout",
     "output_type": "stream",
     "text": [
      "Posts by john_doe:\n",
      "1. Just had a great day at the park!\n",
      "2. Trying out a new recipe for dinner.\n",
      "3. Watching the big game tonight. Go team!\n",
      "\n",
      "Searching for posts containing 'great'...\n",
      "\n",
      "Posts by john_doe containing 'great':\n",
      "1. Just had a great day at the park!\n",
      "\n",
      "Searching for posts containing 'new'...\n",
      "\n",
      "Posts by john_doe containing 'new':\n",
      "1. Trying out a new recipe for dinner.\n"
     ]
    }
   ],
   "source": [
    "class SocialMediaProfile:\n",
    "    def __init__(self, username):\n",
    "        self.username = username\n",
    "        self.posts = []\n",
    "\n",
    "    def add_post(self, post_text):\n",
    "        self.posts.append(post_text)\n",
    "\n",
    "    def display_posts(self):\n",
    "        if not self.posts:\n",
    "            print(f\"No posts available for {self.username}.\")\n",
    "        else:\n",
    "            print(f\"Posts by {self.username}:\")\n",
    "            for index, post in enumerate(self.posts, start=1):\n",
    "                print(f\"{index}. {post}\")\n",
    "\n",
    "    def search_posts(self, keyword):\n",
    "        matching_posts = [post for post in self.posts if keyword.lower() in post.lower()]\n",
    "        if not matching_posts:\n",
    "            print(f\"No posts found containing '{keyword}' for {self.username}.\")\n",
    "        else:\n",
    "            print(f\"Posts by {self.username} containing '{keyword}':\")\n",
    "            for index, post in enumerate(matching_posts, start=1):\n",
    "                print(f\"{index}. {post}\")\n",
    "\n",
    "# Example usage:\n",
    "profile = SocialMediaProfile(\"john_doe\")\n",
    "\n",
    "profile.add_post(\"Just had a great day at the park!\")\n",
    "profile.add_post(\"Trying out a new recipe for dinner.\")\n",
    "profile.add_post(\"Watching the big game tonight. Go team!\")\n",
    "\n",
    "profile.display_posts()\n",
    "\n",
    "print(\"\\nSearching for posts containing 'great'...\\n\")\n",
    "profile.search_posts(\"great\")\n",
    "\n",
    "print(\"\\nSearching for posts containing 'new'...\\n\")\n",
    "profile.search_posts(\"new\")"
   ]
  },
  {
   "cell_type": "markdown",
   "metadata": {},
   "source": [
    "Problem 10: ToDo List Create a class representing a ToDo list with attributes like tasks and due dates. Implement methods to add tasks, mark tasks as completed, and display pending tasks."
   ]
  },
  {
   "cell_type": "code",
   "execution_count": 11,
   "metadata": {},
   "outputs": [
    {
     "name": "stdout",
     "output_type": "stream",
     "text": [
      "Pending Tasks:\n",
      "1. Task: Buy groceries, Due Date: 2023-10-15\n",
      "2. Task: Finish homework, Due Date: 2023-10-20\n",
      "3. Task: Call mom, Due Date: 2023-10-25\n",
      "\n",
      "Marking the first task as completed...\n",
      "\n",
      "Task 'Buy groceries' marked as completed.\n",
      "Pending Tasks:\n",
      "1. Task: Finish homework, Due Date: 2023-10-20\n",
      "2. Task: Call mom, Due Date: 2023-10-25\n"
     ]
    }
   ],
   "source": [
    "class ToDoList:\n",
    "    def __init__(self):\n",
    "        self.tasks = []\n",
    "\n",
    "    def add_task(self, task, due_date):\n",
    "        self.tasks.append({\"task\": task, \"due_date\": due_date, \"completed\": False})\n",
    "\n",
    "    def mark_task_completed(self, task_index):\n",
    "        if 0 <= task_index < len(self.tasks):\n",
    "            self.tasks[task_index][\"completed\"] = True\n",
    "            print(f\"Task '{self.tasks[task_index]['task']}' marked as completed.\")\n",
    "        else:\n",
    "            print(\"Invalid task index. Please provide a valid index.\")\n",
    "\n",
    "    def display_pending_tasks(self):\n",
    "        pending_tasks = [task for task in self.tasks if not task[\"completed\"]]\n",
    "        if not pending_tasks:\n",
    "            print(\"No pending tasks.\")\n",
    "        else:\n",
    "            print(\"Pending Tasks:\")\n",
    "            for index, task in enumerate(pending_tasks, start=1):\n",
    "                print(f\"{index}. Task: {task['task']}, Due Date: {task['due_date']}\")\n",
    "\n",
    "# Example usage:\n",
    "todo_list = ToDoList()\n",
    "\n",
    "todo_list.add_task(\"Buy groceries\", \"2023-10-15\")\n",
    "todo_list.add_task(\"Finish homework\", \"2023-10-20\")\n",
    "todo_list.add_task(\"Call mom\", \"2023-10-25\")\n",
    "\n",
    "todo_list.display_pending_tasks()\n",
    "\n",
    "print(\"\\nMarking the first task as completed...\\n\")\n",
    "todo_list.mark_task_completed(0)\n",
    "\n",
    "todo_list.display_pending_tasks()"
   ]
  },
  {
   "cell_type": "code",
   "execution_count": null,
   "metadata": {},
   "outputs": [],
   "source": []
  },
  {
   "cell_type": "code",
   "execution_count": null,
   "metadata": {},
   "outputs": [],
   "source": []
  }
 ],
 "metadata": {
  "kernelspec": {
   "display_name": "Python 3",
   "language": "python",
   "name": "python3"
  },
  "language_info": {
   "codemirror_mode": {
    "name": "ipython",
    "version": 3
   },
   "file_extension": ".py",
   "mimetype": "text/x-python",
   "name": "python",
   "nbconvert_exporter": "python",
   "pygments_lexer": "ipython3",
   "version": "3.11.2"
  }
 },
 "nbformat": 4,
 "nbformat_minor": 2
}
