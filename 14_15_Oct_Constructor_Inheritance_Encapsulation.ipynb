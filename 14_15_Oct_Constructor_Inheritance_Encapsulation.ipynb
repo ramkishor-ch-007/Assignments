{
 "cells": [
  {
   "cell_type": "markdown",
   "metadata": {},
   "source": [
    "**Constructor**"
   ]
  },
  {
   "cell_type": "markdown",
   "metadata": {},
   "source": [
    "1. What is a constructor in Python? Explain its purpose and usage."
   ]
  },
  {
   "cell_type": "markdown",
   "metadata": {},
   "source": [
    "What is constructor?\n",
    "\n",
    "A constructor is a unique function that gets called automatically when an object is created of a class. \n",
    "\n",
    "Purpose?\n",
    "\n",
    "Initialize or assign values to the data members of that class. It cannot return any value other than none.\n",
    "\n",
    "Usage?\n",
    "\n",
    "Constructors are generally used for instantiating an object."
   ]
  },
  {
   "cell_type": "markdown",
   "metadata": {},
   "source": [
    "2. Differentiate between a parameterless constructor and a parameterized constructor in \n",
    "Python"
   ]
  },
  {
   "cell_type": "markdown",
   "metadata": {},
   "source": [
    "1. Parameterized Constructor in Python\n",
    "\n",
    "When the constructor accepts arguments along with self, it is known as parameterized constructor.\n",
    "These arguments can be used inside the class to assign the values to the data members.\n",
    "\n",
    "2. Non-Parameterized Constructor in Python\n",
    "\n",
    "When the constructor doesn't accept any arguments from the object and has only one argument, self, in the constructor, it is known as a non-parameterized constructor.\n",
    "This can be used to re-assign a value inside the constructor."
   ]
  },
  {
   "cell_type": "markdown",
   "metadata": {},
   "source": [
    "3. How do you define a constructor in a Python class? Provide an example"
   ]
  },
  {
   "cell_type": "code",
   "execution_count": 1,
   "metadata": {},
   "outputs": [
    {
     "name": "stdout",
     "output_type": "stream",
     "text": [
      "This is parametrized constructor\n",
      "No. of members is 10\n"
     ]
    }
   ],
   "source": [
    "class Family:  \n",
    "    # Constructor - parameterized  \n",
    "    members=5\n",
    "    def __init__(self, count):  \n",
    "        print(\"This is parametrized constructor\")  \n",
    "        self.members = count\n",
    "    def show(self):  \n",
    "        print(\"No. of members is\", self.members)  \n",
    "        \n",
    "object = Family(10)  \n",
    "object.show()   "
   ]
  },
  {
   "cell_type": "markdown",
   "metadata": {},
   "source": [
    "4. Explain the `__init__` method in Python and its role in constructors."
   ]
  },
  {
   "cell_type": "markdown",
   "metadata": {},
   "source": [
    "The __init__ method is a reserved method in Python classes. \n",
    "It is the Python equivalent of the C++ constructor in an object-oriented approach. \n",
    "When you create a new object of a class, Python automatically passes your arguments to the __init__ method and calls it to initialize the object’s attributes. \n",
    "The __init__ method lets the class initialize the object’s attributes and serves no other purpose. \n",
    "It is only used within classes.\n",
    "\n",
    "Role?\n",
    "\n",
    "Initialize(assign values) to the data members of the class when an object of the class is created."
   ]
  },
  {
   "cell_type": "markdown",
   "metadata": {},
   "source": [
    "5. In a class named `Person`, create a constructor that initializes the `name` and `age` \n",
    "attributes. Provide an example of creating an object of this class."
   ]
  },
  {
   "cell_type": "code",
   "execution_count": 4,
   "metadata": {},
   "outputs": [
    {
     "name": "stdout",
     "output_type": "stream",
     "text": [
      "ram 34\n"
     ]
    }
   ],
   "source": [
    "class Person:\n",
    "    def __init__(self,name,age):\n",
    "        self.name=name\n",
    "        self.age=age\n",
    "        print(self.name, self.age)\n",
    "p = Person(\"ram\",34)"
   ]
  },
  {
   "cell_type": "markdown",
   "metadata": {},
   "source": [
    "6. How can you call a constructor explicitly in Python? Give an example."
   ]
  },
  {
   "cell_type": "code",
   "execution_count": 2,
   "metadata": {},
   "outputs": [
    {
     "name": "stdout",
     "output_type": "stream",
     "text": [
      "Constructor called with value: 42\n",
      "Constructor called with value: 123\n"
     ]
    }
   ],
   "source": [
    "# In Python, you can call a constructor explicitly by using the __init__ method of a class. \n",
    "# The __init__ method is a special method that serves as the constructor for a class. \n",
    "# You can call it like any other method. \n",
    "\n",
    "# Here's an example:\n",
    "\n",
    "class MyClass:\n",
    "    def __init__(self, value):\n",
    "        self.value = value\n",
    "        print(f\"Constructor called with value: {self.value}\")\n",
    "\n",
    "# Create an instance of MyClass\n",
    "obj = MyClass(42)  # This will implicitly call the constructor\n",
    "\n",
    "# Now, let's call the constructor explicitly\n",
    "another_obj = MyClass.__init__(obj, 123)"
   ]
  },
  {
   "cell_type": "markdown",
   "metadata": {},
   "source": [
    "7. What is the significance of the `self` parameter in Python constructors? Explain with an \n",
    "example"
   ]
  },
  {
   "cell_type": "code",
   "execution_count": 6,
   "metadata": {},
   "outputs": [
    {
     "name": "stdout",
     "output_type": "stream",
     "text": [
      "18\n"
     ]
    }
   ],
   "source": [
    "\"\"\"\n",
    "When working with classes in Python, the term “self” refers to the instance of the class that is currently being used. \n",
    "It is customary to use “self” as the first parameter in instance methods of a class. \n",
    "Whenever you call a method of an object created from a class, the object is automatically passed as the first argument \n",
    "using the “self” parameter. \n",
    "This enables you to modify the object’s properties and execute tasks unique to that particular instance.\n",
    "\"\"\"\n",
    "\n",
    "class mynumber:\n",
    "    def __init__(self, value):\n",
    "        self.value = value\n",
    "     \n",
    "    def print_value(self):\n",
    "        print(self.value)\n",
    " \n",
    "obj1 = mynumber(18)\n",
    "obj1.print_value()"
   ]
  },
  {
   "cell_type": "markdown",
   "metadata": {},
   "source": [
    "8. Discuss the concept of default constructors in Python. When are they used?"
   ]
  },
  {
   "cell_type": "code",
   "execution_count": 7,
   "metadata": {},
   "outputs": [
    {
     "name": "stdout",
     "output_type": "stream",
     "text": [
      "not done\n"
     ]
    }
   ],
   "source": [
    "# When you do not write the constructor in the class created, \n",
    "# Python itself creates a constructor during the compilation of the program.\n",
    "\n",
    "# It generates an empty constructor that has no code in it. \n",
    "\n",
    "\n",
    "# Example\n",
    "class Assignments:\n",
    "    check= \"not done\"\n",
    "    # a method\n",
    "    def is_done(self):\n",
    "        print(self.check)\n",
    "\n",
    "# creating an object of the class\n",
    "obj = Assignments()\n",
    "\n",
    "# calling the instance method using the object obj\n",
    "obj.is_done()"
   ]
  },
  {
   "cell_type": "markdown",
   "metadata": {},
   "source": [
    "9. Create a Python class called `Rectangle` with a constructor that initializes the `width` and \n",
    "`height` attributes. Provide a method to calculate the area of the rectangle."
   ]
  },
  {
   "cell_type": "code",
   "execution_count": 8,
   "metadata": {},
   "outputs": [
    {
     "data": {
      "text/plain": [
       "50"
      ]
     },
     "execution_count": 8,
     "metadata": {},
     "output_type": "execute_result"
    }
   ],
   "source": [
    "class Rectangle:\n",
    "    def __init__(self,width,height):\n",
    "        self.width=width\n",
    "        self.height=height\n",
    "    \n",
    "    def area(self):\n",
    "        return self.height * self.width\n",
    "\n",
    "r=Rectangle(5,10)\n",
    "r.area()"
   ]
  },
  {
   "cell_type": "markdown",
   "metadata": {},
   "source": [
    "10. How can you have multiple constructors in a Python class? Explain with an example."
   ]
  },
  {
   "cell_type": "markdown",
   "metadata": {},
   "source": [
    "In Python, you can't have multiple constructors with different signatures as you can in some other programming languages like Java or C++. \n",
    "However, you can achieve similar functionality by using default values for constructor arguments and providing alternative ways to initialize an object.\n",
    "\n",
    "Multiple constructors are required when one has to perform different actions on the instantiation of a class. \n",
    "This is useful when the class has to perform different actions on different parameters. \n",
    "The class constructors can be made to exhibit polymorphism in three ways which are listed below.\n",
    "\n",
    "1. Overloading constructors based on arguments.\n",
    "2. Calling methods from __init__.\n",
    "3. Using @classmethod decorator.\n",
    "\n",
    "Using @classmethod decorator :\n",
    "\n",
    "This decorator allows a function to be accessible without instantiating the class. \n",
    "The functions can be accessed both by the instance of the class and the class itself. \n",
    "The first parameter of the method that is declared as classmethod is cls, which is like the self of the instance methods. Here cls refer to the class itself. \n",
    "This proves to be very helpful to use multiple constructors in Python and is a more Pythonic approach considered to the above ones\n"
   ]
  },
  {
   "cell_type": "code",
   "execution_count": 5,
   "metadata": {},
   "outputs": [
    {
     "name": "stdout",
     "output_type": "stream",
     "text": [
      "42 0\n",
      "10 20\n",
      "5 8\n"
     ]
    }
   ],
   "source": [
    "class MyClass:\n",
    "    def __init__(self, value1, value2=0):\n",
    "        self.value1 = value1\n",
    "        self.value2 = value2\n",
    "\n",
    "    @classmethod\n",
    "    def from_string(cls, input_string):\n",
    "        values = input_string.split(',')\n",
    "        if len(values) == 2:\n",
    "            return cls(int(values[0]), int(values[1]))\n",
    "        else:\n",
    "            return cls(int(values[0]))\n",
    "\n",
    "# Using the primary constructor\n",
    "obj1 = MyClass(42)            # Initializes value1 with 42 and value2 with the default value of 0\n",
    "obj2 = MyClass(10, 20)        # Initializes value1 with 10 and value2 with 20\n",
    "\n",
    "# Using an alternative constructor\n",
    "obj3 = MyClass.from_string(\"5, 8\")  # Calls the from_string method to create an object\n",
    "\n",
    "print(obj1.value1, obj1.value2)  # Output: 42, 0\n",
    "print(obj2.value1, obj2.value2)  # Output: 10, 20\n",
    "print(obj3.value1, obj3.value2)  # Output: 5, 8"
   ]
  },
  {
   "cell_type": "markdown",
   "metadata": {},
   "source": [
    "11. What is method overloading, and how is it related to constructors in Python?"
   ]
  },
  {
   "cell_type": "markdown",
   "metadata": {},
   "source": [
    "Method Overloading:\n",
    "\n",
    "Two or more methods have the same name but different numbers of parameters or different types of parameters, or both. \n",
    "These methods are called overloaded methods and this is called method overloading. \n",
    "\n",
    "Here's how constructors and method overloading are related in Python:\n",
    "\n",
    "Constructors: \n",
    "\n",
    "In Python, the constructor of a class is a special method named __init__. \n",
    "It's used for initializing objects created from that class. \n",
    "Constructors can have different parameter lists, and you can provide default values for some or all of the arguments, which allows for multiple ways of initializing objects.\n",
    "\n",
    "Method Overloading: \n",
    "\n",
    "While Python doesn't have method overloading in the strict sense of statically typed languages, you can achieve similar behavior by defining methods with different parameter lists (including default values) or by using variable-length arguments (e.g., *args or **kwargs). \n",
    "In the context of constructors, you can think of different constructor signatures as methods with different parameter lists, effectively achieving a form of method overloading."
   ]
  },
  {
   "cell_type": "markdown",
   "metadata": {},
   "source": [
    "12. Explain the use of the `super()` function in Python constructors. Provide an example."
   ]
  },
  {
   "cell_type": "markdown",
   "metadata": {},
   "source": [
    "super() function is used to refer to the parent class or superclass. \n",
    "It allows you to call methods defined in the superclass from the subclass, enabling you to extend and customize the functionality inherited from the parent class."
   ]
  },
  {
   "cell_type": "code",
   "execution_count": 12,
   "metadata": {},
   "outputs": [
    {
     "name": "stdout",
     "output_type": "stream",
     "text": [
      "The ID is: 103\n",
      "The Name is: Suraj kr gupta\n",
      "The Address is: Noida\n",
      "The Emails is: KKK@gmails\n"
     ]
    }
   ],
   "source": [
    "class Emp():\n",
    "\tdef __init__(self, id, name, Add):\n",
    "\t\tself.id = id\n",
    "\t\tself.name = name\n",
    "\t\tself.Add = Add\n",
    "\n",
    "# Class freelancer inherits EMP\n",
    "class Freelance(Emp):\n",
    "\tdef __init__(self, id, name, Add, Emails):\n",
    "\t\tsuper().__init__(id, name, Add)\n",
    "\t\tself.Emails = Emails\n",
    "\n",
    "Emp_1 = Freelance(103, \"Suraj kr gupta\", \"Noida\" , \"KKK@gmails\")\n",
    "print('The ID is:', Emp_1.id)\n",
    "print('The Name is:', Emp_1.name)\n",
    "print('The Address is:', Emp_1.Add)\n",
    "print('The Emails is:', Emp_1.Emails)"
   ]
  },
  {
   "cell_type": "markdown",
   "metadata": {},
   "source": [
    "13. Create a class called `Book` with a constructor that initializes the `title`, `author`, and \n",
    "`published_year` attributes. Provide a method to display book details."
   ]
  },
  {
   "cell_type": "code",
   "execution_count": 17,
   "metadata": {},
   "outputs": [
    {
     "name": "stdout",
     "output_type": "stream",
     "text": [
      "Book details: wings of fire Author: abdul kalam 2003\n"
     ]
    }
   ],
   "source": [
    "class Book:\n",
    "    def __init__(self,title,author,published_year):\n",
    "        self.title=title\n",
    "        self.author=author\n",
    "        self.published_year=published_year\n",
    "    \n",
    "    def display_book_details(self):\n",
    "        print(f\"Book details: {self.title} Author: {self.author} {self.published_year}\")\n",
    "\n",
    "b = Book(\"wings of fire\", \"abdul kalam\", 2003)\n",
    "b.display_book_details()"
   ]
  },
  {
   "cell_type": "markdown",
   "metadata": {},
   "source": [
    "14. Discuss the differences between constructors and regular methods in Python classes."
   ]
  },
  {
   "cell_type": "markdown",
   "metadata": {},
   "source": [
    "Constructors\t\t\n",
    "1) Constructor name must be init\n",
    "2) Constructor will be executed automatically whenever we create object.\n",
    "3) With repect to one object only one object can be exuecutd\n",
    "only once.\n",
    "4) Constructor are used to define and initilize the non static\n",
    "variables.\n",
    "\n",
    "Methods:\n",
    "1) Method name can be any name\n",
    "2) Method will be executed whenever we call a method.\n",
    "3) With respect to one object one method can be called for n number of lines\n",
    "4) Methods are used to represent business logic to perform\n",
    "the operations."
   ]
  },
  {
   "cell_type": "markdown",
   "metadata": {},
   "source": [
    "15. Explain the role of the `self` parameter in instance variable initialization within a constructor."
   ]
  },
  {
   "cell_type": "markdown",
   "metadata": {},
   "source": [
    "In Python, the self parameter in a constructor (or any instance method) is a reference to the instance of the class that's being created or operated on. \n",
    "It's a convention to name this first parameter self, but you can technically name it anything you like. \n",
    "However, it's a widely followed convention in Python, and deviating from it can make your code less readable and less maintainable for others who are familiar with Python.\n",
    "\n",
    "Initializing Instance Variables: \n",
    "\n",
    "Inside the constructor (usually named __init__ in Python), you use the self parameter to initialize instance variables for that specific instance. \n",
    "Instance variables are attributes that belong to the object and are unique to each instance of the class. \n",
    "You set them using the self parameter in the form self.variable_name = initial_value."
   ]
  },
  {
   "cell_type": "markdown",
   "metadata": {},
   "source": [
    "16. How do you prevent a class from having multiple instances by using constructors in Python? \n",
    "Provide an example."
   ]
  },
  {
   "cell_type": "markdown",
   "metadata": {},
   "source": [
    "In Python, you can prevent a class from having multiple instances by implementing the Singleton design pattern. \n",
    "The Singleton pattern ensures that a class has only one instance throughout the lifetime of the program. \n",
    "To achieve this, you typically override the __new__ method (which is responsible for creating new instances) and use a class-level attribute to track whether an instance has already been created. \n",
    "If an instance already exists, you return the existing instance instead of creating a new one.\n",
    "\n",
    "Here's an example of how to implement a Singleton in Python:"
   ]
  },
  {
   "cell_type": "code",
   "execution_count": 3,
   "metadata": {},
   "outputs": [
    {
     "name": "stdout",
     "output_type": "stream",
     "text": [
      "<__main__.singleton_design object at 0x00000151BE9D3110>\n",
      "<__main__.singleton_design object at 0x00000151BE9D3110>\n"
     ]
    },
    {
     "ename": "Exception",
     "evalue": "The singleton_design cannot be instantiated more than once!",
     "output_type": "error",
     "traceback": [
      "\u001b[1;31m---------------------------------------------------------------------------\u001b[0m",
      "\u001b[1;31mException\u001b[0m                                 Traceback (most recent call last)",
      "\u001b[1;32mc:\\Ramkishor.ch\\D\\GITHUBB\\PwSkills\\Assignments\\14_15_Oct_Constructor_Inheritance_Encapsulation.ipynb Cell 36\u001b[0m line \u001b[0;36m3\n\u001b[0;32m     <a href='vscode-notebook-cell:/c%3A/Ramkishor.ch/D/GITHUBB/PwSkills/Assignments/14_15_Oct_Constructor_Inheritance_Encapsulation.ipynb#Y563sZmlsZQ%3D%3D?line=34'>35</a>\u001b[0m \u001b[39mprint\u001b[39m(obj1)\n\u001b[0;32m     <a href='vscode-notebook-cell:/c%3A/Ramkishor.ch/D/GITHUBB/PwSkills/Assignments/14_15_Oct_Constructor_Inheritance_Encapsulation.ipynb#Y563sZmlsZQ%3D%3D?line=36'>37</a>\u001b[0m \u001b[39m\u001b[39m\u001b[39m\"\"\" trying to instantiate singleton_design class one more time \"\"\"\u001b[39;00m\n\u001b[1;32m---> <a href='vscode-notebook-cell:/c%3A/Ramkishor.ch/D/GITHUBB/PwSkills/Assignments/14_15_Oct_Constructor_Inheritance_Encapsulation.ipynb#Y563sZmlsZQ%3D%3D?line=37'>38</a>\u001b[0m obj1 \u001b[39m=\u001b[39m singleton_design()\n",
      "\u001b[1;32mc:\\Ramkishor.ch\\D\\GITHUBB\\PwSkills\\Assignments\\14_15_Oct_Constructor_Inheritance_Encapsulation.ipynb Cell 36\u001b[0m line \u001b[0;36m2\n\u001b[0;32m     <a href='vscode-notebook-cell:/c%3A/Ramkishor.ch/D/GITHUBB/PwSkills/Assignments/14_15_Oct_Constructor_Inheritance_Encapsulation.ipynb#Y563sZmlsZQ%3D%3D?line=18'>19</a>\u001b[0m \u001b[39m\u001b[39m\u001b[39m\"\"\"virtual private constructor\"\"\"\u001b[39;00m\n\u001b[0;32m     <a href='vscode-notebook-cell:/c%3A/Ramkishor.ch/D/GITHUBB/PwSkills/Assignments/14_15_Oct_Constructor_Inheritance_Encapsulation.ipynb#Y563sZmlsZQ%3D%3D?line=19'>20</a>\u001b[0m \u001b[39mif\u001b[39;00m singleton_design\u001b[39m.\u001b[39m__instance_variable \u001b[39mis\u001b[39;00m \u001b[39mnot\u001b[39;00m \u001b[39mNone\u001b[39;00m:\n\u001b[1;32m---> <a href='vscode-notebook-cell:/c%3A/Ramkishor.ch/D/GITHUBB/PwSkills/Assignments/14_15_Oct_Constructor_Inheritance_Encapsulation.ipynb#Y563sZmlsZQ%3D%3D?line=20'>21</a>\u001b[0m \t\u001b[39mraise\u001b[39;00m \u001b[39mException\u001b[39;00m(\u001b[39m\"\u001b[39m\u001b[39mThe singleton_design cannot be instantiated more than once!\u001b[39m\u001b[39m\"\u001b[39m)\n\u001b[0;32m     <a href='vscode-notebook-cell:/c%3A/Ramkishor.ch/D/GITHUBB/PwSkills/Assignments/14_15_Oct_Constructor_Inheritance_Encapsulation.ipynb#Y563sZmlsZQ%3D%3D?line=21'>22</a>\u001b[0m \u001b[39melse\u001b[39;00m:\n\u001b[0;32m     <a href='vscode-notebook-cell:/c%3A/Ramkishor.ch/D/GITHUBB/PwSkills/Assignments/14_15_Oct_Constructor_Inheritance_Encapsulation.ipynb#Y563sZmlsZQ%3D%3D?line=22'>23</a>\u001b[0m \tsingleton_design\u001b[39m.\u001b[39m__instance_variable \u001b[39m=\u001b[39m \u001b[39mself\u001b[39m\n",
      "\u001b[1;31mException\u001b[0m: The singleton_design cannot be instantiated more than once!"
     ]
    }
   ],
   "source": [
    "# Example: 1\n",
    "\n",
    "\"\"\" singleton_design design pattern (classic method) \"\"\"\n",
    "class singleton_design:\n",
    "\n",
    "\t__instance_variable = None\n",
    "\n",
    "\t@staticmethod\n",
    "\tdef getInstance():\n",
    "\n",
    "\t\t\"\"\"Static Method\"\"\"\n",
    "\t\tif singleton_design.__instance_variable is None:\n",
    "\t\t\tsingleton_design()\n",
    "\t\treturn singleton_design.__instance_variable\n",
    "\n",
    "\t\"\"\" constructor \"\"\"\n",
    "\tdef __init__(self):\n",
    "\n",
    "\t\t\"\"\"virtual private constructor\"\"\"\n",
    "\t\tif singleton_design.__instance_variable is not None:\n",
    "\t\t\traise Exception(\"The singleton_design cannot be instantiated more than once!\")\n",
    "\t\telse:\n",
    "\t\t\tsingleton_design.__instance_variable = self\n",
    "\n",
    "\n",
    "\"\"\" main method \"\"\"\n",
    "if __name__ == \"__main__\":\n",
    "\n",
    "\t\"\"\" creating an object of singleton_design Class \"\"\"\n",
    "\tobj = singleton_design()\n",
    "\tprint(obj)\n",
    "\n",
    "\t\"\"\" picking up an instance of the singleton_design class \"\"\"\n",
    "\tobj1 = singleton_design.getInstance()\n",
    "\tprint(obj1)\n",
    "\n",
    "\t\"\"\" trying to instantiate singleton_design class one more time \"\"\"\n",
    "\tobj1 = singleton_design()"
   ]
  },
  {
   "cell_type": "code",
   "execution_count": 18,
   "metadata": {},
   "outputs": [
    {
     "name": "stdout",
     "output_type": "stream",
     "text": [
      "True\n"
     ]
    }
   ],
   "source": [
    "# Example : 2\n",
    "class Singleton:\n",
    "    _instance = None  # Class-level attribute to store the single instance\n",
    "\n",
    "    def __new__(cls):\n",
    "        if cls._instance is None:\n",
    "            cls._instance = super(Singleton, cls).__new__(cls)\n",
    "        return cls._instance\n",
    "\n",
    "# Creating instances of the Singleton class\n",
    "instance1 = Singleton()\n",
    "instance2 = Singleton()\n",
    "\n",
    "print(instance1 is instance2)  # Output: True (Both instances are the same)"
   ]
  },
  {
   "cell_type": "markdown",
   "metadata": {},
   "source": [
    "17. Create a Python class called `Student` with a constructor that takes a list of subjects as a \n",
    "parameter and initializes the `subjects` attribute."
   ]
  },
  {
   "cell_type": "code",
   "execution_count": 23,
   "metadata": {},
   "outputs": [
    {
     "data": {
      "text/plain": [
       "['maths', 'science']"
      ]
     },
     "execution_count": 23,
     "metadata": {},
     "output_type": "execute_result"
    }
   ],
   "source": [
    "class Student:\n",
    "    def __init__(self,l):\n",
    "        self.subjects=l\n",
    "\n",
    "s = Student([\"maths\",\"science\"])\n",
    "s.subjects"
   ]
  },
  {
   "cell_type": "markdown",
   "metadata": {},
   "source": [
    "18. What is the purpose of the `__del__` method in Python classes, and how does it relate to \n",
    "constructors?"
   ]
  },
  {
   "cell_type": "markdown",
   "metadata": {},
   "source": [
    "Destructors are called when an object gets destroyed. \n",
    "In Python, destructors are not needed as much as in C++ because Python has a garbage collector that handles memory management automatically. \n",
    "The __del__() method is a known as a destructor method in Python. \n",
    "It is called when all references to the object have been deleted i.e when an object is garbage collected. "
   ]
  },
  {
   "cell_type": "markdown",
   "metadata": {},
   "source": [
    "How does it relate to constructors?\n",
    "In Python, constructors and destructors are related in the context of object initialization and cleanup, respectively. Constructors are responsible for setting up the initial state of an object when it is created, while destructors are responsible for cleaning up resources and performing any necessary cleanup when the object is no longer needed."
   ]
  },
  {
   "cell_type": "markdown",
   "metadata": {},
   "source": [
    "19. Explain the use of constructor chaining in Python. Provide a practical example."
   ]
  },
  {
   "cell_type": "markdown",
   "metadata": {},
   "source": [
    "Constructor chaining, also known as constructor delegation, is a technique in object-oriented programming where one constructor of a class can call another constructor within the same class. This is often used to avoid duplicating code when you have multiple constructors with some shared initialization logic. In Python, you can achieve constructor chaining by using the super() function to call a constructor from a base class.\n",
    "\n",
    "Here's an explanation and a practical example of constructor chaining in Python:"
   ]
  },
  {
   "cell_type": "code",
   "execution_count": 24,
   "metadata": {},
   "outputs": [
    {
     "name": "stdout",
     "output_type": "stream",
     "text": [
      "Toyota\n",
      "This 2022 Toyota Camry is blue.\n"
     ]
    }
   ],
   "source": [
    "class Vehicle:\n",
    "    def __init__(self, make, model, year):\n",
    "        self.make = make\n",
    "        self.model = model\n",
    "        self.year = year\n",
    "\n",
    "class Car(Vehicle):\n",
    "    def __init__(self, make, model, year, color):\n",
    "        # Call the constructor of the base class (Vehicle) using super()\n",
    "        super().__init__(make, model, year)\n",
    "        self.color = color\n",
    "\n",
    "    def description(self):\n",
    "        return f\"This {self.year} {self.make} {self.model} is {self.color}.\"\n",
    "\n",
    "# Creating a Car instance\n",
    "my_car = Car(\"Toyota\", \"Camry\", 2022, \"blue\")\n",
    "\n",
    "# Accessing attributes and calling the description method\n",
    "print(my_car.make)  # Output: \"Toyota\"\n",
    "print(my_car.description())  # Output: \"This 2022 Toyota Camry is blue.\""
   ]
  },
  {
   "cell_type": "markdown",
   "metadata": {},
   "source": [
    "20. Create a Python class called `Car` with a default constructor that initializes the `make` and \n",
    "`model` attributes. Provide a method to display car information."
   ]
  },
  {
   "cell_type": "code",
   "execution_count": 25,
   "metadata": {},
   "outputs": [
    {
     "name": "stdout",
     "output_type": "stream",
     "text": [
      "Car Make: Unknown, Model: Unknown\n",
      "Car Make: Toyota, Model: Camry\n"
     ]
    }
   ],
   "source": [
    "class Car:\n",
    "    def __init__(self, make=\"Unknown\", model=\"Unknown\"):\n",
    "        self.make = make\n",
    "        self.model = model\n",
    "\n",
    "    def display_info(self):\n",
    "        return f\"Car Make: {self.make}, Model: {self.model}\"\n",
    "\n",
    "# Creating an instance of the Car class with default values\n",
    "my_car = Car()\n",
    "\n",
    "# Accessing attributes and calling the display_info method\n",
    "print(my_car.display_info())  # Output: \"Car Make: Unknown, Model: Unknown\"\n",
    "\n",
    "# Creating another instance with specific make and model\n",
    "your_car = Car(\"Toyota\", \"Camry\")\n",
    "\n",
    "# Accessing attributes and calling the display_info method\n",
    "print(your_car.display_info())  # Output: \"Car Make: Toyota, Model: Camry\""
   ]
  },
  {
   "cell_type": "markdown",
   "metadata": {},
   "source": [
    "**Inheritance**"
   ]
  },
  {
   "cell_type": "markdown",
   "metadata": {},
   "source": [
    "1. What is inheritance in Python? Explain its significance in object-oriented programming."
   ]
  },
  {
   "cell_type": "markdown",
   "metadata": {},
   "source": [
    "Inheritance in Python is a fundamental concept in object-oriented programming (OOP) that allows a class to inherit attributes and behaviors (methods and properties) from another class. This relationship between classes is often referred to as an \"is-a\" relationship, where a subclass is said to be a specialized version of its superclass. In Python, you create a subclass by defining a new class and specifying the superclass from which it inherits.\n",
    "\n",
    "In this example:\n",
    "\n",
    "Animal is the superclass (or base class).\n",
    "Dog and Cat are subclasses that inherit from the Animal class.\n",
    "Significance of Inheritance in Object-Oriented Programming:\n",
    "\n",
    "**Code Reusability:** Inheritance promotes code reusability. Subclasses can reuse and extend the attributes and behaviors of their superclass. This reduces code duplication and makes it easier to maintain and extend the codebase.\n",
    "\n",
    "**Hierarchy and Organization:** Inheritance allows you to model complex hierarchies of objects. You can create a structured and organized class hierarchy that reflects the relationships between different entities in your program.\n",
    "\n",
    "**Polymorphism:** Inheritance is closely related to the concept of polymorphism. Polymorphism allows you to treat objects of different classes as objects of a common superclass. This means that you can write code that works with objects of the superclass and its subclasses without needing to know the specific subclass being used. This makes your code more flexible and extensible.\n",
    "\n",
    "**Method Overriding:** Subclasses can provide their own implementations of methods inherited from the superclass. This is known as method overriding. It allows you to customize the behavior of methods in a subclass while retaining the overall structure defined in the superclass.\n",
    "\n",
    "**Specialization and Generalization:** Inheritance enables you to create specialized classes (subclasses) based on more general classes (superclasses). This specialization helps you model real-world concepts accurately and efficiently.\n",
    "\n",
    "**Improved Maintainability:** Inheritance makes it easier to update and maintain your code. If you need to make changes or additions to common functionality, you can do so in the superclass, and those changes will be inherited by all subclasses."
   ]
  },
  {
   "cell_type": "markdown",
   "metadata": {},
   "source": [
    "2. Differentiate between single inheritance and multiple inheritance in Python. Provide examples \n",
    "for each."
   ]
  },
  {
   "cell_type": "markdown",
   "metadata": {},
   "source": [
    "Single Inheritance: \n",
    "Single inheritance enables a derived class to inherit properties from a single parent class, thus enabling code reusability and the addition of new features to existing code."
   ]
  },
  {
   "cell_type": "code",
   "execution_count": 1,
   "metadata": {},
   "outputs": [
    {
     "name": "stdout",
     "output_type": "stream",
     "text": [
      "This function is in parent class.\n",
      "This function is in child class.\n"
     ]
    }
   ],
   "source": [
    "# Python program to demonstrate\n",
    "# single inheritance\n",
    "\n",
    "# Base class\n",
    "class Parent:\n",
    "\tdef func1(self):\n",
    "\t\tprint(\"This function is in parent class.\")\n",
    "\n",
    "# Derived class\n",
    "class Child(Parent):\n",
    "\tdef func2(self):\n",
    "\t\tprint(\"This function is in child class.\")\n",
    "\n",
    "object = Child()\n",
    "object.func1()\n",
    "object.func2()"
   ]
  },
  {
   "cell_type": "markdown",
   "metadata": {},
   "source": [
    "Multiple Inheritance: \n",
    "When a class can be derived from more than one base class this type of inheritance is called multiple inheritances. In multiple inheritances, all the features of the base classes are inherited into the derived class. "
   ]
  },
  {
   "cell_type": "code",
   "execution_count": 2,
   "metadata": {},
   "outputs": [
    {
     "name": "stdout",
     "output_type": "stream",
     "text": [
      "Father : RAM\n",
      "Mother : SITA\n"
     ]
    }
   ],
   "source": [
    "# Python program to demonstrate\n",
    "# multiple inheritance\n",
    "\n",
    "# Base class1\n",
    "class Mother:\n",
    "\tmothername = \"\"\n",
    "\n",
    "\tdef mother(self):\n",
    "\t\tprint(self.mothername)\n",
    "\n",
    "# Base class2\n",
    "class Father:\n",
    "\tfathername = \"\"\n",
    "\n",
    "\tdef father(self):\n",
    "\t\tprint(self.fathername)\n",
    "\n",
    "# Derived class\n",
    "class Son(Mother, Father):\n",
    "\tdef parents(self):\n",
    "\t\tprint(\"Father :\", self.fathername)\n",
    "\t\tprint(\"Mother :\", self.mothername)\n",
    "\n",
    "s1 = Son()\n",
    "s1.fathername = \"RAM\"\n",
    "s1.mothername = \"SITA\"\n",
    "s1.parents()"
   ]
  },
  {
   "cell_type": "markdown",
   "metadata": {},
   "source": [
    "3. Create a Python class called `Vehicle` with attributes `color` and `speed`. Then, create a child \n",
    "class called `Car` that inherits from `Vehicle` and adds a `brand` attribute. Provide an example \n",
    "of creating a `Car` object."
   ]
  },
  {
   "cell_type": "code",
   "execution_count": 3,
   "metadata": {},
   "outputs": [
    {
     "name": "stdout",
     "output_type": "stream",
     "text": [
      "My car is a Red Toyota with a top speed of 120 km/h.\n"
     ]
    }
   ],
   "source": [
    "class Vehicle:\n",
    "    def __init__(self, color, speed):\n",
    "        self.color = color\n",
    "        self.speed = speed\n",
    "\n",
    "class Car(Vehicle):\n",
    "    def __init__(self, color, speed, brand):\n",
    "        super().__init__(color, speed)\n",
    "        self.brand = brand\n",
    "\n",
    "# Creating a Car object\n",
    "my_car = Car(\"Red\", 120, \"Toyota\")\n",
    "\n",
    "# Accessing attributes of the Car object\n",
    "print(f\"My car is a {my_car.color} {my_car.brand} with a top speed of {my_car.speed} km/h.\")"
   ]
  },
  {
   "cell_type": "markdown",
   "metadata": {},
   "source": [
    "4. Explain the concept of method overriding in inheritance. Provide a practical example."
   ]
  },
  {
   "cell_type": "markdown",
   "metadata": {},
   "source": [
    "Method Overriding in Python is an OOPs concept closely related to inheritance. When a child class method overrides(or, provides it's own implementation) the parent class method of the same name, parameters and return type, it is known as method overriding."
   ]
  },
  {
   "cell_type": "code",
   "execution_count": 4,
   "metadata": {},
   "outputs": [
    {
     "name": "stdout",
     "output_type": "stream",
     "text": [
      "I have 4 sides. I am from Square class\n",
      "I am a 2D object. I am from shape class\n",
      "I have teal color. I am from Square class.\n",
      "Old value of data1 =  abc\n",
      "The value of data1 in Shape class overridden by the Square class =  New value\n"
     ]
    }
   ],
   "source": [
    "# Parent class\n",
    "class Shape:\n",
    "    # properties\n",
    "    data1 = \"abc\"\n",
    "\n",
    "    # function no_of_sides\n",
    "    def no_of_sides(self):\n",
    "        print(\"My sides need to be defined. I am from shape class.\")\n",
    "\n",
    "    # function two_dimensional\n",
    "    def two_dimensional(self):\n",
    "        print(\"I am a 2D object. I am from shape class\")\n",
    "\n",
    "#Sub-class\n",
    "class Square(Shape):\n",
    "    data2 = \"xyz\"\n",
    "\n",
    "    def no_of_sides(self):\n",
    "        print(\"I have 4 sides. I am from Square class\")\n",
    "\n",
    "    def color(self):\n",
    "        print(\"I have teal color. I am from Square class.\")\n",
    "\n",
    "\n",
    "# Create an object of Square class\n",
    "sq = Square()\n",
    "# Override the no_of_sides of parent class\n",
    "sq.no_of_sides()\n",
    "# Will inherit this method from the parent class\n",
    "sq.two_dimensional()\n",
    "# It's own method - color\n",
    "sq.color()\n",
    "print(\"Old value of data1 = \", sq.data1)\n",
    "# Override property of the Parent class\n",
    "sq.data1 = \"New value\"\n",
    "print(\"The value of data1 in Shape class overridden by the Square class = \", sq.data1)"
   ]
  },
  {
   "cell_type": "markdown",
   "metadata": {},
   "source": [
    "5. How can you access the methods and attributes of a parent class from a child class in \n",
    "Python? Give an example."
   ]
  },
  {
   "cell_type": "code",
   "execution_count": 7,
   "metadata": {},
   "outputs": [
    {
     "name": "stdout",
     "output_type": "stream",
     "text": [
      "1\n",
      "1\n"
     ]
    }
   ],
   "source": [
    "# I can access method and attributes of a parent class from a child class by mentioning\n",
    "# parent class name inside child class constructor to access attribute 'myvar' of parent class from child class\n",
    "class Parent():\n",
    "    def __init__(self):\n",
    "        self.myvar = 1\n",
    "\n",
    "class Child(Parent):\n",
    "    def __init__(self):\n",
    "        Parent.__init__(self)\n",
    "\n",
    "        # here you can access myvar like below.\n",
    "        print(self.myvar)\n",
    "\n",
    "child = Child()\n",
    "print(child.myvar)"
   ]
  },
  {
   "cell_type": "markdown",
   "metadata": {},
   "source": [
    "6. Discuss the use of the `super()` function in Python inheritance. When and why is it used? \n",
    "Provide an example."
   ]
  },
  {
   "cell_type": "markdown",
   "metadata": {},
   "source": [
    "Use :\n",
    "\n",
    "The super() function in Python is used in the context of inheritance to call methods or access attributes of the superclass (parent class) from within a subclass (child class). \n",
    "\n",
    "When ?\n",
    "\n",
    "It allows you to extend or override the behavior of methods in the superclass while still utilizing the functionality defined in the superclass. The super() function is particularly useful when you want to customize or add behavior to the inherited methods without completely redefining them.\n",
    "\n",
    "Why?\n",
    "The primary reasons to use super() are:\n",
    "\n",
    "Method Overriding: When you want to override a method defined in the superclass in the subclass, you can use super() to call the superclass's implementation of that method and then customize it according to the subclass's requirements.\n",
    "\n",
    "Constructor Chaining: When you create a subclass constructor and you want to ensure that the constructor of the superclass is also executed, you can use super() to call the superclass constructor, initializing the inherited attributes.\n",
    "\n",
    "Here's an example to illustrate the use of super() in method overriding and constructor chaining:"
   ]
  },
  {
   "cell_type": "code",
   "execution_count": 8,
   "metadata": {},
   "outputs": [
    {
     "name": "stdout",
     "output_type": "stream",
     "text": [
      "Buddy (a Golden Retriever dog) says Woof!\n",
      "Buddy\n"
     ]
    }
   ],
   "source": [
    "class Animal:\n",
    "    def __init__(self, name):\n",
    "        self.name = name\n",
    "\n",
    "    def speak(self):\n",
    "        return f\"{self.name} makes a sound.\"\n",
    "\n",
    "class Dog(Animal):\n",
    "    def __init__(self, name, breed):\n",
    "        super().__init__(name)  # Call the superclass constructor\n",
    "        self.breed = breed\n",
    "\n",
    "    def speak(self):\n",
    "        return f\"{self.name} (a {self.breed} dog) says Woof!\"\n",
    "\n",
    "# Creating a Dog object\n",
    "my_dog = Dog(\"Buddy\", \"Golden Retriever\")\n",
    "\n",
    "# Accessing the overridden method and superclass attribute\n",
    "print(my_dog.speak())  # Calls the overridden method in the Dog class\n",
    "print(my_dog.name)     # Accesses the attribute from the Animal superclas"
   ]
  },
  {
   "cell_type": "markdown",
   "metadata": {},
   "source": [
    "7. Create a Python class called `Animal` with a method `speak()`. Then, create child classes `Dog` and `Cat` that inherit from `Animal` and override the `speak()` method. Provide an example of using these classes."
   ]
  },
  {
   "cell_type": "code",
   "execution_count": 9,
   "metadata": {},
   "outputs": [
    {
     "name": "stdout",
     "output_type": "stream",
     "text": [
      "A dog says Woof!\n",
      "A cat says Meow!\n",
      "An animal makes a sound.\n"
     ]
    }
   ],
   "source": [
    "class Animal:\n",
    "    def speak(self):\n",
    "        return \"An animal makes a sound.\"\n",
    "\n",
    "class Dog(Animal):\n",
    "    def speak(self):\n",
    "        return \"A dog says Woof!\"\n",
    "\n",
    "class Cat(Animal):\n",
    "    def speak(self):\n",
    "        return \"A cat says Meow!\"\n",
    "\n",
    "# Example of using the classes\n",
    "dog = Dog()\n",
    "cat = Cat()\n",
    "generic_animal = Animal()\n",
    "\n",
    "print(dog.speak())  # Output: A dog says Woof!\n",
    "print(cat.speak())  # Output: A cat says Meow!\n",
    "print(generic_animal.speak())  # Output: An animal makes a sound."
   ]
  },
  {
   "cell_type": "markdown",
   "metadata": {},
   "source": [
    "8. Explain the role of the `isinstance()` function in Python and how it relates to inheritance."
   ]
  },
  {
   "cell_type": "markdown",
   "metadata": {},
   "source": [
    "The isinstance() function in Python is used to check whether an object belongs to a particular class or is an instance of a subclass. It is a built-in function that allows you to determine the type or class of an object, which can be useful for various purposes, especially when working with inheritance and object-oriented programming. Here's how it relates to inheritance:\n",
    "\n",
    "Checking Object Type: The primary purpose of isinstance() is to determine the type or class of an object. It can help you identify the class or subclass to which an object belongs. This is particularly useful when you have multiple subclasses that inherit from a common superclass, and you need to perform different actions based on the specific subclass of an object.\n",
    "\n",
    "Example:"
   ]
  },
  {
   "cell_type": "code",
   "execution_count": 10,
   "metadata": {},
   "outputs": [
    {
     "name": "stdout",
     "output_type": "stream",
     "text": [
      "This is a Vehicle or its subclass.\n"
     ]
    }
   ],
   "source": [
    "class Vehicle:\n",
    "    pass\n",
    "\n",
    "class Car(Vehicle):\n",
    "    pass\n",
    "\n",
    "my_car = Car()\n",
    "\n",
    "if isinstance(my_car, Vehicle):\n",
    "    print(\"This is a Vehicle or its subclass.\")"
   ]
  },
  {
   "cell_type": "markdown",
   "metadata": {},
   "source": [
    "Handling Polymorphism: isinstance() plays a crucial role in polymorphism, where objects of different classes, including subclasses, can be treated as instances of a common superclass. This allows you to write more flexible and generic code that works with various types of objects without needing to know their specific class."
   ]
  },
  {
   "cell_type": "code",
   "execution_count": 11,
   "metadata": {},
   "outputs": [
    {
     "name": "stdout",
     "output_type": "stream",
     "text": [
      "Woof!\n",
      "Meow!\n"
     ]
    }
   ],
   "source": [
    "class Animal:\n",
    "    def speak(self):\n",
    "        pass\n",
    "\n",
    "class Dog(Animal):\n",
    "    def speak(self):\n",
    "        return \"Woof!\"\n",
    "\n",
    "class Cat(Animal):\n",
    "    def speak(self):\n",
    "        return \"Meow!\"\n",
    "\n",
    "def make_animal_speak(animal):\n",
    "    if isinstance(animal, Animal):\n",
    "        print(animal.speak())\n",
    "    else:\n",
    "        print(\"Not an Animal!\")\n",
    "\n",
    "my_dog = Dog()\n",
    "my_cat = Cat()\n",
    "\n",
    "make_animal_speak(my_dog)  # Output: Woof!\n",
    "make_animal_speak(my_cat)  # Output: Meow!"
   ]
  },
  {
   "cell_type": "code",
   "execution_count": 12,
   "metadata": {},
   "outputs": [
    {
     "name": "stdout",
     "output_type": "stream",
     "text": [
      "This is a Shape or its subclass.\n",
      "This is a Circle or its subclass.\n"
     ]
    }
   ],
   "source": [
    "# Handling Inheritance Hierarchy: When you have a complex inheritance hierarchy with multiple levels of subclasses, isinstance() can help you navigate and make decisions based on the levels of inheritance.\n",
    "\n",
    "# Example:\n",
    "class Shape:\n",
    "    pass\n",
    "\n",
    "class Circle(Shape):\n",
    "    pass\n",
    "\n",
    "class Cylinder(Circle):\n",
    "    pass\n",
    "\n",
    "my_cylinder = Cylinder()\n",
    "\n",
    "if isinstance(my_cylinder, Shape):\n",
    "    print(\"This is a Shape or its subclass.\")\n",
    "if isinstance(my_cylinder, Circle):\n",
    "    print(\"This is a Circle or its subclass.\")"
   ]
  },
  {
   "cell_type": "markdown",
   "metadata": {},
   "source": [
    "9. What is the purpose of the `issubclass()` function in Python? Provide an example."
   ]
  },
  {
   "cell_type": "code",
   "execution_count": 14,
   "metadata": {},
   "outputs": [
    {
     "name": "stdout",
     "output_type": "stream",
     "text": [
      "True\n"
     ]
    }
   ],
   "source": [
    "# The issubclass() function returns True if the specified object is a subclass of the specified object, otherwise False.\n",
    "\n",
    "class myAge:\n",
    "  age = 36\n",
    "\n",
    "class myObj(myAge):\n",
    "  name = \"John\"\n",
    "  age = myAge\n",
    "\n",
    "x = issubclass(myObj, myAge)\n",
    "print(x)"
   ]
  },
  {
   "cell_type": "markdown",
   "metadata": {},
   "source": [
    "10. Discuss the concept of constructor inheritance in Python. How are constructors inherited in \n",
    "child classes?"
   ]
  },
  {
   "cell_type": "markdown",
   "metadata": {},
   "source": [
    "In Python, constructor inheritance refers to how child classes inherit and utilize the constructors of their parent (superclass) classes. When a child class is created, it can inherit the constructor of its parent class, and this process is typically achieved using the super() function. Constructor inheritance allows child classes to initialize inherited attributes and methods while also adding their own attributes and customizing the initialization process.\n",
    "\n",
    "Here's how constructor inheritance works in Python:\n",
    "\n",
    "Inheriting the Constructor: \n",
    "\n",
    "When you create a child class, if you do not define a constructor (__init__ method) in the child class, it automatically inherits the constructor of the parent class. This means that the child class can access and utilize the attributes and behaviors initialized in the parent class's constructor.\n",
    "\n",
    "Calling the Parent Constructor with super(): \n",
    "\n",
    "If you want to ensure that the parent class's constructor is explicitly called from the child class's constructor, you can use the super() function. This is especially useful when you want to add additional attributes or custom initialization in the child class.\n",
    "\n",
    "Here's an example to illustrate constructor inheritance in Python:"
   ]
  },
  {
   "cell_type": "code",
   "execution_count": 15,
   "metadata": {},
   "outputs": [
    {
     "name": "stdout",
     "output_type": "stream",
     "text": [
      "My car is a Red Toyota with a top speed of 120 km/h.\n"
     ]
    }
   ],
   "source": [
    "class Vehicle:\n",
    "    def __init__(self, color, speed):\n",
    "        self.color = color\n",
    "        self.speed = speed\n",
    "\n",
    "class Car(Vehicle):\n",
    "    def __init__(self, color, speed, brand):\n",
    "        super().__init__(color, speed)  # Call the constructor of the parent class\n",
    "        self.brand = brand\n",
    "\n",
    "# Creating a Car object\n",
    "my_car = Car(\"Red\", 120, \"Toyota\")\n",
    "\n",
    "# Accessing attributes\n",
    "print(f\"My car is a {my_car.color} {my_car.brand} with a top speed of {my_car.speed} km/h.\")"
   ]
  },
  {
   "cell_type": "markdown",
   "metadata": {},
   "source": [
    "11. Create a Python class called `Shape` with a method `area()` that calculates the area of a \n",
    "shape. Then, create child classes `Circle` and `Rectangle` that inherit from `Shape` and \n",
    "implement the `area()` method accordingly. Provide an example."
   ]
  },
  {
   "cell_type": "code",
   "execution_count": 1,
   "metadata": {},
   "outputs": [
    {
     "name": "stdout",
     "output_type": "stream",
     "text": [
      "Area of the circle with radius 5 is 78.54 square units.\n",
      "Area of the rectangle with width 4 and height 6 is 24 square units.\n"
     ]
    }
   ],
   "source": [
    "import math\n",
    "\n",
    "class Shape:\n",
    "    def area(self):\n",
    "        pass\n",
    "\n",
    "class Circle(Shape):\n",
    "    def __init__(self, radius):\n",
    "        self.radius = radius\n",
    "\n",
    "    def area(self):\n",
    "        return math.pi * self.radius ** 2\n",
    "\n",
    "class Rectangle(Shape):\n",
    "    def __init__(self, width, height):\n",
    "        self.width = width\n",
    "        self.height = height\n",
    "\n",
    "    def area(self):\n",
    "        return self.width * self.height\n",
    "\n",
    "# Example of using the classes\n",
    "circle = Circle(5)\n",
    "rectangle = Rectangle(4, 6)\n",
    "\n",
    "print(f\"Area of the circle with radius {circle.radius} is {circle.area():.2f} square units.\")\n",
    "print(f\"Area of the rectangle with width {rectangle.width} and height {rectangle.height} is {rectangle.area()} square units.\")"
   ]
  },
  {
   "cell_type": "markdown",
   "metadata": {},
   "source": [
    "12. Explain the use of abstract base classes (ABCs) in Python and how they relate to \n",
    "inheritance. Provide an example using the `abc` module."
   ]
  },
  {
   "cell_type": "markdown",
   "metadata": {},
   "source": [
    "Abstract Base Classes (ABCs) in Python are a way to define abstract classes that serve as a blueprint for other classes, ensuring that certain methods or properties are implemented in the derived (child) classes. ABCs are a form of contract, specifying the interface that a class must adhere to, and they play a crucial role in enforcing a structure in class hierarchies. The abc module in Python provides the necessary tools for creating and using ABCs.\n",
    "\n",
    "Here's how ABCs relate to inheritance and how you can use the abc module in Python:\n",
    "\n",
    "Defining an ABC: To create an ABC, you typically use the abc.ABC class as a base class and use the @abstractmethod decorator to declare abstract methods within the class. These abstract methods must be implemented by any concrete (non-abstract) subclass.\n",
    "\n",
    "Inheriting from an ABC: When a class inherits from an ABC, it must provide concrete implementations for all the abstract methods declared in the ABC. If a subclass does not implement these methods, it will raise a TypeError upon instantiation.\n",
    "\n",
    "Enforcing a Contract: ABCs help ensure that classes that inherit from them adhere to a specific contract or interface, making it easier to work with a variety of subclasses in a consistent manner.\n",
    "\n",
    "Here's an example using the abc module to define an ABC called Shape:"
   ]
  },
  {
   "cell_type": "code",
   "execution_count": 2,
   "metadata": {},
   "outputs": [
    {
     "name": "stdout",
     "output_type": "stream",
     "text": [
      "Error: Can't instantiate abstract class Shape with abstract method area\n",
      "Area of the circle with radius 5 is 78.54 square units.\n",
      "Area of the rectangle with width 4 and height 6 is 24 square units.\n"
     ]
    }
   ],
   "source": [
    "from abc import ABC, abstractmethod\n",
    "\n",
    "class Shape(ABC):\n",
    "    @abstractmethod\n",
    "    def area(self):\n",
    "        pass\n",
    "\n",
    "class Circle(Shape):\n",
    "    def __init__(self, radius):\n",
    "        self.radius = radius\n",
    "\n",
    "    def area(self):\n",
    "        return 3.1415 * self.radius ** 2\n",
    "\n",
    "class Rectangle(Shape):\n",
    "    def __init__(self, width, height):\n",
    "        self.width = width\n",
    "        self.height = height\n",
    "\n",
    "    def area(self):\n",
    "        return self.width * self.height\n",
    "\n",
    "# Attempt to create an instance of Shape (an abstract class) will raise a TypeError\n",
    "try:\n",
    "    shape = Shape()  # This will raise an error\n",
    "except TypeError as e:\n",
    "    print(f\"Error: {e}\")\n",
    "\n",
    "# Creating instances of concrete classes\n",
    "circle = Circle(5)\n",
    "rectangle = Rectangle(4, 6)\n",
    "\n",
    "print(f\"Area of the circle with radius {circle.radius} is {circle.area():.2f} square units.\")\n",
    "print(f\"Area of the rectangle with width {rectangle.width} and height {rectangle.height} is {rectangle.area()} square units.\")"
   ]
  },
  {
   "cell_type": "markdown",
   "metadata": {},
   "source": [
    "13. How can you prevent a child class from modifying certain attributes or methods inherited \n",
    "from a parent class in Python?"
   ]
  },
  {
   "cell_type": "markdown",
   "metadata": {},
   "source": [
    "Using @property to Create Read-Only Properties:\n",
    "\n",
    "You can use the @property decorator to create read-only properties. This allows you to expose an attribute for reading while preventing direct modification.\n",
    "\n",
    "Example:"
   ]
  },
  {
   "cell_type": "code",
   "execution_count": 6,
   "metadata": {},
   "outputs": [
    {
     "name": "stdout",
     "output_type": "stream",
     "text": [
      "42\n",
      "42\n"
     ]
    }
   ],
   "source": [
    "class Parent:\n",
    "    def __init__(self):\n",
    "        self._private_attribute = 42\n",
    "\n",
    "    @property\n",
    "    def private_attribute(self):\n",
    "        return self._private_attribute\n",
    "\n",
    "class Child(Parent):\n",
    "    def modify_private(self):\n",
    "        # Attempting to modify will result in an AttributeError\n",
    "        self._private_attribute = 100\n",
    "\n",
    "parent = Parent()\n",
    "child = Child()\n",
    "print(parent.private_attribute)  # 42\n",
    "print(child.private_attribute)   # 42"
   ]
  },
  {
   "cell_type": "markdown",
   "metadata": {},
   "source": [
    "Using Abstract Methods:\n",
    "\n",
    "You can define abstract methods in the parent class and ensure that they are implemented in the child class. By marking certain methods as abstract, you can prevent them from being modified or overridden."
   ]
  },
  {
   "cell_type": "code",
   "execution_count": 8,
   "metadata": {},
   "outputs": [
    {
     "name": "stdout",
     "output_type": "stream",
     "text": [
      "a+b:  7\n"
     ]
    }
   ],
   "source": [
    "from abc import ABC, abstractmethod\n",
    "\n",
    "class Parent(ABC):\n",
    "    @abstractmethod\n",
    "    def cannot_be_modified(self):\n",
    "        pass\n",
    "\n",
    "class Child(Parent):\n",
    "    def cannot_be_modified(self,a,b):\n",
    "        # This method must be implemented, but it cannot be modified in the child class\n",
    "        print(\"a+b: \",a+b)\n",
    "\n",
    "c = Child()\n",
    "c.cannot_be_modified(3,4)"
   ]
  },
  {
   "cell_type": "markdown",
   "metadata": {},
   "source": [
    "14. Create a Python class called `Employee` with attributes `name` and `salary`. Then, create a \n",
    "child class `Manager` that inherits from `Employee` and adds an attribute `department`. Provide \n",
    "an example."
   ]
  },
  {
   "cell_type": "code",
   "execution_count": 8,
   "metadata": {},
   "outputs": [
    {
     "name": "stdout",
     "output_type": "stream",
     "text": [
      "Employee: John Doe, Salary: $50000\n",
      "Manager: Jane Smith, Salary: $70000, Department: HR\n"
     ]
    }
   ],
   "source": [
    "class Employee:\n",
    "    def __init__(self, name, salary):\n",
    "        self.name = name\n",
    "        self.salary = salary\n",
    "\n",
    "class Manager(Employee):\n",
    "    def __init__(self, name, salary, department):\n",
    "        super().__init__(name, salary)\n",
    "        self.department = department\n",
    "\n",
    "# Example of using the classes\n",
    "employee = Employee(\"John Doe\", 50000)\n",
    "manager = Manager(\"Jane Smith\", 70000, \"HR\")\n",
    "\n",
    "print(f\"Employee: {employee.name}, Salary: ${employee.salary}\")\n",
    "print(f\"Manager: {manager.name}, Salary: ${manager.salary}, Department: {manager.department}\")"
   ]
  },
  {
   "cell_type": "markdown",
   "metadata": {},
   "source": [
    "15. Discuss the concept of method overloading in Python inheritance. How does it differ from \n",
    "method overriding?"
   ]
  },
  {
   "cell_type": "markdown",
   "metadata": {},
   "source": [
    "Method Overloading: In method overloading, you can define multiple methods with the same name but different parameters in a class. When you call the method, the appropriate version of the method is chosen based on the number or types of arguments you provide. This allows you to create methods that adapt to different argument scenarios.\n",
    "\n",
    "Method overloading differs from method overriding in the following ways:\n",
    "\n",
    "Method Overloading:\n",
    "\n",
    "Involves defining multiple methods in the same class with the same name but different parameters.\n",
    "The choice of which method to call is made at compile time based on the method signature (number and types of arguments).\n",
    "Method overloading is used for creating methods with similar functionality but different argument scenarios.\n",
    "\n",
    "Method Overriding:\n",
    "\n",
    "Involves providing a new implementation of a method inherited from a parent class in a child class.\n",
    "The choice of which method to call is made at runtime based on the actual class of the object.\n",
    "Method overriding is used to customize or extend the behavior of a method inherited from a superclass.\n",
    "In Python, you can't achieve method overloading in the same way as in languages like Java or C++. However, you can use techniques such as default arguments and variable-length argument lists to simulate method overloading based on the number and types of arguments passed to a method.\n",
    "\n",
    "For practical purposes, Python developers often rely more on method overriding to customize the behavior of methods inherited from parent classes, as method overloading can be somewhat limited and less commonly used in Python."
   ]
  },
  {
   "cell_type": "code",
   "execution_count": 2,
   "metadata": {},
   "outputs": [
    {
     "ename": "TypeError",
     "evalue": "Calculator.add() missing 1 required positional argument: 'c'",
     "output_type": "error",
     "traceback": [
      "\u001b[1;31m---------------------------------------------------------------------------\u001b[0m",
      "\u001b[1;31mTypeError\u001b[0m                                 Traceback (most recent call last)",
      "\u001b[1;32mc:\\Ramkishor.ch\\D\\GITHUBB\\PwSkills\\Assignments\\14_15_Oct_Constructor_Inheritance_Encapsulation.ipynb Cell 93\u001b[0m line \u001b[0;36m1\n\u001b[0;32m      <a href='vscode-notebook-cell:/c%3A/Ramkishor.ch/D/GITHUBB/PwSkills/Assignments/14_15_Oct_Constructor_Inheritance_Encapsulation.ipynb#Y161sZmlsZQ%3D%3D?line=6'>7</a>\u001b[0m         \u001b[39mreturn\u001b[39;00m a \u001b[39m+\u001b[39m b \u001b[39m+\u001b[39m c\n\u001b[0;32m      <a href='vscode-notebook-cell:/c%3A/Ramkishor.ch/D/GITHUBB/PwSkills/Assignments/14_15_Oct_Constructor_Inheritance_Encapsulation.ipynb#Y161sZmlsZQ%3D%3D?line=8'>9</a>\u001b[0m calc \u001b[39m=\u001b[39m Calculator()\n\u001b[1;32m---> <a href='vscode-notebook-cell:/c%3A/Ramkishor.ch/D/GITHUBB/PwSkills/Assignments/14_15_Oct_Constructor_Inheritance_Encapsulation.ipynb#Y161sZmlsZQ%3D%3D?line=9'>10</a>\u001b[0m result1 \u001b[39m=\u001b[39m calc\u001b[39m.\u001b[39;49madd(\u001b[39m2\u001b[39;49m, \u001b[39m3\u001b[39;49m)      \u001b[39m# Calls the first version of add\u001b[39;00m\n\u001b[0;32m     <a href='vscode-notebook-cell:/c%3A/Ramkishor.ch/D/GITHUBB/PwSkills/Assignments/14_15_Oct_Constructor_Inheritance_Encapsulation.ipynb#Y161sZmlsZQ%3D%3D?line=10'>11</a>\u001b[0m result2 \u001b[39m=\u001b[39m calc\u001b[39m.\u001b[39madd(\u001b[39m2\u001b[39m, \u001b[39m3\u001b[39m, \u001b[39m4\u001b[39m)   \u001b[39m# Calls the second version of add\u001b[39;00m\n",
      "\u001b[1;31mTypeError\u001b[0m: Calculator.add() missing 1 required positional argument: 'c'"
     ]
    }
   ],
   "source": [
    "# Example :\n",
    "class Calculator:\n",
    "    def add(self, a, b):\n",
    "        return a + b\n",
    "\n",
    "    def add(self, a, b, c):\n",
    "        return a + b + c\n",
    "\n",
    "calc = Calculator()\n",
    "result1 = calc.add(2, 3)      # Calls the first version of add\n",
    "result2 = calc.add(2, 3, 4)   # Calls the second version of add"
   ]
  },
  {
   "cell_type": "markdown",
   "metadata": {},
   "source": [
    "16. Explain the purpose of the `__init__()` method in Python inheritance and how it is utilized in \n",
    "child classes"
   ]
  },
  {
   "cell_type": "markdown",
   "metadata": {},
   "source": [
    "Here's how the __init__() method is utilized in child classes in Python inheritance:\n",
    "\n",
    "1. Inheriting the Parent's __init__() Method:\n",
    "When a child class is defined, it can inherit the __init__() method of the parent class by not defining its own __init__() method. In this case, the child class automatically inherits the constructor from the parent class, and the child's constructor can use the super() function to call the constructor of the parent class. This ensures that the attributes of the parent class are also initialized.\n",
    "\n",
    "2. Extending the Parent's __init__() Method:\n",
    "Child classes can define their own __init__() method, in which they can add additional attributes and behavior specific to the child class. To ensure that the parent class's __init__() method is also called, the child class should use super() to invoke the parent's constructor.\n",
    "\n",
    "Example:"
   ]
  },
  {
   "cell_type": "code",
   "execution_count": 12,
   "metadata": {},
   "outputs": [],
   "source": [
    "class Parent:\n",
    "    def __init__(self, parent_attribute):\n",
    "        self.parent_attribute = parent_attribute\n",
    "\n",
    "class Child(Parent):\n",
    "    def __init__(self, parent_attribute, child_attribute):\n",
    "        super().__init__(parent_attribute)\n",
    "        self.child_attribute = child_attribute"
   ]
  },
  {
   "cell_type": "markdown",
   "metadata": {},
   "source": [
    "Custom Initialization:\n",
    "The child class's __init__() method can provide customized initialization for the attributes specific to the child class. This can involve setting default values, performing additional computations, or ensuring that the object is in a consistent state.\n",
    "\n",
    "Example:"
   ]
  },
  {
   "cell_type": "code",
   "execution_count": 13,
   "metadata": {},
   "outputs": [],
   "source": [
    "class Shape:\n",
    "    def __init__(self, color):\n",
    "        self.color = color\n",
    "\n",
    "class Circle(Shape):\n",
    "    def __init__(self, color, radius):\n",
    "        super().__init__(color)\n",
    "        self.radius = radius\n",
    "        self.area = 3.1415 * self.radius ** 2"
   ]
  },
  {
   "cell_type": "markdown",
   "metadata": {},
   "source": [
    "17. Create a Python class called `Bird` with a method `fly()`. Then, create child classes `Eagle` \n",
    "and `Sparrow` that inherit from `Bird` and implement the `fly()` method differently. Provide an \n",
    "example of using these classes"
   ]
  },
  {
   "cell_type": "code",
   "execution_count": 14,
   "metadata": {},
   "outputs": [
    {
     "name": "stdout",
     "output_type": "stream",
     "text": [
      "A generic bird can fly.\n",
      "An eagle soars majestically in the sky.\n",
      "A sparrow flits and chirps through the air.\n"
     ]
    }
   ],
   "source": [
    "class Bird:\n",
    "    def fly(self):\n",
    "        return \"A generic bird can fly.\"\n",
    "\n",
    "class Eagle(Bird):\n",
    "    def fly(self):\n",
    "        return \"An eagle soars majestically in the sky.\"\n",
    "\n",
    "class Sparrow(Bird):\n",
    "    def fly(self):\n",
    "        return \"A sparrow flits and chirps through the air.\"\n",
    "\n",
    "# Example of using the classes\n",
    "generic_bird = Bird()\n",
    "eagle = Eagle()\n",
    "sparrow = Sparrow()\n",
    "\n",
    "print(generic_bird.fly())  # Output: A generic bird can fly.\n",
    "print(eagle.fly())        # Output: An eagle soars majestically in the sky.\n",
    "print(sparrow.fly())      # Output: A sparrow flits and chirps through the air."
   ]
  },
  {
   "cell_type": "markdown",
   "metadata": {},
   "source": [
    "18. What is the \"diamond problem\" in multiple inheritance, and how does Python address it?"
   ]
  },
  {
   "cell_type": "markdown",
   "metadata": {},
   "source": [
    "The \"diamond problem\" is a common issue that arises in languages that support multiple inheritance, such as C++, when a class inherits from two or more classes that have a common base class. This situation forms a diamond-shaped inheritance hierarchy, leading to potential ambiguities in method or attribute resolution. The problem occurs when the derived class tries to access a method or attribute of the common base class through one of its parent classes, and it's unclear which version of the method or attribute should be used.\n",
    "\n",
    "In this diamond-shaped hierarchy, classes B and C both inherit from class A, and class D inherits from both B and C. If there's a method or attribute in class A that is accessed through class D, it's ambiguous whether to use the version from class B or class C.\n",
    "\n",
    "Python addresses the diamond problem using a technique called Method Resolution Order (MRO) based on the C3 Linearization algorithm. Python's MRO ensures a consistent and predictable order in which classes are searched when accessing methods or attributes. The MRO defines the order in which the base classes are traversed, making sure that the method or attribute lookup process is unambiguous.\n",
    "\n",
    "In Python, you can view the MRO of a class by accessing the .__mro__ attribute or using the super() function. The MRO defines the order in which Python searches for methods and attributes, following a depth-first and left-to-right approach in the inheritance hierarchy.\n",
    "\n",
    "Here's an example of how Python's MRO works:"
   ]
  },
  {
   "cell_type": "code",
   "execution_count": 1,
   "metadata": {},
   "outputs": [
    {
     "name": "stdout",
     "output_type": "stream",
     "text": [
      "B\n"
     ]
    }
   ],
   "source": [
    "class A:\n",
    "    def method(self):\n",
    "        print(\"A\")\n",
    "\n",
    "class B(A):\n",
    "    def method(self):\n",
    "        print(\"B\")\n",
    "\n",
    "class C(A):\n",
    "    def method(self):\n",
    "        print(\"C\")\n",
    "\n",
    "class D(B, C):\n",
    "    pass\n",
    "\n",
    "d = D()\n",
    "d.method()"
   ]
  },
  {
   "cell_type": "markdown",
   "metadata": {},
   "source": [
    "In this example, the MRO for class D is calculated as [D, B, C, A], so when you call d.method(), it prints \"B\" because it follows the MRO order and finds the method() in class B first.\n",
    "\n",
    "Python's MRO ensures that the method or attribute resolution is consistent and unambiguous, addressing the diamond problem in multiple inheritance. This makes it easier to work with complex inheritance hierarchies while avoiding the ambiguity that can arise in other languages that support multiple inheritance."
   ]
  },
  {
   "cell_type": "markdown",
   "metadata": {},
   "source": [
    "19. Discuss the concept of \"is-a\" and \"has-a\" relationships in inheritance, and provide examples \n",
    "of each."
   ]
  },
  {
   "cell_type": "markdown",
   "metadata": {},
   "source": [
    "\"Is-a\" Relationship (Inheritance):\n",
    "\n",
    "An \"is-a\" relationship, also known as generalization or specialization, represents a relationship where a subclass is a specialized version of its superclass. In other words, a child class \"is-a\" type of its parent class.\n",
    "Inheritance is used to model \"is-a\" relationships. The child class inherits the attributes and behaviors of the parent class and can add its own attributes or behaviors.\n",
    "\"Is-a\" relationships are typically represented as class hierarchies with a base class (superclass) and one or more derived classes (subclasses).\n",
    "Example:"
   ]
  },
  {
   "cell_type": "code",
   "execution_count": 17,
   "metadata": {},
   "outputs": [],
   "source": [
    "class Animal:\n",
    "    def speak(self):\n",
    "        pass\n",
    "\n",
    "class Dog(Animal):\n",
    "    def speak(self):\n",
    "        return \"Woof!\"\n",
    "\n",
    "class Cat(Animal):\n",
    "    def speak(self):\n",
    "        return \"Meow!\"\n",
    "# In this example, Dog and Cat are both subclasses of Animal, and they inherit the speak() method, indicating that they are specialized versions of an Animal."
   ]
  },
  {
   "cell_type": "markdown",
   "metadata": {},
   "source": [
    "\"Has-a\" Relationship (Composition):\n",
    "\n",
    "A \"has-a\" relationship represents a relationship where one class contains an instance of another class as one of its attributes. This is also known as composition.\n",
    "In a \"has-a\" relationship, the containing class has an attribute that is an instance of another class, indicating that it \"has\" or \"contains\" that other class.\n",
    "\"Has-a\" relationships are used to model the idea that one class is composed of or has access to another class.\n",
    "Example:"
   ]
  },
  {
   "cell_type": "code",
   "execution_count": 19,
   "metadata": {},
   "outputs": [
    {
     "name": "stdout",
     "output_type": "stream",
     "text": [
      "Engine started\n"
     ]
    }
   ],
   "source": [
    "class Engine:\n",
    "    def start(self):\n",
    "        return \"Engine started\"\n",
    "\n",
    "class Car:\n",
    "    def __init__(self):\n",
    "        self.engine = Engine()\n",
    "\n",
    "my_car = Car()\n",
    "print(my_car.engine.start())  # Output: Engine started\n",
    "\n",
    "# In this example, the Car class has a \"has-a\" relationship with the Engine class. \n",
    "# The Car class contains an instance of the Engine class as one of its attributes, allowing it to start the engine.\n",
    "\n",
    "# These two types of relationships are fundamental concepts in object-oriented programming. \n",
    "# \"Is-a\" relationships are established using inheritance and are used to represent specialization and generalization, \n",
    "# while \"has-a\" relationships are established using composition and represent the containment or use of one class \n",
    "# within another to build complex, modular systems."
   ]
  },
  {
   "cell_type": "markdown",
   "metadata": {},
   "source": [
    "20. Create a Python class hierarchy for a university system. Start with a base class `Person` \n",
    "and create child classes `Student` and `Professor`, each with their own attributes and methods. \n",
    "Provide an example of using these classes in a university context."
   ]
  },
  {
   "cell_type": "code",
   "execution_count": 20,
   "metadata": {},
   "outputs": [
    {
     "name": "stdout",
     "output_type": "stream",
     "text": [
      "My name is Alice and I am 20 years old.\n",
      "Alice with ID S12345 is studying.\n",
      "My name is Dr. Smith and I am 45 years old.\n",
      "Dr. Smith (Employee ID: P9876) teaches Computer Science.\n"
     ]
    }
   ],
   "source": [
    "class Person:\n",
    "    def __init__(self, name, age):\n",
    "        self.name = name\n",
    "        self.age = age\n",
    "\n",
    "    def introduce(self):\n",
    "        return f\"My name is {self.name} and I am {self.age} years old.\"\n",
    "\n",
    "class Student(Person):\n",
    "    def __init__(self, name, age, student_id):\n",
    "        super().__init__(name, age)\n",
    "        self.student_id = student_id\n",
    "\n",
    "    def study(self):\n",
    "        return f\"{self.name} with ID {self.student_id} is studying.\"\n",
    "\n",
    "class Professor(Person):\n",
    "    def __init__(self, name, age, employee_id, subject):\n",
    "        super().__init__(name, age)\n",
    "        self.employee_id = employee_id\n",
    "        self.subject = subject\n",
    "\n",
    "    def teach(self):\n",
    "        return f\"{self.name} (Employee ID: {self.employee_id}) teaches {self.subject}.\"\n",
    "\n",
    "# Example of using the classes\n",
    "student1 = Student(\"Alice\", 20, \"S12345\")\n",
    "professor1 = Professor(\"Dr. Smith\", 45, \"P9876\", \"Computer Science\")\n",
    "\n",
    "print(student1.introduce())     # Output: My name is Alice and I am 20 years old.\n",
    "print(student1.study())         # Output: Alice with ID S12345 is studying.\n",
    "\n",
    "print(professor1.introduce())   # Output: My name is Dr. Smith and I am 45 years old.\n",
    "print(professor1.teach())       # Output: Dr. Smith (Employee ID: P9876) teaches Computer Science."
   ]
  },
  {
   "cell_type": "markdown",
   "metadata": {},
   "source": [
    "**Encapsulation**"
   ]
  },
  {
   "cell_type": "markdown",
   "metadata": {},
   "source": [
    "1. Explain the concept of encapsulation in Python. What is its role in object-oriented \n",
    "programming?"
   ]
  },
  {
   "cell_type": "markdown",
   "metadata": {},
   "source": [
    "Encapsulation is one of the fundamental concepts in object-oriented programming (OOP) that emphasizes the bundling of data (attributes) and the methods (functions) that operate on that data into a single unit known as a class. Encapsulation restricts direct access to some of the object's components and prevents the accidental modification of data. It serves several important purposes in OOP:\n",
    "\n",
    "**Data Hiding:**\n",
    "Encapsulation hides the internal state of an object from the outside world. By making data private (or protected in some languages), it ensures that data is not directly accessible or modifiable from outside the class. This promotes information hiding and reduces the risk of unintended data corruption.\n",
    "\n",
    "**Controlled Access:**\n",
    "Encapsulation allows controlled access to the data by providing accessors (getter methods) and mutators (setter methods). These methods can enforce validation rules or logic before allowing data modification. This ensures that the data remains in a consistent and valid state.\n",
    "\n",
    "**Abstraction:**\n",
    "Encapsulation creates an abstraction layer that separates the internal implementation details from the external interface. Users of a class interact with its public methods, not its underlying data structures. This abstraction simplifies the usage of the class and makes it easier to work with.\n",
    "\n",
    "**Code Maintenance:**\n",
    "Encapsulation makes it easier to modify or extend the internal implementation of a class without affecting the code that uses the class. This is known as the principle of encapsulation, which supports modularity and code maintainability.\n",
    "\n",
    "In Python, encapsulation is achieved using access modifiers, though Python uses a different approach compared to some other programming languages. Access modifiers include:\n",
    "\n",
    "**Public:**\n",
    "\n",
    "Members (attributes and methods) are accessible from outside the class.\n",
    "\n",
    "**Protected:**\n",
    "\n",
    "Members are not intended to be used outside the class, but they are accessible. Conventionally, these are prefixed with a single underscore (e.g., _attribute).\n",
    "\n",
    "**Private:**\n",
    "\n",
    "Members are not accessible from outside the class. Conventionally, these are prefixed with a double underscore (e.g., __attribute).\n",
    "It's important to note that these access modifiers are not enforced by the Python interpreter, and access to members with different modifiers is still possible. However, the use of conventions and documentation is relied upon to convey the intended level of access.\n",
    "\n",
    "Here's an example demonstrating encapsulation in Python:"
   ]
  },
  {
   "cell_type": "code",
   "execution_count": 1,
   "metadata": {},
   "outputs": [
    {
     "name": "stdout",
     "output_type": "stream",
     "text": [
      "Account Number: 12345\n",
      "Account Balance: 1300\n"
     ]
    }
   ],
   "source": [
    "class BankAccount:\n",
    "    def __init__(self, account_number, balance):\n",
    "        self._account_number = account_number  # Protected attribute\n",
    "        self.__balance = balance  # Private attribute\n",
    "\n",
    "    def deposit(self, amount):\n",
    "        if amount > 0:\n",
    "            self.__balance += amount\n",
    "\n",
    "    def withdraw(self, amount):\n",
    "        if amount > 0 and amount <= self.__balance:\n",
    "            self.__balance -= amount\n",
    "\n",
    "    def get_balance(self):\n",
    "        return self.__balance  # Getter method to access the private attribute\n",
    "\n",
    "# Using the BankAccount class\n",
    "account = BankAccount(\"12345\", 1000)\n",
    "account.deposit(500)\n",
    "account.withdraw(200)\n",
    "balance = account.get_balance()\n",
    "print(f\"Account Number: {account._account_number}\")  # Accessing a protected attribute\n",
    "print(f\"Account Balance: {balance}\")\n",
    "\n",
    "# In this example:\n",
    "\n",
    "# _account_number is a protected attribute that can be accessed, but it is intended for internal use.\n",
    "# __balance is a private attribute, and access is controlled through getter and \n",
    "#   setter methods (deposit, withdraw, and get_balance).\n",
    "\n",
    "# The encapsulation provided by the class ensures that the internal state of the BankAccount object remains \n",
    "#   consistent and protected from external misuse.\n"
   ]
  },
  {
   "cell_type": "markdown",
   "metadata": {},
   "source": [
    "2. Describe the key principles of encapsulation, including access control and data \n",
    "hiding."
   ]
  },
  {
   "cell_type": "markdown",
   "metadata": {},
   "source": [
    "Encapsulation is a fundamental concept in object-oriented programming (OOP) that involves bundling data (attributes) and methods (functions) into a single unit known as a class. The key principles of encapsulation include access control and data hiding:\n",
    "\n",
    "\n",
    "**Access Control:**\n",
    "\n",
    "**Public Members:** \n",
    "\n",
    "Public members (attributes and methods) are accessible from outside the class. They are part of the class's public interface, and users of the class can access them directly. Public members do not have any access modifiers in most object-oriented languages, including Python.\n",
    "\n",
    "**Protected Members:** \n",
    "\n",
    "Protected members are not intended to be used outside the class, but they are accessible. In Python, this is typically done by prefixing members with a single underscore (e.g., _attribute). The use of the underscore serves as a convention to indicate that the member is intended for internal use or for use by subclasses.\n",
    "\n",
    "**Private Members:** \n",
    "\n",
    "Private members are not accessible from outside the class. They are meant to be entirely hidden from external code. In Python, private members are conventionally prefixed with a double underscore (e.g., __attribute).\n",
    "\n",
    "\n",
    "**Data Hiding:**\n",
    "\n",
    "**Data Encapsulation:** \n",
    "\n",
    "Data hiding is the process of encapsulating data within a class. It involves making data private or protected to prevent direct access from outside the class. By encapsulating data, you control how it can be modified and accessed.\n",
    "\n",
    "Accessors (Getters) and Mutators (Setters): To control access to data, encapsulated classes provide accessor methods (getters) and mutator methods (setters). Accessors allow controlled read-only access to attributes, while mutators allow controlled modification of attribute values.\n",
    "\n",
    "Validation and Logic: Encapsulation allows you to incorporate validation and business logic within accessor and mutator methods. This ensures that data remains in a consistent and valid state.\n",
    "\n",
    "\n",
    "\n",
    "The principles of encapsulation help achieve the following benefits:\n",
    "\n",
    "**Information Hiding:** \n",
    "\n",
    "Encapsulation hides the internal details of a class, providing a level of abstraction that simplifies interactions with the class. Users of the class do not need to know how data is stored or how methods are implemented internally.\n",
    "\n",
    "**Modularity:** \n",
    "\n",
    "Encapsulation promotes modularity in code. Changes to the internal implementation of a class do not impact external code that uses the class's public interface. This makes it easier to maintain and extend code.\n",
    "\n",
    "**Security and Data Integrity:** \n",
    "\n",
    "By controlling access to data and enforcing validation rules, encapsulation enhances security and maintains the integrity of data. It prevents unauthorized modification of data and protects sensitive information.\n",
    "\n",
    "**Code Reusability:**\n",
    "\n",
    "Encapsulation allows you to encapsulate complex functionality within a class, which can be reused across different parts of an application. It reduces code duplication and promotes code reusability.\n",
    "\n",
    "**Easy Maintenance:** \n",
    "\n",
    "Changes to the internal implementation of a class can be made without affecting external code. This simplifies maintenance and makes it less error-prone.\n",
    "\n",
    "Encapsulation is a fundamental principle in OOP, and it is essential for creating robust, organized, and maintainable code. It facilitates good software design practices and helps create clean, well-structured class hierarchies."
   ]
  },
  {
   "cell_type": "markdown",
   "metadata": {},
   "source": [
    "3. How can you achieve encapsulation in Python classes? Provide an example."
   ]
  },
  {
   "cell_type": "markdown",
   "metadata": {},
   "source": [
    "Encapsulation in Python classes is achieved by using access control modifiers and data hiding techniques to restrict access to class attributes and methods. Although Python doesn't enforce strict access control like some other languages, it relies on conventions and provides the tools needed to implement encapsulation. Here's how you can achieve encapsulation in Python classes:\n",
    "\n",
    "**Access Control Modifiers:**\n",
    "\n",
    "**Public Members:** \n",
    "\n",
    "Members that are intended for public access are simply defined as class attributes and methods without any access modifier.\n",
    "\n",
    "**Protected Members:** \n",
    "\n",
    "Members intended for internal use or for use by subclasses are conventionally prefixed with a single underscore (e.g., _attribute). While they are still accessible, the single underscore serves as a hint to indicate their intended level of access.\n",
    "\n",
    "**Private Members:** \n",
    "\n",
    "Members that are intended to be entirely hidden from external code are conventionally prefixed with a double underscore (e.g., __attribute). Python performs name mangling to make them less accessible, but they can still be accessed with the mangled name. However, their use is strongly discouraged.\n",
    "\n",
    "**Accessors (Getters) and Mutators (Setters):**\n",
    "\n",
    "Accessors are methods that provide controlled read-only access to attributes.\n",
    "Mutators are methods that provide controlled modification of attribute values.\n",
    "Here's an example illustrating encapsulation in Python classes:"
   ]
  },
  {
   "cell_type": "code",
   "execution_count": 3,
   "metadata": {},
   "outputs": [
    {
     "name": "stdout",
     "output_type": "stream",
     "text": [
      "Account Balance: 1300\n"
     ]
    }
   ],
   "source": [
    "class BankAccount:\n",
    "    def __init__(self, account_number, _balance):\n",
    "        self._account_number = account_number  # Protected attribute\n",
    "        self.__balance = _balance  # Private attribute\n",
    "\n",
    "    def get_balance(self):\n",
    "        return self.__balance  # Getter method to access the private attribute\n",
    "\n",
    "    def deposit(self, amount):\n",
    "        if amount > 0:\n",
    "            self.__balance += amount\n",
    "\n",
    "    def withdraw(self, amount):\n",
    "        if 0 < amount <= self.__balance:\n",
    "            self.__balance -= amount\n",
    "\n",
    "# Using the BankAccount class\n",
    "account = BankAccount(\"12345\", 1000)\n",
    "account.deposit(500)\n",
    "account.withdraw(200)\n",
    "\n",
    "# Attempting to access the private attribute directly raises an error\n",
    "# print(account.__balance)  # This will raise an AttributeError\n",
    "\n",
    "# Accessing the private attribute using a getter method\n",
    "balance = account.get_balance()\n",
    "print(f\"Account Balance: {balance}\")  # Output: Account Balance: 1300\n",
    "\n",
    "\n",
    "# In this example:\n",
    "\n",
    "# _account_number is a protected attribute, and _balance is a private attribute. \n",
    "# Conventions are used to indicate their intended level of access.\n",
    "\n",
    "# The get_balance() method is a getter method used to access the private __balance attribute.\n",
    "\n",
    "# Access to the private attribute is controlled through the getter method, \n",
    "# and an attempt to access it directly raises an AttributeError.\n",
    "\n",
    "# Encapsulation ensures that data remains protected from unauthorized access and modification, \n",
    "# and controlled access to attributes is provided through getter and setter methods.\n"
   ]
  },
  {
   "cell_type": "markdown",
   "metadata": {},
   "source": [
    "4. Discuss the difference between public, private, and protected access modifiers in \n",
    "Python."
   ]
  },
  {
   "cell_type": "markdown",
   "metadata": {},
   "source": [
    "**Access Control Modifiers:**\n",
    "\n",
    "**Public Members:** \n",
    "\n",
    "Members that are intended for public access are simply defined as class attributes and methods without any access modifier.\n",
    "\n",
    "**Protected Members:** \n",
    "\n",
    "Members intended for internal use or for use by subclasses are conventionally prefixed with a single underscore (e.g., _attribute). While they are still accessible, the single underscore serves as a hint to indicate their intended level of access.\n",
    "\n",
    "**Private Members:** \n",
    "\n",
    "Members that are intended to be entirely hidden from external code are conventionally prefixed with a double underscore (e.g., __attribute). Python performs name mangling to make them less accessible, but they can still be accessed with the mangled name. However, their use is strongly discouraged."
   ]
  },
  {
   "cell_type": "markdown",
   "metadata": {},
   "source": [
    "5. Create a Python class called `Person` with a private attribute `__name`. Provide \n",
    "methods to get and set the name attribute."
   ]
  },
  {
   "cell_type": "code",
   "execution_count": 5,
   "metadata": {},
   "outputs": [
    {
     "name": "stdout",
     "output_type": "stream",
     "text": [
      "Current Name: Alice\n",
      "Updated Name: Bob\n"
     ]
    }
   ],
   "source": [
    "class Person:\n",
    "    def __init__(self, name):\n",
    "        self.__name = name  # Private attribute\n",
    "\n",
    "    def get_name(self):\n",
    "        return self.__name  # Getter method\n",
    "\n",
    "    def set_name(self, new_name):\n",
    "        self.__name = new_name  # Setter method\n",
    "\n",
    "# Creating a Person object\n",
    "person = Person(\"Alice\")\n",
    "\n",
    "# Accessing the name attribute using the getter method\n",
    "current_name = person.get_name()\n",
    "print(f\"Current Name: {current_name}\")  # Output: Current Name: Alice\n",
    "\n",
    "# Modifying the name attribute using the setter method\n",
    "person.set_name(\"Bob\")\n",
    "\n",
    "# Accessing the updated name using the getter method\n",
    "updated_name = person.get_name()\n",
    "print(f\"Updated Name: {updated_name}\")  # Output: Updated Name: Bob"
   ]
  },
  {
   "cell_type": "markdown",
   "metadata": {},
   "source": [
    "6. Explain the purpose of getter and setter methods in encapsulation. Provide examples."
   ]
  },
  {
   "cell_type": "markdown",
   "metadata": {},
   "source": [
    "Getter and setter methods play a crucial role in encapsulation, a fundamental concept in object-oriented programming. They are used to control access to class attributes and provide a level of abstraction over the internal representation of an object. Here's a more detailed explanation of their purposes:\n",
    "\n",
    "**Getter Methods (Accessors):**\n",
    "\n",
    "**Purpose:** \n",
    "Getter methods are used to retrieve the value of a private or protected attribute.\n",
    "\n",
    "**Why:** \n",
    "They provide controlled read-only access to attribute values, allowing you to define logic or validation before returning the value. This ensures data consistency and can be used to expose attributes while encapsulating the underlying implementation.\n",
    "\n",
    "**Naming Convention:** \n",
    "Getter methods usually have names that start with \"get_\" followed by the attribute name they access.\n",
    "\n",
    "\n",
    "**Setter Methods (Mutators):**\n",
    "\n",
    "**Purpose:** \n",
    "Setter methods are used to modify the value of a private or protected attribute.\n",
    "\n",
    "**Why:** \n",
    "They provide controlled write access to attribute values, allowing you to validate and enforce rules before changing the value. This ensures that the attribute remains in a consistent and valid state.\n",
    "\n",
    "**Naming Convention:** \n",
    "Setter methods typically have names that start with \"set_\" followed by the attribute name they modify."
   ]
  },
  {
   "cell_type": "code",
   "execution_count": 12,
   "metadata": {},
   "outputs": [
    {
     "name": "stdout",
     "output_type": "stream",
     "text": [
      "Person's Name: Alice\n"
     ]
    }
   ],
   "source": [
    "class Person:\n",
    "    def __init__(self,name):\n",
    "        self.__name=name  # Private attribute\n",
    "\n",
    "    def set_name(self, name):\n",
    "        self.__name = name  # Setter method\n",
    "    \n",
    "    def get_name(self):\n",
    "        return self.__name  # Getter method\n",
    "\n",
    "# Using the getter method\n",
    "person = Person(\"There\")\n",
    "person.set_name(\"Alice\")\n",
    "name = person.get_name()  # Accessing the name attribute using the getter method\n",
    "print(f\"Person's Name: {name}\")  # Output: Person's Name: Alice\n"
   ]
  },
  {
   "cell_type": "markdown",
   "metadata": {},
   "source": [
    "7. What is name mangling in Python, and how does it affect encapsulation?"
   ]
  },
  {
   "cell_type": "markdown",
   "metadata": {},
   "source": [
    "Name mangling in Python is a mechanism that changes the name of a class attribute to make it less accessible from outside the class. It is used to \"mangle\" the names of attributes that are intended to be private, indicating that they should not be accessed directly from external code. Name mangling is a form of data hiding and is primarily used to achieve a higher level of encapsulation.\n",
    "\n",
    "In Python, name mangling is applied by prefixing an attribute name with a double underscore (e.g., __attribute). When this prefix is added to an attribute, the Python interpreter internally renames the attribute by adding the class name as a prefix, making it less likely to clash with attributes of the same name in other classes. This behavior is not a strict access control mechanism but rather a convention to make the attribute less accessible.\n",
    "\n",
    "Here's how name mangling affects encapsulation:\n",
    "\n",
    "**Private Attribute with Name Mangling:**\n",
    "\n",
    "An attribute with a double underscore prefix (e.g., __attribute) is treated as a private attribute and is subjected to name mangling.\n",
    "The Python interpreter renames the attribute to _classname__attribute, where classname is the name of the class where the private attribute is defined.\n",
    "\n",
    "**Limited Access:**\n",
    "\n",
    "Access to a name-mangled private attribute from outside the class becomes more challenging because of the modified name. However, it is still technically possible.\n",
    "\n",
    "Here's an example to illustrate name mangling and its impact on encapsulation:"
   ]
  },
  {
   "cell_type": "code",
   "execution_count": 13,
   "metadata": {},
   "outputs": [
    {
     "name": "stdout",
     "output_type": "stream",
     "text": [
      "42\n"
     ]
    }
   ],
   "source": [
    "class MyClass:\n",
    "    def __init__(self):\n",
    "        self.__private_var = 42  # Private attribute with name mangling\n",
    "\n",
    "    def access_private(self):\n",
    "        return self.__private_var\n",
    "\n",
    "# Accessing the private attribute from outside the class\n",
    "obj = MyClass()\n",
    "print(obj.access_private())  # Output: 42\n",
    "\n",
    "# Attempting to access the name-mangled attribute directly (less common)\n",
    "# This will raise an AttributeError because the name is mangled as _MyClass__private_var\n",
    "# print(obj.__private_var)\n",
    "\n",
    "# In this example, the __private_var attribute is subjected to name mangling, making it less accessible from outside \n",
    "# the class. However, it can still be accessed using the mangled name _MyClass__private_var. \n",
    "\n",
    "# While it provides a degree of encapsulation, it's not a strict access control mechanism, and using conventions and \n",
    "# documentation to indicate the intended level of access remains crucial. \n",
    "\n",
    "# The use of a single underscore (e.g., _private_var) is often preferred in practice for attributes that are \n",
    "# intended to be protected."
   ]
  },
  {
   "cell_type": "markdown",
   "metadata": {},
   "source": [
    "8. Create a Python class called `BankAccount` with private attributes for the account \n",
    "balance (`__balance`) and account number (`__account_number`). Provide methods for \n",
    "depositing and withdrawing money."
   ]
  },
  {
   "cell_type": "code",
   "execution_count": 14,
   "metadata": {},
   "outputs": [
    {
     "name": "stdout",
     "output_type": "stream",
     "text": [
      "Deposited $500. New balance: $1500\n",
      "Withdrew $200. New balance: $1300\n",
      "Insufficient funds or invalid withdrawal amount.\n",
      "Account Number: 12345, Balance: $1300\n"
     ]
    }
   ],
   "source": [
    "class BankAccount:\n",
    "    def __init__(self, account_number, initial_balance=0):\n",
    "        self.__account_number = account_number  # Private attribute for account number\n",
    "        self.__balance = initial_balance  # Private attribute for account balance\n",
    "\n",
    "    def deposit(self, amount):\n",
    "        if amount > 0:\n",
    "            self.__balance += amount\n",
    "            return f\"Deposited ${amount}. New balance: ${self.__balance}\"\n",
    "        else:\n",
    "            return \"Invalid deposit amount.\"\n",
    "\n",
    "    def withdraw(self, amount):\n",
    "        if 0 < amount <= self.__balance:\n",
    "            self.__balance -= amount\n",
    "            return f\"Withdrew ${amount}. New balance: ${self.__balance}\"\n",
    "        else:\n",
    "            return \"Insufficient funds or invalid withdrawal amount.\"\n",
    "\n",
    "    def get_balance(self):\n",
    "        return self.__balance\n",
    "\n",
    "    def get_account_number(self):\n",
    "        return self.__account_number\n",
    "\n",
    "# Using the BankAccount class\n",
    "account = BankAccount(\"12345\", 1000)\n",
    "\n",
    "# Depositing and withdrawing money\n",
    "print(account.deposit(500))  # Output: Deposited $500. New balance: $1500\n",
    "print(account.withdraw(200))  # Output: Withdrew $200. New balance: $1300\n",
    "print(account.withdraw(1500))  # Output: Insufficient funds or invalid withdrawal amount\n",
    "\n",
    "# Accessing private attributes using getter methods\n",
    "balance = account.get_balance()\n",
    "account_number = account.get_account_number()\n",
    "print(f\"Account Number: {account_number}, Balance: ${balance}\")"
   ]
  },
  {
   "cell_type": "markdown",
   "metadata": {},
   "source": [
    "9. Discuss the advantages of encapsulation in terms of code maintainability and \n",
    "security."
   ]
  },
  {
   "cell_type": "markdown",
   "metadata": {},
   "source": [
    "Encapsulation offers several advantages in terms of code maintainability and security in object-oriented programming:\n",
    "\n",
    "**Advantages for Code Maintainability:**\n",
    "\n",
    "**Modularity and Abstraction:** \n",
    "\n",
    "Encapsulation encourages the practice of bundling data and methods related to a specific concept or entity into a single class. This creates modular, self-contained units, which makes it easier to understand and modify code.\n",
    "\n",
    "**Loose Coupling:** \n",
    "\n",
    "Encapsulated classes interact with other parts of the code through a well-defined interface (public methods). This reduces dependencies between different parts of the code, leading to loose coupling. As a result, changes to one part of the code are less likely to impact other parts, simplifying maintenance.\n",
    "\n",
    "**Code Reusability:** \n",
    "\n",
    "Encapsulation promotes code reusability. Once a class is encapsulated, it can be reused in various parts of the codebase without having to rewrite the same logic. This reduces code duplication and makes it easier to maintain a consistent implementation.\n",
    "\n",
    "**Ease of Modification:** \n",
    "\n",
    "Encapsulation allows you to make changes to the internal implementation of a class without affecting external code that relies on its public interface. This makes it easier to adapt and extend the codebase over time.\n",
    "\n",
    "**Readability and Understandability:** \n",
    "\n",
    "Encapsulated classes provide clear interfaces, making it easier for other developers to understand and work with the code. By adhering to encapsulation principles, code can be more self-documenting, reducing the need for extensive comments.\n",
    "\n",
    "\n",
    "\n",
    "**Advantages for Security:**\n",
    "\n",
    "**Data Protection:** \n",
    "\n",
    "Encapsulation helps protect data by making it private (or protected). Private data can only be accessed and modified through controlled methods (getters and setters). This ensures that data remains consistent and valid.\n",
    "\n",
    "**Access Control:** \n",
    "\n",
    "Encapsulation allows you to enforce access control rules. You can implement logic within getter and setter methods to check and control access to data. For example, you can validate input data before allowing modifications.\n",
    "\n",
    "**Prevention of Unauthorized Access:** \n",
    "\n",
    "By hiding implementation details and exposing only the necessary public interface, encapsulation minimizes the risk of unauthorized access or manipulation of data. This is particularly important for security-critical applications.\n",
    "\n",
    "**Isolation of Changes:** \n",
    "\n",
    "Security vulnerabilities can be addressed with minimal impact on the rest of the codebase. Encapsulated classes act as a protective layer, allowing security-related modifications to be localized and tested more easily.\n",
    "\n",
    "**Reduced Error Propagation:** \n",
    "\n",
    "When data is encapsulated, errors or security vulnerabilities are less likely to propagate through the codebase because access to data is controlled. This reduces the impact of potential issues.\n",
    "\n",
    "Overall, encapsulation promotes good software design practices, enhances code maintainability, and strengthens security by protecting data, controlling access, and isolating changes. It is a fundamental concept in object-oriented programming that contributes to the reliability and maintainability of software systems."
   ]
  },
  {
   "cell_type": "markdown",
   "metadata": {},
   "source": [
    "10. How can you access private attributes in Python? Provide an example \n",
    "demonstrating the use of name mangling."
   ]
  },
  {
   "cell_type": "markdown",
   "metadata": {},
   "source": [
    "In Python, private attributes, which are typically named with a double underscore prefix (e.g., __private_attribute), are subject to name mangling. Name mangling involves changing the name of the private attribute to make it less accessible from outside the class. However, it's important to note that accessing private attributes from outside the class is generally discouraged, and it's better to use getter methods for controlled access.\n",
    "\n",
    "To access a name-mangled private attribute from outside the class, you can use the mangled name, which follows the pattern _classname__attribute. Here's an example demonstrating the use of name mangling to access a private attribute:"
   ]
  },
  {
   "cell_type": "code",
   "execution_count": 16,
   "metadata": {},
   "outputs": [
    {
     "name": "stdout",
     "output_type": "stream",
     "text": [
      "Accessed the private attribute: 42\n"
     ]
    }
   ],
   "source": [
    "class MyClass:\n",
    "    def __init__(self):\n",
    "        self.__private_var = 42  # Private attribute with name mangling\n",
    "\n",
    "# Accessing the private attribute from outside the class using the mangled name\n",
    "obj = MyClass()\n",
    "mangled_name = obj._MyClass__private_var\n",
    "print(f\"Accessed the private attribute: {mangled_name}\")  # Output: Accessed the private attribute: 42\n",
    "\n",
    "# The MyClass class has a private attribute __private_var with name mangling. \n",
    "# When accessing it from outside the class, we use the mangled name _MyClass__private_var."
   ]
  },
  {
   "cell_type": "code",
   "execution_count": 17,
   "metadata": {},
   "outputs": [
    {
     "name": "stdout",
     "output_type": "stream",
     "text": [
      "Accessed the private attribute using a getter method: 42\n"
     ]
    }
   ],
   "source": [
    "# It's important to understand that accessing private attributes using name mangling is not a recommended practice, \n",
    "# as it bypasses the intended encapsulation and protection mechanisms. \n",
    "# Instead, the preferred approach is to use getter methods to access private attributes in a controlled and \n",
    "# documented manner. For example, you can create a method like get_private_var() to access the private attribute.\n",
    "\n",
    "class MyClass:\n",
    "    def __init__(self):\n",
    "        self.__private_var = 42  # Private attribute with name mangling\n",
    "\n",
    "    def get_private_var(self):\n",
    "        return self.__private_var\n",
    "\n",
    "# Using a getter method to access the private attribute\n",
    "obj = MyClass()\n",
    "accessed_value = obj.get_private_var()\n",
    "print(f\"Accessed the private attribute using a getter method: {accessed_value}\")\n",
    "\n",
    "# Using getter methods is a more maintainable and secure way to access private attributes while preserving encapsulation and \n",
    "# encapsulation in your code."
   ]
  },
  {
   "cell_type": "markdown",
   "metadata": {},
   "source": [
    "11. Create a Python class hierarchy for a school system, including classes for students, \n",
    "teachers, and courses, and implement encapsulation principles to protect sensitive \n",
    "information."
   ]
  },
  {
   "cell_type": "code",
   "execution_count": 18,
   "metadata": {},
   "outputs": [
    {
     "name": "stdout",
     "output_type": "stream",
     "text": [
      "Teacher: Mr. Smith, Subject: Math\n",
      "Course: Introduction to Math, Students: ['Alice', 'Bob']\n"
     ]
    }
   ],
   "source": [
    "class Person:\n",
    "    def __init__(self, name, age, contact_info):\n",
    "        self.__name = name  # Private attribute for name\n",
    "        self.__age = age    # Private attribute for age\n",
    "        self.__contact_info = contact_info  # Private attribute for contact information\n",
    "\n",
    "    def get_name(self):\n",
    "        return self.__name\n",
    "\n",
    "    def get_age(self):\n",
    "        return self.__age\n",
    "\n",
    "    def get_contact_info(self):\n",
    "        return self.__contact_info\n",
    "\n",
    "    def set_contact_info(self, contact_info):\n",
    "        self.__contact_info = contact_info\n",
    "\n",
    "class Student(Person):\n",
    "    def __init__(self, name, age, contact_info, student_id):\n",
    "        super().__init__(name, age, contact_info)\n",
    "        self.__student_id = student_id  # Private attribute for student ID\n",
    "\n",
    "    def get_student_id(self):\n",
    "        return self.__student_id\n",
    "\n",
    "class Teacher(Person):\n",
    "    def __init__(self, name, age, contact_info, employee_id, subject):\n",
    "        super().__init__(name, age, contact_info)\n",
    "        self.__employee_id = employee_id  # Private attribute for employee ID\n",
    "        self.__subject = subject          # Private attribute for subject\n",
    "\n",
    "    def get_employee_id(self):\n",
    "        return self.__employee_id\n",
    "\n",
    "    def get_subject(self):\n",
    "        return self.__subject\n",
    "\n",
    "class Course:\n",
    "    def __init__(self, course_code, course_name, teacher, students):\n",
    "        self.__course_code = course_code  # Private attribute for course code\n",
    "        self.__course_name = course_name  # Private attribute for course name\n",
    "        self.__teacher = teacher          # Private attribute for teacher\n",
    "        self.__students = students        # Private attribute for students enrolled in the course\n",
    "\n",
    "    def get_course_code(self):\n",
    "        return self.__course_code\n",
    "\n",
    "    def get_course_name(self):\n",
    "        return self.__course_name\n",
    "\n",
    "    def get_teacher(self):\n",
    "        return self.__teacher\n",
    "\n",
    "    def get_students(self):\n",
    "        return self.__students\n",
    "\n",
    "    def add_student(self, student):\n",
    "        self.__students.append(student)\n",
    "\n",
    "# Example usage:\n",
    "\n",
    "# Create teacher and student objects\n",
    "teacher1 = Teacher(\"Mr. Smith\", 35, \"teacher@email.com\", \"T123\", \"Math\")\n",
    "student1 = Student(\"Alice\", 18, \"alice@email.com\", \"S001\")\n",
    "student2 = Student(\"Bob\", 17, \"bob@email.com\", \"S002\")\n",
    "\n",
    "# Create a course and enroll students\n",
    "course1 = Course(\"MATH101\", \"Introduction to Math\", teacher1, [student1])\n",
    "course1.add_student(student2)\n",
    "\n",
    "# Accessing information\n",
    "print(f\"Teacher: {teacher1.get_name()}, Subject: {teacher1.get_subject()}\")\n",
    "print(f\"Course: {course1.get_course_name()}, Students: {[student.get_name() for student in course1.get_students()]}\")"
   ]
  },
  {
   "cell_type": "markdown",
   "metadata": {},
   "source": [
    "12. Explain the concept of property decorators in Python and how they relate to \n",
    "encapsulation."
   ]
  },
  {
   "cell_type": "markdown",
   "metadata": {},
   "source": [
    "In Python, property decorators are a way to define special methods that are used to access and modify class attributes. Property decorators provide a way to encapsulate the behavior of getting and setting attributes, allowing you to add logic or validation when accessing or modifying attribute values. They are closely related to encapsulation and are used to implement controlled access to class attributes.\n",
    "\n",
    "The primary property decorators in Python are @property, @<attribute>.setter, and @<attribute>.deleter, where <attribute> is the name of the attribute you want to define properties for. These decorators allow you to define getter, setter, and deleter methods for an attribute.\n",
    "\n",
    "Here's how each of these property decorators works and their relation to encapsulation:\n",
    "\n",
    "**@property Decorator:**\n",
    "\n",
    "**Use:** \n",
    "\n",
    "This decorator is applied to a method that should be used as a getter for an attribute. It allows you to access an attribute as if it were an instance variable.\n",
    "Relation to Encapsulation: It encapsulates the behavior of getting the attribute value. You can add logic, validation, or computations in the getter method.\n",
    "\n",
    "\n",
    "**@<attribute>.setter Decorator:**\n",
    "\n",
    "**Use:** \n",
    "\n",
    "This decorator is applied to a method that should be used as a setter for an attribute. It defines how to set the value of the attribute.\n",
    "Relation to Encapsulation: It encapsulates the behavior of setting the attribute value. You can control how values are assigned, enforce rules, and validate inputs.\n",
    "\n",
    "\n",
    "**@<attribute>.deleter Decorator:**\n",
    "\n",
    "**Use:** \n",
    "\n",
    "This decorator is applied to a method that defines how to delete an attribute. It is called when the del statement is used to remove the attribute.\n",
    "Relation to Encapsulation: It encapsulates the behavior of deleting the attribute. You can perform cleanup or validation when an attribute is deleted.\n",
    "\n",
    "Here's an example that demonstrates the use of property decorators and their relationship to encapsulation:"
   ]
  },
  {
   "cell_type": "code",
   "execution_count": 1,
   "metadata": {},
   "outputs": [
    {
     "name": "stdout",
     "output_type": "stream",
     "text": [
      "Radius: 5\n",
      "Radius: 7\n",
      "Deleting the radius.\n"
     ]
    }
   ],
   "source": [
    "class Circle:\n",
    "    def __init__(self, ra):\n",
    "        self.__rad = ra  # Protected attribute for radius\n",
    "\n",
    "    @property\n",
    "    def radius(self):\n",
    "        return self.__rad\n",
    "\n",
    "    @radius.setter\n",
    "    def radius(self, new_radius):\n",
    "        if new_radius >= 0:\n",
    "            self.__rad = new_radius\n",
    "        else:\n",
    "            raise ValueError(\"Radius cannot be negative.\")\n",
    "\n",
    "    @radius.deleter\n",
    "    def radius(self):\n",
    "        print(\"Deleting the radius.\")\n",
    "        del self.__rad\n",
    "\n",
    "# Using the Circle class\n",
    "circle = Circle(5)\n",
    "\n",
    "# Accessing the radius property\n",
    "print(f\"Radius: {circle.radius}\")  # Output: Radius: 5\n",
    "\n",
    "# Modifying the radius property\n",
    "circle.radius = 7\n",
    "print(f\"Radius: {circle.radius}\") # 7\n",
    "\n",
    "# print(f\"Radius: {_Circle__rad}\") # not possible\n",
    "\n",
    "# Attempting to set a negative radius (raises an exception)\n",
    "# circle.radius = -2  # This line will raise a ValueError\n",
    "\n",
    "# Deleting the radius property\n",
    "del circle.radius  # This calls the deleter method"
   ]
  },
  {
   "cell_type": "markdown",
   "metadata": {},
   "source": [
    "\n",
    "In this example:\n",
    "\n",
    "The Circle class has a protected attribute _radius.\n",
    "\n",
    "The @property, @radius.setter, and @radius.deleter decorators are used to encapsulate the behavior of getting, setting, and deleting the radius property. The getter allows controlled access, the setter enforces rules, and the deleter provides a custom action when the attribute is deleted.\n",
    "\n",
    "Property decorators enable you to implement encapsulation by controlling access to class attributes while adding logic and validation as needed. They help maintain data integrity and ensure that the attributes are accessed and modified in a controlled manner."
   ]
  },
  {
   "cell_type": "markdown",
   "metadata": {},
   "source": [
    "13. What is data hiding, and why is it important in encapsulation? Provide examples"
   ]
  },
  {
   "cell_type": "markdown",
   "metadata": {},
   "source": [
    "Data hiding is a fundamental concept in encapsulation that involves hiding the internal details of a class, particularly its data (attributes), from external access and modification. It is the practice of making attributes private or protected, thereby preventing direct access to and manipulation of an object's internal state. Data hiding is important in encapsulation for several reasons:\n",
    "\n",
    "**Access Control:** \n",
    "\n",
    "Data hiding allows you to control how class attributes are accessed and modified. By making attributes private or protected, you can enforce specific rules and validation before allowing changes.\n",
    "\n",
    "**Data Validation:** \n",
    "\n",
    "You can implement validation logic within getter and setter methods, ensuring that data remains consistent and within valid ranges. For example, you can prevent negative values or enforce constraints on attribute values.\n",
    "\n",
    "**Information Security:** \n",
    "\n",
    "Private attributes are not accessible directly from outside the class, which is crucial for protecting sensitive information. Data related to security, authentication, or user profiles should be hidden from unauthorized access.\n",
    "\n",
    "**Abstraction:** \n",
    "\n",
    "Hiding implementation details and exposing only a well-defined interface (public methods) simplifies the interaction with a class. Users of the class do not need to be concerned with how data is stored or manipulated internally.\n",
    "\n",
    "**Reduced Error Propagation:** \n",
    "\n",
    "Hiding data limits the impact of changes or errors. If the internal data representation changes, it doesn't affect external code as long as the public interface remains consistent.\n",
    "\n",
    "Here are examples illustrating data hiding and its importance in encapsulation:\n",
    "\n",
    "**Example 1: Data Validation**"
   ]
  },
  {
   "cell_type": "code",
   "execution_count": 20,
   "metadata": {},
   "outputs": [
    {
     "name": "stdout",
     "output_type": "stream",
     "text": [
      "Invalid temperature value. Temperature remains unchanged.\n"
     ]
    }
   ],
   "source": [
    "class TemperatureSensor:\n",
    "    def __init__(self):\n",
    "        self.__temperature = 0  # Private attribute for temperature\n",
    "\n",
    "    def get_temperature(self):\n",
    "        return self.__temperature\n",
    "\n",
    "    def set_temperature(self, value):\n",
    "        if -50 <= value <= 100:\n",
    "            self.__temperature = value\n",
    "        else:\n",
    "            print(\"Invalid temperature value. Temperature remains unchanged.\")\n",
    "\n",
    "sensor = TemperatureSensor()\n",
    "sensor.set_temperature(25)  # Valid temperature\n",
    "sensor.set_temperature(150)  # Invalid temperature"
   ]
  },
  {
   "cell_type": "markdown",
   "metadata": {},
   "source": [
    "In this example, the TemperatureSensor class hides the __temperature attribute and enforces data validation within the setter method. Invalid temperature values are rejected.\n",
    "\n",
    "**Example 2: Information Security**"
   ]
  },
  {
   "cell_type": "code",
   "execution_count": 21,
   "metadata": {},
   "outputs": [
    {
     "name": "stdout",
     "output_type": "stream",
     "text": [
      "Username: Alice\n"
     ]
    }
   ],
   "source": [
    "class User:\n",
    "    def __init__(self, username, password, email):\n",
    "        self.__username = username  # Private attribute for username\n",
    "        self.__password = password  # Private attribute for password\n",
    "        self.__email = email        # Private attribute for email\n",
    "\n",
    "    def get_username(self):\n",
    "        return self.__username\n",
    "\n",
    "    # Other methods for accessing and modifying attributes\n",
    "\n",
    "# Code to create a user and access their information\n",
    "user = User(\"Alice\", \"securepass\", \"alice@email.com\")\n",
    "print(f\"Username: {user.get_username()}\")  # Accessing the username attribute"
   ]
  },
  {
   "cell_type": "markdown",
   "metadata": {},
   "source": [
    "Attempting to access password and email directly would not work and is discouraged for security reasons\n",
    "In this example, the User class hides sensitive information such as the username, password, and email. Direct access to these attributes is discouraged for security reasons.\n",
    "\n",
    "Data hiding, along with controlled access through getter and setter methods, enhances encapsulation by protecting data, ensuring data consistency, and facilitating secure information management."
   ]
  },
  {
   "cell_type": "markdown",
   "metadata": {},
   "source": [
    "14. Create a Python class called `Employee` with private attributes for salary (`__salary`) \n",
    "and employee ID (`__employee_id`). Provide a method to calculate yearly bonuses."
   ]
  },
  {
   "cell_type": "code",
   "execution_count": 22,
   "metadata": {},
   "outputs": [
    {
     "name": "stdout",
     "output_type": "stream",
     "text": [
      "Alice's Yearly Bonus: $5000.0\n",
      "Employee ID: E123, Salary: $50000\n"
     ]
    }
   ],
   "source": [
    "class Employee:\n",
    "    def __init__(self, employee_id, name, salary):\n",
    "        self.__employee_id = employee_id  # Private attribute for employee ID\n",
    "        self.__name = name                # Private attribute for employee name\n",
    "        self.__salary = salary            # Private attribute for employee salary\n",
    "\n",
    "    def calculate_yearly_bonus(self, percentage):\n",
    "        if percentage > 0:\n",
    "            bonus = (percentage / 100) * self.__salary\n",
    "            return bonus\n",
    "        else:\n",
    "            return 0\n",
    "\n",
    "    def get_employee_id(self):\n",
    "        return self.__employee_id\n",
    "\n",
    "    def get_name(self):\n",
    "        return self.__name\n",
    "\n",
    "    def get_salary(self):\n",
    "        return self.__salary\n",
    "\n",
    "# Using the Employee class\n",
    "employee = Employee(\"E123\", \"Alice\", 50000)\n",
    "\n",
    "# Calculate and display the yearly bonus\n",
    "bonus_percentage = 10  # 10% bonus\n",
    "yearly_bonus = employee.calculate_yearly_bonus(bonus_percentage)\n",
    "print(f\"{employee.get_name()}'s Yearly Bonus: ${yearly_bonus}\")\n",
    "\n",
    "# Accessing private attributes using getter methods\n",
    "print(f\"Employee ID: {employee.get_employee_id()}, Salary: ${employee.get_salary()}\")"
   ]
  },
  {
   "cell_type": "markdown",
   "metadata": {},
   "source": [
    "15. Discuss the use of accessors and mutators in encapsulation. How do they help \n",
    "maintain control over attribute access?"
   ]
  },
  {
   "cell_type": "markdown",
   "metadata": {},
   "source": [
    "Accessors and mutators are methods used in encapsulation to maintain control over attribute access in object-oriented programming. They are often referred to as getter and setter methods, respectively, and they play a crucial role in encapsulating data within a class while providing controlled access to attributes. Here's an explanation of each:\n",
    "\n",
    "**Accessors (Getters):**\n",
    "\n",
    "Purpose: \n",
    "\n",
    "Accessors are methods used to retrieve the value of an attribute. They provide read-only access to an attribute without allowing direct access to the underlying data.\n",
    "Naming Convention: Accessor methods typically have names that start with \"get_\" followed by the attribute name they access.\n",
    "\n",
    "Use Cases:\n",
    "\n",
    "Exposing the value of a private or protected attribute to external code.\n",
    "Implementing logic or validation before returning the attribute value.\n",
    "\n",
    "Example:"
   ]
  },
  {
   "cell_type": "code",
   "execution_count": 23,
   "metadata": {},
   "outputs": [],
   "source": [
    "class Person:\n",
    "    def __init__(self, name):\n",
    "        self.__name = name  # Private attribute\n",
    "\n",
    "    def get_name(self):\n",
    "        return self.__name  # Accessor method"
   ]
  },
  {
   "cell_type": "markdown",
   "metadata": {},
   "source": [
    "**Mutators (Setters):**\n",
    "\n",
    "Purpose: Mutators are methods used to modify the value of an attribute. They provide controlled write access to an attribute, allowing you to enforce rules or validation before changing the value.\n",
    "Naming Convention: Mutator methods typically have names that start with \"set_\" followed by the attribute name they modify.\n",
    "Use Cases:\n",
    "Modifying the value of a private or protected attribute.\n",
    "Enforcing rules, constraints, or validation when setting attribute values.\n",
    "Example:"
   ]
  },
  {
   "cell_type": "code",
   "execution_count": 24,
   "metadata": {},
   "outputs": [],
   "source": [
    "class BankAccount:\n",
    "    def __init__(self, account_number, initial_balance):\n",
    "        self.__account_number = account_number  # Private attribute\n",
    "        self.__balance = initial_balance  # Private attribute\n",
    "\n",
    "    def set_balance(self, new_balance):\n",
    "        if new_balance >= 0:\n",
    "            self.__balance = new_balance  # Mutator method"
   ]
  },
  {
   "cell_type": "markdown",
   "metadata": {},
   "source": [
    "Accessors and mutators help maintain control over attribute access in the following ways:\n",
    "\n",
    "**Data Encapsulation:** \n",
    "\n",
    "By using accessors and mutators, you encapsulate the internal data representation of a class, hiding the details of how data is stored and manipulated. This reduces the risk of accidental or unauthorized changes to data.\n",
    "\n",
    "**Control and Validation:** \n",
    "\n",
    "Accessors and mutators allow you to control how data is read and modified. You can implement logic or validation in mutator methods to ensure that attribute values remain consistent and within acceptable ranges.\n",
    "\n",
    "**Abstraction:** \n",
    "\n",
    "Accessors and mutators provide an abstract, well-defined interface for external code to interact with the class. This abstraction simplifies the interaction with the class, making the code more self-documenting and easier to understand.\n",
    "\n",
    "**Flexibility:** \n",
    "\n",
    "By using accessors and mutators, you can change the internal implementation of a class without affecting the external code that relies on the public interface. This decouples the internal representation from the external usage of the class, increasing flexibility.\n",
    "\n",
    "Overall, accessors and mutators are essential tools for maintaining data integrity, enforcing encapsulation, and controlling attribute access in object-oriented programming. They contribute to the clarity and robustness of class designs and are a fundamental part of good software engineering practices."
   ]
  },
  {
   "cell_type": "markdown",
   "metadata": {},
   "source": [
    "16. What are the potential drawbacks or disadvantages of using encapsulation in \n",
    "Python?"
   ]
  },
  {
   "cell_type": "markdown",
   "metadata": {},
   "source": [
    "Encapsulation is a fundamental concept in object-oriented programming that promotes data hiding and controlled access to class attributes. While encapsulation offers many benefits, it's important to be aware of potential drawbacks and disadvantages:\n",
    "\n",
    "**Complexity:** \n",
    "\n",
    "Encapsulation can make code more complex. Using getter and setter methods for every attribute can lead to verbose code and may make the codebase harder to read and maintain, especially when working with large classes.\n",
    "\n",
    "**Performance Overhead:** \n",
    "\n",
    "Accessing attributes through methods, especially if there are many attributes, can introduce a performance overhead compared to direct attribute access. This overhead may be negligible in most cases, but it can become a concern in performance-critical applications.\n",
    "\n",
    "**Overhead in Testing:** \n",
    "\n",
    "When encapsulation is heavily used, unit testing may become more challenging, as you need to test both the methods themselves and their interactions with attributes. Testing can become more time-consuming and complex.\n",
    "\n",
    "**Limited Usefulness for Some Classes:** \n",
    "\n",
    "For simple data classes or classes with minimal behavior, encapsulation may introduce unnecessary overhead and complexity. In such cases, it may be more appropriate to use attributes with limited access control.\n",
    "\n",
    "**Reduced Flexibility:** \n",
    "\n",
    "Overuse of encapsulation can lead to inflexibility in cases where you may want to change the internal representation of a class or have different levels of access control for different attributes.\n",
    "\n",
    "**Increased Boilerplate Code:** \n",
    "\n",
    "Writing getter and setter methods for every attribute can result in a lot of boilerplate code. This can be seen as a form of code duplication and can make the codebase harder to maintain.\n",
    "\n",
    "Violation of \"Pythonic\" Idioms: Python's philosophy, often referred to as \"Pythonic,\" promotes simplicity and readability. Overly strict encapsulation may be seen as violating these principles. In Python, there is a strong tradition of \"we are all consenting adults here,\" which means that developers are trusted to use attributes responsibly without the need for strict encapsulation.\n",
    "\n",
    "**Risk of Access Bypass:**\n",
    "\n",
    "While encapsulation is intended to restrict access to attributes, Python does not provide strict access control mechanisms. Determined developers can still access private attributes using name mangling or other techniques, potentially bypassing the encapsulation.\n",
    "\n",
    "Despite these potential drawbacks, it's important to note that encapsulation remains a valuable tool in object-oriented programming. When used judiciously, it can lead to more robust, maintainable, and secure code. It's up to developers to strike a balance between encapsulation and the specific needs of their projects, keeping in mind the principles of simplicity and readability that are core to Python's design philosophy."
   ]
  },
  {
   "cell_type": "markdown",
   "metadata": {},
   "source": [
    "17. Create a Python class for a library system that encapsulates book information, \n",
    "including titles, authors, and availability status."
   ]
  },
  {
   "cell_type": "code",
   "execution_count": 25,
   "metadata": {},
   "outputs": [
    {
     "name": "stdout",
     "output_type": "stream",
     "text": [
      "The book 'To Kill a Mockingbird' by Harper Lee has been borrowed.\n",
      "The book 'To Kill a Mockingbird' by Harper Lee has been returned.\n",
      "True\n",
      "Title: 1984, Author: George Orwell\n"
     ]
    }
   ],
   "source": [
    "class Book:\n",
    "    def __init__(self, title, author, available=True):\n",
    "        self.__title = title       # Private attribute for book title\n",
    "        self.__author = author     # Private attribute for author\n",
    "        self.__available = available  # Private attribute for availability status\n",
    "\n",
    "    def get_title(self):\n",
    "        return self.__title\n",
    "\n",
    "    def get_author(self):\n",
    "        return self.__author\n",
    "\n",
    "    def is_available(self):\n",
    "        return self.__available\n",
    "\n",
    "    def borrow(self):\n",
    "        if self.__available:\n",
    "            self.__available = False\n",
    "            return f\"The book '{self.__title}' by {self.__author} has been borrowed.\"\n",
    "        else:\n",
    "            return f\"The book '{self.__title}' by {self.__author} is currently unavailable.\"\n",
    "\n",
    "    def return_book(self):\n",
    "        if not self.__available:\n",
    "            self.__available = True\n",
    "            return f\"The book '{self.__title}' by {self.__author} has been returned.\"\n",
    "        else:\n",
    "            return f\"The book '{self.__title}' by {self.__author} is already available.\"\n",
    "\n",
    "# Example usage:\n",
    "\n",
    "# Create book objects\n",
    "book1 = Book(\"To Kill a Mockingbird\", \"Harper Lee\")\n",
    "book2 = Book(\"1984\", \"George Orwell\")\n",
    "\n",
    "# Borrow and return books\n",
    "print(book1.borrow())  # Output: The book 'To Kill a Mockingbird' by Harper Lee has been borrowed.\n",
    "print(book1.return_book())  # Output: The book 'To Kill a Mockingbird' by Harper Lee has been returned.\n",
    "print(book2.is_available())  # Output: True\n",
    "\n",
    "# Accessing book information using getter methods\n",
    "print(f\"Title: {book2.get_title()}, Author: {book2.get_author()}\")"
   ]
  },
  {
   "cell_type": "markdown",
   "metadata": {},
   "source": [
    "18. Explain how encapsulation enhances code reusability and modularity in Python \n",
    "programs"
   ]
  },
  {
   "cell_type": "markdown",
   "metadata": {},
   "source": [
    "Encapsulation enhances code reusability and modularity in Python programs by promoting the creation of self-contained, reusable, and interchangeable components. Here's how encapsulation contributes to these aspects:\n",
    "\n",
    "**Modularity:**\n",
    "\n",
    "**Separation of Concerns:** \n",
    "\n",
    "Encapsulation encourages organizing code into modules or classes, where each module or class has a specific responsibility. This separation of concerns makes the code easier to understand, maintain, and modify.\n",
    "\n",
    "**Well-Defined Interfaces:** \n",
    "\n",
    "Encapsulated classes define well-defined interfaces through their public methods. These interfaces abstract away the internal implementation details, allowing other parts of the program to interact with the class without needing to know how it works internally. This abstraction simplifies the use of the class and promotes modularity.\n",
    "\n",
    "**Easier Maintenance:** \n",
    "\n",
    "Modularity makes it easier to isolate and fix bugs or make improvements. Changes to one module or class are less likely to impact other parts of the codebase, reducing the risk of introducing new issues.\n",
    "\n",
    "\n",
    "**Code Reusability:**\n",
    "\n",
    "**Reusable Components:** \n",
    "\n",
    "Encapsulated classes act as reusable components. Once a class is designed and implemented, it can be used in multiple parts of the program or even in different projects. This promotes code reusability and avoids duplicating code.\n",
    "\n",
    "**Library Creation:** \n",
    "\n",
    "Encapsulation is a fundamental concept in library and framework development. By creating well-encapsulated libraries, developers can share their code with others, who can then use these libraries in their own projects, further enhancing code reusability.\n",
    "\n",
    "**Inheritance and Composition:** \n",
    "\n",
    "Encapsulation supports inheritance and composition, which are powerful techniques for code reuse. Inheritance allows you to create new classes that inherit attributes and methods from existing classes, while composition enables you to assemble objects from multiple classes, reusing their functionality.\n",
    "\n",
    "\n",
    "**Reduced Code Duplication:** \n",
    "\n",
    "**Code Duplication:** \n",
    "\n",
    "Without encapsulation, you might duplicate code for handling the same data or behavior in multiple places. This duplication leads to maintenance challenges and makes the codebase harder to manage.\n",
    "\n",
    "**Encapsulation Eliminates Duplication:** \n",
    "\n",
    "Encapsulation allows you to encapsulate data and behavior within classes. By using these classes, you avoid duplicating code and promote a \"write once, use multiple times\" approach.\n",
    "\n",
    "\n",
    "**Enhanced Collaboration:** \n",
    "\n",
    "**Collaboration:** \n",
    "\n",
    "In collaborative programming projects, encapsulation promotes better collaboration. Developers can work on different parts of a program without interfering with each other's work. They can rely on the well-defined interfaces of encapsulated classes, ensuring that their code integrates smoothly.\n",
    "Isolation of Changes:\n",
    "\n",
    "**Change Isolation:**\n",
    "\n",
    "Encapsulation helps isolate changes to specific components. When modifications are needed, you can focus on a single class or module, knowing that other parts of the program are less likely to be affected. This isolation simplifies the maintenance process.\n",
    "\n",
    "In summary, encapsulation promotes code modularity by organizing code into separate, self-contained units and defining clear interfaces for interaction. It enhances code reusability by enabling the reuse of encapsulated components in different parts of a program or across different projects. By reducing code duplication, facilitating collaboration, and isolating changes, encapsulation contributes to the overall maintainability and extensibility of Python programs."
   ]
  },
  {
   "cell_type": "markdown",
   "metadata": {},
   "source": [
    "19. Describe the concept of information hiding in encapsulation. Why is it essential in \n",
    "software development?"
   ]
  },
  {
   "cell_type": "markdown",
   "metadata": {},
   "source": [
    "Information hiding is a fundamental concept in encapsulation that involves restricting the visibility of certain details or aspects of an object's internal implementation. It is about controlling what information is accessible to other parts of a program and what information is kept hidden or private. Information hiding is essential in software development for several reasons:\n",
    "\n",
    "**Abstraction:** Information hiding allows you to abstract away the implementation details of a class or module, providing a simplified and high-level view of its functionality. This abstraction is crucial for making code more understandable and manageable.\n",
    "\n",
    "**Reduced Complexity:** By hiding implementation details, you reduce the complexity of the code seen by other parts of the program. This simplification makes it easier to work with the encapsulated components and improves code readability.\n",
    "\n",
    "**Prevention of Unauthorized Access:** Information hiding prevents unauthorized access to sensitive data. Private attributes and methods are not accessible from external code, reducing the risk of accidental or malicious interference.\n",
    "\n",
    "**Security:** For software systems that handle sensitive information, such as user credentials or financial data, information hiding is essential for ensuring data security. By keeping such data hidden and providing controlled access, you reduce the risk of data breaches.\n",
    "\n",
    "**Code Maintainability:** When internal implementation details are hidden, it becomes easier to maintain and modify the code. Changes can be made within the encapsulated components without affecting the external code that relies on them. This isolation of changes enhances code maintainability.\n",
    "\n",
    "**Encapsulation:** Information hiding is a key part of encapsulation. Encapsulation involves bundling data and behavior into a self-contained unit (i.e., a class) and exposing a well-defined interface while hiding the internal details. This encapsulation is essential for building modular and maintainable code.\n",
    "\n",
    "**Enhanced Testing:** When you hide internal details, you can test the encapsulated components in isolation. This allows you to write unit tests that focus on the public interface of a class, making it easier to verify the correctness of the code.\n",
    "\n",
    "**Code Reusability:** Encapsulated components with hidden implementation details can be reused in different parts of a program or in other projects. This code reusability simplifies development and accelerates project timelines.\n",
    "\n",
    "**Improved Collaboration:** In collaborative software development, information hiding promotes better collaboration. Team members can work on different components without needing to understand all the internal details of each component. They can rely on the well-defined interfaces provided by encapsulated modules or classes.\n",
    "\n",
    "**Future-Proofing:** By hiding implementation details, you can change the internal workings of a component without affecting external code that relies on it. This future-proofing aspect allows for easier updates and adaptations to evolving requirements.\n",
    "\n",
    "In summary, information hiding is essential in software development as it improves code maintainability, readability, security, and abstraction. It supports the principles of encapsulation and facilitates modular and collaborative development. By controlling what information is exposed and what is hidden, you can create more robust and adaptable software systems."
   ]
  },
  {
   "cell_type": "markdown",
   "metadata": {},
   "source": [
    "20. Create a Python class called `Customer` with private attributes for customer details \n",
    "like name, address, and contact information. Implement encapsulation to ensure data \n",
    "integrity and security."
   ]
  },
  {
   "cell_type": "code",
   "execution_count": 26,
   "metadata": {},
   "outputs": [
    {
     "name": "stdout",
     "output_type": "stream",
     "text": [
      "Customer ID: C123\n",
      "Name: Alice Johnson\n",
      "Address: 123 Main St\n",
      "Contact Info: alice@email.com\n",
      "Updated Contact Info: new_email@email.com\n"
     ]
    }
   ],
   "source": [
    "class Customer:\n",
    "    def __init__(self, customer_id, name, address, contact_info):\n",
    "        self.__customer_id = customer_id  # Private attribute for customer ID\n",
    "        self.__name = name                # Private attribute for customer name\n",
    "        self.__address = address          # Private attribute for customer address\n",
    "        self.__contact_info = contact_info  # Private attribute for contact information\n",
    "\n",
    "    def get_customer_id(self):\n",
    "        return self.__customer_id\n",
    "\n",
    "    def get_name(self):\n",
    "        return self.__name\n",
    "\n",
    "    def get_address(self):\n",
    "        return self.__address\n",
    "\n",
    "    def get_contact_info(self):\n",
    "        return self.__contact_info\n",
    "\n",
    "    def set_contact_info(self, contact_info):\n",
    "        self.__contact_info = contact_info\n",
    "\n",
    "# Example usage:\n",
    "\n",
    "# Create a customer object\n",
    "customer = Customer(\"C123\", \"Alice Johnson\", \"123 Main St\", \"alice@email.com\")\n",
    "\n",
    "# Accessing customer information using getter methods\n",
    "print(f\"Customer ID: {customer.get_customer_id()}\")\n",
    "print(f\"Name: {customer.get_name()}\")\n",
    "print(f\"Address: {customer.get_address()}\")\n",
    "print(f\"Contact Info: {customer.get_contact_info()}\")\n",
    "\n",
    "# Modifying contact information using a setter method\n",
    "customer.set_contact_info(\"new_email@email.com\")\n",
    "print(f\"Updated Contact Info: {customer.get_contact_info()}\")"
   ]
  },
  {
   "cell_type": "markdown",
   "metadata": {},
   "source": [
    "**Polymorphism:**"
   ]
  },
  {
   "cell_type": "markdown",
   "metadata": {},
   "source": [
    "1. What is polymorphism in Python? Explain how it is related to object-oriented \n",
    "programming."
   ]
  },
  {
   "cell_type": "markdown",
   "metadata": {},
   "source": [
    "**Polymorphism** is a fundamental concept in object-oriented programming (OOP) that allows objects of different classes to be treated as objects of a common base class. It enables you to write code that can work with objects of multiple types and classes in a uniform way. Polymorphism is closely related to the following OOP principles:\n",
    "\n",
    "1. **Inheritance**: Polymorphism often relies on inheritance, where different classes inherit from a common base class or interface. The derived classes can provide their own implementations of methods, while the base class defines a common interface that the derived classes adhere to.\n",
    "\n",
    "2. **Method Overriding**: In polymorphism, subclasses can override methods inherited from the base class. This means that a method in a derived class has the same name and signature as a method in the base class, but it provides its own implementation.\n",
    "\n",
    "Polymorphism can be understood through the following key concepts:\n",
    "\n",
    "- **Base Class**: A base class defines a common interface that derived classes inherit. It contains methods and properties that are expected to be present in all derived classes.\n",
    "\n",
    "- **Derived Classes**: Derived classes inherit from the base class and provide their own implementations of methods. They can also add additional methods or properties.\n",
    "\n",
    "- **Polymorphic Behavior**: Code that works with objects of the base class can be used to operate on objects of any derived class. This is possible because derived classes share a common interface with the base class.\n",
    "\n",
    "Polymorphism in Python is primarily achieved through method overriding, where different classes provide their own implementations of methods with the same name and signature. The choice of which method to execute is determined at runtime, based on the actual type of the object, not on the reference type. This is known as \"dynamic dispatch.\"\n",
    "\n",
    "Here's a simple example in Python to illustrate polymorphism:\n",
    "\n",
    "```python\n",
    "class Animal:\n",
    "    def speak(self):\n",
    "        pass\n",
    "\n",
    "class Dog(Animal):\n",
    "    def speak(self):\n",
    "        return \"Woof!\"\n",
    "\n",
    "class Cat(Animal):\n",
    "    def speak(self):\n",
    "        return \"Meow!\"\n",
    "\n",
    "# Polymorphic behavior\n",
    "animals = [Dog(), Cat()]\n",
    "\n",
    "for animal in animals:\n",
    "    print(animal.speak())  # Calls the speak method of the specific subclass\n",
    "```\n",
    "\n",
    "In this example:\n",
    "\n",
    "- `Animal` is the base class with a `speak` method.\n",
    "- `Dog` and `Cat` are derived classes that override the `speak` method.\n",
    "- The list `animals` contains objects of both `Dog` and `Cat` classes.\n",
    "- The loop iterates through the list, and the `speak` method of the specific subclass is called for each object. This is an example of polymorphism in action, as the same code works with objects of different types (subclasses) in a uniform way.\n",
    "\n",
    "Polymorphism allows you to write more flexible and reusable code by designing classes and methods that can be applied to a variety of objects with a common interface. It's a powerful tool for modeling complex systems in OOP and simplifies the interaction between objects in a program."
   ]
  },
  {
   "cell_type": "markdown",
   "metadata": {},
   "source": [
    "2. Describe the difference between compile-time polymorphism and runtime \n",
    "polymorphism in Python."
   ]
  },
  {
   "cell_type": "markdown",
   "metadata": {},
   "source": [
    "In Python, the primary form of polymorphism is **runtime polymorphism** (also known as dynamic polymorphism or late binding), while **compile-time polymorphism** (also known as static polymorphism or early binding) is less common due to Python's dynamic typing nature. Here's a description of both:\n",
    "\n",
    "**Compile-time Polymorphism (Static Polymorphism):**\n",
    "\n",
    "1. **Type Checking at Compile Time:** Compile-time polymorphism involves method or function overloading, where multiple methods or functions in the same class or module have the same name but different parameter lists. The appropriate method or function to call is determined at compile time based on the number and types of arguments passed.\n",
    "\n",
    "2. **Decision at Compile Time:** During compilation, the compiler selects the correct method or function to call based on the method or function signature that matches the argument list provided. It ensures type safety and early error detection.\n",
    "\n",
    "3. **Example in Python:** While Python does not support method overloading in the same way as statically typed languages like C++ or Java, you can achieve similar behavior by defining multiple functions with different parameter lists. However, the choice of which function to call is still determined at runtime based on the argument types and not at compile time.\n",
    "\n",
    "**Runtime Polymorphism (Dynamic Polymorphism):**\n",
    "\n",
    "1. **Type Checking at Runtime:** Runtime polymorphism involves method overriding, where different classes provide their own implementations of a method with the same name and signature as a method in a base class. The choice of which method to execute is determined at runtime based on the actual type of the object.\n",
    "\n",
    "2. **Decision at Runtime:** During program execution, the appropriate method to call is determined dynamically based on the object's actual type (class), not the reference type (base class).\n",
    "\n",
    "3. **Example in Python:** Python excels at runtime polymorphism. Method overriding is a common practice in Python, where derived classes provide their own implementations of methods defined in a base class. The choice of method to call is based on the actual class of the object. For example, when you call a method on an object, Python selects the method to execute based on the object's class hierarchy.\n",
    "\n",
    "Here's a simple example to illustrate the difference between compile-time and runtime polymorphism in Python:\n",
    "\n",
    "```python\n",
    "class Animal:\n",
    "    def speak(self):\n",
    "        return \"Animal speaks\"\n",
    "\n",
    "class Dog(Animal):\n",
    "    def speak(self):\n",
    "        return \"Woof!\"\n",
    "\n",
    "# Runtime polymorphism\n",
    "animal = Animal()\n",
    "dog = Dog()\n",
    "\n",
    "print(animal.speak())  # Output: \"Animal speaks\"\n",
    "print(dog.speak())     # Output: \"Woof\"\n",
    "\n",
    "# Compile-time polymorphism (not supported in Python)\n",
    "# This will result in a TypeError because Python does not perform compile-time method overloading.\n",
    "# def example_method(x):\n",
    "#     return x\n",
    "\n",
    "# print(example_method(1))\n",
    "# print(example_method(\"Hello\"))\n",
    "```\n",
    "\n",
    "In this example:\n",
    "\n",
    "- The `speak` method in the `Animal` class is overridden in the `Dog` class, demonstrating runtime polymorphism.\n",
    "\n",
    "- The `example_method` function is commented out because Python does not support compile-time method overloading.\n",
    "\n",
    "In Python, runtime polymorphism is prevalent and powerful due to its dynamic typing and object-oriented nature, while compile-time polymorphism, as seen in statically typed languages, is not a common practice."
   ]
  },
  {
   "cell_type": "markdown",
   "metadata": {},
   "source": [
    "3. Create a Python class hierarchy for shapes (e.g., circle, square, triangle) and \n",
    "demonstrate polymorphism through a common method, such as `calculate_area()`."
   ]
  },
  {
   "cell_type": "code",
   "execution_count": 3,
   "metadata": {},
   "outputs": [
    {
     "name": "stdout",
     "output_type": "stream",
     "text": [
      "Area of Circle: 78.54\n",
      "Area of Square: 16.00\n",
      "Area of Triangle: 24.00\n"
     ]
    }
   ],
   "source": [
    "import math\n",
    "\n",
    "class Shape:\n",
    "    def calculate_area(self):\n",
    "        pass\n",
    "\n",
    "class Circle(Shape):\n",
    "    def __init__(self, radius):\n",
    "        self.radius = radius\n",
    "\n",
    "    def calculate_area(self):\n",
    "        return math.pi * self.radius ** 2\n",
    "\n",
    "class Square(Shape):\n",
    "    def __init__(self, side_length):\n",
    "        self.side_length = side_length\n",
    "\n",
    "    def calculate_area(self):\n",
    "        return self.side_length ** 2\n",
    "\n",
    "class Triangle(Shape):\n",
    "    def __init__(self, base, height):\n",
    "        self.base = base\n",
    "        self.height = height\n",
    "\n",
    "    def calculate_area(self):\n",
    "        return 0.5 * self.base * self.height\n",
    "\n",
    "# Create instances of different shapes\n",
    "circle = Circle(5)\n",
    "square = Square(4)\n",
    "triangle = Triangle(6, 8)\n",
    "\n",
    "# Calculate and display areas of different shapes using polymorphism\n",
    "shapes = [circle, square, triangle]\n",
    "\n",
    "for shape in shapes:\n",
    "    print(f\"Area of {shape.__class__.__name__}: {shape.calculate_area():.2f}\")\n",
    "\n",
    "\n",
    "# In this example:\n",
    "\n",
    "# - There's a base class `Shape` with a common method `calculate_area()`. \n",
    "# This method is overridden in each of the derived classes (`Circle`, `Square`, and `Triangle`) to provide \n",
    "# specific implementations for calculating the area of each shape.\n",
    "\n",
    "# - Instances of different shapes are created, and their areas are calculated using the `calculate_area()` method.\n",
    "#  Since each shape class has its own implementation of the method, polymorphism allows us to call the same method \n",
    "# on objects of different types (shapes).\n",
    "\n",
    "# - The `shapes` list contains objects of different shapes, and the loop demonstrates polymorphism by calculating \n",
    "# and displaying the area of each shape without needing to know the specific class of each object.\n",
    "\n",
    "# This example illustrates how polymorphism allows you to work with objects of different types through a \n",
    "# common interface, making your code more flexible and easier to extend when dealing with various \n",
    "# shapes or objects."
   ]
  },
  {
   "cell_type": "markdown",
   "metadata": {},
   "source": [
    "4. Explain the concept of method overriding in polymorphism. Provide an example."
   ]
  },
  {
   "cell_type": "markdown",
   "metadata": {},
   "source": [
    "**Method overriding** is a key feature of polymorphism in object-oriented programming. It allows a derived class to provide a specific implementation for a method that is already defined in its base class. Method overriding is used to customize the behavior of the method for the derived class, while keeping the method signature (name and parameters) the same as in the base class. This enables polymorphic behavior, where objects of different classes can be treated uniformly through a common interface.\n",
    "\n",
    "Key characteristics of method overriding:\n",
    "\n",
    "1. The overridden method in the derived class must have the same name, return type, and parameter list as the method in the base class.\n",
    "\n",
    "2. The access modifier of the overridden method in the derived class cannot be more restrictive than the access modifier in the base class.\n",
    "\n",
    "3. The derived class method should use the `super()` keyword to call the base class method if necessary.\n",
    "\n",
    "Here's an example of method overriding in Python:\n",
    "\n",
    "```python\n",
    "class Animal:\n",
    "    def speak(self):\n",
    "        return \"Animal speaks\"\n",
    "\n",
    "class Dog(Animal):\n",
    "    def speak(self):\n",
    "        return \"Woof!\"\n",
    "\n",
    "class Cat(Animal):\n",
    "    def speak(self):\n",
    "        return \"Meow!\"\n",
    "\n",
    "# Create instances of different animals\n",
    "animal = Animal()\n",
    "dog = Dog()\n",
    "cat = Cat()\n",
    "\n",
    "# Polymorphism in action\n",
    "print(animal.speak())  # Output: \"Animal speaks\"\n",
    "print(dog.speak())     # Output: \"Woof!\"\n",
    "print(cat.speak())     # Output: \"Meow\"\n",
    "```\n",
    "\n",
    "In this example:\n",
    "\n",
    "- The `Animal` class defines a method `speak()` with a generic message.\n",
    "\n",
    "- The `Dog` and `Cat` classes are derived from `Animal` and override the `speak()` method with their own specific implementations.\n",
    "\n",
    "- When instances of `Dog` and `Cat` are created, they provide their own `speak()` methods. When the `speak()` method is called on these instances, it executes the overridden method of the respective subclass. This demonstrates polymorphism, as different objects produce different behaviors using the same method name.\n",
    "\n",
    "Method overriding allows you to customize and extend the behavior of classes to suit specific requirements while maintaining a consistent interface. It's a powerful mechanism for implementing polymorphism and making code more flexible and adaptable."
   ]
  },
  {
   "cell_type": "markdown",
   "metadata": {},
   "source": [
    "5. How is polymorphism different from method overloading in Python? Provide \n",
    "examples for both."
   ]
  },
  {
   "cell_type": "markdown",
   "metadata": {},
   "source": [
    "**Polymorphism** and **method overloading** are related concepts in Python, but they serve different purposes and have distinct characteristics. Here's an explanation of each, along with examples for both:\n",
    "\n",
    "**Polymorphism:**\n",
    "\n",
    "Polymorphism is a fundamental concept in object-oriented programming. It allows objects of different classes to be treated as objects of a common base class. This enables you to write code that can work with objects of multiple types and classes in a uniform way. Polymorphism is primarily achieved through method overriding, where different classes provide their own implementations of a method with the same name and signature. The choice of which method to execute is determined at runtime based on the actual type of the object.\n",
    "\n",
    "Example of Polymorphism:\n",
    "\n",
    "```python\n",
    "class Animal:\n",
    "    def speak(self):\n",
    "        return \"Animal speaks\"\n",
    "\n",
    "class Dog(Animal):\n",
    "    def speak(self):\n",
    "        return \"Woof!\"\n",
    "\n",
    "class Cat(Animal):\n",
    "    def speak(self):\n",
    "        return \"Meow!\"\n",
    "\n",
    "# Polymorphism in action\n",
    "animals = [Animal(), Dog(), Cat()]\n",
    "\n",
    "for animal in animals:\n",
    "    print(animal.speak())\n",
    "```\n",
    "\n",
    "In this example, different objects of `Animal`, `Dog`, and `Cat` classes share a common interface (the `speak` method), and polymorphism allows us to call this method on objects of different types.\n",
    "\n",
    "**Method Overloading:**\n",
    "\n",
    "Method overloading is a feature that allows a single method or function to have multiple definitions with different parameter lists. It's primarily used in statically typed languages like C++ or Java, where method overloads are selected at compile time based on the number and types of arguments passed to the method.\n",
    "\n",
    "In Python, method overloading is not directly supported as it is in statically typed languages. However, you can achieve similar behavior by defining multiple functions with different parameter lists. The choice of which function to call is still determined at runtime based on the argument types and not at compile time.\n",
    "\n",
    "Example of Method Overloading (Python-style):\n",
    "\n",
    "```python\n",
    "class MathOperations:\n",
    "    def add(self, a, b):\n",
    "        return a + b\n",
    "\n",
    "    def add(self, a, b, c):\n",
    "        return a + b + c\n",
    "\n",
    "math_ops = MathOperations()\n",
    "\n",
    "# This will work, but only the second add method definition will be used.\n",
    "result = math_ops.add(2, 3, 4)\n",
    "print(result)  # Output: 9\n",
    "```\n",
    "\n",
    "In this example, the `MathOperations` class defines two versions of the `add` method with different parameter lists. However, only the second definition is used when calling the method, as Python does not perform traditional method overloading like statically typed languages.\n",
    "\n",
    "In summary, polymorphism allows objects of different classes to be treated uniformly through a common interface, primarily achieved through method overriding, while method overloading involves defining multiple methods or functions with the same name but different parameter lists, a concept not natively supported in Python."
   ]
  },
  {
   "cell_type": "markdown",
   "metadata": {},
   "source": [
    "6. Create a Python class called `Animal` with a method `speak()`. Then, create child \n",
    "classes like `Dog`, `Cat`, and `Bird`, each with their own `speak()` method. Demonstrate \n",
    "polymorphism by calling the `speak()` method on objects of different subclasses."
   ]
  },
  {
   "cell_type": "code",
   "execution_count": 4,
   "metadata": {},
   "outputs": [
    {
     "name": "stdout",
     "output_type": "stream",
     "text": [
      "Animal speaks\n",
      "Woof!\n",
      "Meow!\n",
      "Tweet!\n"
     ]
    }
   ],
   "source": [
    "class Animal:\n",
    "    def speak(self):\n",
    "        return \"Animal speaks\"\n",
    "\n",
    "class Dog(Animal):\n",
    "    def speak(self):\n",
    "        return \"Woof!\"\n",
    "\n",
    "class Cat(Animal):\n",
    "    def speak(self):\n",
    "        return \"Meow!\"\n",
    "\n",
    "class Bird(Animal):\n",
    "    def speak(self):\n",
    "        return \"Tweet!\"\n",
    "\n",
    "# Create instances of different animals\n",
    "animals = [Animal(), Dog(), Cat(), Bird()]\n",
    "\n",
    "# Polymorphism in action\n",
    "for animal in animals:\n",
    "    print(animal.speak())"
   ]
  },
  {
   "cell_type": "markdown",
   "metadata": {},
   "source": [
    "7. Discuss the use of abstract methods and classes in achieving polymorphism in \n",
    "Python. Provide an example using the `abc` module."
   ]
  },
  {
   "cell_type": "markdown",
   "metadata": {},
   "source": [
    "Abstract methods and classes are a powerful tool for achieving polymorphism and defining common interfaces in Python. They allow you to create base classes with methods that must be implemented by their derived classes. Python provides the `abc` (Abstract Base Classes) module to work with abstract classes and methods.\n",
    "\n",
    "Here's how you can use abstract methods and classes to achieve polymorphism in Python:\n",
    "\n",
    "1. Create an abstract base class using the `abc.ABC` class as the metaclass.\n",
    "\n",
    "2. Define abstract methods within the abstract base class using the `@abstractmethod` decorator. These methods must be implemented by derived classes.\n",
    "\n",
    "3. Create derived classes that inherit from the abstract base class and provide concrete implementations for the abstract methods.\n",
    "\n",
    "4. Objects of the derived classes can be treated polymorphically through the common interface defined by the abstract base class.\n",
    "\n",
    "Here's an example using the `abc` module:\n",
    "\n",
    "```python\n",
    "from abc import ABC, abstractmethod\n",
    "\n",
    "# Define an abstract base class with an abstract method\n",
    "class Shape(ABC):\n",
    "    @abstractmethod\n",
    "    def calculate_area(self):\n",
    "        pass\n",
    "\n",
    "# Create concrete subclasses that implement the abstract method\n",
    "class Circle(Shape):\n",
    "    def __init__(self, radius):\n",
    "        self.radius = radius\n",
    "\n",
    "    def calculate_area(self):\n",
    "        return 3.14 * self.radius ** 2\n",
    "\n",
    "class Square(Shape):\n",
    "    def __init(self, side_length):\n",
    "        self.side_length = side_length\n",
    "\n",
    "    def calculate_area(self):\n",
    "        return self.side_length ** 2\n",
    "\n",
    "# Create instances of different shapes\n",
    "circle = Circle(5)\n",
    "square = Square(4)\n",
    "\n",
    "# Calculate and display areas of different shapes using polymorphism\n",
    "shapes = [circle, square]\n",
    "\n",
    "for shape in shapes:\n",
    "    print(f\"Area of {shape.__class__.__name__}: {shape.calculate_area():.2f}\")\n",
    "```\n",
    "\n",
    "In this example:\n",
    "\n",
    "- The `Shape` class is defined as an abstract base class with an abstract method `calculate_area()` using the `@abstractmethod` decorator.\n",
    "\n",
    "- The `Circle` and `Square` classes inherit from the abstract base class and provide concrete implementations for the `calculate_area()` method.\n",
    "\n",
    "- We create instances of different shapes and calculate their areas using polymorphism, treating them all as objects of the `Shape` base class.\n",
    "\n",
    "Using abstract methods and classes in Python allows you to define common interfaces for classes and enforce that specific methods must be implemented by derived classes. This promotes polymorphism by ensuring that objects of different subclasses can be treated uniformly through the common interface, making your code more robust and flexible."
   ]
  },
  {
   "cell_type": "markdown",
   "metadata": {},
   "source": [
    "8. Create a Python class hierarchy for a vehicle system (e.g., car, bicycle, boat) and \n",
    "implement a polymorphic `start()` method that prints a message specific to each \n",
    "vehicle type."
   ]
  },
  {
   "cell_type": "code",
   "execution_count": 5,
   "metadata": {},
   "outputs": [
    {
     "name": "stdout",
     "output_type": "stream",
     "text": [
      "The Sedan car starts the engine.\n",
      "The Mountain bicycle begins pedaling.\n",
      "The Sailboat boat starts the engine and sets sail.\n"
     ]
    }
   ],
   "source": [
    "class Vehicle:\n",
    "    def __init__(self, name):\n",
    "        self.name = name\n",
    "\n",
    "    def start(self):\n",
    "        pass\n",
    "\n",
    "class Car(Vehicle):\n",
    "    def start(self):\n",
    "        return f\"The {self.name} car starts the engine.\"\n",
    "\n",
    "class Bicycle(Vehicle):\n",
    "    def start(self):\n",
    "        return f\"The {self.name} bicycle begins pedaling.\"\n",
    "\n",
    "class Boat(Vehicle):\n",
    "    def start(self):\n",
    "        return f\"The {self.name} boat starts the engine and sets sail.\"\n",
    "\n",
    "# Create instances of different vehicles\n",
    "car = Car(\"Sedan\")\n",
    "bicycle = Bicycle(\"Mountain\")\n",
    "boat = Boat(\"Sailboat\")\n",
    "\n",
    "# Polymorphism in action\n",
    "vehicles = [car, bicycle, boat]\n",
    "\n",
    "for vehicle in vehicles:\n",
    "    print(vehicle.start())"
   ]
  },
  {
   "cell_type": "markdown",
   "metadata": {},
   "source": [
    "9. Explain the significance of the `isinstance()` and `issubclass()` functions in Python \n",
    "polymorphism."
   ]
  },
  {
   "cell_type": "markdown",
   "metadata": {},
   "source": [
    "The `isinstance()` and `issubclass()` functions in Python play a significant role in achieving and working with polymorphism. They help you determine the type or class of an object, which is essential for making decisions, ensuring compatibility, and implementing polymorphic behavior. Here's the significance of these functions in Python polymorphism:\n",
    "\n",
    "1. **`isinstance()` Function:**\n",
    "\n",
    "   - **Object Type Checking:** `isinstance()` is used to check whether an object is an instance of a particular class or a tuple of classes. It returns `True` if the object is an instance of the specified class or one of the specified classes; otherwise, it returns `False`.\n",
    "\n",
    "   - **Polymorphic Behavior:** It's crucial for achieving polymorphism. You can use `isinstance()` to determine the actual type of an object at runtime and execute code specific to that type.\n",
    "\n",
    "   - **Example:**\n",
    "     ```python\n",
    "     if isinstance(vehicle, Car):\n",
    "         # Perform car-specific action\n",
    "     elif isinstance(vehicle, Bicycle):\n",
    "         # Perform bicycle-specific action\n",
    "     ```\n",
    "\n",
    "2. **`issubclass()` Function:**\n",
    "\n",
    "   - **Class Inheritance Checking:** `issubclass()` is used to check whether a class is a subclass of a specified class or a tuple of classes. It returns `True` if the class is a subclass of the specified class(es); otherwise, it returns `False`.\n",
    "\n",
    "   - **Polymorphic Interface Definition:** When defining a common interface or abstract base class for polymorphism, you can use `issubclass()` to ensure that derived classes adhere to the interface.\n",
    "\n",
    "   - **Example:**\n",
    "     ```python\n",
    "     class Vehicle:\n",
    "         pass\n",
    "\n",
    "     class Car(Vehicle):\n",
    "         pass\n",
    "\n",
    "     print(issubclass(Car, Vehicle))  # True, Car is a subclass of Vehicle\n",
    "     ```\n",
    "\n",
    "In summary, `isinstance()` and `issubclass()` are important in Python polymorphism for the following reasons:\n",
    "\n",
    "- They allow you to dynamically determine the type or class of an object at runtime, which is essential for making decisions based on the actual object type.\n",
    "\n",
    "- They help ensure that objects and classes adhere to a specific interface or hierarchy, enabling you to work with polymorphic behavior and write code that can handle objects of different types in a uniform manner.\n",
    "\n",
    "- They are essential for implementing and enforcing polymorphism, making your code more flexible and expressive when dealing with diverse types and classes."
   ]
  },
  {
   "cell_type": "markdown",
   "metadata": {},
   "source": [
    "10. What is the role of the `@abstractmethod` decorator in achieving polymorphism in \n",
    "Python? Provide an example."
   ]
  },
  {
   "cell_type": "markdown",
   "metadata": {},
   "source": [
    "The `@abstractmethod` decorator is a key component of Python's Abstract Base Classes (ABCs) and plays a crucial role in achieving polymorphism. It is used to define abstract methods within abstract base classes. Abstract methods are methods without a concrete implementation in the base class but must be implemented by any concrete subclass. The `@abstractmethod` decorator enforces that derived classes provide their own implementation of these methods, promoting a common interface for polymorphic behavior.\n",
    "\n",
    "Here's the role of the `@abstractmethod` decorator in achieving polymorphism, along with an example:\n",
    "\n",
    "1. **Interface Definition**: The `@abstractmethod` decorator is used in an abstract base class to declare a method as abstract, indicating that it must be implemented by any concrete subclass. Abstract methods define a common interface that derived classes must adhere to.\n",
    "\n",
    "2. **Polymorphism Enforcement**: By defining abstract methods, you ensure that all subclasses must provide their own implementation for these methods. This enforces the use of a common interface, allowing objects of different subclasses to be treated uniformly through these methods.\n",
    "\n",
    "3. **Error Prevention**: The `@abstractmethod` decorator helps catch errors early by raising a `TypeError` if you attempt to create an instance of a class with abstract methods without implementing them. This ensures that abstract methods are implemented before they are used.\n",
    "\n",
    "Here's an example using the `abc` module and the `@abstractmethod` decorator:\n",
    "\n",
    "```python\n",
    "from abc import ABC, abstractmethod\n",
    "\n",
    "class Shape(ABC):\n",
    "    @abstractmethod\n",
    "    def calculate_area(self):\n",
    "        pass\n",
    "\n",
    "class Circle(Shape):\n",
    "    def __init__(self, radius):\n",
    "        self.radius = radius\n",
    "\n",
    "    def calculate_area(self):\n",
    "        return 3.14 * self.radius ** 2\n",
    "\n",
    "class Square(Shape):\n",
    "    def __init(self, side_length):\n",
    "        self.side_length = side_length\n",
    "\n",
    "    def calculate_area(self):\n",
    "        return self.side_length ** 2\n",
    "\n",
    "# Creating instances of concrete classes\n",
    "circle = Circle(5)\n",
    "square = Square(4)\n",
    "\n",
    "# Calculate and display areas of different shapes using polymorphism\n",
    "shapes = [circle, square]\n",
    "\n",
    "for shape in shapes:\n",
    "    print(f\"Area of {shape.__class__.__name__}: {shape.calculate_area():.2f}\")\n",
    "```\n",
    "\n",
    "In this example:\n",
    "\n",
    "- The `Shape` class defines an abstract method `calculate_area()` using the `@abstractmethod` decorator.\n",
    "\n",
    "- The `Circle` and `Square` classes inherit from `Shape` and provide concrete implementations for the `calculate_area()` method, which is necessary to instantiate and use these concrete classes.\n",
    "\n",
    "- By using the `@abstractmethod` decorator, you enforce that all subclasses of `Shape` provide their own implementation of `calculate_area()`, ensuring a common interface for polymorphic behavior.\n",
    "\n",
    "This example demonstrates how the `@abstractmethod` decorator is crucial for defining abstract methods and creating a common interface, allowing polymorphism by treating different shapes uniformly through the `calculate_area()` method."
   ]
  },
  {
   "cell_type": "markdown",
   "metadata": {},
   "source": [
    "11. Create a Python class called `Shape` with a polymorphic method `area()` that \n",
    "calculates the area of different shapes (e.g., circle, rectangle, triangle)."
   ]
  },
  {
   "cell_type": "code",
   "execution_count": 6,
   "metadata": {},
   "outputs": [
    {
     "name": "stdout",
     "output_type": "stream",
     "text": [
      "Area of Circle: 78.54\n",
      "Area of Rectangle: 24.00\n",
      "Area of Triangle: 40.00\n"
     ]
    }
   ],
   "source": [
    "import math\n",
    "\n",
    "class Shape:\n",
    "    def area(self):\n",
    "        pass\n",
    "\n",
    "class Circle(Shape):\n",
    "    def __init__(self, radius):\n",
    "        self.radius = radius\n",
    "\n",
    "    def area(self):\n",
    "        return math.pi * self.radius ** 2\n",
    "\n",
    "class Rectangle(Shape):\n",
    "    def __init__(self, width, height):\n",
    "        self.width = width\n",
    "        self.height = height\n",
    "\n",
    "    def area(self):\n",
    "        return self.width * self.height\n",
    "\n",
    "class Triangle(Shape):\n",
    "    def __init__(self, base, height):\n",
    "        self.base = base\n",
    "        self.height = height\n",
    "\n",
    "    def area(self):\n",
    "        return 0.5 * self.base * self.height\n",
    "\n",
    "# Create instances of different shapes\n",
    "circle = Circle(5)\n",
    "rectangle = Rectangle(4, 6)\n",
    "triangle = Triangle(8, 10)\n",
    "\n",
    "# Calculate and display areas of different shapes using polymorphism\n",
    "shapes = [circle, rectangle, triangle]\n",
    "\n",
    "for shape in shapes:\n",
    "    print(f\"Area of {shape.__class__.__name__}: {shape.area():.2f}\")"
   ]
  },
  {
   "cell_type": "markdown",
   "metadata": {},
   "source": [
    "12. Discuss the benefits of polymorphism in terms of code reusability and flexibility in \n",
    "Python programs."
   ]
  },
  {
   "cell_type": "markdown",
   "metadata": {},
   "source": [
    "Polymorphism offers several benefits in terms of code reusability and flexibility in Python programs:\n",
    "\n",
    "1. **Code Reusability:** Polymorphism allows you to write code that can work with objects of different classes through a common interface. This promotes code reusability, as you can reuse the same code for different objects, reducing duplication and making the codebase more maintainable.\n",
    "\n",
    "2. **Flexibility:** Polymorphism makes your code more flexible and adaptable to changes. When you introduce a new class that adheres to the same interface, you can seamlessly integrate it into your existing code without modifying the code that uses the interface. This flexibility simplifies code expansion and modification.\n",
    "\n",
    "3. **Ease of Maintenance:** Code that relies on polymorphism is often easier to maintain because changes to a class's implementation don't require changes to the code that uses the class. If you need to modify a specific behavior, you only need to update the relevant class, and all code that relies on the common interface benefits from the change.\n",
    "\n",
    "4. **Abstraction:** Polymorphism allows you to work with abstract classes or interfaces, defining only the behavior that is common to a group of classes. This abstraction makes your code more readable and focuses on the essential aspects of objects, reducing complexity.\n",
    "\n",
    "5. **Plug-and-Play Architecture:** With polymorphism, you can create a plug-and-play architecture where different components or modules can interact seamlessly without detailed knowledge of each other. New components can be added to the system without affecting existing ones.\n",
    "\n",
    "6. **Simplification of Conditional Logic:** Polymorphism can help reduce complex conditional statements, such as long chains of `if-else` or `switch` statements. Instead of explicitly checking the type of an object, you can rely on polymorphism to select the appropriate behavior at runtime.\n",
    "\n",
    "7. **Enhanced Testing and Debugging:** Polymorphism simplifies testing and debugging because you can test a single piece of code with a variety of objects to ensure they all behave as expected. This simplifies unit testing and ensures that changes to one class do not introduce bugs in other parts of the code.\n",
    "\n",
    "8. **Scalability:** Polymorphism facilitates the scalability of your codebase. As your project grows, you can add new classes and objects that adhere to the common interface, making it easier to extend your system with new features or functionalities.\n",
    "\n",
    "9. **Reduced Coupling:** Polymorphism reduces coupling between different parts of the code. When code depends on abstractions and interfaces rather than concrete implementations, it's less tightly coupled to specific classes. This decoupling makes it easier to change or replace components without affecting other parts of the system.\n",
    "\n",
    "In summary, polymorphism is a fundamental concept in object-oriented programming that enhances code reusability and flexibility by allowing you to work with objects of different classes through a common interface. It promotes good software design practices and simplifies maintenance, testing, and the evolution of your codebase."
   ]
  },
  {
   "cell_type": "markdown",
   "metadata": {},
   "source": [
    "13. Explain the use of the `super()` function in Python polymorphism. How does it help \n",
    "call methods of parent classes?"
   ]
  },
  {
   "cell_type": "markdown",
   "metadata": {},
   "source": [
    "The `super()` function in Python is used to call methods and access attributes of a parent or superclass within a derived or subclass. It is particularly useful when you want to extend or customize the behavior of a method in the subclass while retaining the functionality of the same method in the parent class. `super()` helps you achieve method overriding and polymorphism effectively. Here's how it works:\n",
    "\n",
    "1. **Accessing Parent Class Methods:** When you call `super()`, you are essentially creating a proxy object that allows you to access the methods and attributes of the parent class. You can use `super()` to call methods in the parent class, even if those methods have been overridden in the subclass.\n",
    "\n",
    "2. **Maintaining Polymorphism:** Using `super()` to call a method in the parent class ensures that the parent class's implementation of that method is executed. This maintains polymorphism because you can call methods based on the actual type of the object, whether it's an instance of the parent class or a subclass.\n",
    "\n",
    "3. **Method Chaining:** You can use `super()` in the context of method chaining, where you call the parent class method first and then customize or extend its behavior in the subclass method.\n",
    "\n",
    "Here's an example to illustrate how `super()` is used in Python polymorphism:\n",
    "\n",
    "```python\n",
    "class Vehicle:\n",
    "    def start(self):\n",
    "        return \"Vehicle starts the engine.\"\n",
    "\n",
    "class Car(Vehicle):\n",
    "    def start(self):\n",
    "        # Calling the start method of the parent class using super()\n",
    "        parent_result = super().start()\n",
    "        return f\"A car is started. {parent_result}\"\n",
    "\n",
    "class Bicycle(Vehicle):\n",
    "    def start(self):\n",
    "        # Calling the start method of the parent class using super()\n",
    "        parent_result = super().start()\n",
    "        return f\"A bicycle is started. {parent_result}\"\n",
    "\n",
    "# Create instances of the subclasses\n",
    "car = Car()\n",
    "bicycle = Bicycle()\n",
    "\n",
    "# Call the start method on the subclasses\n",
    "print(car.start())\n",
    "print(bicycle.start())\n",
    "```\n",
    "\n",
    "In this example:\n",
    "\n",
    "- The `Vehicle` class defines a `start()` method, which is overridden in the `Car` and `Bicycle` subclasses.\n",
    "\n",
    "- In the overridden `start()` methods of `Car` and `Bicycle`, the `super()` function is used to call the `start()` method of the parent class (`Vehicle`).\n",
    "\n",
    "- By calling `super().start()`, the code ensures that the parent class's `start()` method is executed before customizing or extending the behavior in the subclass. This demonstrates polymorphism while maintaining the base behavior of the parent class.\n",
    "\n",
    "The use of `super()` allows you to take advantage of the power of polymorphism while building on or customizing the functionality of parent classes in a structured and maintainable way. It helps ensure that the code remains flexible and extensible as your class hierarchy evolves."
   ]
  },
  {
   "cell_type": "markdown",
   "metadata": {},
   "source": [
    "14. Create a Python class hierarchy for a banking system with various account types \n",
    "(e.g., savings, checking, credit card) and demonstrate polymorphism by implementing a \n",
    "common `withdraw()` method."
   ]
  },
  {
   "cell_type": "code",
   "execution_count": 7,
   "metadata": {},
   "outputs": [
    {
     "name": "stdout",
     "output_type": "stream",
     "text": [
      "Account: SA123\n",
      "Withdrew $200. New balance: $800\n",
      "\n",
      "Account: CA456\n",
      "Withdrew $200. New balance: $1300\n",
      "\n",
      "Account: CC789\n",
      "Withdrew $200. New balance: $-1200\n",
      "\n"
     ]
    }
   ],
   "source": [
    "class BankAccount:\n",
    "    def __init__(self, account_number, balance):\n",
    "        self.account_number = account_number\n",
    "        self.balance = balance\n",
    "\n",
    "    def withdraw(self, amount):\n",
    "        if amount <= self.balance:\n",
    "            self.balance -= amount\n",
    "            return f\"Withdrew ${amount}. New balance: ${self.balance}\"\n",
    "        else:\n",
    "            return \"Insufficient funds\"\n",
    "\n",
    "class SavingsAccount(BankAccount):\n",
    "    def __init__(self, account_number, balance, interest_rate):\n",
    "        super().__init__(account_number, balance)\n",
    "        self.interest_rate = interest_rate\n",
    "\n",
    "    def withdraw(self, amount):\n",
    "        # Implementing custom behavior for SavingsAccount\n",
    "        if amount <= self.balance:\n",
    "            self.balance -= amount\n",
    "            return f\"Withdrew ${amount}. New balance: ${self.balance}\"\n",
    "        else:\n",
    "            return \"Insufficient funds\"\n",
    "\n",
    "class CheckingAccount(BankAccount):\n",
    "    def __init__(self, account_number, balance, overdraft_limit):\n",
    "        super().__init__(account_number, balance)\n",
    "        self.overdraft_limit = overdraft_limit\n",
    "\n",
    "    def withdraw(self, amount):\n",
    "        # Implementing custom behavior for CheckingAccount\n",
    "        if amount <= self.balance + self.overdraft_limit:\n",
    "            self.balance -= amount\n",
    "            return f\"Withdrew ${amount}. New balance: ${self.balance}\"\n",
    "        else:\n",
    "            return \"Overdraft limit exceeded\"\n",
    "\n",
    "class CreditCardAccount(BankAccount):\n",
    "    def __init__(self, account_number, balance, credit_limit):\n",
    "        super().__init__(account_number, balance)\n",
    "        self.credit_limit = credit_limit\n",
    "\n",
    "    def withdraw(self, amount):\n",
    "        # Implementing custom behavior for CreditCardAccount\n",
    "        if amount <= self.balance + self.credit_limit:\n",
    "            self.balance -= amount\n",
    "            return f\"Withdrew ${amount}. New balance: ${self.balance}\"\n",
    "        else:\n",
    "            return \"Credit limit exceeded\"\n",
    "\n",
    "# Create instances of different account types\n",
    "savings_account = SavingsAccount(\"SA123\", 1000, 0.03)\n",
    "checking_account = CheckingAccount(\"CA456\", 1500, 500)\n",
    "credit_card_account = CreditCardAccount(\"CC789\", -1000, 2000)\n",
    "\n",
    "# Demonstrate polymorphism by calling the withdraw() method on different accounts\n",
    "accounts = [savings_account, checking_account, credit_card_account]\n",
    "\n",
    "for account in accounts:\n",
    "    print(f\"Account: {account.account_number}\")\n",
    "    print(account.withdraw(200))\n",
    "    print()"
   ]
  },
  {
   "cell_type": "markdown",
   "metadata": {},
   "source": [
    "15. Describe the concept of operator overloading in Python and how it relates to \n",
    "polymorphism. Provide examples using operators like `+` and `*`."
   ]
  },
  {
   "cell_type": "markdown",
   "metadata": {},
   "source": [
    "**Operator overloading** in Python refers to the ability to define and customize the behavior of operators (such as `+`, `-`, `*`, `/`, `==`, `<`, etc.) for user-defined objects. This allows you to use operators with custom classes in a way that makes sense for those classes, enhancing polymorphism.\n",
    "\n",
    "Operator overloading is a form of polymorphism because it enables you to define common operators for objects of different classes, allowing them to interact in a natural and consistent way. This is achieved through special methods called **magic methods** or **dunder methods**, which have double underscores (`__`) at the beginning and end of their names. For example, `__add__` is the magic method for overloading the `+` operator.\n",
    "\n",
    "Here are examples of operator overloading using the `+` and `*` operators:\n",
    "\n",
    "1. **Overloading the `+` Operator:**\n",
    "\n",
    "   You can overload the `+` operator to define addition for your custom objects. This is typically implemented using the `__add__` method.\n",
    "\n",
    "   ```python\n",
    "   class Vector:\n",
    "       def __init__(self, x, y):\n",
    "           self.x = x\n",
    "           self.y = y\n",
    "\n",
    "       def __add__(self, other):\n",
    "           if isinstance(other, Vector):\n",
    "               return Vector(self.x + other.x, self.y + other.y)\n",
    "           else:\n",
    "               raise TypeError(\"Unsupported operand type for +\")\n",
    "\n",
    "   v1 = Vector(1, 2)\n",
    "   v2 = Vector(3, 4)\n",
    "   result = v1 + v2  # Calls v1.__add__(v2)\n",
    "   print(f\"Vector addition: ({result.x}, {result.y})\")\n",
    "   ```\n",
    "\n",
    "2. **Overloading the `*` Operator:**\n",
    "\n",
    "   You can overload the `*` operator to define multiplication for your custom objects. This is typically implemented using the `__mul__` method.\n",
    "\n",
    "   ```python\n",
    "   class ComplexNumber:\n",
    "       def __init__(self, real, imag):\n",
    "           self.real = real\n",
    "           self.imag = imag\n",
    "\n",
    "       def __mul__(self, other):\n",
    "           if isinstance(other, ComplexNumber):\n",
    "               real_part = self.real * other.real - self.imag * other.imag\n",
    "               imag_part = self.real * other.imag + self.imag * other.real\n",
    "               return ComplexNumber(real_part, imag_part)\n",
    "           else:\n",
    "               raise TypeError(\"Unsupported operand type for *\")\n",
    "\n",
    "   num1 = ComplexNumber(1, 2)\n",
    "   num2 = ComplexNumber(3, 4)\n",
    "   result = num1 * num2  # Calls num1.__mul__(num2)\n",
    "   print(f\"Complex number multiplication: ({result.real}, {result.imag})\")\n",
    "   ```\n",
    "\n",
    "In both examples, we've defined custom behavior for the `+` and `*` operators by overloading the corresponding magic methods. This allows us to perform addition and multiplication for custom objects (`Vector` and `ComplexNumber`) in a way that makes sense for these classes.\n",
    "\n",
    "Operator overloading enhances polymorphism by enabling objects of different classes to participate in operations that are meaningful for those classes, making the code more expressive and consistent with how operators are used with built-in types."
   ]
  },
  {
   "cell_type": "markdown",
   "metadata": {},
   "source": [
    "16. What is dynamic polymorphism, and how is it achieved in Python?"
   ]
  },
  {
   "cell_type": "markdown",
   "metadata": {},
   "source": [
    "**Dynamic polymorphism** is a fundamental concept in object-oriented programming, and it refers to the ability of different objects to respond to the same method or function call in a way that is appropriate for their individual types. This type of polymorphism is achieved at runtime, meaning the specific method to be executed is determined based on the actual type or class of the object. In other words, the decision about which method to invoke is deferred until runtime, making the code more flexible and adaptable.\n",
    "\n",
    "In Python, dynamic polymorphism is achieved through:\n",
    "\n",
    "1. **Method Overriding:** When a subclass provides a specific implementation for a method that is already defined in its parent class, it overrides the parent class's method. At runtime, the Python interpreter selects the appropriate method based on the object's actual class.\n",
    "\n",
    "2. **Common Interface:** Objects of different classes adhere to a common interface or a shared method name. This allows the same method name to be called on different objects, and the specific implementation associated with the object's class is executed.\n",
    "\n",
    "3. **Inheritance:** Dynamic polymorphism is closely related to inheritance. Subclasses inherit methods from their parent class, and they can provide their own implementations for these methods. The overridden method in the subclass retains the same method signature (name and parameters), making it possible for the parent class's method to be dynamically replaced by the subclass's method.\n",
    "\n",
    "Here's an example that demonstrates dynamic polymorphism in Python:\n",
    "\n",
    "```python\n",
    "class Animal:\n",
    "    def speak(self):\n",
    "        pass\n",
    "\n",
    "class Dog(Animal):\n",
    "    def speak(self):\n",
    "        return \"Woof!\"\n",
    "\n",
    "class Cat(Animal):\n",
    "    def speak(self):\n",
    "        return \"Meow!\"\n",
    "\n",
    "# Create instances of different animals\n",
    "dog = Dog()\n",
    "cat = Cat()\n",
    "\n",
    "# Call the speak() method on different animal objects\n",
    "animals = [dog, cat]\n",
    "\n",
    "for animal in animals:\n",
    "    print(animal.speak())\n",
    "```\n",
    "\n",
    "In this example:\n",
    "\n",
    "- The `Animal` class defines a method called `speak()` without providing an implementation. This method serves as a common interface.\n",
    "\n",
    "- The `Dog` and `Cat` classes are derived from `Animal` and provide their own implementations of the `speak()` method. Each class has a specific way of speaking.\n",
    "\n",
    "- We create instances of `Dog` and `Cat` and call the `speak()` method on these objects. At runtime, the appropriate method is chosen based on the object's actual class, demonstrating dynamic polymorphism.\n",
    "\n",
    "Dynamic polymorphism is a powerful concept that allows you to write more flexible and maintainable code. It ensures that the behavior of an object can be customized without altering the calling code, making it a key feature of object-oriented programming."
   ]
  },
  {
   "cell_type": "markdown",
   "metadata": {},
   "source": [
    "17. Create a Python class hierarchy for employees in a company (e.g., manager, \n",
    "developer, designer) and implement polymorphism through a common \n",
    "`calculate_salary()` method."
   ]
  },
  {
   "cell_type": "code",
   "execution_count": 8,
   "metadata": {},
   "outputs": [
    {
     "name": "stdout",
     "output_type": "stream",
     "text": [
      "Alice's salary: $6000.00\n",
      "Bob's salary: $8000.00\n",
      "Carol's salary: $4500.00\n"
     ]
    }
   ],
   "source": [
    "class Employee:\n",
    "    def __init__(self, name, employee_id):\n",
    "        self.name = name\n",
    "        self.employee_id = employee_id\n",
    "\n",
    "    def calculate_salary(self):\n",
    "        pass\n",
    "\n",
    "class Manager(Employee):\n",
    "    def __init__(self, name, employee_id, base_salary, bonus):\n",
    "        super().__init__(name, employee_id)\n",
    "        self.base_salary = base_salary\n",
    "        self.bonus = bonus\n",
    "\n",
    "    def calculate_salary(self):\n",
    "        return self.base_salary + self.bonus\n",
    "\n",
    "class Developer(Employee):\n",
    "    def __init__(self, name, employee_id, hourly_rate, hours_worked):\n",
    "        super().__init__(name, employee_id)\n",
    "        self.hourly_rate = hourly_rate\n",
    "        self.hours_worked = hours_worked\n",
    "\n",
    "    def calculate_salary(self):\n",
    "        return self.hourly_rate * self.hours_worked\n",
    "\n",
    "class Designer(Employee):\n",
    "    def __init__(self, name, employee_id, monthly_salary):\n",
    "        super().__init__(name, employee_id)\n",
    "        self.monthly_salary = monthly_salary\n",
    "\n",
    "    def calculate_salary(self):\n",
    "        return self.monthly_salary\n",
    "\n",
    "# Create instances of different employee types\n",
    "manager = Manager(\"Alice\", 101, 5000, 1000)\n",
    "developer = Developer(\"Bob\", 102, 50, 160)\n",
    "designer = Designer(\"Carol\", 103, 4500)\n",
    "\n",
    "# Demonstrate polymorphism by calling the calculate_salary() method on different employees\n",
    "employees = [manager, developer, designer]\n",
    "\n",
    "for employee in employees:\n",
    "    print(f\"{employee.name}'s salary: ${employee.calculate_salary():.2f}\")"
   ]
  },
  {
   "cell_type": "markdown",
   "metadata": {},
   "source": [
    "18. Discuss the concept of function pointers and how they can be used to achieve \n",
    "polymorphism in Python."
   ]
  },
  {
   "cell_type": "markdown",
   "metadata": {},
   "source": [
    "Function pointers, also known as \"first-class functions\" or \"closures,\" are a concept that allows you to treat functions as first-class objects in a programming language. In Python, you can achieve polymorphism by using function pointers in several ways:\n",
    "\n",
    "1. **Function Pointers as Arguments:**\n",
    "   You can pass function pointers (functions or methods) as arguments to other functions. This allows you to implement polymorphism by defining a common interface for different functions that can be replaced with various implementations.\n",
    "\n",
    "   Example:\n",
    "   ```python\n",
    "   def add(x, y):\n",
    "       return x + y\n",
    "\n",
    "   def subtract(x, y):\n",
    "       return x - y\n",
    "\n",
    "   def perform_operation(operation, x, y):\n",
    "       return operation(x, y)\n",
    "\n",
    "   result = perform_operation(add, 5, 3)  # Calls the 'add' function\n",
    "   ```\n",
    "\n",
    "2. **Function Pointers in Data Structures:**\n",
    "   You can use data structures like dictionaries or lists to store function pointers, making it possible to select and call the appropriate function based on runtime conditions. This approach is commonly used in event-driven programming and implementing callback functions.\n",
    "\n",
    "   Example:\n",
    "   ```python\n",
    "   def function_a():\n",
    "       print(\"Function A\")\n",
    "\n",
    "   def function_b():\n",
    "       print(\"Function B\")\n",
    "\n",
    "   functions = {\n",
    "       'A': function_a,\n",
    "       'B': function_b,\n",
    "   }\n",
    "\n",
    "   user_choice = 'A'\n",
    "   functions[user_choice]()  # Calls 'function_a'\n",
    "   ```\n",
    "\n",
    "3. **Method Pointers with Classes:**\n",
    "   In Python, class methods are essentially function pointers bound to instances of the class. You can use method pointers to implement polymorphism by defining a common interface (method) in a base class and overriding it in derived classes.\n",
    "\n",
    "   Example:\n",
    "   ```python\n",
    "   class Animal:\n",
    "       def speak(self):\n",
    "           pass\n",
    "\n",
    "   class Dog(Animal):\n",
    "       def speak(self):\n",
    "           print(\"Woof!\")\n",
    "\n",
    "   class Cat(Animal):\n",
    "       def speak(self):\n",
    "           print(\"Meow!\")\n",
    "\n",
    "   animal = Dog()\n",
    "   animal.speak()  # Calls the 'speak' method of 'Dog'\n",
    "   ```\n",
    "\n",
    "Function pointers and method pointers enable polymorphism by allowing you to define a common interface and select the appropriate function or method to call at runtime. This makes your code more flexible and adaptable to changes, and it's a key aspect of dynamic polymorphism in Python.\n",
    "\n",
    "It's worth noting that Python's dynamic and flexible nature makes the use of function pointers less common compared to languages with more explicit support for function pointers, such as C or C++. In Python, you typically achieve polymorphism more directly through method overriding and dynamic dispatch based on object types. However, function pointers can be useful in specific situations, such as callbacks, custom dispatch mechanisms, or extensibility frameworks."
   ]
  },
  {
   "cell_type": "markdown",
   "metadata": {},
   "source": [
    "19. Explain the role of interfaces and abstract classes in polymorphism, drawing \n",
    "comparisons between them."
   ]
  },
  {
   "cell_type": "markdown",
   "metadata": {},
   "source": [
    "Interfaces and abstract classes are both important concepts in object-oriented programming that play a role in achieving polymorphism. They provide a common structure for multiple classes to adhere to, enabling you to work with objects of different types in a uniform manner. However, there are differences between the two:\n",
    "\n",
    "**Interfaces:**\n",
    "- An interface defines a contract that a class must adhere to. It specifies a set of method signatures (or function names) that must be implemented by any class that claims to implement that interface.\n",
    "- Interfaces are typically used to define a common set of behaviors that multiple classes should share, without specifying any implementation details.\n",
    "- In Python, interfaces are not defined explicitly like in languages such as Java or C#. Instead, Python uses \"duck typing,\" where the presence of methods with specific names in a class determines its compatibility with an interface.\n",
    "- Interfaces allow for multiple inheritance, meaning a single class can implement multiple interfaces.\n",
    "\n",
    "Example using \"duck typing\":\n",
    "```python\n",
    "class Speakable:\n",
    "    def speak(self):\n",
    "        pass\n",
    "\n",
    "class Dog(Speakable):\n",
    "    def speak(self):\n",
    "        print(\"Woof!\")\n",
    "\n",
    "class Cat(Speakable):\n",
    "    def speak(self):\n",
    "        print(\"Meow!\")\n",
    "\n",
    "def make_speak(animal):\n",
    "    animal.speak()\n",
    "\n",
    "dog = Dog()\n",
    "cat = Cat()\n",
    "\n",
    "make_speak(dog)  # Calls Dog's speak method\n",
    "make_speak(cat)  # Calls Cat's speak method\n",
    "```\n",
    "\n",
    "**Abstract Classes:**\n",
    "- An abstract class is a class that cannot be instantiated on its own and may contain both abstract (unimplemented) methods and concrete (implemented) methods.\n",
    "- Abstract classes provide a blueprint for other classes. They can define common behavior, while allowing concrete subclasses to provide specific implementations.\n",
    "- In Python, abstract classes are defined using the `abc` module. The `@abstractmethod` decorator is used to mark methods as abstract, and classes with abstract methods must be subclassed and implement those methods.\n",
    "- Abstract classes can have attributes, constructor methods, and concrete methods in addition to abstract methods.\n",
    "- Abstract classes can be used to provide a common interface with shared functionality for multiple classes.\n",
    "\n",
    "Example using the `abc` module:\n",
    "```python\n",
    "from abc import ABC, abstractmethod\n",
    "\n",
    "class Animal(ABC):\n",
    "    @abstractmethod\n",
    "    def speak(self):\n",
    "        pass\n",
    "\n",
    "    def eat(self):\n",
    "        print(\"Animal is eating.\")\n",
    "\n",
    "class Dog(Animal):\n",
    "    def speak(self):\n",
    "        print(\"Woof!\")\n",
    "\n",
    "class Cat(Animal):\n",
    "    def speak(self):\n",
    "        print(\"Meow!\")\n",
    "\n",
    "def make_speak(animal):\n",
    "    animal.speak()\n",
    "\n",
    "dog = Dog()\n",
    "cat = Cat()\n",
    "\n",
    "make_speak(dog)  # Calls Dog's speak method\n",
    "make_speak(cat)  # Calls Cat's speak method\n",
    "```\n",
    "\n",
    "**Comparisons:**\n",
    "- Interfaces provide a more pure form of polymorphism because they only define method signatures and cannot contain any implementation. This enforces a strict contract that implementing classes must adhere to.\n",
    "- Abstract classes can define both abstract and concrete methods, which means they can provide shared implementation details that subclasses inherit.\n",
    "- In Python, abstract classes are often preferred when you want to provide a common interface with shared functionality, while interfaces (in the form of \"duck typing\") are used when you want to focus solely on method signatures and don't require shared implementations.\n",
    "\n",
    "Both interfaces and abstract classes are valuable tools for achieving polymorphism in Python, and the choice between them depends on the specific design requirements of your project."
   ]
  },
  {
   "cell_type": "markdown",
   "metadata": {},
   "source": [
    "20. Create a Python class for a zoo simulation, demonstrating polymorphism with \n",
    "different animal types (e.g., mammals, birds, reptiles) and their behavior (e.g., eating, \n",
    "sleeping, making sounds)."
   ]
  },
  {
   "cell_type": "code",
   "execution_count": 9,
   "metadata": {},
   "outputs": [
    {
     "name": "stdout",
     "output_type": "stream",
     "text": [
      "Simba the mammal is eating.\n",
      "Simba the mammal is sleeping.\n",
      "Simba the mammal is making a sound.\n",
      "\n",
      "Polly the bird is eating.\n",
      "Polly the bird is sleeping.\n",
      "Polly the bird is chirping.\n",
      "\n",
      "Slithy the reptile is eating.\n",
      "Slithy the reptile is sleeping.\n",
      "Slithy the reptile is hissing.\n",
      "\n"
     ]
    }
   ],
   "source": [
    "class Animal:\n",
    "    def __init__(self, name):\n",
    "        self.name = name\n",
    "\n",
    "    def eat(self):\n",
    "        pass\n",
    "\n",
    "    def sleep(self):\n",
    "        pass\n",
    "\n",
    "    def make_sound(self):\n",
    "        pass\n",
    "\n",
    "class Mammal(Animal):\n",
    "    def eat(self):\n",
    "        return f\"{self.name} the mammal is eating.\"\n",
    "\n",
    "    def sleep(self):\n",
    "        return f\"{self.name} the mammal is sleeping.\"\n",
    "\n",
    "    def make_sound(self):\n",
    "        return f\"{self.name} the mammal is making a sound.\"\n",
    "\n",
    "class Bird(Animal):\n",
    "    def eat(self):\n",
    "        return f\"{self.name} the bird is eating.\"\n",
    "\n",
    "    def sleep(self):\n",
    "        return f\"{self.name} the bird is sleeping.\"\n",
    "\n",
    "    def make_sound(self):\n",
    "        return f\"{self.name} the bird is chirping.\"\n",
    "\n",
    "class Reptile(Animal):\n",
    "    def eat(self):\n",
    "        return f\"{self.name} the reptile is eating.\"\n",
    "\n",
    "    def sleep(self):\n",
    "        return f\"{self.name} the reptile is sleeping.\"\n",
    "\n",
    "    def make_sound(self):\n",
    "        return f\"{self.name} the reptile is hissing.\"\n",
    "\n",
    "# Create instances of different animal types\n",
    "lion = Mammal(\"Simba\")\n",
    "parrot = Bird(\"Polly\")\n",
    "snake = Reptile(\"Slithy\")\n",
    "\n",
    "# Demonstrate polymorphism by calling various animal behaviors\n",
    "animals = [lion, parrot, snake]\n",
    "\n",
    "for animal in animals:\n",
    "    print(animal.eat())\n",
    "    print(animal.sleep())\n",
    "    print(animal.make_sound())\n",
    "    print()"
   ]
  },
  {
   "cell_type": "markdown",
   "metadata": {},
   "source": [
    "**Abstraction:**"
   ]
  },
  {
   "cell_type": "markdown",
   "metadata": {},
   "source": [
    "1. What is abstraction in Python, and how does it relate to object-oriented \n",
    "programming?"
   ]
  },
  {
   "cell_type": "markdown",
   "metadata": {},
   "source": [
    "Abstraction is a fundamental concept in object-oriented programming (OOP) that allows you to model real-world objects and their behavior in a simplified and more manageable way. In Python and other OOP languages, abstraction involves creating abstract classes and methods that define a blueprint for objects, without specifying the exact implementation details. It's a way of hiding the complex implementation details while exposing a simplified interface for interacting with objects.\n",
    "\n",
    "Here's how abstraction relates to OOP in Python:\n",
    "\n",
    "1. **Abstract Classes**: In Python, abstraction is often achieved through abstract classes. An abstract class is a class that cannot be instantiated on its own. It serves as a blueprint for other classes, defining a set of abstract methods that must be implemented by any concrete subclass. Abstract classes are defined using the `abc` (Abstract Base Classes) module, and they allow you to ensure that specific methods are present in subclasses.\n",
    "\n",
    "   ```python\n",
    "   from abc import ABC, abstractmethod\n",
    "\n",
    "   class Shape(ABC):\n",
    "       @abstractmethod\n",
    "       def area(self):\n",
    "           pass\n",
    "\n",
    "   class Circle(Shape):\n",
    "       def __init__(self, radius):\n",
    "           self.radius = radius\n",
    "\n",
    "       def area(self):\n",
    "           return 3.14 * self.radius * self.radius\n",
    "   ```\n",
    "\n",
    "2. **Polymorphism**: Abstraction also enables polymorphism, which is the ability of different objects to respond to the same method call in a way that's appropriate for their individual types. In the example above, both the `Shape` and `Circle` classes define an `area` method, allowing you to call `area` on objects of these classes.\n",
    "\n",
    "3. **Encapsulation**: Abstraction is closely related to encapsulation, another OOP concept. Encapsulation involves bundling the data (attributes) and the methods that operate on that data into a single unit (a class). Abstraction allows you to hide the internal implementation details (encapsulation) and expose only the necessary methods and properties.\n",
    "\n",
    "4. **Modularity**: Abstraction promotes modularity, as you can create complex systems by composing objects that provide specific functionality without needing to understand their internal workings.\n",
    "\n",
    "In summary, abstraction in Python and OOP helps manage complexity by providing a high-level view of objects and their behavior, while hiding the intricacies of their implementation. It promotes code reusability, maintainability, and a clearer separation of concerns in your programs."
   ]
  },
  {
   "cell_type": "markdown",
   "metadata": {},
   "source": [
    "2. Describe the benefits of abstraction in terms of code organization and complexity \n",
    "reduction."
   ]
  },
  {
   "cell_type": "markdown",
   "metadata": {},
   "source": [
    "Abstraction offers several benefits in terms of code organization and complexity reduction in software development. Here are some of the key advantages:\n",
    "\n",
    "1. **Modularity**: Abstraction allows you to break down complex systems into smaller, more manageable modules or classes. Each module can encapsulate a specific set of functionality, which promotes modularity. This makes it easier to design, implement, and maintain different parts of your codebase independently.\n",
    "\n",
    "2. **Code Reusability**: Abstract classes and methods can be reused across different parts of your codebase. Once you define an abstract class that represents a common interface or behavior, you can create multiple concrete subclasses that implement that interface. This reuse of code reduces duplication and ensures consistency.\n",
    "\n",
    "3. **Encapsulation**: Abstraction encourages encapsulation, which means bundling data and methods that operate on that data within a class. This encapsulation hides the internal details of how a class works, exposing only the necessary methods and properties. This not only simplifies the interface but also reduces the risk of unintended interference with the internal state.\n",
    "\n",
    "4. **Simplified Understanding**: Abstraction provides a high-level view of your code, allowing developers to understand and work with complex systems without delving into the low-level details of their implementation. This clarity of design makes it easier for teams to collaborate and for newcomers to grasp the codebase.\n",
    "\n",
    "5. **Reduced Cognitive Load**: By abstracting away implementation details, developers can focus on the bigger picture. They don't need to remember every low-level detail when working with higher-level abstractions, reducing cognitive load and making the codebase more maintainable.\n",
    "\n",
    "6. **Improved Testing**: Abstraction facilitates unit testing and test-driven development (TDD) by allowing you to isolate and test specific components in isolation. Testing becomes more straightforward because you can create mock objects or test concrete subclasses without needing to deal with the complexities of the entire system.\n",
    "\n",
    "7. **Easier Maintenance**: When you need to make changes or updates to your code, abstract classes and well-defined interfaces reduce the risk of unintended side effects. You can modify or extend a specific module without affecting the rest of the codebase, making maintenance less error-prone.\n",
    "\n",
    "8. **Scalability**: Abstraction provides a foundation for scalable software. As your project grows, you can extend and add new concrete implementations of abstract classes to accommodate new features or requirements without having to rework the entire codebase.\n",
    "\n",
    "9. **Clear Separation of Concerns**: Abstraction encourages a clear separation of concerns, which is a fundamental principle in software design. Each class should have a specific responsibility, and abstraction helps enforce this separation, making your code more organized and maintainable.\n",
    "\n",
    "In summary, abstraction plays a crucial role in code organization and complexity reduction by simplifying the design, promoting modularity, and facilitating code reuse. It enhances the maintainability and scalability of software systems while making them easier to understand and test."
   ]
  },
  {
   "cell_type": "markdown",
   "metadata": {},
   "source": [
    "3. Create a Python class called `Shape` with an abstract method `calculate_area()`. \n",
    "Then, create child classes (e.g., `Circle`, `Rectangle`) that implement the \n",
    "`calculate_area()` method. Provide an example of using these classes."
   ]
  },
  {
   "cell_type": "code",
   "execution_count": 1,
   "metadata": {},
   "outputs": [
    {
     "name": "stdout",
     "output_type": "stream",
     "text": [
      "Circle Area: 78.5\n",
      "Rectangle Area: 24\n"
     ]
    }
   ],
   "source": [
    "from abc import ABC, abstractmethod\n",
    "\n",
    "class Shape(ABC):\n",
    "    @abstractmethod\n",
    "    def calculate_area(self):\n",
    "        pass\n",
    "\n",
    "class Circle(Shape):\n",
    "    def __init__(self, radius):\n",
    "        self.radius = radius\n",
    "\n",
    "    def calculate_area(self):\n",
    "        return 3.14 * self.radius * self.radius\n",
    "\n",
    "class Rectangle(Shape):\n",
    "    def __init__(self, length, width):\n",
    "        self.length = length\n",
    "        self.width = width\n",
    "\n",
    "    def calculate_area(self):\n",
    "        return self.length * self.width\n",
    "\n",
    "# Example usage\n",
    "circle = Circle(5)\n",
    "rectangle = Rectangle(4, 6)\n",
    "\n",
    "print(\"Circle Area:\", circle.calculate_area())      # Output: Circle Area: 78.5\n",
    "print(\"Rectangle Area:\", rectangle.calculate_area())  # Output: Rectangle Area: 24"
   ]
  },
  {
   "cell_type": "markdown",
   "metadata": {},
   "source": [
    "4. Explain the concept of abstract classes in Python and how they are defined using the \n",
    "`abc` module. Provide an example."
   ]
  },
  {
   "cell_type": "markdown",
   "metadata": {},
   "source": [
    "Abstract classes in Python are classes that cannot be instantiated on their own and are meant to serve as a blueprint for other classes. They often include one or more abstract methods, which are methods that are declared but have no implementation in the abstract class itself. Abstract classes are used to define a common interface or set of methods that must be implemented by concrete (non-abstract) subclasses. The `abc` module (Abstract Base Classes) is used to define and work with abstract classes in Python.\n",
    "\n",
    "Here's how you define and use abstract classes in Python using the `abc` module:\n",
    "\n",
    "1. Import the `ABC` (Abstract Base Class) class from the `abc` module.\n",
    "\n",
    "2. Use the `@abstractmethod` decorator to mark methods as abstract in the abstract class. These abstract methods have no implementation in the abstract class itself, only method signatures.\n",
    "\n",
    "3. Create concrete subclasses that inherit from the abstract class.\n",
    "\n",
    "4. Implement the abstract methods in the concrete subclasses.\n",
    "\n",
    "Here's an example:\n",
    "\n",
    "```python\n",
    "from abc import ABC, abstractmethod\n",
    "\n",
    "# Define an abstract class named \"Animal\" with an abstract method \"speak\"\n",
    "class Animal(ABC):\n",
    "    @abstractmethod\n",
    "    def speak(self):\n",
    "        pass\n",
    "\n",
    "# Create concrete subclasses and implement the \"speak\" method\n",
    "class Dog(Animal):\n",
    "    def speak(self):\n",
    "        return \"Woof!\"\n",
    "\n",
    "class Cat(Animal):\n",
    "    def speak(self):\n",
    "        return \"Meow!\"\n",
    "\n",
    "# Attempting to create an instance of the abstract class will raise an error\n",
    "# animal = Animal()  # This will raise a TypeError\n",
    "\n",
    "# Create instances of the concrete subclasses\n",
    "dog = Dog()\n",
    "cat = Cat()\n",
    "\n",
    "# Call the \"speak\" method on the concrete instances\n",
    "print(dog.speak())  # Output: Woof!\n",
    "print(cat.speak())  # Output: Meow!\n",
    "```\n",
    "\n",
    "In this example, `Animal` is an abstract class with the abstract method `speak`. The `Dog` and `Cat` classes inherit from `Animal` and provide concrete implementations of the `speak` method. You cannot create an instance of the abstract class `Animal`, but you can create instances of its concrete subclasses.\n",
    "\n",
    "The use of abstract classes ensures that any class inheriting from `Animal` must provide an implementation for the `speak` method, enforcing a common interface for all animal subclasses. This helps in maintaining consistency and making your code more predictable."
   ]
  },
  {
   "cell_type": "markdown",
   "metadata": {},
   "source": [
    "5. How do abstract classes differ from regular classes in Python? Discuss their use \n",
    "cases."
   ]
  },
  {
   "cell_type": "markdown",
   "metadata": {},
   "source": [
    "Abstract classes and regular (concrete) classes in Python differ in their purpose and usage. Here are the key distinctions and their respective use cases:\n",
    "\n",
    "1. **Instantiation**:\n",
    "   - **Abstract Classes**: Abstract classes cannot be instantiated directly. They are meant to serve as a blueprint for other classes, defining a common interface or set of methods that must be implemented by subclasses. Instances of abstract classes cannot be created.\n",
    "   - **Regular Classes**: Regular classes, also known as concrete classes, can be instantiated to create objects or instances. They provide concrete implementations for methods and can be used to create objects with specific behavior.\n",
    "\n",
    "2. **Abstract Methods**:\n",
    "   - **Abstract Classes**: Abstract classes may contain one or more abstract methods, which are methods that have no implementation in the abstract class itself. These methods are declared using the `@abstractmethod` decorator and must be implemented by concrete subclasses.\n",
    "   - **Regular Classes**: Regular classes have methods with complete implementations. They provide the actual code for the methods they define.\n",
    "\n",
    "3. **Use Cases**:\n",
    "   - **Abstract Classes**: Abstract classes are used when you want to define a common interface or a contract that must be followed by all concrete subclasses. They are helpful in cases where you have a set of classes that share a common set of methods but have different implementations. For example, in a geometric shapes hierarchy, an abstract class `Shape` might define the `area` method as an abstract method, and concrete subclasses like `Circle` and `Rectangle` would implement it with their specific logic.\n",
    "   - **Regular Classes**: Regular classes are used when you want to create objects with complete functionality. They provide actual implementations for their methods and can be instantiated directly. These classes are the building blocks of your application and represent specific objects or entities in your program.\n",
    "\n",
    "4. **Enforcement**:\n",
    "   - **Abstract Classes**: Abstract classes enforce a contract that ensures all subclasses implement the required methods. If a subclass fails to implement any abstract method, a `TypeError` is raised.\n",
    "   - **Regular Classes**: Regular classes do not impose any requirements on the methods they define. Subclasses can inherit methods without being forced to provide their own implementations.\n",
    "\n",
    "In summary, abstract classes are used to define a common interface for a group of related classes, ensuring that certain methods are implemented in subclasses. They provide a level of abstraction and help in designing class hierarchies. Regular classes, on the other hand, are used to create concrete objects with specific behaviors and implementations. Both abstract and regular classes have their unique roles in Python, and their appropriate use depends on the design and requirements of your application."
   ]
  },
  {
   "cell_type": "markdown",
   "metadata": {},
   "source": [
    "6. Create a Python class for a bank account and demonstrate abstraction by hiding the \n",
    "account balance and providing methods to deposit and withdraw funds"
   ]
  },
  {
   "cell_type": "code",
   "execution_count": 2,
   "metadata": {},
   "outputs": [
    {
     "name": "stdout",
     "output_type": "stream",
     "text": [
      "Account balance for account 12345: $1000\n",
      "Deposited $500. New balance: $1500\n",
      "Withdrew $200. New balance: $1300\n",
      "Invalid withdrawal amount or insufficient funds.\n"
     ]
    }
   ],
   "source": [
    "class BankAccount:\n",
    "    def __init__(self, account_number, initial_balance=0):\n",
    "        self._account_number = account_number  # Prefixing with underscore to indicate it's a \"protected\" attribute\n",
    "        self._balance = initial_balance\n",
    "\n",
    "    def deposit(self, amount):\n",
    "        if amount > 0:\n",
    "            self._balance += amount\n",
    "            return f\"Deposited ${amount}. New balance: ${self._balance}\"\n",
    "        else:\n",
    "            return \"Invalid deposit amount.\"\n",
    "\n",
    "    def withdraw(self, amount):\n",
    "        if 0 < amount <= self._balance:\n",
    "            self._balance -= amount\n",
    "            return f\"Withdrew ${amount}. New balance: ${self._balance}\"\n",
    "        else:\n",
    "            return \"Invalid withdrawal amount or insufficient funds.\"\n",
    "\n",
    "    def get_balance(self):\n",
    "        return f\"Account balance for account {self._account_number}: ${self._balance}\"\n",
    "\n",
    "# Example usage\n",
    "account1 = BankAccount(\"12345\", 1000)\n",
    "print(account1.get_balance())  # Output: Account balance for account 12345: $1000\n",
    "print(account1.deposit(500))   # Output: Deposited $500. New balance: $1500\n",
    "print(account1.withdraw(200))  # Output: Withdrew $200. New balance: $1300\n",
    "print(account1.withdraw(1500)) # Output: Invalid withdrawal amount or insufficient funds."
   ]
  },
  {
   "cell_type": "markdown",
   "metadata": {},
   "source": [
    "7. Discuss the concept of interface classes in Python and their role in achieving \n",
    "abstraction."
   ]
  },
  {
   "cell_type": "markdown",
   "metadata": {},
   "source": [
    "In Python, interface classes are not a built-in feature like abstract classes, but they can be implemented using abstract base classes and abstract methods from the `abc` (Abstract Base Classes) module. Interface classes define a contract specifying a set of methods that must be implemented by any class that claims to conform to that interface. Their primary role is to achieve abstraction and ensure that specific methods are available in concrete classes, even though Python does not have a formal concept of interfaces.\n",
    "\n",
    "Here's how interface classes are typically achieved in Python using the `abc` module:\n",
    "\n",
    "1. **Define an abstract base class**: Create an abstract base class using the `ABC` class from the `abc` module.\n",
    "\n",
    "2. **Declare abstract methods**: Inside the abstract base class, declare abstract methods using the `@abstractmethod` decorator. These methods define the interface that concrete classes must implement.\n",
    "\n",
    "3. **Implement concrete classes**: Create concrete classes that inherit from the abstract base class and provide implementations for the abstract methods. These concrete classes must implement all the abstract methods to be considered valid implementations of the interface.\n",
    "\n",
    "Here's a simplified example:\n",
    "\n",
    "```python\n",
    "from abc import ABC, abstractmethod\n",
    "\n",
    "# Define an interface for \"Drawable\"\n",
    "class Drawable(ABC):\n",
    "    @abstractmethod\n",
    "    def draw(self):\n",
    "        pass\n",
    "\n",
    "# Concrete classes implementing the \"Drawable\" interface\n",
    "class Circle(Drawable):\n",
    "    def draw(self):\n",
    "        print(\"Drawing a circle\")\n",
    "\n",
    "class Rectangle(Drawable):\n",
    "    def draw(self):\n",
    "        print(\"Drawing a rectangle\")\n",
    "\n",
    "# Usage\n",
    "shapes = [Circle(), Rectangle()]\n",
    "\n",
    "for shape in shapes:\n",
    "    shape.draw()\n",
    "```\n",
    "\n",
    "In this example, we define an interface `Drawable` with the abstract method `draw`. The `Circle` and `Rectangle` classes inherit from `Drawable` and provide concrete implementations for the `draw` method. This enforces that any class claiming to be a \"drawable\" object must provide a `draw` method.\n",
    "\n",
    "The concept of interface classes and abstract methods allows you to achieve abstraction and ensure that specific methods are available in classes that conform to an interface. While Python doesn't have a formal `interface` keyword like some other languages (e.g., Java or C#), the `abc` module provides a way to define and use interface-like structures to achieve abstraction and maintain consistency in your code."
   ]
  },
  {
   "cell_type": "markdown",
   "metadata": {},
   "source": [
    "8. Create a Python class hierarchy for animals and implement abstraction by defining \n",
    "common methods (e.g., `eat()`, `sleep()`) in an abstract base class."
   ]
  },
  {
   "cell_type": "code",
   "execution_count": 3,
   "metadata": {},
   "outputs": [
    {
     "name": "stdout",
     "output_type": "stream",
     "text": [
      "Buddy the Dog says Woof!\n",
      "Buddy the Dog is eating.\n",
      "Buddy the Dog is sleeping.\n",
      "\n",
      "Whiskers the Cat says Meow!\n",
      "Whiskers the Cat is eating.\n",
      "Whiskers the Cat is sleeping.\n",
      "\n",
      "Tweetie the Canary sings a song.\n",
      "Tweetie the Canary is eating.\n",
      "Tweetie the Canary is sleeping.\n",
      "\n"
     ]
    }
   ],
   "source": [
    "from abc import ABC, abstractmethod\n",
    "\n",
    "# Define an abstract base class \"Animal\"\n",
    "class Animal(ABC):\n",
    "    def __init__(self, name, species):\n",
    "        self.name = name\n",
    "        self.species = species\n",
    "\n",
    "    @abstractmethod\n",
    "    def speak(self):\n",
    "        pass\n",
    "\n",
    "    def eat(self):\n",
    "        return f\"{self.name} the {self.species} is eating.\"\n",
    "\n",
    "    def sleep(self):\n",
    "        return f\"{self.name} the {self.species} is sleeping.\"\n",
    "\n",
    "# Concrete classes\n",
    "class Dog(Animal):\n",
    "    def speak(self):\n",
    "        return f\"{self.name} the {self.species} says Woof!\"\n",
    "\n",
    "class Cat(Animal):\n",
    "    def speak(self):\n",
    "        return f\"{self.name} the {self.species} says Meow!\"\n",
    "\n",
    "class Bird(Animal):\n",
    "    def speak(self):\n",
    "        return f\"{self.name} the {self.species} sings a song.\"\n",
    "\n",
    "# Example usage\n",
    "dog = Dog(\"Buddy\", \"Dog\")\n",
    "cat = Cat(\"Whiskers\", \"Cat\")\n",
    "bird = Bird(\"Tweetie\", \"Canary\")\n",
    "\n",
    "animals = [dog, cat, bird]\n",
    "\n",
    "for animal in animals:\n",
    "    print(animal.speak())\n",
    "    print(animal.eat())\n",
    "    print(animal.sleep())\n",
    "    print()"
   ]
  },
  {
   "cell_type": "markdown",
   "metadata": {},
   "source": [
    "9. Explain the significance of encapsulation in achieving abstraction. Provide examples"
   ]
  },
  {
   "cell_type": "markdown",
   "metadata": {},
   "source": [
    "Encapsulation and abstraction are two closely related concepts in object-oriented programming (OOP), and encapsulation plays a significant role in achieving abstraction. Encapsulation is the practice of bundling the data (attributes) and the methods (functions) that operate on that data into a single unit, which is a class in OOP. This unit is sometimes referred to as an object because it combines both data and behavior. Here's the significance of encapsulation in achieving abstraction, along with examples:\n",
    "\n",
    "1. **Hiding Implementation Details**: Encapsulation allows you to hide the internal implementation details of a class from the outside world. This means that the complex inner workings of a class are not exposed to users of the class. Instead, users interact with the class through a well-defined interface, which is the set of public methods provided by the class. This hides the complexity and reduces the risk of unintended interference with the class's internal state.\n",
    "\n",
    "   Example:\n",
    "   ```python\n",
    "   class BankAccount:\n",
    "       def __init__(self, balance=0):\n",
    "           self._balance = balance  # Encapsulated attribute\n",
    "\n",
    "       def deposit(self, amount):\n",
    "           if amount > 0:\n",
    "               self._balance += amount  # Encapsulated data\n",
    "\n",
    "       def withdraw(self, amount):\n",
    "           if 0 < amount <= self._balance:\n",
    "               self._balance -= amount\n",
    "\n",
    "       def get_balance(self):\n",
    "           return self._balance  # Encapsulated data accessed through a method\n",
    "   ```\n",
    "\n",
    "2. **Abstraction of Complexity**: Encapsulation abstracts away the complexity of the class, providing a simplified and high-level view. Users of the class don't need to understand the inner workings; they only need to know how to use the public methods. This simplification helps with code organization and readability.\n",
    "\n",
    "3. **Control over Data Access**: Encapsulation allows you to control and validate data access. For example, you can enforce data validation rules or access permissions within the class's methods, ensuring that data remains consistent and secure.\n",
    "\n",
    "   Example:\n",
    "   ```python\n",
    "   class Person:\n",
    "       def __init__(self, name, age):\n",
    "           self._name = name  # Encapsulated attribute\n",
    "           self._age = age\n",
    "\n",
    "       def set_age(self, age):\n",
    "           if age >= 0:\n",
    "               self._age = age  # Encapsulated data with validation\n",
    "   ```\n",
    "\n",
    "4. **Modularity**: Encapsulation promotes modularity by creating self-contained units (classes) that can be developed, tested, and maintained independently. This modular structure makes it easier to manage and scale a codebase.\n",
    "\n",
    "   Example:\n",
    "   ```python\n",
    "   class Order:\n",
    "       def __init__(self, order_id, customer):\n",
    "           self._order_id = order_id  # Encapsulated attribute\n",
    "           self._customer = customer\n",
    "\n",
    "       def process(self):\n",
    "           # Processing logic here\n",
    "\n",
    "   class Customer:\n",
    "       def __init__(self, name, email):\n",
    "           self._name = name  # Encapsulated attribute\n",
    "           self._email = email\n",
    "\n",
    "       def place_order(self):\n",
    "           # Create and place an order\n",
    "   ```\n",
    "\n",
    "In summary, encapsulation is a fundamental concept that allows you to bundle data and behavior within a class, providing control over data access, hiding implementation details, abstracting complexity, and promoting modularity. These qualities make encapsulation essential for achieving abstraction, which simplifies the use and understanding of a class by exposing only a well-defined interface while keeping the internal complexities hidden."
   ]
  },
  {
   "cell_type": "markdown",
   "metadata": {},
   "source": [
    "10. What is the purpose of abstract methods, and how do they enforce abstraction in \n",
    "Python classes?"
   ]
  },
  {
   "cell_type": "markdown",
   "metadata": {},
   "source": [
    "Abstract methods are methods in Python that are declared in an abstract base class but have no implementation in the abstract class itself. They serve the purpose of defining a contract that concrete subclasses must adhere to. The primary purposes of abstract methods are as follows:\n",
    "\n",
    "1. **Define a Common Interface**: Abstract methods define a common set of methods that concrete subclasses must implement. This establishes a contract or agreement, ensuring that all subclasses have certain methods available for use.\n",
    "\n",
    "2. **Enforce Abstraction**: Abstract methods enforce abstraction by requiring concrete subclasses to provide their own implementations. This means that the abstract base class defines what a method should do (its name and signature), but it doesn't specify how it should be done. This separation of what needs to be done (interface) from how it is done (implementation) is a key aspect of abstraction.\n",
    "\n",
    "3. **Promote Consistency**: Abstract methods promote consistency among related classes. When multiple classes conform to the same interface by implementing abstract methods, it ensures that they all have the same set of behaviors, making the code more predictable and maintainable.\n",
    "\n",
    "4. **Enable Polymorphism**: Abstract methods are an essential part of polymorphism, where objects of different classes can be treated as objects of a common base class. Because concrete subclasses implement the same abstract methods, you can use polymorphism to call those methods on different objects without needing to know their specific types.\n",
    "\n",
    "To define abstract methods in Python, you need to follow these steps:\n",
    "\n",
    "1. Import the `ABC` (Abstract Base Class) class from the `abc` module.\n",
    "2. Use the `@abstractmethod` decorator to mark a method as abstract in the abstract base class.\n",
    "\n",
    "Here's a simple example:\n",
    "\n",
    "```python\n",
    "from abc import ABC, abstractmethod\n",
    "\n",
    "class Shape(ABC):\n",
    "    @abstractmethod\n",
    "    def calculate_area(self):\n",
    "        pass\n",
    "\n",
    "class Circle(Shape):\n",
    "    def __init__(self, radius):\n",
    "        self.radius = radius\n",
    "\n",
    "    def calculate_area(self):\n",
    "        return 3.14 * self.radius * self.radius\n",
    "\n",
    "class Rectangle(Shape):\n",
    "    def __init__(self, length, width):\n",
    "        self.length = length\n",
    "        self.width = width\n",
    "\n",
    "    def calculate_area(self):\n",
    "        return self.length * self.width\n",
    "```\n",
    "\n",
    "In this example, the `Shape` class defines an abstract method `calculate_area()`. The concrete subclasses `Circle` and `Rectangle` inherit from `Shape` and provide their own implementations for `calculate_area()`. This enforces abstraction, ensuring that all shapes that inherit from `Shape` must implement the `calculate_area()` method while allowing polymorphic usage of these shapes."
   ]
  },
  {
   "cell_type": "markdown",
   "metadata": {},
   "source": [
    "11. Create a Python class for a vehicle system and demonstrate abstraction by defining \n",
    "common methods (e.g., `start()`, `stop()`) in an abstract base class."
   ]
  },
  {
   "cell_type": "code",
   "execution_count": 5,
   "metadata": {},
   "outputs": [
    {
     "name": "stdout",
     "output_type": "stream",
     "text": [
      "The Toyota Camry is stopped.\n",
      "The Toyota Camry is running.\n",
      "The Toyota Camry is stopped.\n",
      "The Honda CBR is stopped.\n",
      "The Honda CBR is running.\n",
      "The Honda CBR is stopped.\n"
     ]
    }
   ],
   "source": [
    "from abc import ABC, abstractmethod\n",
    "\n",
    "# Define an abstract base class \"Vehicle\"\n",
    "class Vehicle(ABC):\n",
    "    def __init__(self, make, model):\n",
    "        self.make = make\n",
    "        self.model = model\n",
    "        self.is_running = False\n",
    "\n",
    "    @abstractmethod\n",
    "    def start(self):\n",
    "        pass\n",
    "\n",
    "    @abstractmethod\n",
    "    def stop(self):\n",
    "        pass\n",
    "\n",
    "    def get_status(self):\n",
    "        if self.is_running:\n",
    "            return f\"The {self.make} {self.model} is running.\"\n",
    "        else:\n",
    "            return f\"The {self.make} {self.model} is stopped.\"\n",
    "\n",
    "# Concrete classes\n",
    "class Car(Vehicle):\n",
    "    def start(self):\n",
    "        self.is_running = True\n",
    "\n",
    "    def stop(self):\n",
    "        self.is_running = False\n",
    "\n",
    "class Motorcycle(Vehicle):\n",
    "    def start(self):\n",
    "        self.is_running = True\n",
    "\n",
    "    def stop(self):\n",
    "        self.is_running = False\n",
    "\n",
    "# Example usage\n",
    "car = Car(\"Toyota\", \"Camry\")\n",
    "motorcycle = Motorcycle(\"Honda\", \"CBR\")\n",
    "\n",
    "print(car.get_status())           # Output: The Toyota Camry is stopped.\n",
    "car.start()\n",
    "print(car.get_status())           # Output: The Toyota Camry is running.\n",
    "car.stop()\n",
    "print(car.get_status())           # Output: The Toyota Camry is stopped.\n",
    "\n",
    "print(motorcycle.get_status())    # Output: The Honda CBR is stopped.\n",
    "motorcycle.start()\n",
    "print(motorcycle.get_status())    # Output: The Honda CBR is running.\n",
    "motorcycle.stop()\n",
    "print(motorcycle.get_status())"
   ]
  },
  {
   "cell_type": "markdown",
   "metadata": {},
   "source": [
    "12. Describe the use of abstract properties in Python and how they can be employed in \n",
    "abstract classes."
   ]
  },
  {
   "cell_type": "markdown",
   "metadata": {},
   "source": [
    "In Python, abstract properties are properties defined in abstract classes that require concrete subclasses to provide their own implementations. Abstract properties allow you to enforce that certain attributes must exist in subclasses and provide a consistent way to access or manipulate those attributes. They are a key element of abstraction, as they help define a common interface for classes that inherit from an abstract base class. Here's how abstract properties can be employed in abstract classes:\n",
    "\n",
    "1. **Define an Abstract Property**: To define an abstract property, you use the `@property` decorator and the `@<property>.setter` decorator to declare a method that will be used to access and set the property. The property method is marked as an abstract method using the `@abstractmethod` decorator.\n",
    "\n",
    "2. **Concrete Subclasses Provide Implementations**: Any concrete subclass that inherits from the abstract class must provide concrete implementations for the abstract property methods. This ensures that the property is defined in all subclasses.\n",
    "\n",
    "Here's an example:\n",
    "\n",
    "```python\n",
    "from abc import ABC, abstractmethod, abstractproperty\n",
    "\n",
    "# Define an abstract base class \"Shape\"\n",
    "class Shape(ABC):\n",
    "    @abstractproperty\n",
    "    def area(self):\n",
    "        pass\n",
    "\n",
    "# Concrete classes implementing the \"Shape\" interface\n",
    "class Circle(Shape):\n",
    "    def __init__(self, radius):\n",
    "        self.radius = radius\n",
    "\n",
    "    @property\n",
    "    def area(self):\n",
    "        return 3.14 * self.radius * self.radius\n",
    "\n",
    "class Rectangle(Shape):\n",
    "    def __init__(self, length, width):\n",
    "        self.length = length\n",
    "        self.width = width\n",
    "\n",
    "    @property\n",
    "    def area(self):\n",
    "        return self.length * self.width\n",
    "\n",
    "# Example usage\n",
    "circle = Circle(5)\n",
    "rectangle = Rectangle(4, 6)\n",
    "\n",
    "print(\"Circle Area:\", circle.area)      # Output: Circle Area: 78.5\n",
    "print(\"Rectangle Area:\", rectangle.area)  # Output: Rectangle Area: 24\n",
    "```\n",
    "\n",
    "In this example:\n",
    "\n",
    "- The `Shape` abstract base class defines an abstract property `area`. The concrete subclasses `Circle` and `Rectangle` provide their own implementations for the `area` property.\n",
    "\n",
    "- The `@property` decorator is used to define a property getter method, and the `@<property>.setter` decorator can be used to define a setter method if needed.\n",
    "\n",
    "- When you create instances of `Circle` and `Rectangle`, you can access their `area` properties like attributes. The abstract property in the base class ensures that all subclasses have an `area` property, providing a common interface for working with different shapes.\n",
    "\n",
    "Abstract properties are especially useful when you want to ensure that specific attributes are present in subclasses while allowing subclasses to define their own logic for accessing or modifying those attributes. This helps maintain consistency and abstraction in class hierarchies."
   ]
  },
  {
   "cell_type": "markdown",
   "metadata": {},
   "source": [
    "13. Create a Python class hierarchy for employees in a company (e.g., manager, \n",
    "developer, designer) and implement abstraction by defining a common `get_salary()` \n",
    "method."
   ]
  },
  {
   "cell_type": "code",
   "execution_count": 7,
   "metadata": {},
   "outputs": [
    {
     "name": "stdout",
     "output_type": "stream",
     "text": [
      "Alice's salary is $80000 per year.\n",
      "Bob's salary is $4800 per month.\n",
      "Carol's salary is $4500 per month.\n"
     ]
    }
   ],
   "source": [
    "from abc import ABC, abstractmethod\n",
    "\n",
    "# Define an abstract base class \"Employee\"\n",
    "class Employee(ABC):\n",
    "    def __init__(self, name, employee_id):\n",
    "        self.name = name\n",
    "        self.employee_id = employee_id\n",
    "\n",
    "    @abstractmethod\n",
    "    def get_salary(self):\n",
    "        pass\n",
    "\n",
    "# Concrete classes\n",
    "class Manager(Employee):\n",
    "    def __init__(self, name, employee_id, salary):\n",
    "        super().__init__(name, employee_id)\n",
    "        self.salary = salary\n",
    "\n",
    "    def get_salary(self):\n",
    "        return f\"{self.name}'s salary is ${self.salary} per year.\"\n",
    "\n",
    "class Developer(Employee):\n",
    "    def __init__(self, name, employee_id, hourly_rate, hours_worked):\n",
    "        super().__init__(name, employee_id)\n",
    "        self.hourly_rate = hourly_rate\n",
    "        self.hours_worked = hours_worked\n",
    "\n",
    "    def get_salary(self):\n",
    "        return f\"{self.name}'s salary is ${self.hourly_rate * self.hours_worked} per month.\"\n",
    "\n",
    "class Designer(Employee):\n",
    "    def __init__(self, name, employee_id, monthly_salary):\n",
    "        super().__init__(name, employee_id)\n",
    "        self.monthly_salary = monthly_salary\n",
    "\n",
    "    def get_salary(self):\n",
    "        return f\"{self.name}'s salary is ${self.monthly_salary} per month.\"\n",
    "\n",
    "# Example usage\n",
    "manager = Manager(\"Alice\", 101, 80000)\n",
    "developer = Developer(\"Bob\", 102, 30, 160)\n",
    "designer = Designer(\"Carol\", 103, 4500)\n",
    "\n",
    "employees = [manager, developer, designer]\n",
    "\n",
    "for employee in employees:\n",
    "    print(employee.get_salary())"
   ]
  },
  {
   "cell_type": "markdown",
   "metadata": {},
   "source": [
    "14. Discuss the differences between abstract classes and concrete classes in Python, \n",
    "including their instantiation."
   ]
  },
  {
   "cell_type": "markdown",
   "metadata": {},
   "source": [
    "Abstract classes and concrete classes in Python serve different purposes and have distinct characteristics, especially when it comes to instantiation. Here are the key differences between the two:\n",
    "\n",
    "1. **Instantiation**:\n",
    "\n",
    "   - **Abstract Classes**:\n",
    "     - Abstract classes cannot be instantiated directly. Attempting to create an instance of an abstract class will result in a `TypeError`. For example, if you have an abstract class named `Shape`, you cannot create a `Shape` object.\n",
    "     - Abstract classes are meant to be subclassed, and their primary purpose is to define a common interface and behavior for the subclasses.\n",
    "\n",
    "   - **Concrete Classes**:\n",
    "     - Concrete classes are designed to be instantiated. They provide complete implementations for their methods and can be used to create objects or instances.\n",
    "     - When you have a concrete class like `Car`, you can create a `Car` object by calling the class constructor.\n",
    "\n",
    "2. **Abstract Methods**:\n",
    "\n",
    "   - **Abstract Classes**:\n",
    "     - Abstract classes often include one or more abstract methods, which are methods declared without implementation. These methods must be implemented in concrete subclasses.\n",
    "     - Abstract methods are defined using the `@abstractmethod` decorator and are used to establish a contract that all subclasses must follow.\n",
    "\n",
    "   - **Concrete Classes**:\n",
    "     - Concrete classes do not contain abstract methods. They provide full implementations for all their methods.\n",
    "     - The methods in concrete classes have complete code that defines their behavior.\n",
    "\n",
    "3. **Use Cases**:\n",
    "\n",
    "   - **Abstract Classes**:\n",
    "     - Abstract classes are used to define a common interface and behavior that should be shared by multiple subclasses.\n",
    "     - They promote code reusability and enforce consistency among related classes. Abstract classes are especially useful in class hierarchies where subclasses need to adhere to a specific contract.\n",
    "\n",
    "   - **Concrete Classes**:\n",
    "     - Concrete classes are used to create objects with specific behavior. They represent real entities or instances with complete functionality.\n",
    "     - These classes provide the actual code for their methods, making them suitable for instantiating objects.\n",
    "\n",
    "4. **Inheritance**:\n",
    "\n",
    "   - **Abstract Classes**:\n",
    "     - Abstract classes are meant to be inherited by concrete subclasses. Subclasses must provide implementations for all abstract methods in the abstract base class.\n",
    "     - Inheritance is the primary way to extend the functionality defined by an abstract class.\n",
    "\n",
    "   - **Concrete Classes**:\n",
    "     - While concrete classes can be inherited, they can also be instantiated independently without the need for further subclassing.\n",
    "\n",
    "In summary, abstract classes serve as blueprints or templates for concrete subclasses, providing a common interface and enforcing the implementation of specific methods. Concrete classes, on the other hand, represent fully functional objects that can be instantiated directly. The key distinction is in their instantiation and the presence of abstract methods in abstract classes."
   ]
  },
  {
   "cell_type": "markdown",
   "metadata": {},
   "source": [
    "15. Explain the concept of abstract data types (ADTs) and their role in achieving \n",
    "abstraction in Python."
   ]
  },
  {
   "cell_type": "markdown",
   "metadata": {},
   "source": [
    "Abstract Data Types (ADTs) are a concept in computer science and software engineering that define a high-level, abstract view of a data structure and its associated operations. ADTs encapsulate data and the functions or operations that can be performed on that data while hiding the internal implementation details. They play a significant role in achieving abstraction and separation of concerns in Python and other programming languages.\n",
    "\n",
    "Here's how ADTs contribute to achieving abstraction in Python:\n",
    "\n",
    "1. **Data Abstraction**: ADTs provide a way to abstract the internal representation of data. They define the data structure and the operations that can be performed on it while hiding the underlying details of how the data is stored and manipulated. This abstraction allows programmers to work with data at a higher level, without worrying about the low-level implementation.\n",
    "\n",
    "2. **Modularity**: ADTs promote modularity by separating the interface (the operations or methods) from the implementation (how those operations are carried out). This separation allows different parts of a program to interact with the data structure through a well-defined interface, without needing to understand how the data is managed internally.\n",
    "\n",
    "3. **Encapsulation**: ADTs encapsulate data and behavior within a single unit. This encapsulation provides a clear boundary around the data and its operations, preventing unintended manipulation or access from external code. In Python, classes are often used to implement ADTs, and you can control access to data members using private or protected attributes.\n",
    "\n",
    "4. **Reusability**: ADTs are reusable because they provide a consistent interface for data manipulation. Once an ADT is defined, it can be used in various parts of an application or even in different projects. This reusability simplifies code development and maintenance.\n",
    "\n",
    "5. **Polymorphism**: ADTs facilitate polymorphism, allowing different implementations of the same abstract data type to be used interchangeably. For example, you can have multiple implementations of a stack (e.g., using lists or linked lists) that conform to the same stack ADT. This polymorphism allows you to switch between implementations without changing the code that uses the stack.\n",
    "\n",
    "6. **Abstraction of Complexity**: ADTs abstract the complexity of data structures and operations, making code more readable and maintainable. Users of an ADT don't need to know the intricate details of how the data is stored or processed. They only need to understand the ADT's interface and the behavior it provides.\n",
    "\n",
    "In Python, classes and object-oriented programming are commonly used to create ADTs. For example, you can define an abstract data type for a stack, a queue, a linked list, a binary tree, or any other data structure, and provide methods to manipulate that data structure. Users of the ADT can work with it at a higher level of abstraction, relying on the provided interface, without needing to understand the underlying data structure's implementation.\n",
    "\n",
    "By encapsulating data and its associated operations, ADTs help manage complexity, promote code reusability, and facilitate the development of clean and maintainable code in Python."
   ]
  },
  {
   "cell_type": "markdown",
   "metadata": {},
   "source": [
    "16. Create a Python class for a computer system, demonstrating abstraction by defining \n",
    "common methods (e.g., `power_on()`, `shutdown()`) in an abstract base class"
   ]
  },
  {
   "cell_type": "code",
   "execution_count": 9,
   "metadata": {},
   "outputs": [
    {
     "name": "stdout",
     "output_type": "stream",
     "text": [
      "Dell OptiPlex is powered off.\n",
      "Dell OptiPlex is powered on.\n",
      "Dell OptiPlex is powered off.\n",
      "HP Envy is powered off.\n",
      "HP Envy is powered on.\n",
      "HP Envy is powered off.\n"
     ]
    }
   ],
   "source": [
    "from abc import ABC, abstractmethod\n",
    "\n",
    "# Define an abstract base class \"Computer\"\n",
    "class Computer(ABC):\n",
    "    def __init__(self, brand, model):\n",
    "        self.brand = brand\n",
    "        self.model = model\n",
    "        self.powered_on = False\n",
    "\n",
    "    @abstractmethod\n",
    "    def power_on(self):\n",
    "        pass\n",
    "\n",
    "    @abstractmethod\n",
    "    def shutdown(self):\n",
    "        pass\n",
    "\n",
    "    def get_status(self):\n",
    "        if self.powered_on:\n",
    "            return f\"{self.brand} {self.model} is powered on.\"\n",
    "        else:\n",
    "            return f\"{self.brand} {self.model} is powered off.\"\n",
    "\n",
    "# Concrete classes\n",
    "class DesktopComputer(Computer):\n",
    "    def power_on(self):\n",
    "        self.powered_on = True\n",
    "\n",
    "    def shutdown(self):\n",
    "        self.powered_on = False\n",
    "\n",
    "class LaptopComputer(Computer):\n",
    "    def power_on(self):\n",
    "        self.powered_on = True\n",
    "\n",
    "    def shutdown(self):\n",
    "        self.powered_on = False\n",
    "\n",
    "# Example usage\n",
    "desktop = DesktopComputer(\"Dell\", \"OptiPlex\")\n",
    "laptop = LaptopComputer(\"HP\", \"Envy\")\n",
    "\n",
    "computers = [desktop, laptop]\n",
    "\n",
    "for computer in computers:\n",
    "    print(computer.get_status())\n",
    "    computer.power_on()\n",
    "    print(computer.get_status())\n",
    "    computer.shutdown()\n",
    "    print(computer.get_status())"
   ]
  },
  {
   "cell_type": "markdown",
   "metadata": {},
   "source": [
    "17. Discuss the benefits of using abstraction in large-scale software development \n",
    "projects"
   ]
  },
  {
   "cell_type": "markdown",
   "metadata": {},
   "source": [
    "Abstraction plays a crucial role in large-scale software development projects and offers several significant benefits:\n",
    "\n",
    "1. **Complexity Management**: Large-scale software projects are inherently complex, involving numerous components, modules, and interactions. Abstraction allows developers to manage this complexity by breaking down the system into smaller, more manageable pieces. Abstracting away low-level details simplifies the codebase, making it more comprehensible and maintainable.\n",
    "\n",
    "2. **Isolation of Concerns**: Abstraction facilitates the separation of concerns in software development. By defining clear interfaces and abstract classes, developers can focus on specific parts of the system without needing to understand every detail of how other components work. This isolation enhances code modularity and helps teams work on different parts of the project independently.\n",
    "\n",
    "3. **Reusability**: Abstraction encourages the creation of reusable components. Abstract classes and interfaces provide a standardized way to interact with various parts of the system. This promotes code reuse, reducing redundancy and development time. Reusable components can be shared across different projects or teams, enhancing overall productivity.\n",
    "\n",
    "4. **Maintainability**: Large-scale software projects evolve over time, requiring updates and maintenance. Abstraction makes it easier to modify and extend the system without affecting other parts of the code. Changes can be isolated to specific components, reducing the risk of unintended side effects.\n",
    "\n",
    "5. **Parallel Development**: Abstraction allows teams to work in parallel on different components of a project. With well-defined interfaces and abstract classes, teams can develop independently, reducing bottlenecks and speeding up the development process. This is particularly valuable in agile and collaborative development environments.\n",
    "\n",
    "6. **Testing and Debugging**: Abstraction simplifies testing and debugging. Abstract classes and interfaces provide clear boundaries for testing individual components. Test cases can be created and executed in isolation, improving test coverage and reducing the likelihood of issues spreading to other parts of the system.\n",
    "\n",
    "7. **Scalability**: Abstraction supports system scalability. When a system needs to accommodate new features or adapt to changes in the environment, abstract components make it easier to integrate new functionality. The structured, abstracted codebase is more adaptable to future requirements.\n",
    "\n",
    "8. **Documentation**: Abstraction enhances documentation. Well-defined abstract classes, interfaces, and methods provide clear specifications for how different parts of the system should interact. This documentation serves as a valuable resource for developers and maintainers, making it easier to understand and extend the code.\n",
    "\n",
    "9. **Team Collaboration**: Abstraction fosters collaboration among team members. It establishes a shared language and clear communication channels, making it easier for developers, designers, and other stakeholders to work together. Team members can focus on their specific areas of expertise and rely on abstract interfaces for collaboration.\n",
    "\n",
    "10. **Reduced Cognitive Load**: Abstraction reduces the cognitive load on developers. By hiding low-level implementation details, it allows developers to work at a higher level of abstraction, focusing on the problem-solving aspect of software development rather than getting bogged down in low-level intricacies.\n",
    "\n",
    "In summary, abstraction is a fundamental concept in large-scale software development that simplifies complex systems, promotes maintainability, scalability, and reusability, and supports effective collaboration among development teams. It helps manage the inherent complexity of large projects, making them more manageable and adaptable to evolving requirements."
   ]
  },
  {
   "cell_type": "markdown",
   "metadata": {},
   "source": [
    "18. Explain how abstraction enhances code reusability and modularity in Python \n",
    "programs."
   ]
  },
  {
   "cell_type": "markdown",
   "metadata": {},
   "source": [
    "Abstraction enhances code reusability and modularity in Python programs by promoting separation of concerns, simplifying code, and providing well-defined interfaces. Here's how abstraction achieves these benefits:\n",
    "\n",
    "1. **Separation of Concerns**: Abstraction encourages the separation of different concerns or functional aspects of a program. By defining abstract classes, interfaces, and well-structured functions or methods, you can isolate various parts of your codebase. Each part can focus on a specific task or functionality, making the code easier to understand and maintain.\n",
    "\n",
    "2. **Reduced Code Complexity**: Abstraction hides low-level implementation details, allowing you to work at a higher level of abstraction. This simplification reduces the cognitive load on developers, making the code more readable and manageable. Developers can interact with abstracted components without needing to understand their internal complexities.\n",
    "\n",
    "3. **Modularity**: Abstraction promotes modularity, which is the practice of breaking down a program into smaller, self-contained modules or components. These modules can be designed to be independent, reusable, and interchangeable. When you need to modify or extend a program, you can focus on specific modules without affecting the entire codebase.\n",
    "\n",
    "4. **Code Reusability**: Abstract classes and interfaces define a common interface for interacting with different components. This standardization encourages code reusability. Once you create an abstract class or interface, you can implement multiple concrete classes that conform to that interface. These classes can be used interchangeably in different parts of your program or even in other projects.\n",
    "\n",
    "5. **Flexibility and Extensibility**: Abstraction provides flexibility and extensibility. You can add new functionality by creating new classes that adhere to existing abstract interfaces. This allows you to extend your program without modifying existing code, minimizing the risk of introducing bugs.\n",
    "\n",
    "6. **Isolation of Dependencies**: Abstraction helps isolate dependencies. By using abstract interfaces, you can define the expected behavior of external components or services. When working with external dependencies, you interact with their abstract interfaces, making it easier to switch to alternative implementations or mock dependencies for testing.\n",
    "\n",
    "7. **Parallel Development**: Abstraction supports parallel development efforts. Multiple team members or teams can work on different components of a program, focusing on their specific modules. As long as they adhere to the abstract interfaces, the components can be integrated seamlessly, reducing development bottlenecks.\n",
    "\n",
    "8. **Enhanced Testing**: Abstraction simplifies testing. With well-defined interfaces and abstract classes, you can create test cases that verify the behavior of individual components in isolation. This makes it easier to identify and address issues without affecting other parts of the program.\n",
    "\n",
    "9. **Documentation and Communication**: Abstraction enhances documentation and communication. Well-defined abstract classes and interfaces serve as clear specifications for how different parts of the program should interact. They provide a shared language that improves communication among developers and stakeholders.\n",
    "\n",
    "In Python, abstraction is commonly implemented using abstract base classes and interfaces, but it can also be achieved through well-structured, object-oriented programming and module organization. By leveraging abstraction, you can create more maintainable, flexible, and reusable code in your Python programs."
   ]
  },
  {
   "cell_type": "markdown",
   "metadata": {},
   "source": [
    "19. Create a Python class for a library system, implementing abstraction by defining \n",
    "common methods (e.g., `add_book()`, `borrow_book()`) in an abstract base class"
   ]
  },
  {
   "cell_type": "code",
   "execution_count": 10,
   "metadata": {},
   "outputs": [
    {
     "name": "stdout",
     "output_type": "stream",
     "text": [
      "Added 'Harry Potter' by J.K. Rowling to Public Library's collection.\n",
      "Added 'Introduction to Physics' by John Smith to School Library's collection.\n",
      "Borrowed 'Harry Potter' from Public Library.\n",
      "Borrowed 'Introduction to Physics' from School Library.\n",
      "Returned 'Harry Potter' to Public Library.\n",
      "'Introduction to Chemistry' is not part of School Library's collection.\n"
     ]
    }
   ],
   "source": [
    "from abc import ABC, abstractmethod\n",
    "\n",
    "# Define an abstract base class \"Library\"\n",
    "class Library(ABC):\n",
    "    def __init__(self, name):\n",
    "        self.name = name\n",
    "        self.catalog = {}\n",
    "\n",
    "    @abstractmethod\n",
    "    def add_book(self, title, author):\n",
    "        pass\n",
    "\n",
    "    @abstractmethod\n",
    "    def borrow_book(self, title):\n",
    "        pass\n",
    "\n",
    "    def return_book(self, title):\n",
    "        if title in self.catalog:\n",
    "            self.catalog[title] += 1\n",
    "            return f\"Returned '{title}' to {self.name}.\"\n",
    "        else:\n",
    "            return f\"'{title}' is not part of {self.name}'s collection.\"\n",
    "\n",
    "# Concrete classes\n",
    "class PublicLibrary(Library):\n",
    "    def add_book(self, title, author):\n",
    "        if title in self.catalog:\n",
    "            self.catalog[title] += 1\n",
    "        else:\n",
    "            self.catalog[title] = 1\n",
    "        return f\"Added '{title}' by {author} to {self.name}'s collection.\"\n",
    "\n",
    "    def borrow_book(self, title):\n",
    "        if title in self.catalog and self.catalog[title] > 0:\n",
    "            self.catalog[title] -= 1\n",
    "            return f\"Borrowed '{title}' from {self.name}.\"\n",
    "        else:\n",
    "            return f\"'{title}' is currently unavailable at {self.name}.\"\n",
    "\n",
    "class SchoolLibrary(Library):\n",
    "    def add_book(self, title, author):\n",
    "        if title in self.catalog:\n",
    "            self.catalog[title] += 1\n",
    "        else:\n",
    "            self.catalog[title] = 1\n",
    "        return f\"Added '{title}' by {author} to {self.name}'s collection.\"\n",
    "\n",
    "    def borrow_book(self, title):\n",
    "        if title in self.catalog and self.catalog[title] > 0:\n",
    "            self.catalog[title] -= 1\n",
    "            return f\"Borrowed '{title}' from {self.name}.\"\n",
    "        else:\n",
    "            return f\"'{title}' is currently unavailable at {self.name}.\"\n",
    "\n",
    "# Example usage\n",
    "public_library = PublicLibrary(\"Public Library\")\n",
    "school_library = SchoolLibrary(\"School Library\")\n",
    "\n",
    "print(public_library.add_book(\"Harry Potter\", \"J.K. Rowling\"))\n",
    "print(school_library.add_book(\"Introduction to Physics\", \"John Smith\"))\n",
    "\n",
    "print(public_library.borrow_book(\"Harry Potter\"))\n",
    "print(school_library.borrow_book(\"Introduction to Physics\"))\n",
    "print(public_library.return_book(\"Harry Potter\"))\n",
    "print(school_library.return_book(\"Introduction to Chemistry\"))"
   ]
  },
  {
   "cell_type": "markdown",
   "metadata": {},
   "source": [
    "20. Describe the concept of method abstraction in Python and how it relates to \n",
    "polymorphism"
   ]
  },
  {
   "cell_type": "markdown",
   "metadata": {},
   "source": [
    "Method abstraction in Python is a fundamental concept in object-oriented programming that involves defining methods in an abstract way, typically in abstract base classes or interfaces, without providing concrete implementations. These abstract methods serve as a contract, specifying what methods must be implemented in concrete subclasses, but not dictating how those methods should work internally. Method abstraction is closely related to polymorphism, which is one of the key principles of object-oriented programming. Here's how they are connected:\n",
    "\n",
    "1. **Method Abstraction**:\n",
    "\n",
    "   - **Definition of Abstract Methods**: Method abstraction is achieved by defining abstract methods in an abstract base class or interface. An abstract method is declared without providing any implementation in the abstract class. It is marked as abstract using the `@abstractmethod` decorator from the `abc` module.\n",
    "\n",
    "   - **Interface Specification**: Abstract methods define a common interface that concrete subclasses must adhere to. They specify the method's name, arguments, and return type, but they don't detail how the method should work internally. This abstract specification sets the contract for the method's behavior.\n",
    "\n",
    "   - **No Direct Instantiation**: Abstract classes cannot be instantiated directly, and calling an abstract method on an abstract class results in a `TypeError`. The primary purpose of an abstract class is to be inherited by concrete subclasses, which are responsible for providing implementations for the abstract methods.\n",
    "\n",
    "2. **Polymorphism**:\n",
    "\n",
    "   - **Polymorphism Definition**: Polymorphism is the ability of different classes or objects to respond to the same method call in a way that is appropriate for their specific types. In Python, this is achieved through method overriding, where concrete subclasses implement abstract methods.\n",
    "\n",
    "   - **Use of Abstract Methods**: Abstract methods play a pivotal role in achieving polymorphism. Because multiple subclasses inherit from the same abstract class and implement the same abstract methods, you can treat objects of different classes in a uniform way. This enables you to call the same method on objects of different types without needing to know their specific types.\n",
    "\n",
    "   - **Dynamic Binding**: Python's dynamic binding mechanism ensures that the appropriate method implementation is called at runtime based on the actual type of the object. This dynamic method dispatch is central to achieving polymorphism. It allows for method calls to be resolved at runtime, not at compile time, making it possible to use objects interchangeably.\n",
    "\n",
    "Here's a simple example demonstrating method abstraction and polymorphism:\n",
    "\n",
    "```python\n",
    "from abc import ABC, abstractmethod\n",
    "\n",
    "# Abstract base class\n",
    "class Animal(ABC):\n",
    "    @abstractmethod\n",
    "    def speak(self):\n",
    "        pass\n",
    "\n",
    "# Concrete subclasses\n",
    "class Dog(Animal):\n",
    "    def speak(self):\n",
    "        return \"Woof!\"\n",
    "\n",
    "class Cat(Animal):\n",
    "    def speak(self):\n",
    "        return \"Meow!\"\n",
    "\n",
    "# Polymorphic usage\n",
    "animals = [Dog(), Cat()]\n",
    "\n",
    "for animal in animals:\n",
    "    print(animal.speak())\n",
    "```\n",
    "\n",
    "In this example:\n",
    "\n",
    "- The `Animal` abstract base class defines an abstract method `speak()`, specifying that all concrete subclasses must implement this method.\n",
    "\n",
    "- The `Dog` and `Cat` classes inherit from `Animal` and provide their own implementations for the `speak()` method.\n",
    "\n",
    "- By treating objects of different types (i.e., `Dog` and `Cat`) as instances of the abstract base class `Animal`, you can call the `speak()` method in a polymorphic way, and Python dynamically dispatches the correct method based on the actual type of the object.\n",
    "\n",
    "Method abstraction and polymorphism together support code reusability, extensibility, and the ability to work with diverse objects in a unified manner, enhancing the flexibility and maintainability of object-oriented Python programs."
   ]
  },
  {
   "cell_type": "markdown",
   "metadata": {},
   "source": [
    "**Composition**"
   ]
  },
  {
   "cell_type": "markdown",
   "metadata": {},
   "source": [
    "1. Explain the concept of composition in Python and how it is used to build complex \n",
    "objects from simpler ones"
   ]
  },
  {
   "cell_type": "markdown",
   "metadata": {},
   "source": [
    "In Python, composition is a design principle in object-oriented programming that allows you to build complex objects by combining simpler objects. It is a way of creating relationships between classes where one class contains an instance of another class as a part of its own structure. Composition is an alternative to inheritance and is used to achieve code reuse and create more modular and flexible designs. \n",
    "\n",
    "Key points to understand about composition in Python:\n",
    "\n",
    "1. **Composition over Inheritance**: Composition is often favored over inheritance to create more flexible and maintainable code. Inheritance involves creating new classes by inheriting attributes and behaviors from existing classes, which can lead to a rigid class hierarchy. Composition, on the other hand, allows for a more modular and loosely coupled design.\n",
    "\n",
    "2. **Has-a Relationship**: Composition models the \"has-a\" relationship. When one class is composed of another, it means that the containing class has an instance of the contained class as one of its attributes. For example, a `Car` has an `Engine`, or a `Library` has a `Book`.\n",
    "\n",
    "3. **Flexibility**: Composition provides greater flexibility in combining and reusing classes. You can change the components (contained objects) of a class without altering the behavior of the containing class. This makes it easier to adapt to changing requirements.\n",
    "\n",
    "4. **Code Reuse**: Composition promotes code reuse by allowing you to reuse and combine smaller, well-defined classes to create more complex objects. This is especially useful when dealing with different modules or libraries.\n",
    "\n",
    "5. **Encapsulation**: Each class within the composition maintains its own encapsulation, which means the internal details of each class are hidden from the other classes. This encapsulation makes it easier to manage and maintain each component.\n",
    "\n",
    "6. **Loose Coupling**: Composition results in loosely coupled classes. Changes to one component class do not necessarily affect other components. This reduces the risk of unintended side effects.\n",
    "\n",
    "Here's a simple example to illustrate composition in Python:\n",
    "\n",
    "```python\n",
    "class Engine:\n",
    "    def start(self):\n",
    "        print(\"Engine started\")\n",
    "\n",
    "    def stop(self):\n",
    "        print(\"Engine stopped\")\n",
    "\n",
    "class Car:\n",
    "    def __init__(self):\n",
    "        self.engine = Engine()  # Composition: Car has an Engine\n",
    "\n",
    "    def start(self):\n",
    "        print(\"Car starting...\")\n",
    "        self.engine.start()\n",
    "\n",
    "    def stop(self):\n",
    "        print(\"Car stopping...\")\n",
    "        self.engine.stop()\n",
    "\n",
    "my_car = Car()\n",
    "my_car.start()\n",
    "my_car.stop()\n",
    "```\n",
    "\n",
    "In this example:\n",
    "\n",
    "- `Engine` is a standalone class with methods for starting and stopping the engine.\n",
    "- `Car` contains an instance of the `Engine` class as one of its attributes. This is composition.\n",
    "- When you create a `Car` object and call its `start()` and `stop()` methods, it delegates the engine-related tasks to the `Engine` object it contains.\n",
    "\n",
    "Composition allows for a modular design where the `Car` class can change its engine without affecting the rest of the code. It also promotes code reuse, as you can use the `Engine` class in other contexts, and it provides a flexible way to build complex objects from simpler ones while maintaining encapsulation and loose coupling."
   ]
  },
  {
   "cell_type": "markdown",
   "metadata": {},
   "source": [
    "2. Describe the difference between composition and inheritance in object-oriented \n",
    "programming."
   ]
  },
  {
   "cell_type": "markdown",
   "metadata": {},
   "source": [
    "Composition and inheritance are two fundamental principles in object-oriented programming, each with its own advantages and use cases. Here are the key differences between composition and inheritance:\n",
    "\n",
    "1. **Relationship Type**:\n",
    "\n",
    "   - **Composition**: Composition is a \"has-a\" relationship. It involves building complex objects by combining simpler objects. In composition, one class contains an instance of another class as one of its attributes. For example, a `Car` has an `Engine`, or a `Person` has an `Address`.\n",
    "\n",
    "   - **Inheritance**: Inheritance is an \"is-a\" relationship. It defines a hierarchy where a new class (subclass or derived class) inherits attributes and behaviors from an existing class (base class or superclass). For example, a `Student` is a `Person`, or a `Rectangle` is a `Shape`.\n",
    "\n",
    "2. **Code Reuse**:\n",
    "\n",
    "   - **Composition**: Composition promotes code reuse by allowing you to reuse and combine smaller, well-defined classes to create more complex objects. You can change the components (contained objects) of a class without altering the behavior of the containing class.\n",
    "\n",
    "   - **Inheritance**: Inheritance allows code reuse by inheriting attributes and methods from a base class. It creates a relationship where a subclass acquires the characteristics of its superclass. While this can be useful, it can lead to a more rigid class hierarchy and can make changes more challenging.\n",
    "\n",
    "3. **Flexibility**:\n",
    "\n",
    "   - **Composition**: Composition provides greater flexibility because you can change the components of a class without affecting the containing class. This makes it easier to adapt to changing requirements.\n",
    "\n",
    "   - **Inheritance**: Inheritance can lead to a more rigid class hierarchy, which can be less flexible when you need to make changes. Modifying a base class can affect all of its subclasses, potentially introducing unexpected behavior.\n",
    "\n",
    "4. **Encapsulation**:\n",
    "\n",
    "   - **Composition**: Each class within the composition maintains its own encapsulation, meaning that the internal details of each class are hidden from the other classes. This promotes encapsulation at the component level.\n",
    "\n",
    "   - **Inheritance**: Inheritance can expose the internal details of a base class to its subclasses. Subclasses may have access to all protected and public members of the base class, which can lead to a weaker form of encapsulation.\n",
    "\n",
    "5. **Loose Coupling**:\n",
    "\n",
    "   - **Composition**: Composition results in loosely coupled classes. Changes to one component class do not necessarily affect other components, reducing the risk of unintended side effects.\n",
    "\n",
    "   - **Inheritance**: Inheritance can lead to tighter coupling, as subclasses are tightly bound to their base class. Changes to the base class can impact all subclasses, potentially introducing compatibility issues.\n",
    "\n",
    "6. **Complexity**:\n",
    "\n",
    "   - **Composition**: Composition allows you to create complex objects from simpler parts, making it suitable for modeling complex relationships and building modular, maintainable code.\n",
    "\n",
    "   - **Inheritance**: Inheritance creates a hierarchy of classes, which can be suitable for modeling hierarchical relationships where an \"is-a\" relationship exists between classes.\n",
    "\n",
    "In summary, composition and inheritance are design principles used in different contexts. Composition is typically favored for its flexibility, encapsulation, and modularity, making it well-suited for building complex objects and managing dependencies. In contrast, inheritance is useful for modeling hierarchical relationships but may introduce challenges related to rigidity and tight coupling. The choice between composition and inheritance depends on the specific needs of a given design or problem."
   ]
  },
  {
   "cell_type": "markdown",
   "metadata": {},
   "source": [
    "3. Create a Python class called `Author` with attributes for name and birthdate. Then, \n",
    "create a `Book` class that contains an instance of `Author` as a composition. Provide an \n",
    "example of creating a `Book` object."
   ]
  },
  {
   "cell_type": "code",
   "execution_count": 1,
   "metadata": {},
   "outputs": [
    {
     "name": "stdout",
     "output_type": "stream",
     "text": [
      "Title: Harry Potter and the Sorcerer's Stone\n",
      "Author: J.K. Rowling\n",
      "Birthdate: July 31, 1965\n",
      "Publication Year: 1997\n"
     ]
    }
   ],
   "source": [
    "class Author:\n",
    "    def __init__(self, name, birthdate):\n",
    "        self.name = name\n",
    "        self.birthdate = birthdate\n",
    "\n",
    "class Book:\n",
    "    def __init__(self, title, author, publication_year):\n",
    "        self.title = title\n",
    "        self.author = author  # Composition: Book has an Author\n",
    "        self.publication_year = publication_year\n",
    "\n",
    "    def display_info(self):\n",
    "        return f\"Title: {self.title}\\nAuthor: {self.author.name}\\nBirthdate: {self.author.birthdate}\\nPublication Year: {self.publication_year}\"\n",
    "\n",
    "# Create an Author\n",
    "author1 = Author(\"J.K. Rowling\", \"July 31, 1965\")\n",
    "\n",
    "# Create a Book with the Author as part of the composition\n",
    "book1 = Book(\"Harry Potter and the Sorcerer's Stone\", author1, 1997)\n",
    "\n",
    "# Display book information\n",
    "print(book1.display_info())"
   ]
  },
  {
   "cell_type": "markdown",
   "metadata": {},
   "source": [
    "4. Discuss the benefits of using composition over inheritance in Python, especially in \n",
    "terms of code flexibility and reusability"
   ]
  },
  {
   "cell_type": "markdown",
   "metadata": {},
   "source": [
    "Using composition over inheritance in Python offers several benefits, particularly in terms of code flexibility and reusability. Here are the key advantages:\n",
    "\n",
    "1. **Flexibility**:\n",
    "\n",
    "   - **Hierarchical Structures**: Composition allows for more flexible and dynamic hierarchical structures. You can create complex objects by combining and recombining smaller, self-contained components as needed. This flexibility is particularly valuable when dealing with complex relationships and changing requirements.\n",
    "\n",
    "   - **Changing Component Behavior**: With composition, you can change the behavior of an object by swapping its components without altering the containing class. This makes it easier to adapt to evolving needs and to switch out components when requirements change.\n",
    "\n",
    "   - **Mixed Behaviors**: Composition enables objects to have mixed behaviors. You can create objects with different combinations of components, leading to more versatile and adaptable code.\n",
    "\n",
    "2. **Code Reusability**:\n",
    "\n",
    "   - **Component Reusability**: Composition promotes code reuse at the component level. You can create a library of reusable components, and then use them in various contexts to build different objects.\n",
    "\n",
    "   - **Modularity**: Components can be independently developed and tested, and they can be reused across different projects. This modularity simplifies development and maintenance, as you don't need to reinvent the wheel for common functionality.\n",
    "\n",
    "   - **Scalability**: Composition supports scalable design. As your project grows, you can add new components to the composition, maintaining a modular and reusable codebase.\n",
    "\n",
    "3. **Encapsulation**:\n",
    "\n",
    "   - **Enhanced Encapsulation**: Composition enhances encapsulation. Each component is responsible for its own behavior and data, reducing the risk of unwanted interactions or side effects. This makes it easier to understand, test, and maintain components.\n",
    "\n",
    "   - **Information Hiding**: Component classes can encapsulate their implementation details, exposing only the necessary interface to the containing class. This promotes good programming practices and prevents unwanted access to internal details.\n",
    "\n",
    "4. **Loose Coupling**:\n",
    "\n",
    "   - **Loose Coupling**: Composition results in loosely coupled classes. Changes to one component class do not necessarily affect other components. This reduces the risk of unintended side effects and allows for more isolated and independent development.\n",
    "\n",
    "   - **Reduced Dependency**: Composition typically reduces class dependencies, as classes interact with their components through well-defined interfaces. This isolation of dependencies simplifies unit testing and reduces the impact of changes on other parts of the code.\n",
    "\n",
    "5. **Multiple Inheritance Issues**:\n",
    "\n",
    "   - **Avoiding Multiple Inheritance Conflicts**: Composition can help avoid the complexities and ambiguities associated with multiple inheritance, which can be problematic in languages that support it. By using composition, you can combine behaviors without dealing with the challenges of multiple inheritance.\n",
    "\n",
    "Overall, composition offers a more flexible, modular, and maintainable approach to building complex objects, and it promotes code reusability by focusing on component-level reusability. While both composition and inheritance have their places in software design, composition is often favored for its adaptability, maintainability, and the ability to create complex structures without the rigidity and complexities of deep inheritance hierarchies."
   ]
  },
  {
   "cell_type": "markdown",
   "metadata": {},
   "source": [
    "5. How can you implement composition in Python classes? Provide examples of using \n",
    "composition to create complex objects."
   ]
  },
  {
   "cell_type": "markdown",
   "metadata": {},
   "source": [
    "Composition in Python is implemented by creating classes that contain instances of other classes as attributes. These contained instances become components of the containing class. Here are some examples of implementing composition in Python to create complex objects:\n",
    "\n",
    "**Example 1: A `Computer` class composed of `CPU` and `Memory` components:**\n",
    "\n",
    "```python\n",
    "class CPU:\n",
    "    def __init__(self, model):\n",
    "        self.model = model\n",
    "\n",
    "    def process(self):\n",
    "        return \"Processing data\"\n",
    "\n",
    "class Memory:\n",
    "    def __init__(self, size_gb):\n",
    "        self.size_gb = size_gb\n",
    "\n",
    "    def store_data(self):\n",
    "        return \"Storing data\"\n",
    "\n",
    "class Computer:\n",
    "    def __init__(self, cpu, memory):\n",
    "        self.cpu = cpu  # Composition: Computer has a CPU\n",
    "        self.memory = memory  # Composition: Computer has Memory\n",
    "\n",
    "    def run(self):\n",
    "        return f\"Computer is {self.cpu.process()} and {self.memory.store_data()}\"\n",
    "\n",
    "# Create components\n",
    "cpu = CPU(\"Intel i7\")\n",
    "memory = Memory(16)\n",
    "\n",
    "# Compose a Computer with CPU and Memory\n",
    "my_computer = Computer(cpu, memory)\n",
    "\n",
    "# Use the Computer\n",
    "print(my_computer.run())\n",
    "```\n",
    "\n",
    "In this example, we have a `Computer` class composed of a `CPU` and `Memory`. The `Computer` contains instances of the `CPU` and `Memory` classes as attributes.\n",
    "\n",
    "**Example 2: A `Car` class composed of `Engine` and `Wheels` components:**\n",
    "\n",
    "```python\n",
    "class Engine:\n",
    "    def start(self):\n",
    "        return \"Engine started\"\n",
    "\n",
    "    def stop(self):\n",
    "        return \"Engine stopped\"\n",
    "\n",
    "class Wheels:\n",
    "    def roll(self):\n",
    "        return \"Wheels rolling\"\n",
    "\n",
    "class Car:\n",
    "    def __init__(self, engine, wheels):\n",
    "        self.engine = engine  # Composition: Car has an Engine\n",
    "        self.wheels = wheels  # Composition: Car has Wheels\n",
    "\n",
    "    def drive(self):\n",
    "        return f\"Car is {self.engine.start()} and {self.wheels.roll()}\"\n",
    "\n",
    "# Create components\n",
    "engine = Engine()\n",
    "wheels = Wheels()\n",
    "\n",
    "# Compose a Car with Engine and Wheels\n",
    "my_car = Car(engine, wheels)\n",
    "\n",
    "# Use the Car\n",
    "print(my_car.drive())\n",
    "```\n",
    "\n",
    "In this example, we have a `Car` class composed of an `Engine` and `Wheels`. The `Car` contains instances of the `Engine` and `Wheels` classes as attributes.\n",
    "\n",
    "These examples illustrate how to implement composition in Python to create complex objects. Composition allows you to build objects with well-defined components, and it provides flexibility, encapsulation, and code reusability, making it a powerful design pattern for creating modular and maintainable code."
   ]
  },
  {
   "cell_type": "markdown",
   "metadata": {},
   "source": [
    "6. Create a Python class hierarchy for a music player system, using composition to \n",
    "represent playlists and songs"
   ]
  },
  {
   "cell_type": "code",
   "execution_count": 2,
   "metadata": {},
   "outputs": [
    {
     "name": "stdout",
     "output_type": "stream",
     "text": [
      "Playlist 1:\n",
      "Playing 'Song 1' by Artist A\n",
      "Playing 'Song 2' by Artist B\n",
      "\n",
      "Playlist 2:\n",
      "Playing 'Classical Song 1' by Composer X\n",
      "\n",
      "Non-existent Playlist:\n",
      "Playlist not found.\n"
     ]
    }
   ],
   "source": [
    "class Song:\n",
    "    def __init__(self, title, artist, duration):\n",
    "        self.title = title\n",
    "        self.artist = artist\n",
    "        self.duration = duration\n",
    "\n",
    "    def play(self):\n",
    "        return f\"Playing '{self.title}' by {self.artist}\"\n",
    "\n",
    "class Playlist:\n",
    "    def __init__(self, name):\n",
    "        self.name = name\n",
    "        self.songs = []  # Composition: Playlist has a list of Song objects\n",
    "\n",
    "    def add_song(self, song):\n",
    "        self.songs.append(song)\n",
    "\n",
    "    def play(self):\n",
    "        if not self.songs:\n",
    "            return \"Playlist is empty.\"\n",
    "        else:\n",
    "            return \"\\n\".join([song.play() for song in self.songs])\n",
    "\n",
    "class MusicPlayer:\n",
    "    def __init__(self):\n",
    "        self.playlists = []  # Composition: MusicPlayer has a list of Playlist objects\n",
    "\n",
    "    def create_playlist(self, name):\n",
    "        playlist = Playlist(name)\n",
    "        self.playlists.append(playlist)\n",
    "        return playlist\n",
    "\n",
    "    def play_playlist(self, playlist_name):\n",
    "        for playlist in self.playlists:\n",
    "            if playlist.name == playlist_name:\n",
    "                return playlist.play()\n",
    "        return \"Playlist not found.\"\n",
    "\n",
    "# Create songs\n",
    "song1 = Song(\"Song 1\", \"Artist A\", \"3:30\")\n",
    "song2 = Song(\"Song 2\", \"Artist B\", \"4:15\")\n",
    "\n",
    "# Create a music player\n",
    "music_player = MusicPlayer()\n",
    "\n",
    "# Create and add songs to a playlist\n",
    "playlist1 = music_player.create_playlist(\"My Favorites\")\n",
    "playlist1.add_song(song1)\n",
    "playlist1.add_song(song2)\n",
    "\n",
    "# Play a playlist\n",
    "print(\"Playlist 1:\")\n",
    "print(playlist1.play())\n",
    "\n",
    "# Create another playlist\n",
    "playlist2 = music_player.create_playlist(\"Classical\")\n",
    "song3 = Song(\"Classical Song 1\", \"Composer X\", \"2:45\")\n",
    "playlist2.add_song(song3)\n",
    "\n",
    "# Play another playlist\n",
    "print(\"\\nPlaylist 2:\")\n",
    "print(playlist2.play())\n",
    "\n",
    "# Try playing a non-existent playlist\n",
    "print(\"\\nNon-existent Playlist:\")\n",
    "print(music_player.play_playlist(\"Non-existent Playlist\"))"
   ]
  },
  {
   "cell_type": "markdown",
   "metadata": {},
   "source": [
    "7. Explain the concept of \"has-a\" relationships in composition and how it helps design \n",
    "software systems."
   ]
  },
  {
   "cell_type": "markdown",
   "metadata": {},
   "source": [
    "The concept of \"has-a\" relationships in composition is a fundamental aspect of object-oriented design that helps in building software systems by creating relationships between classes. It signifies that one class (the containing class) has an instance of another class (the contained class) as one of its attributes. This relationship is essential for designing modular and flexible software systems for several reasons:\n",
    "\n",
    "1. **Modularity**: \"Has-a\" relationships promote modularity in software design. They allow you to break down complex systems into smaller, manageable components. Each component can be designed, developed, tested, and maintained independently, making the codebase more organized and easier to work with.\n",
    "\n",
    "2. **Reuse**: By composing objects, you can reuse existing components in multiple parts of your software system. Reusing well-defined, tested, and reliable components saves development time and reduces the chances of introducing errors.\n",
    "\n",
    "3. **Flexibility**: Composing objects gives you flexibility in building complex objects or structures. You can combine and recombine components as needed to meet specific requirements or adapt to changing conditions without affecting the entire system.\n",
    "\n",
    "4. **Encapsulation**: Each class in a composition maintains its own encapsulation. This means that the internal details of each class are hidden from the other classes, enhancing data security and reducing unintended side effects.\n",
    "\n",
    "5. **Information Hiding**: Composition allows you to hide the implementation details of components. The containing class interacts with the contained class through well-defined interfaces, which limits access to internal details and reduces the risk of misuse.\n",
    "\n",
    "6. **Loose Coupling**: Classes in a composition typically have loose coupling. Changes to one component class do not necessarily impact other components, reducing dependencies and minimizing the risk of unintended side effects. This loose coupling makes the system more maintainable and extensible.\n",
    "\n",
    "7. **Scalability**: Composing objects supports scalable design. As your software system evolves and grows, you can add new components to the composition. This adaptability is vital for accommodating additional features or responding to changing requirements.\n",
    "\n",
    "8. **Hierarchical Structure**: \"Has-a\" relationships often result in hierarchical structures, which can be particularly useful for modeling complex systems where components have multiple layers of interactions and dependencies.\n",
    "\n",
    "9. **Simplicity and Clarity**: By creating relationships based on \"has-a,\" your code becomes more intuitive and easier to understand. You build your software system by assembling pieces with self-contained responsibilities.\n",
    "\n",
    "Overall, \"has-a\" relationships through composition promote clean and modular software design, facilitate code reuse, enhance flexibility, and contribute to better maintainability and scalability. These relationships help you create software systems that are easier to develop, maintain, and extend over time."
   ]
  },
  {
   "cell_type": "markdown",
   "metadata": {},
   "source": [
    "8. Create a Python class for a computer system, using composition to represent \n",
    "components like CPU, RAM, and storage devices."
   ]
  },
  {
   "cell_type": "code",
   "execution_count": 3,
   "metadata": {},
   "outputs": [
    {
     "name": "stdout",
     "output_type": "stream",
     "text": [
      "Computer is Intel i7 CPU with 4 cores is processing data. and 16GB RAM is storing data. and SSD storage with 256GB capacity is reading data.\n"
     ]
    }
   ],
   "source": [
    "class CPU:\n",
    "    def __init__(self, model, cores):\n",
    "        self.model = model\n",
    "        self.cores = cores\n",
    "\n",
    "    def process(self):\n",
    "        return f\"{self.model} CPU with {self.cores} cores is processing data.\"\n",
    "\n",
    "class RAM:\n",
    "    def __init__(self, capacity_gb):\n",
    "        self.capacity_gb = capacity_gb\n",
    "\n",
    "    def store_data(self):\n",
    "        return f\"{self.capacity_gb}GB RAM is storing data.\"\n",
    "\n",
    "class StorageDevice:\n",
    "    def __init__(self, type, capacity_gb):\n",
    "        self.type = type\n",
    "        self.capacity_gb = capacity_gb\n",
    "\n",
    "    def read_data(self):\n",
    "        return f\"{self.type} storage with {self.capacity_gb}GB capacity is reading data.\"\n",
    "\n",
    "class Computer:\n",
    "    def __init__(self, cpu, ram, storage):\n",
    "        self.cpu = cpu  # Composition: Computer has a CPU\n",
    "        self.ram = ram  # Composition: Computer has RAM\n",
    "        self.storage = storage  # Composition: Computer has a StorageDevice\n",
    "\n",
    "    def run(self):\n",
    "        return (\n",
    "            f\"Computer is {self.cpu.process()} \"\n",
    "            f\"and {self.ram.store_data()} \"\n",
    "            f\"and {self.storage.read_data()}\"\n",
    "        )\n",
    "\n",
    "# Create components\n",
    "cpu = CPU(\"Intel i7\", 4)\n",
    "ram = RAM(16)\n",
    "storage = StorageDevice(\"SSD\", 256)\n",
    "\n",
    "# Compose a Computer with CPU, RAM, and a StorageDevice\n",
    "my_computer = Computer(cpu, ram, storage)\n",
    "\n",
    "# Use the Computer\n",
    "print(my_computer.run())"
   ]
  },
  {
   "cell_type": "markdown",
   "metadata": {},
   "source": [
    "9. Describe the concept of \"delegation\" in composition and how it simplifies the design \n",
    "of complex systems."
   ]
  },
  {
   "cell_type": "markdown",
   "metadata": {},
   "source": [
    "\"Delegation\" in composition is a design concept where a class delegates a specific responsibility or task to another class, rather than implementing that responsibility itself. Delegation simplifies the design of complex systems by allowing each class to focus on a specific aspect of functionality, promoting code reusability, modularity, and separation of concerns. Here's how delegation works and how it simplifies complex system design:\n",
    "\n",
    "1. **Delegating Responsibility**:\n",
    "\n",
    "   - In a composed class, certain responsibilities or tasks may be delegated to other classes. These delegated tasks are typically related to the behavior or functionality that the composed class requires but can be implemented more effectively by another class.\n",
    "\n",
    "   - Delegation is achieved by including an instance of another class within the containing class. The containing class then delegates specific tasks to the contained class when needed.\n",
    "\n",
    "2. **Simplifying Complex Systems**:\n",
    "\n",
    "   - Delegation simplifies the design of complex systems by breaking down complex tasks into smaller, manageable components. Each component is responsible for a specific task, making the code easier to understand and maintain.\n",
    "\n",
    "   - Complex systems can be challenging to design and maintain when all functionality is implemented within a single class. By delegating specific responsibilities to separate classes, you achieve a more structured and modular design.\n",
    "\n",
    "3. **Modularity and Reusability**:\n",
    "\n",
    "   - Delegated classes can be developed and tested independently, which enhances modularity. This allows for easy reuse of components in different parts of the system and even in other projects.\n",
    "\n",
    "   - Code that performs common tasks, such as input validation, logging, or data processing, can be encapsulated in separate classes, and these classes can be reused in multiple areas of a system. This reduces code duplication and enforces a DRY (Don't Repeat Yourself) principle.\n",
    "\n",
    "4. **Separation of Concerns**:\n",
    "\n",
    "   - Delegation helps in separating concerns within a complex system. Each class is responsible for a specific concern or aspect of the system. For example, one class may handle user interface interactions, while another class manages data storage.\n",
    "\n",
    "   - Separating concerns simplifies the codebase, as developers can work on specific areas of expertise without having to understand the entire system.\n",
    "\n",
    "5. **Enhanced Testability**:\n",
    "\n",
    "   - Delegated classes are often more testable in isolation. By isolating specific functionality in a class, you can write unit tests for that class, ensuring that it behaves correctly. This facilitates testing and debugging in large, complex systems.\n",
    "\n",
    "6. **Flexibility and Maintainability**:\n",
    "\n",
    "   - When system requirements change or new features are added, the impact is often limited to specific delegated classes. This reduces the risk of unintended consequences when making changes, making the system more flexible and maintainable.\n",
    "\n",
    "In summary, delegation simplifies the design of complex systems by breaking down responsibilities into smaller, manageable components, promoting modularity, code reusability, and separation of concerns. It also enhances the testability, flexibility, and maintainability of the system, making it easier to develop and evolve over time."
   ]
  },
  {
   "cell_type": "markdown",
   "metadata": {},
   "source": [
    "10. Create a Python class for a car, using composition to represent components like the \n",
    "engine, wheels, and transmission."
   ]
  },
  {
   "cell_type": "code",
   "execution_count": 4,
   "metadata": {},
   "outputs": [
    {
     "name": "stdout",
     "output_type": "stream",
     "text": [
      "Car is V6 engine started.\n",
      "Car is Shifted to Drive gear using Automatic transmission. and All 4 wheels are rotating.\n",
      "Car is V6 engine stopped.\n"
     ]
    }
   ],
   "source": [
    "class Engine:\n",
    "    def __init__(self, model):\n",
    "        self.model = model\n",
    "\n",
    "    def start(self):\n",
    "        return f\"{self.model} engine started.\"\n",
    "\n",
    "    def stop(self):\n",
    "        return f\"{self.model} engine stopped.\"\n",
    "\n",
    "class Wheels:\n",
    "    def __init__(self, count):\n",
    "        self.count = count\n",
    "\n",
    "    def rotate(self):\n",
    "        return f\"All {self.count} wheels are rotating.\"\n",
    "\n",
    "class Transmission:\n",
    "    def __init__(self, type):\n",
    "        self.type = type\n",
    "\n",
    "    def shift(self, gear):\n",
    "        return f\"Shifted to {gear} gear using {self.type} transmission.\"\n",
    "\n",
    "class Car:\n",
    "    def __init__(self, engine, wheels, transmission):\n",
    "        self.engine = engine  # Composition: Car has an Engine\n",
    "        self.wheels = wheels  # Composition: Car has Wheels\n",
    "        self.transmission = transmission  # Composition: Car has a Transmission\n",
    "\n",
    "    def start(self):\n",
    "        return f\"Car is {self.engine.start()}\"\n",
    "\n",
    "    def stop(self):\n",
    "        return f\"Car is {self.engine.stop()}\"\n",
    "\n",
    "    def drive(self, gear):\n",
    "        return f\"Car is {self.transmission.shift(gear)} and {self.wheels.rotate()}\"\n",
    "\n",
    "# Create components\n",
    "engine = Engine(\"V6\")\n",
    "wheels = Wheels(4)\n",
    "transmission = Transmission(\"Automatic\")\n",
    "\n",
    "# Compose a Car with Engine, Wheels, and Transmission\n",
    "my_car = Car(engine, wheels, transmission)\n",
    "\n",
    "# Use the Car\n",
    "print(my_car.start())\n",
    "print(my_car.drive(\"Drive\"))\n",
    "print(my_car.stop())"
   ]
  },
  {
   "cell_type": "markdown",
   "metadata": {},
   "source": [
    "11. How can you encapsulate and hide the details of composed objects in Python \n",
    "classes to maintain abstraction?"
   ]
  },
  {
   "cell_type": "markdown",
   "metadata": {},
   "source": [
    "Encapsulation is a fundamental concept in object-oriented programming that involves hiding the internal details of a class and providing controlled access to its attributes and methods. To encapsulate and hide the details of composed objects in Python classes, you can follow these principles to maintain abstraction:\n",
    "\n",
    "1. **Use Private Attributes and Methods**:\n",
    "\n",
    "   - Start attribute and method names with a single underscore (e.g., `_attribute`, `_method`) to indicate that they are intended for internal use. This is a convention to signal that these members should not be accessed directly.\n",
    "\n",
    "   - While this doesn't make them completely private (Python doesn't have strict access control like some other languages), it signals to other developers that they should be treated as internal details.\n",
    "\n",
    "2. **Implement Getter and Setter Methods**:\n",
    "\n",
    "   - Provide getter methods to access the values of attributes in a controlled way. Getter methods can include additional logic, such as validation or transformation, before returning the attribute value.\n",
    "\n",
    "   - Implement setter methods to modify the values of attributes, which allows you to apply validation and ensure that the changes adhere to the class's logic and constraints.\n",
    "\n",
    "3. **Property Decorators**:\n",
    "\n",
    "   - Use property decorators to create computed properties. This allows you to abstract the internal details of an attribute while presenting it as if it were a simple attribute.\n",
    "\n",
    "   - The `@property` decorator is used for the getter method, and the `@attribute_name.setter` decorator is used for the setter method.\n",
    "\n",
    "4. **Name Mangling**:\n",
    "\n",
    "   - For stronger privacy control, you can use name mangling in Python by prefixing attribute names with double underscores (e.g., `__attribute`). This makes it more challenging to access these attributes from outside the class.\n",
    "\n",
    "   - The interpreter changes the name of the variable in a way that makes it harder to create subclasses that accidentally override or change the private attributes.\n",
    "\n",
    "5. **Provide Abstraction Layer**:\n",
    "\n",
    "   - Design the class to provide a clean abstraction layer that exposes only the essential attributes and methods while hiding the internal details. This ensures that users of the class interact with a simplified interface.\n",
    "\n",
    "6. **Document the Public Interface**:\n",
    "\n",
    "   - Clearly document the public interface of the class, which includes the attributes and methods that are intended for use by external code. This documentation helps other developers understand how to interact with the class correctly.\n",
    "\n",
    "Here's an example that demonstrates encapsulation and abstraction using private attributes and getter methods:\n",
    "\n",
    "```python\n",
    "class Car:\n",
    "    def __init__(self, make, model):\n",
    "        self._make = make  # Private attribute\n",
    "        self._model = model  # Private attribute\n",
    "\n",
    "    def get_make(self):\n",
    "        return self._make\n",
    "\n",
    "    def get_model(self):\n",
    "        return self._model\n",
    "\n",
    "    def get_description(self):\n",
    "        return f\"This is a {self.get_make()} {self.get_model()}.\"\n",
    "\n",
    "# Usage\n",
    "my_car = Car(\"Toyota\", \"Camry\")\n",
    "print(my_car.get_description())  # Accessing attributes through getter methods\n",
    "```\n",
    "\n",
    "In this example, the internal details of the `Car` class, such as the make and model, are encapsulated using private attributes (`_make` and `_model`) and accessed through getter methods (`get_make()` and `get_model()`). This approach maintains abstraction and allows controlled access to the class's attributes while hiding the implementation details."
   ]
  },
  {
   "cell_type": "markdown",
   "metadata": {},
   "source": [
    "12. Create a Python class for a university course, using composition to represent \n",
    "students, instructors, and course materials"
   ]
  },
  {
   "cell_type": "code",
   "execution_count": 5,
   "metadata": {},
   "outputs": [
    {
     "name": "stdout",
     "output_type": "stream",
     "text": [
      "Alice is now enrolled in Introduction to Programming.\n",
      "Bob is now enrolled in Introduction to Programming.\n",
      "Course: Introduction to Programming\n",
      "Instructor: Dr. Smith\n",
      "Textbook: Introduction to Python\n",
      "Syllabus: Course Syllabus v2.0\n",
      "Students enrolled: Alice, Bob\n"
     ]
    }
   ],
   "source": [
    "class Student:\n",
    "    def __init__(self, name, student_id):\n",
    "        self.name = name\n",
    "        self.student_id = student_id\n",
    "\n",
    "    def enroll(self):\n",
    "        return f\"{self.name} (ID: {self.student_id}) is enrolled in the course.\"\n",
    "\n",
    "class Instructor:\n",
    "    def __init__(self, name, employee_id):\n",
    "        self.name = name\n",
    "        self.employee_id = employee_id\n",
    "\n",
    "    def assign_homework(self):\n",
    "        return f\"{self.name} (Employee ID: {self.employee_id}) assigned homework for the course.\"\n",
    "\n",
    "class CourseMaterials:\n",
    "    def __init__(self, textbook, syllabus):\n",
    "        self.textbook = textbook\n",
    "        self.syllabus = syllabus\n",
    "\n",
    "    def get_textbook_info(self):\n",
    "        return f\"Textbook: {self.textbook}\"\n",
    "\n",
    "    def get_syllabus_info(self):\n",
    "        return f\"Syllabus: {self.syllabus}\"\n",
    "\n",
    "class Course:\n",
    "    def __init__(self, course_name, instructor, materials):\n",
    "        self.course_name = course_name\n",
    "        self.instructor = instructor  # Composition: Course has an Instructor\n",
    "        self.materials = materials  # Composition: Course has CourseMaterials\n",
    "        self.students = []  # Composition: Course has a list of Student objects\n",
    "\n",
    "    def enroll_student(self, student):\n",
    "        self.students.append(student)\n",
    "        return f\"{student.name} is now enrolled in {self.course_name}.\"\n",
    "\n",
    "    def display_course_info(self):\n",
    "        course_info = (\n",
    "            f\"Course: {self.course_name}\\n\"\n",
    "            f\"Instructor: {self.instructor.name}\\n\"\n",
    "            f\"{self.materials.get_textbook_info()}\\n\"\n",
    "            f\"{self.materials.get_syllabus_info()}\\n\"\n",
    "            f\"Students enrolled: {', '.join(student.name for student in self.students)}\"\n",
    "        )\n",
    "        return course_info\n",
    "\n",
    "# Create components\n",
    "instructor = Instructor(\"Dr. Smith\", \"EMP123\")\n",
    "materials = CourseMaterials(\"Introduction to Python\", \"Course Syllabus v2.0\")\n",
    "\n",
    "# Compose a Course with an Instructor and CourseMaterials\n",
    "course = Course(\"Introduction to Programming\", instructor, materials)\n",
    "\n",
    "# Create and enroll students\n",
    "student1 = Student(\"Alice\", \"STU001\")\n",
    "student2 = Student(\"Bob\", \"STU002\")\n",
    "\n",
    "print(course.enroll_student(student1))\n",
    "print(course.enroll_student(student2))\n",
    "\n",
    "# Display course information\n",
    "print(course.display_course_info())"
   ]
  },
  {
   "cell_type": "markdown",
   "metadata": {},
   "source": [
    "13. Discuss the challenges and drawbacks of composition, such as increased \n",
    "complexity and potential for tight coupling between objects"
   ]
  },
  {
   "cell_type": "markdown",
   "metadata": {},
   "source": [
    "While composition is a powerful and widely-used design concept in object-oriented programming, it does come with some challenges and potential drawbacks that need to be considered:\n",
    "\n",
    "1. **Increased Complexity**:\n",
    "\n",
    "   - As a software system grows, the number of components and their interactions can become more complex. Managing these relationships and ensuring that they work together effectively can be challenging.\n",
    "\n",
    "2. **Tight Coupling**:\n",
    "\n",
    "   - Composition can lead to tight coupling between objects, especially if the components are highly interdependent. Tight coupling can make the system less flexible, as changes to one component may require modifications in other related components.\n",
    "\n",
    "3. **Increased Maintenance Overhead**:\n",
    "\n",
    "   - With composition, the number of classes and relationships can grow significantly. This means that you need to maintain and test a larger number of classes, which can increase the maintenance overhead.\n",
    "\n",
    "4. **Performance Overhead**:\n",
    "\n",
    "   - When you use composition, you introduce additional method calls and object interactions. In some cases, this can result in a performance overhead, especially in systems with high-frequency method calls.\n",
    "\n",
    "5. **Complex Initialization**:\n",
    "\n",
    "   - Initializing complex compositions can be challenging. The process of creating and initializing multiple objects and ensuring they are correctly connected can be error-prone.\n",
    "\n",
    "6. **Potential for Diamond Problem (Multiple Inheritance)**:\n",
    "\n",
    "   - In languages that support multiple inheritance (like C++), there's a potential for the \"diamond problem\" when a class inherits from multiple classes that share a common base class. Composition can mitigate this issue, but it may require extra effort in designing the composition structure to avoid such problems.\n",
    "\n",
    "7. **Difficulty in Understanding the Full System**:\n",
    "\n",
    "   - As systems become more composed, understanding the full system's behavior can be more challenging. Developers need to understand not only the class they're working on but also how it interacts with various components.\n",
    "\n",
    "8. **Resource Management**:\n",
    "\n",
    "   - In some cases, dealing with resource management (e.g., memory, connections) when composing objects can be more complex compared to a single monolithic class.\n",
    "\n",
    "To address these challenges and drawbacks:\n",
    "\n",
    "- Design your compositions thoughtfully, aiming for modularity and separation of concerns.\n",
    "\n",
    "- Use design patterns, such as the Dependency Injection pattern, to manage component initialization and reduce tight coupling.\n",
    "\n",
    "- Employ interfaces or abstract classes to provide well-defined contracts between components and enforce a clear separation of concerns.\n",
    "\n",
    "- Apply the SOLID principles (Single Responsibility, Open/Closed, Liskov Substitution, Interface Segregation, and Dependency Inversion) to guide your composition designs.\n",
    "\n",
    "- Write unit tests to ensure that your composed objects work as expected and to catch issues early in the development process.\n",
    "\n",
    "- Use tools and frameworks that help manage and simplify composition, such as dependency injection containers.\n",
    "\n",
    "Overall, composition is a valuable design concept, but it should be used judiciously and with careful planning to address the potential challenges and drawbacks while leveraging its benefits in terms of modularity, reusability, and maintainability."
   ]
  },
  {
   "cell_type": "markdown",
   "metadata": {},
   "source": [
    "14. Create a Python class hierarchy for a restaurant system, using composition to \n",
    "represent menus, dishes, and ingredients."
   ]
  },
  {
   "cell_type": "code",
   "execution_count": 6,
   "metadata": {},
   "outputs": [
    {
     "name": "stdout",
     "output_type": "stream",
     "text": [
      "Menu: Italian Cuisine\n",
      "- Pizza\n",
      "- Pasta\n",
      "\n",
      "Pizza is prepared and ready to serve.\n",
      "Pasta is prepared and ready to serve.\n"
     ]
    }
   ],
   "source": [
    "class Ingredient:\n",
    "    def __init__(self, name, quantity):\n",
    "        self.name = name\n",
    "        self.quantity = quantity\n",
    "\n",
    "    def use(self, amount):\n",
    "        if self.quantity >= amount:\n",
    "            self.quantity -= amount\n",
    "            return f\"Used {amount} units of {self.name}.\"\n",
    "        else:\n",
    "            return f\"Out of {self.name}. Cannot use {amount} units.\"\n",
    "\n",
    "class Dish:\n",
    "    def __init__(self, name):\n",
    "        self.name = name\n",
    "        self.ingredients = []  # Composition: Dish has a list of Ingredient objects\n",
    "\n",
    "    def add_ingredient(self, ingredient, amount):\n",
    "        self.ingredients.append((ingredient, amount))\n",
    "        return f\"Added {amount} units of {ingredient.name} to {self.name}.\"\n",
    "\n",
    "    def prepare(self):\n",
    "        for ingredient, amount in self.ingredients:\n",
    "            result = ingredient.use(amount)\n",
    "            if \"Out of\" in result:\n",
    "                return f\"Cannot prepare {self.name}. {result}\"\n",
    "        return f\"{self.name} is prepared and ready to serve.\"\n",
    "\n",
    "class Menu:\n",
    "    def __init__(self, name):\n",
    "        self.name = name\n",
    "        self.dishes = []  # Composition: Menu has a list of Dish objects\n",
    "\n",
    "    def add_dish(self, dish):\n",
    "        self.dishes.append(dish)\n",
    "        return f\"Added {dish.name} to the menu.\"\n",
    "\n",
    "    def display_menu(self):\n",
    "        menu_info = f\"Menu: {self.name}\\n\"\n",
    "        for dish in self.dishes:\n",
    "            menu_info += f\"- {dish.name}\\n\"\n",
    "        return menu_info\n",
    "\n",
    "# Create ingredients\n",
    "ingredient1 = Ingredient(\"Tomatoes\", 10)\n",
    "ingredient2 = Ingredient(\"Cheese\", 5)\n",
    "\n",
    "# Create dishes and add ingredients\n",
    "pizza = Dish(\"Pizza\")\n",
    "pizza.add_ingredient(ingredient1, 5)\n",
    "pizza.add_ingredient(ingredient2, 3)\n",
    "\n",
    "pasta = Dish(\"Pasta\")\n",
    "pasta.add_ingredient(ingredient1, 3)\n",
    "\n",
    "# Create a menu and add dishes\n",
    "italian_menu = Menu(\"Italian Cuisine\")\n",
    "italian_menu.add_dish(pizza)\n",
    "italian_menu.add_dish(pasta)\n",
    "\n",
    "# Display the menu\n",
    "print(italian_menu.display_menu())\n",
    "\n",
    "# Prepare a dish\n",
    "print(pizza.prepare())\n",
    "\n",
    "# Try to prepare a dish with insufficient ingredients\n",
    "print(pasta.prepare())"
   ]
  },
  {
   "cell_type": "markdown",
   "metadata": {},
   "source": [
    "15. Explain how composition enhances code maintainability and modularity in Python \n",
    "programs"
   ]
  },
  {
   "cell_type": "markdown",
   "metadata": {},
   "source": [
    "Composition is a fundamental concept in object-oriented programming that enhances code maintainability and modularity in Python programs. Here's how composition achieves these benefits:\n",
    "\n",
    "1. **Modularity**:\n",
    "\n",
    "   - Composition promotes modularity by breaking down complex systems into smaller, self-contained components (classes). Each component is responsible for a specific piece of functionality, making it easier to understand, develop, test, and maintain.\n",
    "\n",
    "   - Modular code is more organized, which simplifies development and helps developers work on individual components without needing a deep understanding of the entire system.\n",
    "\n",
    "2. **Code Reusability**:\n",
    "\n",
    "   - Composed components can be reused in different parts of the program or in other projects. This reduces the need to rewrite code and results in more efficient and maintainable software development.\n",
    "\n",
    "   - Reusable components can be tested once and used in various contexts, reducing the risk of introducing bugs when using existing code.\n",
    "\n",
    "3. **Simplified Debugging and Testing**:\n",
    "\n",
    "   - Composing objects in a modular way makes it easier to isolate and debug issues. Developers can test and debug individual components independently, which simplifies the process of identifying and fixing problems.\n",
    "\n",
    "4. **Encapsulation and Information Hiding**:\n",
    "\n",
    "   - Composition allows for the encapsulation of details within each class or component. By exposing a well-defined interface, you can hide the implementation details from the external world. This minimizes the risk of unintended side effects when working with objects.\n",
    "\n",
    "5. **Scalability**:\n",
    "\n",
    "   - As the requirements of a program change or new features are added, you can scale the system by adding or modifying components as needed. This scalability is crucial for accommodating future growth and changes.\n",
    "\n",
    "6. **Clear Separation of Concerns**:\n",
    "\n",
    "   - Composition enforces a clear separation of concerns, ensuring that each component focuses on a specific aspect of the system. This separation simplifies code development, maintenance, and collaboration among developers working on different parts of the system.\n",
    "\n",
    "7. **Reduced Code Duplication**:\n",
    "\n",
    "   - By reusing components through composition, you reduce code duplication. Instead of implementing the same functionality in multiple places, you implement it once and use it wherever needed.\n",
    "\n",
    "8. **Flexibility**:\n",
    "\n",
    "   - Composition provides flexibility in changing or extending the system's behavior. You can replace or add components without affecting the rest of the system, making it adaptable to evolving requirements.\n",
    "\n",
    "9. **Enhanced Collaboration**:\n",
    "\n",
    "   - Composition encourages collaborative development because multiple team members can work on different components independently. This division of labor and collaboration is essential for building large and complex software systems.\n",
    "\n",
    "10. **Maintainability Over Time**:\n",
    "\n",
    "    - Code that is designed with composition is generally easier to maintain over time. As the system evolves, you can make changes to individual components while keeping the overall structure intact.\n",
    "\n",
    "In summary, composition enhances code maintainability and modularity by organizing code into smaller, reusable, and well-encapsulated components. This approach simplifies development, testing, and debugging, promotes code reusability, and allows for scalable and flexible systems that can adapt to changing requirements."
   ]
  },
  {
   "cell_type": "markdown",
   "metadata": {},
   "source": [
    "16. Create a Python class for a computer game character, using composition to \n",
    "represent attributes like weapons, armor, and inventory."
   ]
  },
  {
   "cell_type": "code",
   "execution_count": 7,
   "metadata": {},
   "outputs": [
    {
     "name": "stdout",
     "output_type": "stream",
     "text": [
      "Inventory: Health Potion, Key\n",
      "Attacking with Sword for 15 damage.\n",
      "Wearing Shield with 10 defense.\n"
     ]
    }
   ],
   "source": [
    "class Weapon:\n",
    "    def __init__(self, name, damage):\n",
    "        self.name = name\n",
    "        self.damage = damage\n",
    "\n",
    "    def attack(self):\n",
    "        return f\"Attacking with {self.name} for {self.damage} damage.\"\n",
    "\n",
    "class Armor:\n",
    "    def __init__(self, name, defense):\n",
    "        self.name = name\n",
    "        self.defense = defense\n",
    "\n",
    "    def defend(self):\n",
    "        return f\"Wearing {self.name} with {self.defense} defense.\"\n",
    "\n",
    "class Inventory:\n",
    "    def __init__(self):\n",
    "        self.items = []\n",
    "\n",
    "    def add_item(self, item):\n",
    "        self.items.append(item)\n",
    "        return f\"Added {item} to the inventory.\"\n",
    "\n",
    "    def list_items(self):\n",
    "        return f\"Inventory: {', '.join(self.items)}\"\n",
    "\n",
    "class GameCharacter:\n",
    "    def __init__(self, name):\n",
    "        self.name = name\n",
    "        self.weapon = None  # Composition: GameCharacter has a Weapon\n",
    "        self.armor = None  # Composition: GameCharacter has Armor\n",
    "        self.inventory = Inventory()  # Composition: GameCharacter has an Inventory\n",
    "\n",
    "    def equip_weapon(self, weapon):\n",
    "        self.weapon = weapon\n",
    "        return f\"{self.name} equipped {weapon.name}.\"\n",
    "\n",
    "    def equip_armor(self, armor):\n",
    "        self.armor = armor\n",
    "        return f\"{self.name} equipped {armor.name}.\"\n",
    "\n",
    "    def pick_up_item(self, item):\n",
    "        return self.inventory.add_item(item)\n",
    "\n",
    "    def list_inventory(self):\n",
    "        return self.inventory.list_items()\n",
    "\n",
    "    def attack(self):\n",
    "        if self.weapon:\n",
    "            return self.weapon.attack()\n",
    "        else:\n",
    "            return f\"{self.name} attacks with bare fists.\"\n",
    "\n",
    "    def defend(self):\n",
    "        if self.armor:\n",
    "            return self.armor.defend()\n",
    "        else:\n",
    "            return f\"{self.name} has no armor to defend.\"\n",
    "\n",
    "# Create components\n",
    "sword = Weapon(\"Sword\", 15)\n",
    "shield = Armor(\"Shield\", 10)\n",
    "\n",
    "# Create a game character and equip items\n",
    "hero = GameCharacter(\"Hero\")\n",
    "hero.equip_weapon(sword)\n",
    "hero.equip_armor(shield)\n",
    "\n",
    "# Pick up items and list inventory\n",
    "hero.pick_up_item(\"Health Potion\")\n",
    "hero.pick_up_item(\"Key\")\n",
    "print(hero.list_inventory())\n",
    "\n",
    "# Character actions\n",
    "print(hero.attack())\n",
    "print(hero.defend())"
   ]
  },
  {
   "cell_type": "markdown",
   "metadata": {},
   "source": [
    "17. Describe the concept of \"aggregation\" in composition and how it differs from simple \n",
    "composition"
   ]
  },
  {
   "cell_type": "markdown",
   "metadata": {},
   "source": [
    "Aggregation is a specialized form of composition in object-oriented programming, and it represents a \"has-a\" relationship between a whole and its parts. Aggregation differs from simple composition primarily in terms of the relationship's strength, lifecycle, and ownership. Here's an overview of aggregation and how it differs from simple composition:\n",
    "\n",
    "1. **Aggregation**:\n",
    "\n",
    "   - Aggregation represents a \"whole-part\" relationship where a class (the whole) contains objects (the parts) that have an independent existence beyond the whole.\n",
    "\n",
    "   - In aggregation, the parts can exist independently and may be shared by multiple wholes. The whole typically acts as a container or manager for the parts.\n",
    "\n",
    "   - Aggregation is often denoted by a \"diamond\" symbol with a hollow diamond at the whole end of the relationship line connecting the whole and parts in a UML diagram.\n",
    "\n",
    "   - The parts in an aggregation relationship can be shared among different wholes, and they may have their own lifecycle. If the whole is destroyed, the parts can still exist.\n",
    "\n",
    "2. **Simple Composition**:\n",
    "\n",
    "   - Simple composition, often referred to as \"composition,\" represents a stronger relationship between a whole and its parts.\n",
    "\n",
    "   - In composition, the parts are tightly bound to the whole, and they are often created and destroyed with the whole. The parts typically cannot exist independently without the whole.\n",
    "\n",
    "   - Composition is denoted by a solid diamond symbol at the whole end of the relationship line connecting the whole and parts in a UML diagram.\n",
    "\n",
    "   - The parts in a composition relationship are owned by the whole, and their lifecycle is tightly tied to the whole. When the whole is destroyed, the parts are also typically destroyed.\n",
    "\n",
    "**Key Differences**:\n",
    "\n",
    "- **Ownership and Lifecycle**:\n",
    "  - In aggregation, parts have their own lifecycle and are not owned by the whole. When the whole is destroyed, the parts can continue to exist.\n",
    "  - In simple composition, parts are owned by the whole, and their lifecycle is tightly coupled with the whole. When the whole is destroyed, the parts are typically destroyed as well.\n",
    "\n",
    "- **Independence**:\n",
    "  - In aggregation, parts can exist independently, be shared by multiple wholes, and may be part of different aggregations.\n",
    "  - In simple composition, parts are tightly bound to the whole and often cannot exist independently.\n",
    "\n",
    "- **Strength of Relationship**:\n",
    "  - Aggregation represents a weaker relationship, with the whole serving as a container or manager for the parts.\n",
    "  - Simple composition represents a stronger, more exclusive relationship, where the whole has greater control over the parts.\n",
    "\n",
    "- **UML Notation**:\n",
    "  - Aggregation is represented by a hollow diamond symbol in UML diagrams.\n",
    "  - Simple composition is represented by a solid diamond symbol in UML diagrams.\n",
    "\n",
    "In summary, aggregation and simple composition are two ways to model relationships between classes in object-oriented programming. Aggregation represents a weaker relationship where parts have independent lifecycles and can be shared among different wholes. In contrast, simple composition represents a stronger, more exclusive relationship where parts are tightly bound to the whole and typically cannot exist independently. The choice between aggregation and simple composition depends on the specific requirements and semantics of the relationship being modeled."
   ]
  },
  {
   "cell_type": "markdown",
   "metadata": {},
   "source": [
    "18. Create a Python class for a house, using composition to represent rooms, furniture, \n",
    "and appliances."
   ]
  },
  {
   "cell_type": "code",
   "execution_count": 8,
   "metadata": {},
   "outputs": [
    {
     "name": "stdout",
     "output_type": "stream",
     "text": [
      "Rooms in the My House: Kitchen, Living Room, Bedroom, Bathroom\n",
      "Appliances in the Kitchen: Refrigerator\n",
      "Furniture in the Living Room: Sofa\n"
     ]
    }
   ],
   "source": [
    "class Appliance:\n",
    "    def __init__(self, name, power_consumption):\n",
    "        self.name = name\n",
    "        self.power_consumption = power_consumption\n",
    "\n",
    "    def switch_on(self):\n",
    "        return f\"{self.name} is switched on.\"\n",
    "\n",
    "    def switch_off(self):\n",
    "        return f\"{self.name} is switched off.\"\n",
    "\n",
    "class Furniture:\n",
    "    def __init__(self, name):\n",
    "        self.name = name\n",
    "\n",
    "    def move(self):\n",
    "        return f\"{self.name} has been moved to a new location.\"\n",
    "\n",
    "class Room:\n",
    "    def __init__(self, name):\n",
    "        self.name = name\n",
    "        self.furniture = []  # Composition: Room has a list of Furniture objects\n",
    "        self.appliances = []  # Composition: Room has a list of Appliance objects\n",
    "\n",
    "    def add_furniture(self, furniture):\n",
    "        self.furniture.append(furniture)\n",
    "        return f\"Added {furniture.name} to the {self.name}.\"\n",
    "\n",
    "    def add_appliance(self, appliance):\n",
    "        self.appliances.append(appliance)\n",
    "        return f\"Added {appliance.name} to the {self.name}.\"\n",
    "\n",
    "    def list_furniture(self):\n",
    "        return f\"Furniture in the {self.name}: {', '.join(furniture.name for furniture in self.furniture)}\"\n",
    "\n",
    "    def list_appliances(self):\n",
    "        return f\"Appliances in the {self.name}: {', '.join(appliance.name for appliance in self.appliances)}\"\n",
    "\n",
    "class House:\n",
    "    def __init__(self, name):\n",
    "        self.name = name\n",
    "        self.rooms = []  # Composition: House has a list of Room objects\n",
    "\n",
    "    def add_room(self, room):\n",
    "        self.rooms.append(room)\n",
    "        return f\"Added {room.name} to the {self.name}.\"\n",
    "\n",
    "    def list_rooms(self):\n",
    "        return f\"Rooms in the {self.name}: {', '.join(room.name for room in self.rooms)}\"\n",
    "\n",
    "# Create components\n",
    "kitchen_appliance = Appliance(\"Refrigerator\", \"150W\")\n",
    "living_room_furniture = Furniture(\"Sofa\")\n",
    "bedroom_furniture = Furniture(\"Bed\")\n",
    "bathroom_appliance = Appliance(\"Washing Machine\", \"200W\")\n",
    "\n",
    "# Create rooms and add furniture and appliances\n",
    "kitchen = Room(\"Kitchen\")\n",
    "kitchen.add_appliance(kitchen_appliance)\n",
    "living_room = Room(\"Living Room\")\n",
    "living_room.add_furniture(living_room_furniture)\n",
    "bedroom = Room(\"Bedroom\")\n",
    "bedroom.add_furniture(bedroom_furniture)\n",
    "bathroom = Room(\"Bathroom\")\n",
    "bathroom.add_appliance(bathroom_appliance)\n",
    "\n",
    "# Create a house and add rooms\n",
    "my_house = House(\"My House\")\n",
    "my_house.add_room(kitchen)\n",
    "my_house.add_room(living_room)\n",
    "my_house.add_room(bedroom)\n",
    "my_house.add_room(bathroom)\n",
    "\n",
    "# List rooms, furniture, and appliances\n",
    "print(my_house.list_rooms())\n",
    "print(kitchen.list_appliances())\n",
    "print(living_room.list_furniture())"
   ]
  },
  {
   "cell_type": "markdown",
   "metadata": {},
   "source": [
    "19. How can you achieve flexibility in composed objects by allowing them to be \n",
    "replaced or modified dynamically at runtime?"
   ]
  },
  {
   "cell_type": "markdown",
   "metadata": {},
   "source": [
    "Achieving flexibility in composed objects by allowing them to be replaced or modified dynamically at runtime can be done through a combination of design principles and programming techniques. Here are some strategies to achieve this flexibility:\n",
    "\n",
    "1. **Polymorphism**:\n",
    "\n",
    "   - Utilize polymorphism, one of the fundamental principles of object-oriented programming. Polymorphism allows objects of different classes to be treated as objects of a common base class. This enables you to switch out components while maintaining a consistent interface.\n",
    "\n",
    "2. **Interfaces or Abstract Classes**:\n",
    "\n",
    "   - Define interfaces or abstract classes that specify a contract for the behavior of components. Each component class should implement the interface or inherit from the abstract class, ensuring that they adhere to the common interface.\n",
    "\n",
    "3. **Dependency Injection**:\n",
    "\n",
    "   - Apply the Dependency Injection (DI) design pattern. Instead of creating or initializing components within the composed object, inject them as dependencies. This allows you to replace or modify components externally.\n",
    "\n",
    "4. **Factory Patterns**:\n",
    "\n",
    "   - Use factory patterns to create and provide instances of components. Factories can dynamically produce objects of the desired classes, allowing you to switch out components or modify their behavior based on specific conditions.\n",
    "\n",
    "5. **Configurability**:\n",
    "\n",
    "   - Design your composed objects to be configurable. Allow users to provide settings or configurations that determine the behavior of components. This way, components can be replaced or configured based on runtime conditions.\n",
    "\n",
    "6. **Decorator Pattern**:\n",
    "\n",
    "   - Apply the Decorator pattern to wrap or modify the behavior of components dynamically. Decorators add or alter the functionality of components without modifying their original classes.\n",
    "\n",
    "7. **Proxy Pattern**:\n",
    "\n",
    "   - Use the Proxy pattern to create an intermediary object that controls access to a component. Proxies can be used to modify the behavior of components, delegate operations to different components, or even replace components at runtime.\n",
    "\n",
    "8. **Composite Pattern**:\n",
    "\n",
    "   - If you're dealing with complex structures of composed objects, consider using the Composite pattern. This allows you to treat individual objects and compositions of objects uniformly, making it easier to replace or modify components in complex hierarchies.\n",
    "\n",
    "9. **Service Providers or Dependency Injection Containers**:\n",
    "\n",
    "   - Implement service providers or dependency injection containers (e.g., in frameworks like Spring or Laravel). These tools manage the creation, configuration, and resolution of components, making it easy to switch components or configurations dynamically.\n",
    "\n",
    "10. **Reflection and Dynamic Loading**:\n",
    "\n",
    "    - In some cases, dynamic loading of classes and reflection can be used to load and instantiate components at runtime. While this approach should be used with caution, it allows for dynamic changes in components.\n",
    "\n",
    "11. **Conditional Logic**:\n",
    "\n",
    "    - Use conditional logic and runtime checks to determine which components should be used or how they should behave. This can be based on user preferences, system settings, or other runtime conditions.\n",
    "\n",
    "12. **Versioning and Updates**:\n",
    "\n",
    "    - If your composed objects rely on external components or libraries, ensure that you can update or change these components without affecting the core functionality of your system. Proper versioning and compatibility checks are essential.\n",
    "\n",
    "By applying these strategies and principles, you can achieve flexibility in composed objects, allowing them to be replaced or modified dynamically at runtime to adapt to changing requirements or user preferences without the need for extensive code changes."
   ]
  },
  {
   "cell_type": "markdown",
   "metadata": {},
   "source": [
    "20. Create a Python class for a social media application, using composition to represent \n",
    "users, posts, and comments."
   ]
  },
  {
   "cell_type": "code",
   "execution_count": 14,
   "metadata": {},
   "outputs": [
    {
     "name": "stdout",
     "output_type": "stream",
     "text": [
      "User: Alice\n",
      "Alice: Hello, world!\n",
      "Bob: Hi, Alice!\n",
      "User: Bob\n",
      "Bob: Nice to meet you!\n",
      "Alice: Hello, Bob!\n"
     ]
    }
   ],
   "source": [
    "class Comment:\n",
    "    def __init__(self, text, user):\n",
    "        self.text = text\n",
    "        self.user = user\n",
    "\n",
    "    def __str__(self):\n",
    "        return f\"{self.user.username}: {self.text}\"\n",
    "\n",
    "class Post:\n",
    "    def __init__(self, content, user):\n",
    "        self.content = content\n",
    "        self.user = user\n",
    "        self.comments = []  # Composition: Post has a list of Comment objects\n",
    "\n",
    "    def add_comment(self, comment):\n",
    "        self.comments.append(comment)\n",
    "\n",
    "    def __str__(self):\n",
    "        return f\"{self.user.username}: {self.content}\"\n",
    "\n",
    "class User:\n",
    "    def __init__(self, username):\n",
    "        self.username = username\n",
    "        self.posts = []  # Composition: User has a list of Post objects\n",
    "\n",
    "    def create_post(self, content):\n",
    "        post = Post(content, self)\n",
    "        self.posts.append(post)\n",
    "\n",
    "    def __str__(self):\n",
    "        return f\"User: {self.username}\"\n",
    "\n",
    "class SocialMediaApp:\n",
    "    def __init__(self, name):\n",
    "        self.name = name\n",
    "        self.users = []  # Composition: SocialMediaApp has a list of User objects\n",
    "\n",
    "    def create_user(self, username):\n",
    "        user = User(username)\n",
    "        self.users.append(user)\n",
    "        return user  # Return the User object\n",
    "\n",
    "    def __str__(self):\n",
    "        return f\"Social Media App: {self.name}\"\n",
    "\n",
    "# Create a social media application\n",
    "my_app = SocialMediaApp(\"My Social App\")\n",
    "\n",
    "# Create users\n",
    "user1 = my_app.create_user(\"Alice\")\n",
    "user2 = my_app.create_user(\"Bob\")\n",
    "\n",
    "# Users create posts and add comments\n",
    "user1.create_post(\"Hello, world!\")\n",
    "user2.create_post(\"Nice to meet you!\")\n",
    "\n",
    "user1.posts[0].add_comment(Comment(\"Hi, Alice!\", user2))\n",
    "user2.posts[0].add_comment(Comment(\"Hello, Bob!\", user1))\n",
    "\n",
    "# Display posts and comments\n",
    "for user in my_app.users:\n",
    "    print(user)\n",
    "    for post in user.posts:\n",
    "        print(post)\n",
    "        for comment in post.comments:\n",
    "            print(comment)"
   ]
  }
 ],
 "metadata": {
  "kernelspec": {
   "display_name": "Python 3",
   "language": "python",
   "name": "python3"
  },
  "language_info": {
   "codemirror_mode": {
    "name": "ipython",
    "version": 3
   },
   "file_extension": ".py",
   "mimetype": "text/x-python",
   "name": "python",
   "nbconvert_exporter": "python",
   "pygments_lexer": "ipython3",
   "version": "3.11.2"
  }
 },
 "nbformat": 4,
 "nbformat_minor": 2
}
