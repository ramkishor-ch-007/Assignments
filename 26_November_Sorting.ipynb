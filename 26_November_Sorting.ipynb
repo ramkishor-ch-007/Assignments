{
 "cells": [
  {
   "cell_type": "markdown",
   "metadata": {},
   "source": [
    "Problem 1.Given an array of n numbers, give an algorithm which gives the element appearing maximum number of times?"
   ]
  },
  {
   "cell_type": "code",
   "execution_count": 1,
   "metadata": {},
   "outputs": [
    {
     "name": "stdout",
     "output_type": "stream",
     "text": [
      "Element appearing maximum number of times: 2\n"
     ]
    }
   ],
   "source": [
    "def find_max_occurrence(arr):\n",
    "    # Create a dictionary to store the frequency of each element\n",
    "    frequency_map = {}\n",
    "\n",
    "    # Traverse the array and update the frequency map\n",
    "    for num in arr: # O(n) length of the array\n",
    "        if num in frequency_map:\n",
    "            frequency_map[num] += 1\n",
    "        else:\n",
    "            frequency_map[num] = 1\n",
    "\n",
    "    # Find the element with the maximum frequency\n",
    "    max_occurrence_element = max(frequency_map, key=frequency_map.get) # O(m), m number of unique elements in the array.\n",
    "\n",
    "    return max_occurrence_element\n",
    "\n",
    "# Example usage:\n",
    "arr = [1, 2, 3, 4, 2, 2, 3, 5, 6, 2, 7, 2, 8, 2]\n",
    "result = find_max_occurrence(arr) # Time Complexity is O(m + n) is O(n)\n",
    "print(\"Element appearing maximum number of times:\", result)\n",
    "\n",
    "\"\"\"\n",
    "frequency_map = {'a': 5, 'b': 3, 'c': 7, 'd': 2}\n",
    "max_element = max(frequency_map, key=frequency_map.get)\n",
    "\n",
    "max(frequency_map, key=frequency_map.get)\n",
    "\n",
    "In this case:\n",
    "The iteration starts with 'a', and frequency_map.get('a') returns 5.\n",
    "Then, it compares 5 with the values for 'b', 'c', and 'd'.\n",
    "The maximum value is 7 (associated with 'c').\n",
    "Therefore, 'c' is the key with the maximum value, and max_element will be assigned the value 'c'.\n",
    "\"\"\""
   ]
  },
  {
   "cell_type": "markdown",
   "metadata": {},
   "source": [
    "Problem 2 : We are given a list of n-1 integers and these integers are in the range of 1 to n . There are no\n",
    "duplicates in the list. One of the integers is missing in the list. Give an algorithm to find that element Ex:\n",
    "[1,2,4,6,3,7,8] 5 is the missing num."
   ]
  },
  {
   "cell_type": "code",
   "execution_count": 6,
   "metadata": {},
   "outputs": [
    {
     "name": "stdout",
     "output_type": "stream",
     "text": [
      "Missing element: 5\n"
     ]
    }
   ],
   "source": [
    "def find_missing_element(nums):\n",
    "    n = len(nums) + 1  # n is the total number of elements, including the missing one\n",
    "    expected_sum = (n * (n + 1)) // 2  # Sum of integers from 1 to n , O(1)\n",
    "\n",
    "    actual_sum = sum(nums)  # Sum of the elements in the given list, O(n)\n",
    "    missing_element = expected_sum - actual_sum # O(1)\n",
    "\n",
    "    return missing_element\n",
    "\n",
    "# Example usage:\n",
    "nums = [1, 2, 4, 6, 3, 7, 8]\n",
    "result = find_missing_element(nums)\n",
    "print(\"Missing element:\", result)\n",
    "\n",
    "# Time Complexity : O(n)"
   ]
  },
  {
   "cell_type": "markdown",
   "metadata": {},
   "source": [
    "Problem 3 : Given an array of n positive numbers. All numbers occurs even number of times except 1 which\n",
    "occurs odd number of times. Find that number in O(n) time and O(1) space. Ex: [1,2,3,2,3,1,3]. 3 is repeats odd\n",
    "times."
   ]
  },
  {
   "cell_type": "code",
   "execution_count": 14,
   "metadata": {},
   "outputs": [
    {
     "name": "stdout",
     "output_type": "stream",
     "text": [
      "Number occurring odd times: 3\n"
     ]
    }
   ],
   "source": [
    "def find_odd_occurrence(nums):\n",
    "    result = 0\n",
    "\n",
    "    for num in nums: # O(n)\n",
    "        result ^= num\n",
    "\n",
    "    return result\n",
    "\n",
    "# Example usage:\n",
    "arr = [1, 2, 3, 2, 3, 1, 3]\n",
    "result = find_odd_occurrence(arr) # Time Complexity is O(n)\n",
    "print(\"Number occurring odd times:\", result)\n",
    "\n",
    "# arr=[1,2,3,2,3,1,3]\n",
    "# for i in arr:\n",
    "#     if arr.count(i)%2!=0:\n",
    "#         print(i)\n",
    "#         break\n",
    "# Time Complexity : O(n^2) because count(i) takes O(n) time"
   ]
  },
  {
   "cell_type": "markdown",
   "metadata": {},
   "source": [
    "Problem 4 : Given an array of n elements. Find two elements in the array such that their sum is equal to given\n",
    "element K."
   ]
  },
  {
   "cell_type": "code",
   "execution_count": 16,
   "metadata": {},
   "outputs": [
    {
     "name": "stdout",
     "output_type": "stream",
     "text": [
      "Pair with sum 9: 5 and 4\n"
     ]
    }
   ],
   "source": [
    "def find_pair_with_sum(arr, target_sum):\n",
    "    seen = set()\n",
    "\n",
    "    for num in arr: # O(n)\n",
    "        complement = target_sum - num\n",
    "\n",
    "        if complement in seen:\n",
    "            return num, complement  # Found the pair\n",
    "        else:\n",
    "            seen.add(num)\n",
    "\n",
    "    return None  # No such pair found\n",
    "\n",
    "# Example usage:\n",
    "arr = [1, 2, 3, 4, 5, 6]\n",
    "target_sum = 9\n",
    "result = find_pair_with_sum(arr, target_sum) # Time Complexity is O(n)\n",
    "\n",
    "if result:\n",
    "    print(f\"Pair with sum {target_sum}: {result[0]} and {result[1]}\")\n",
    "else:\n",
    "    print(\"No such pair found.\")"
   ]
  },
  {
   "cell_type": "markdown",
   "metadata": {},
   "source": [
    "Problem 5 : Given an array of both positive and negative numbers, find two numbers such that their sum is\n",
    "closest to 0. Ex: [ 1 ,60 ,-10, 70, -80,85]. Ans : -80,85."
   ]
  },
  {
   "cell_type": "code",
   "execution_count": 19,
   "metadata": {},
   "outputs": [
    {
     "name": "stdout",
     "output_type": "stream",
     "text": [
      "Closest pair to zero: (-80, 85)\n"
     ]
    }
   ],
   "source": [
    "def find_closest_to_zero(arr):\n",
    "    arr.sort()  # Sort the array to make it easier to find the closest sum to zero\n",
    "\n",
    "    left = 0\n",
    "    right = len(arr) - 1\n",
    "\n",
    "    closest_sum = float('inf')\n",
    "    closest_pair = None\n",
    "\n",
    "    while left < right:\n",
    "        current_sum = arr[left] + arr[right]\n",
    "\n",
    "        # Update closest pair if the current sum is closer to zero\n",
    "        if abs(current_sum) < abs(closest_sum):\n",
    "            closest_sum = current_sum\n",
    "            closest_pair = (arr[left], arr[right])\n",
    "\n",
    "        # Move pointers based on the current sum\n",
    "        if current_sum < 0:\n",
    "            left += 1\n",
    "        elif current_sum > 0:\n",
    "            right -= 1\n",
    "        else:\n",
    "            return closest_pair  # If the sum is exactly 0, this is the closest possible\n",
    "\n",
    "    return closest_pair\n",
    "\n",
    "# Example usage:\n",
    "arr = [1, 60, -10, 70, -80, 85]\n",
    "result = find_closest_to_zero(arr)\n",
    "print(\"Closest pair to zero:\", result)"
   ]
  },
  {
   "cell_type": "markdown",
   "metadata": {},
   "source": [
    "Problem 6 : Given an array of n elements . Find three elements such that their sum is equal to the given\n",
    "number."
   ]
  },
  {
   "cell_type": "code",
   "execution_count": 2,
   "metadata": {},
   "outputs": [
    {
     "data": {
      "text/plain": [
       "[[-1, -1, 2], [-1, 0, 1]]"
      ]
     },
     "execution_count": 2,
     "metadata": {},
     "output_type": "execute_result"
    }
   ],
   "source": [
    "def threeSum(nums): \n",
    "        # sorting cause we need to avoid duplicates, with this duplicates will be near to each other\n",
    "        nums.sort() # O(n log n)\n",
    "        l=[]\n",
    "        for i in range(len(nums)): # O(n) this loop will help to fix the one number i.e, i\n",
    "            if i>0 and nums[i-1]==nums[i]:  #skipping if we found the duplicate of i\n",
    "                continue \n",
    "\t\t\t\n",
    "\t\t\t#NOW FOLLOWING THE RULE OF TWO POINTERS AFTER FIXING THE ONE VALUE (i)\n",
    "            j=i+1 #taking j pointer larger than i (as said in ques)\n",
    "            k=len(nums)-1 #taking k pointer from last \n",
    "            while j<k:  # O(n)\n",
    "                s=nums[i]+nums[j]+nums[k] \n",
    "                if s>0: #if sum s is greater than 0(target) means the larger value(from right as nums is sorted i.e, k at right) \n",
    "\t\t\t\t        #is taken and it is not able to sum up to the target\n",
    "                    k-=1  #so take value less than previous\n",
    "                elif s<0: #if sum s is less than 0(target) means the shorter value(from left as nums is sorted i.e, j at left) \n",
    "\t\t\t\t          #is taken and it is not able to sum up to the target\n",
    "                    j+=1  #so take value greater than previous\n",
    "                else:\n",
    "                    l.append([nums[i],nums[j],nums[k]]) #if sum s found equal to the target (0)\n",
    "                    j+=1 \n",
    "                    while nums[j-1]==nums[j] and j<k: #skipping if we found the duplicate of j and we dont need to check \n",
    "\t\t\t\t\t#the duplicate of k cause it will automatically skip the duplicate by the adjustment of i and j\n",
    "                        j+=1   \n",
    "        return l\n",
    "\n",
    "threeSum([-1,0,1,2,-1,-4]) # sum or target is equal to 0\n",
    "\n",
    "# Time complexity: O(n log n)"
   ]
  },
  {
   "cell_type": "markdown",
   "metadata": {},
   "source": [
    "Problem 7 : Given an array of n elements . Find three elements i, j, k in the array such that\n",
    "i * i + j * j = k*k."
   ]
  },
  {
   "cell_type": "code",
   "execution_count": 3,
   "metadata": {},
   "outputs": [
    {
     "name": "stdout",
     "output_type": "stream",
     "text": [
      "Pythagorean Triplet: (3, 4, 5)\n"
     ]
    }
   ],
   "source": [
    "def find_pythagorean_triplet(nums):\n",
    "    nums.sort()  # Sorting the array to make it easier to find the triplet\n",
    "\n",
    "    n = len(nums)\n",
    "\n",
    "    for k in range(n - 1, 1, -1):  # Start from the end of the array for k\n",
    "        i = 0\n",
    "        j = k - 1\n",
    "\n",
    "        while i < j:\n",
    "            sum_of_squares = nums[i] * nums[i] + nums[j] * nums[j]\n",
    "\n",
    "            if sum_of_squares == nums[k] * nums[k]:\n",
    "                return nums[i], nums[j], nums[k]\n",
    "            elif sum_of_squares < nums[k] * nums[k]:\n",
    "                i += 1\n",
    "            else:\n",
    "                j -= 1\n",
    "\n",
    "    return None\n",
    "\n",
    "# Example usage:\n",
    "arr = [3, 1, 4, 6, 5]\n",
    "result = find_pythagorean_triplet(arr)\n",
    "\n",
    "if result:\n",
    "    print(\"Pythagorean Triplet:\", result)\n",
    "else:\n",
    "    print(\"No Pythagorean Triplet found.\")"
   ]
  },
  {
   "cell_type": "markdown",
   "metadata": {},
   "source": [
    "Problem 8 : An element is a majority if it appears more than n/2 times. Give an algorithm takes an array of n\n",
    "element as argument and identifies a majority (if it exists)."
   ]
  },
  {
   "cell_type": "code",
   "execution_count": 5,
   "metadata": {},
   "outputs": [
    {
     "name": "stdout",
     "output_type": "stream",
     "text": [
      "Majority Element: 2\n"
     ]
    }
   ],
   "source": [
    "def find_majority_element(nums):\n",
    "    candidate = None\n",
    "    count = 0\n",
    "\n",
    "    for num in nums:\n",
    "        if count == 0:\n",
    "            candidate = num\n",
    "            count = 1\n",
    "        elif candidate == num:\n",
    "            count += 1\n",
    "        else:\n",
    "            count -= 1\n",
    "\n",
    "    # Verify if the candidate is a majority element\n",
    "    count = nums.count(candidate)\n",
    "    if count > len(nums) // 2:\n",
    "        return candidate\n",
    "    else:\n",
    "        return None\n",
    "\n",
    "# Example usage:\n",
    "arr = [2, 2, 1, 1, 1, 2, 2]\n",
    "result = find_majority_element(arr)\n",
    "\n",
    "if result is not None:\n",
    "    print(\"Majority Element:\", result)\n",
    "else:\n",
    "    print(\"No Majority Element found.\")\n",
    "\n",
    "# Boyer-Moore Majority Vote Algorithm"
   ]
  },
  {
   "cell_type": "markdown",
   "metadata": {},
   "source": [
    "Problem 9 : Given n × n matrix, and in each row all 1’s are followed by 0’s. Find the row with the maximum\n",
    "number of 0’s."
   ]
  },
  {
   "cell_type": "code",
   "execution_count": 6,
   "metadata": {},
   "outputs": [
    {
     "name": "stdout",
     "output_type": "stream",
     "text": [
      "Row with maximum 0's: 3, Count: 4\n"
     ]
    }
   ],
   "source": [
    "def find_max_zeros_row(matrix):\n",
    "    rows, cols = len(matrix), len(matrix[0])\n",
    "\n",
    "    max_zeros_row = 0\n",
    "    max_zeros_count = 0\n",
    "\n",
    "    # Start from the top-right corner\n",
    "    row, col = 0, cols - 1\n",
    "\n",
    "    while row < rows and col >= 0:\n",
    "        if matrix[row][col] == 0:\n",
    "            # Move to the left in the same row\n",
    "            col -= 1\n",
    "            # Update the maximum zeros information\n",
    "            max_zeros_row = row\n",
    "            max_zeros_count = cols - col - 1\n",
    "        else:\n",
    "            # Move to the next row\n",
    "            row += 1\n",
    "\n",
    "    return max_zeros_row, max_zeros_count\n",
    "\n",
    "# Example usage:\n",
    "matrix = [\n",
    "    [1, 1, 1, 0, 0],\n",
    "    [1, 1, 0, 0, 0],\n",
    "    [1, 1, 1, 1, 0],\n",
    "    [1, 0, 0, 0, 0],\n",
    "    [1, 1, 1, 1, 1]\n",
    "]\n",
    "\n",
    "row, count = find_max_zeros_row(matrix)\n",
    "print(f\"Row with maximum 0's: {row}, Count: {count}\")"
   ]
  },
  {
   "cell_type": "markdown",
   "metadata": {},
   "source": [
    "Problem 10 :: Sort an array of 0’s, 1’s and 2’s [or R’s, G’s and B’s]: Given an array A[] consisting of 0’s, 1’s and\n",
    "2’s, give an algorithm for sorting A[].The algorithm should put all 0’s first, then all 1’s and finally all 2’s at the\n",
    "end. Example Input = {0,1,1,0,1,2,1,2,0,0,0,1}, Output = {0,0,0,0,0,1,1,1,1,1,2,2}"
   ]
  },
  {
   "cell_type": "code",
   "execution_count": 15,
   "metadata": {},
   "outputs": [
    {
     "name": "stdout",
     "output_type": "stream",
     "text": [
      "Sorted Array: [0, 0, 0, 0, 0, 1, 1, 1, 1, 1, 2, 2]\n"
     ]
    }
   ],
   "source": [
    "def sortColors(nums):\n",
    "    low, mid, high = 0, 0, len(nums) - 1\n",
    "\n",
    "    while mid <= high:\n",
    "        if nums[mid] == 0:\n",
    "            nums[low], nums[mid] = nums[mid], nums[low]\n",
    "            low += 1\n",
    "            mid += 1\n",
    "        elif nums[mid] == 1:\n",
    "            mid += 1\n",
    "        else:\n",
    "            nums[mid], nums[high] = nums[high], nums[mid]\n",
    "            high -= 1\n",
    "\n",
    "# Example usage:\n",
    "arr = [0, 1, 1, 0, 1, 2, 1, 2, 0, 0, 0, 1]\n",
    "sortColors(arr)\n",
    "print(\"Sorted Array:\", arr)"
   ]
  }
 ],
 "metadata": {
  "kernelspec": {
   "display_name": "Python 3",
   "language": "python",
   "name": "python3"
  },
  "language_info": {
   "codemirror_mode": {
    "name": "ipython",
    "version": 3
   },
   "file_extension": ".py",
   "mimetype": "text/x-python",
   "name": "python",
   "nbconvert_exporter": "python",
   "pygments_lexer": "ipython3",
   "version": "3.11.2"
  }
 },
 "nbformat": 4,
 "nbformat_minor": 2
}
